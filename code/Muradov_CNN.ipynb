{
 "cells": [
  {
   "cell_type": "code",
   "execution_count": 1,
   "metadata": {},
   "outputs": [
    {
     "data": {
      "text/plain": [
       "<torch.autograd.grad_mode.set_grad_enabled at 0x7fa0588f7278>"
      ]
     },
     "execution_count": 1,
     "metadata": {},
     "output_type": "execute_result"
    }
   ],
   "source": [
    "# import standard PyTorch modules\n",
    "import torch\n",
    "import torch.nn as nn\n",
    "import torch.nn.functional as F\n",
    "import torch.optim as optim\n",
    "from torch.utils.tensorboard import SummaryWriter # TensorBoard support\n",
    "\n",
    "# import torchvision module to handle image manipulation\n",
    "import torchvision\n",
    "import torchvision.transforms as transforms\n",
    "\n",
    "# calculate train time, writing train data to files etc.\n",
    "import time\n",
    "import pandas as pd\n",
    "import json\n",
    "from IPython.display import clear_output\n",
    "\n",
    "torch.set_printoptions(linewidth=120)\n",
    "torch.set_grad_enabled(True)     # On by default, leave it here for clarity\n",
    "\n",
    "import matplotlib.pyplot as plt\n",
    "import numpy as np"
   ]
  },
  {
   "cell_type": "code",
   "execution_count": 2,
   "metadata": {},
   "outputs": [],
   "source": [
    "# Use standard FashionMNIST dataset\n",
    "train_set = torchvision.datasets.FashionMNIST(\n",
    "    root = './data/FashionMNIST',\n",
    "    train = True,\n",
    "    download = True,\n",
    "    transform = transforms.Compose([\n",
    "        transforms.ToTensor()                                 \n",
    "    ])\n",
    ")"
   ]
  },
  {
   "cell_type": "code",
   "execution_count": 3,
   "metadata": {},
   "outputs": [],
   "source": [
    "# Build the neural network, expand on top of nn.Module\n",
    "class Network(nn.Module):\n",
    "  def __init__(self):\n",
    "    super().__init__()\n",
    "\n",
    "    # define layers\n",
    "    self.conv1 = nn.Conv2d(in_channels=1, out_channels=6, kernel_size=5)\n",
    "    self.conv2 = nn.Conv2d(in_channels=6, out_channels=12, kernel_size=5)\n",
    "\n",
    "    self.fc1 = nn.Linear(in_features=12*4*4, out_features=120)\n",
    "    self.fc2 = nn.Linear(in_features=120, out_features=60)\n",
    "    self.out = nn.Linear(in_features=60, out_features=10)\n",
    "\n",
    "  # define forward function\n",
    "  def forward(self, t):\n",
    "    # conv 1\n",
    "    t = self.conv1(t)\n",
    "    t = F.relu(t)\n",
    "    t = F.max_pool2d(t, kernel_size=2, stride=2)\n",
    "\n",
    "    # conv 2\n",
    "    t = self.conv2(t)\n",
    "    t = F.relu(t)\n",
    "    t = F.max_pool2d(t, kernel_size=2, stride=2)\n",
    "\n",
    "    # fc1\n",
    "    t = t.reshape(-1, 12*4*4)\n",
    "    t = self.fc1(t)\n",
    "    t = F.relu(t)\n",
    "\n",
    "    # fc2\n",
    "    t = self.fc2(t)\n",
    "    t = F.relu(t)\n",
    "\n",
    "    # output\n",
    "    t = self.out(t)\n",
    "    # don't need softmax here since we'll use cross-entropy as activation.\n",
    "\n",
    "    return t"
   ]
  },
  {
   "cell_type": "code",
   "execution_count": 4,
   "metadata": {},
   "outputs": [],
   "source": [
    "from collections import OrderedDict\n",
    "\n",
    "# put all hyper params into a OrderedDict, easily expandable\n",
    "params = OrderedDict(\n",
    "    lr = [.01],\n",
    "    batch_size = [100],\n",
    "    shuffle = [False]\n",
    ")\n",
    "epochs = 10"
   ]
  },
  {
   "cell_type": "code",
   "execution_count": 5,
   "metadata": {},
   "outputs": [],
   "source": [
    "# import modules to build RunBuilder and RunManager helper classes\n",
    "from collections import namedtuple\n",
    "from itertools import product\n",
    "\n",
    "# Read in the hyper-parameters and return a Run namedtuple containing all the \n",
    "# combinations of hyper-parameters\n",
    "class RunBuilder():\n",
    "  @staticmethod\n",
    "  def get_runs(params):\n",
    "\n",
    "    Run = namedtuple('Run', params.keys())\n",
    "\n",
    "    runs = []\n",
    "    for v in product(*params.values()):\n",
    "      runs.append(Run(*v))\n",
    "    \n",
    "    return runs"
   ]
  },
  {
   "cell_type": "code",
   "execution_count": 6,
   "metadata": {},
   "outputs": [],
   "source": [
    "# Helper class, help track loss, accuracy, epoch time, run time, \n",
    "# hyper-parameters etc. Also record to TensorBoard and write into csv, json\n",
    "class RunManager():\n",
    "  def __init__(self):\n",
    "\n",
    "    # tracking every epoch count, loss, accuracy, time\n",
    "    self.epoch_count = 0\n",
    "    self.epoch_loss = 0\n",
    "    self.epoch_num_correct = 0\n",
    "    self.epoch_start_time = None\n",
    "\n",
    "    # tracking every run count, run data, hyper-params used, time\n",
    "    self.run_params = None\n",
    "    self.run_count = 0\n",
    "    self.run_data = []\n",
    "    self.run_start_time = None\n",
    "\n",
    "    # record model, loader and TensorBoard \n",
    "    self.network = None\n",
    "    self.loader = None\n",
    "    self.tb = None\n",
    "\n",
    "  # record the count, hyper-param, model, loader of each run\n",
    "  # record sample images and network graph to TensorBoard  \n",
    "  def begin_run(self, run, network, loader):\n",
    "\n",
    "    self.run_start_time = time.time()\n",
    "\n",
    "    self.run_params = run\n",
    "    self.run_count += 1\n",
    "\n",
    "    self.network = network\n",
    "    self.loader = loader\n",
    "    self.tb = SummaryWriter(comment=f'-{run}')\n",
    "\n",
    "    images, labels = next(iter(self.loader))\n",
    "    grid = torchvision.utils.make_grid(images)\n",
    "\n",
    "    self.tb.add_image('images', grid)\n",
    "    self.tb.add_graph(self.network, images)\n",
    "\n",
    "  # when run ends, close TensorBoard, zero epoch count\n",
    "  def end_run(self):\n",
    "    self.tb.close()\n",
    "    self.epoch_count = 0\n",
    "\n",
    "  # zero epoch count, loss, accuracy, \n",
    "  def begin_epoch(self):\n",
    "    self.epoch_start_time = time.time()\n",
    "\n",
    "    self.epoch_count += 1\n",
    "    self.epoch_loss = 0\n",
    "    self.epoch_num_correct = 0\n",
    "\n",
    "  # \n",
    "  def end_epoch(self):\n",
    "    # calculate epoch duration and run duration(accumulate)\n",
    "    epoch_duration = time.time() - self.epoch_start_time\n",
    "    run_duration = time.time() - self.run_start_time\n",
    "\n",
    "    # record epoch loss and accuracy\n",
    "    loss = self.epoch_loss / len(self.loader.dataset)\n",
    "    accuracy = self.epoch_num_correct / len(self.loader.dataset)\n",
    "\n",
    "    # Record epoch loss and accuracy to TensorBoard \n",
    "    self.tb.add_scalar('Loss', loss, self.epoch_count)\n",
    "    self.tb.add_scalar('Accuracy', accuracy, self.epoch_count)\n",
    "\n",
    "    # Record params to TensorBoard\n",
    "    for name, param in self.network.named_parameters():\n",
    "      self.tb.add_histogram(name, param, self.epoch_count)\n",
    "      self.tb.add_histogram(f'{name}.grad', param.grad, self.epoch_count)\n",
    "    \n",
    "    # Write into 'results' (OrderedDict) for all run related data\n",
    "    results = OrderedDict()\n",
    "    results[\"run\"] = self.run_count\n",
    "    results[\"epoch\"] = self.epoch_count\n",
    "    results[\"loss\"] = loss\n",
    "    results[\"accuracy\"] = accuracy\n",
    "    results[\"epoch duration\"] = epoch_duration\n",
    "    results[\"run duration\"] = run_duration\n",
    "\n",
    "    # Record hyper-params into 'results'\n",
    "    for k,v in self.run_params._asdict().items(): results[k] = v\n",
    "    self.run_data.append(results)\n",
    "    df = pd.DataFrame.from_dict(self.run_data, orient = 'columns')\n",
    "\n",
    "    # display epoch information and show progress\n",
    "    clear_output(wait=True)\n",
    "    display(df)\n",
    "\n",
    "  # accumulate loss of batch into entire epoch loss\n",
    "  def track_loss(self, loss):\n",
    "    # multiply batch size so variety of batch sizes can be compared\n",
    "    self.epoch_loss += loss.item() * self.loader.batch_size\n",
    "\n",
    "  # accumulate number of corrects of batch into entire epoch num_correct\n",
    "  def track_num_correct(self, preds, labels):\n",
    "    self.epoch_num_correct += self._get_num_correct(preds, labels)\n",
    "\n",
    "  @torch.no_grad()\n",
    "  def _get_num_correct(self, preds, labels):\n",
    "    return preds.argmax(dim=1).eq(labels).sum().item()\n",
    "  \n",
    "  # save end results of all runs into csv, json for further analysis\n",
    "  def save(self, fileName):\n",
    "\n",
    "    pd.DataFrame.from_dict(\n",
    "        self.run_data, \n",
    "        orient = 'columns',\n",
    "    ).to_csv(f'{fileName}.csv')\n",
    "\n",
    "    with open(f'{fileName}.json', 'w', encoding='utf-8') as f:\n",
    "      json.dump(self.run_data, f, ensure_ascii=False, indent=4)"
   ]
  },
  {
   "cell_type": "code",
   "execution_count": 7,
   "metadata": {},
   "outputs": [
    {
     "data": {
      "text/html": [
       "<div>\n",
       "<style scoped>\n",
       "    .dataframe tbody tr th:only-of-type {\n",
       "        vertical-align: middle;\n",
       "    }\n",
       "\n",
       "    .dataframe tbody tr th {\n",
       "        vertical-align: top;\n",
       "    }\n",
       "\n",
       "    .dataframe thead th {\n",
       "        text-align: right;\n",
       "    }\n",
       "</style>\n",
       "<table border=\"1\" class=\"dataframe\">\n",
       "  <thead>\n",
       "    <tr style=\"text-align: right;\">\n",
       "      <th></th>\n",
       "      <th>run</th>\n",
       "      <th>epoch</th>\n",
       "      <th>loss</th>\n",
       "      <th>accuracy</th>\n",
       "      <th>epoch duration</th>\n",
       "      <th>run duration</th>\n",
       "      <th>lr</th>\n",
       "      <th>batch_size</th>\n",
       "      <th>shuffle</th>\n",
       "    </tr>\n",
       "  </thead>\n",
       "  <tbody>\n",
       "    <tr>\n",
       "      <th>0</th>\n",
       "      <td>1</td>\n",
       "      <td>1</td>\n",
       "      <td>0.566483</td>\n",
       "      <td>0.784817</td>\n",
       "      <td>14.188264</td>\n",
       "      <td>14.550126</td>\n",
       "      <td>0.01</td>\n",
       "      <td>100</td>\n",
       "      <td>False</td>\n",
       "    </tr>\n",
       "    <tr>\n",
       "      <th>1</th>\n",
       "      <td>1</td>\n",
       "      <td>2</td>\n",
       "      <td>0.391495</td>\n",
       "      <td>0.853117</td>\n",
       "      <td>13.224682</td>\n",
       "      <td>27.980905</td>\n",
       "      <td>0.01</td>\n",
       "      <td>100</td>\n",
       "      <td>False</td>\n",
       "    </tr>\n",
       "    <tr>\n",
       "      <th>2</th>\n",
       "      <td>1</td>\n",
       "      <td>3</td>\n",
       "      <td>0.361823</td>\n",
       "      <td>0.864367</td>\n",
       "      <td>15.430373</td>\n",
       "      <td>43.603009</td>\n",
       "      <td>0.01</td>\n",
       "      <td>100</td>\n",
       "      <td>False</td>\n",
       "    </tr>\n",
       "    <tr>\n",
       "      <th>3</th>\n",
       "      <td>1</td>\n",
       "      <td>4</td>\n",
       "      <td>0.346660</td>\n",
       "      <td>0.871150</td>\n",
       "      <td>17.990512</td>\n",
       "      <td>61.775722</td>\n",
       "      <td>0.01</td>\n",
       "      <td>100</td>\n",
       "      <td>False</td>\n",
       "    </tr>\n",
       "    <tr>\n",
       "      <th>4</th>\n",
       "      <td>1</td>\n",
       "      <td>5</td>\n",
       "      <td>0.333307</td>\n",
       "      <td>0.876633</td>\n",
       "      <td>17.116899</td>\n",
       "      <td>79.071973</td>\n",
       "      <td>0.01</td>\n",
       "      <td>100</td>\n",
       "      <td>False</td>\n",
       "    </tr>\n",
       "    <tr>\n",
       "      <th>5</th>\n",
       "      <td>1</td>\n",
       "      <td>6</td>\n",
       "      <td>0.322207</td>\n",
       "      <td>0.878133</td>\n",
       "      <td>15.022692</td>\n",
       "      <td>94.430132</td>\n",
       "      <td>0.01</td>\n",
       "      <td>100</td>\n",
       "      <td>False</td>\n",
       "    </tr>\n",
       "    <tr>\n",
       "      <th>6</th>\n",
       "      <td>1</td>\n",
       "      <td>7</td>\n",
       "      <td>0.313615</td>\n",
       "      <td>0.881300</td>\n",
       "      <td>17.451543</td>\n",
       "      <td>112.088786</td>\n",
       "      <td>0.01</td>\n",
       "      <td>100</td>\n",
       "      <td>False</td>\n",
       "    </tr>\n",
       "    <tr>\n",
       "      <th>7</th>\n",
       "      <td>1</td>\n",
       "      <td>8</td>\n",
       "      <td>0.313650</td>\n",
       "      <td>0.882567</td>\n",
       "      <td>19.223876</td>\n",
       "      <td>131.580778</td>\n",
       "      <td>0.01</td>\n",
       "      <td>100</td>\n",
       "      <td>False</td>\n",
       "    </tr>\n",
       "    <tr>\n",
       "      <th>8</th>\n",
       "      <td>1</td>\n",
       "      <td>9</td>\n",
       "      <td>0.306450</td>\n",
       "      <td>0.885267</td>\n",
       "      <td>15.148923</td>\n",
       "      <td>146.955913</td>\n",
       "      <td>0.01</td>\n",
       "      <td>100</td>\n",
       "      <td>False</td>\n",
       "    </tr>\n",
       "    <tr>\n",
       "      <th>9</th>\n",
       "      <td>1</td>\n",
       "      <td>10</td>\n",
       "      <td>0.304953</td>\n",
       "      <td>0.886400</td>\n",
       "      <td>15.464703</td>\n",
       "      <td>162.733968</td>\n",
       "      <td>0.01</td>\n",
       "      <td>100</td>\n",
       "      <td>False</td>\n",
       "    </tr>\n",
       "  </tbody>\n",
       "</table>\n",
       "</div>"
      ],
      "text/plain": [
       "   run  epoch      loss  accuracy  epoch duration  run duration    lr  \\\n",
       "0    1      1  0.566483  0.784817       14.188264     14.550126  0.01   \n",
       "1    1      2  0.391495  0.853117       13.224682     27.980905  0.01   \n",
       "2    1      3  0.361823  0.864367       15.430373     43.603009  0.01   \n",
       "3    1      4  0.346660  0.871150       17.990512     61.775722  0.01   \n",
       "4    1      5  0.333307  0.876633       17.116899     79.071973  0.01   \n",
       "5    1      6  0.322207  0.878133       15.022692     94.430132  0.01   \n",
       "6    1      7  0.313615  0.881300       17.451543    112.088786  0.01   \n",
       "7    1      8  0.313650  0.882567       19.223876    131.580778  0.01   \n",
       "8    1      9  0.306450  0.885267       15.148923    146.955913  0.01   \n",
       "9    1     10  0.304953  0.886400       15.464703    162.733968  0.01   \n",
       "\n",
       "   batch_size  shuffle  \n",
       "0         100    False  \n",
       "1         100    False  \n",
       "2         100    False  \n",
       "3         100    False  \n",
       "4         100    False  \n",
       "5         100    False  \n",
       "6         100    False  \n",
       "7         100    False  \n",
       "8         100    False  \n",
       "9         100    False  "
      ]
     },
     "metadata": {},
     "output_type": "display_data"
    }
   ],
   "source": [
    "m = RunManager()\n",
    "\n",
    "# get all runs from params using RunBuilder class\n",
    "for run in RunBuilder.get_runs(params):\n",
    "\n",
    "    # if params changes, following line of code should reflect the changes too\n",
    "    network = Network()\n",
    "    loader = torch.utils.data.DataLoader(train_set, batch_size = run.batch_size)\n",
    "    optimizer = optim.Adam(network.parameters(), lr=run.lr)\n",
    "\n",
    "    m.begin_run(run, network, loader)\n",
    "    for epoch in range(epochs):\n",
    "      \n",
    "      m.begin_epoch()\n",
    "      for batch in loader:\n",
    "        \n",
    "        images = batch[0]\n",
    "        labels = batch[1]\n",
    "        preds = network(images)\n",
    "        loss = F.cross_entropy(preds, labels)\n",
    "\n",
    "        optimizer.zero_grad()\n",
    "        loss.backward()\n",
    "        optimizer.step()\n",
    "\n",
    "        m.track_loss(loss)\n",
    "        m.track_num_correct(preds, labels)\n",
    "\n",
    "      m.end_epoch()\n",
    "    m.end_run()\n",
    "\n",
    "# when all runs are done, save results to files\n",
    "m.save('results')"
   ]
  },
  {
   "cell_type": "code",
   "execution_count": 8,
   "metadata": {},
   "outputs": [],
   "source": [
    "def get_pil_transform(): \n",
    "    transf = transforms.Compose([\n",
    "        #transforms.Resize((28, 28)),\n",
    "    ])    \n",
    "\n",
    "    return transf\n",
    "\n",
    "def get_preprocess_transform():\n",
    "    transf = transforms.Compose([\n",
    "        #transforms.Resize((28, 28)),\n",
    "        transforms.ToTensor(),\n",
    "    ])    \n",
    "\n",
    "    return transf    \n",
    "\n",
    "pill_transf = get_pil_transform()\n",
    "preprocess_transform = get_preprocess_transform()"
   ]
  },
  {
   "cell_type": "code",
   "execution_count": 9,
   "metadata": {},
   "outputs": [],
   "source": [
    "def batch_predict(pred_images):\n",
    "    pred_images = pred_images[:,:,:,0]\n",
    "    batchy = torch.stack(tuple(preprocess_transform(i) for i in pred_images), dim=0)\n",
    "    \n",
    "    logits = network(batchy)\n",
    "    probs = F.softmax(logits, dim=1)\n",
    "    return probs.detach().numpy()"
   ]
  },
  {
   "cell_type": "code",
   "execution_count": 10,
   "metadata": {},
   "outputs": [],
   "source": [
    "def batch_true_predict(pred_images):\n",
    "    batchy = torch.stack(tuple(preprocess_transform(i) for i in pred_images), dim=0)\n",
    "    \n",
    "    logits = network(batchy)\n",
    "    probs = F.softmax(logits, dim=1)\n",
    "    return probs.detach().numpy()"
   ]
  },
  {
   "cell_type": "code",
   "execution_count": 58,
   "metadata": {},
   "outputs": [],
   "source": [
    "test_dataloader      = torch.utils.data.DataLoader(train_set, batch_size=1, shuffle=False, num_workers=0)\n",
    "imgs, lbls  = iter(test_dataloader).next()\n",
    "\n",
    "img = torchvision.transforms.ToPILImage()(imgs[0])"
   ]
  },
  {
   "cell_type": "code",
   "execution_count": 67,
   "metadata": {},
   "outputs": [
    {
     "data": {
      "image/png": "[encoded data removed]",
      "text/plain": [
       "<Figure size 432x288 with 1 Axes>"
      ]
     },
     "metadata": {
      "needs_background": "light"
     },
     "output_type": "display_data"
    }
   ],
   "source": [
    "plt.imshow(img, cmap='gray')\n",
    "plt.axis('off')\n",
    "plt.savefig('fig/example.png', bbox_inches='tight')\n",
    "plt.show()"
   ]
  },
  {
   "cell_type": "markdown",
   "metadata": {},
   "source": [
    "Посмотрим на изображение из датасета и его форму."
   ]
  },
  {
   "cell_type": "code",
   "execution_count": 14,
   "metadata": {},
   "outputs": [
    {
     "data": {
      "text/plain": [
       "(28, 28)"
      ]
     },
     "execution_count": 14,
     "metadata": {},
     "output_type": "execute_result"
    }
   ],
   "source": [
    "pix = np.array(img)\n",
    "pix.shape"
   ]
  },
  {
   "cell_type": "markdown",
   "metadata": {},
   "source": [
    "Далее обучим базовый метод LIME на на одном объекте датасета, проверим какое получено предсказание и выделение важных признаков."
   ]
  },
  {
   "cell_type": "code",
   "execution_count": 15,
   "metadata": {},
   "outputs": [
    {
     "data": {
      "application/vnd.jupyter.widget-view+json": {
       "model_id": "d12e909999944c3da575a59c46a24b2a",
       "version_major": 2,
       "version_minor": 0
      },
      "text/plain": [
       "  0%|          | 0/10000 [00:00<?, ?it/s]"
      ]
     },
     "metadata": {},
     "output_type": "display_data"
    }
   ],
   "source": [
    "from lime import lime_image\n",
    "\n",
    "explainer = lime_image.LimeImageExplainer()\n",
    "explanation = explainer.explain_instance(pix, \n",
    "                                         batch_predict, # classification function\n",
    "                                         #top_labels=5, \n",
    "                                         hide_color=0, \n",
    "                                         num_samples=10000) # number of images that will be sent to classification function"
   ]
  },
  {
   "cell_type": "code",
   "execution_count": 16,
   "metadata": {},
   "outputs": [
    {
     "data": {
      "text/plain": [
       "{1: [(0, -0.0015340722355041154)],\n",
       " 8: [(0, -0.026280660367375176)],\n",
       " 5: [(0, -0.5163180040935533)],\n",
       " 7: [(0, -0.06825291880505019)],\n",
       " 9: [(0, 0.6251846879210021)]}"
      ]
     },
     "execution_count": 16,
     "metadata": {},
     "output_type": "execute_result"
    }
   ],
   "source": [
    "explanation.local_exp"
   ]
  },
  {
   "cell_type": "code",
   "execution_count": 68,
   "metadata": {},
   "outputs": [
    {
     "name": "stderr",
     "output_type": "stream",
     "text": [
      "Clipping input data to the valid range for imshow with RGB data ([0..1] for floats or [0..255] for integers).\n"
     ]
    },
    {
     "data": {
      "image/png": "[encoded data removed]",
      "text/plain": [
       "<Figure size 432x288 with 1 Axes>"
      ]
     },
     "metadata": {
      "needs_background": "light"
     },
     "output_type": "display_data"
    }
   ],
   "source": [
    "from skimage.segmentation import mark_boundaries\n",
    "\n",
    "temp, mask = explanation.get_image_and_mask(explanation.top_labels[0], positive_only=True, num_features=5, hide_rest=False)\n",
    "img_boundry1 = mark_boundaries(temp/28, mask)\n",
    "plt.imshow(img_boundry1, cmap='gray')\n",
    "plt.axis('off')\n",
    "plt.savefig('fig/example_lime.png', bbox_inches='tight')\n",
    "plt.show()"
   ]
  },
  {
   "cell_type": "code",
   "execution_count": 18,
   "metadata": {},
   "outputs": [
    {
     "name": "stderr",
     "output_type": "stream",
     "text": [
      "Clipping input data to the valid range for imshow with RGB data ([0..1] for floats or [0..255] for integers).\n"
     ]
    },
    {
     "data": {
      "text/plain": [
       "<matplotlib.image.AxesImage at 0x7f9fab92de48>"
      ]
     },
     "execution_count": 18,
     "metadata": {},
     "output_type": "execute_result"
    },
    {
     "data": {
      "image/png": "[encoded data removed]",
      "text/plain": [
       "<Figure size 432x288 with 1 Axes>"
      ]
     },
     "metadata": {
      "needs_background": "light"
     },
     "output_type": "display_data"
    }
   ],
   "source": [
    "temp, mask = explanation.get_image_and_mask(explanation.top_labels[0], positive_only=False, num_features=10, hide_rest=False)\n",
    "img_boundry2 = mark_boundaries(temp/28, mask)\n",
    "plt.imshow(img_boundry2)"
   ]
  },
  {
   "cell_type": "code",
   "execution_count": 20,
   "metadata": {},
   "outputs": [],
   "source": [
    "sample_size = 1000\n",
    "sample_lbls = []\n",
    "sample_imgs = []\n",
    "\n",
    "iterator = iter(torch.utils.data.DataLoader(train_set, batch_size=1, shuffle=False, num_workers=0))\n",
    "\n",
    "for i in range(sample_size):\n",
    "    img, lbl  = next(iterator)\n",
    "    img = torchvision.transforms.ToPILImage()(img[0])\n",
    "    sample_lbls.append(lbl)\n",
    "    sample_imgs.append(img)"
   ]
  },
  {
   "cell_type": "code",
   "execution_count": 21,
   "metadata": {},
   "outputs": [
    {
     "data": {
      "image/png": "[encoded data removed]",
      "text/plain": [
       "<PIL.Image.Image image mode=L size=28x28 at 0x7F9F7F2BBF98>"
      ]
     },
     "execution_count": 21,
     "metadata": {},
     "output_type": "execute_result"
    }
   ],
   "source": [
    "img"
   ]
  },
  {
   "cell_type": "code",
   "execution_count": 22,
   "metadata": {},
   "outputs": [],
   "source": [
    "true_preds = batch_true_predict(sample_imgs)"
   ]
  },
  {
   "cell_type": "markdown",
   "metadata": {},
   "source": [
    "Теперь получим близкие объекты к подвыборке."
   ]
  },
  {
   "cell_type": "code",
   "execution_count": 209,
   "metadata": {},
   "outputs": [],
   "source": [
    "import random\n",
    "\n",
    "dif_sample_imgs = []\n",
    "\n",
    "for image in sample_imgs:\n",
    "    im = np.array(image)\n",
    "    x = random.randint(0, 27)\n",
    "    y = random.randint(0, 27)\n",
    "    if im[x][y] + 15 > 255:\n",
    "        im[x][y] -= 15\n",
    "    else:\n",
    "        im[x][y] += 15\n",
    "    dif_sample_imgs.append(torchvision.transforms.ToPILImage()(im))"
   ]
  },
  {
   "cell_type": "code",
   "execution_count": 210,
   "metadata": {},
   "outputs": [],
   "source": [
    "new_preds = batch_true_predict(dif_sample_imgs)"
   ]
  },
  {
   "cell_type": "markdown",
   "metadata": {},
   "source": [
    "Обучим базовый пакет LIME на элементах подвыборки."
   ]
  },
  {
   "cell_type": "code",
   "execution_count": 176,
   "metadata": {
    "scrolled": false
   },
   "outputs": [
    {
     "data": {
      "application/vnd.jupyter.widget-view+json": {
       "model_id": "b60476a4054f4961bdd61443aacf6733",
       "version_major": 2,
       "version_minor": 0
      },
      "text/plain": [
       "  0%|          | 0/1000 [00:00<?, ?it/s]"
      ]
     },
     "metadata": {},
     "output_type": "display_data"
    },
    {
     "data": {
      "application/vnd.jupyter.widget-view+json": {
       "model_id": "06e020ae22da4fcfa3b7e1e4313a81e5",
       "version_major": 2,
       "version_minor": 0
      },
      "text/plain": [
       "  0%|          | 0/1000 [00:00<?, ?it/s]"
      ]
     },
     "metadata": {},
     "output_type": "display_data"
    },
    {
     "data": {
      "application/vnd.jupyter.widget-view+json": {
       "model_id": "6f85942dacc94a8488d8a6a040dcc193",
       "version_major": 2,
       "version_minor": 0
      },
      "text/plain": [
       "  0%|          | 0/1000 [00:00<?, ?it/s]"
      ]
     },
     "metadata": {},
     "output_type": "display_data"
    },
    {
     "data": {
      "application/vnd.jupyter.widget-view+json": {
       "model_id": "6218660ea5ff4e71840224a4002417b9",
       "version_major": 2,
       "version_minor": 0
      },
      "text/plain": [
       "  0%|          | 0/1000 [00:00<?, ?it/s]"
      ]
     },
     "metadata": {},
     "output_type": "display_data"
    },
    {
     "data": {
      "application/vnd.jupyter.widget-view+json": {
       "model_id": "ef8d6cf3369a436f9e99f737bf6aa7ad",
       "version_major": 2,
       "version_minor": 0
      },
      "text/plain": [
       "  0%|          | 0/1000 [00:00<?, ?it/s]"
      ]
     },
     "metadata": {},
     "output_type": "display_data"
    },
    {
     "data": {
      "application/vnd.jupyter.widget-view+json": {
       "model_id": "1cc54932aff44baea9ccd7b02afb519a",
       "version_major": 2,
       "version_minor": 0
      },
      "text/plain": [
       "  0%|          | 0/1000 [00:00<?, ?it/s]"
      ]
     },
     "metadata": {},
     "output_type": "display_data"
    },
    {
     "data": {
      "application/vnd.jupyter.widget-view+json": {
       "model_id": "2b16a0923c1e42fb9a36113e5daa91cd",
       "version_major": 2,
       "version_minor": 0
      },
      "text/plain": [
       "  0%|          | 0/1000 [00:00<?, ?it/s]"
      ]
     },
     "metadata": {},
     "output_type": "display_data"
    },
    {
     "data": {
      "application/vnd.jupyter.widget-view+json": {
       "model_id": "06f83fe4ca744b6b86ba1088c3445b16",
       "version_major": 2,
       "version_minor": 0
      },
      "text/plain": [
       "  0%|          | 0/1000 [00:00<?, ?it/s]"
      ]
     },
     "metadata": {},
     "output_type": "display_data"
    },
    {
     "data": {
      "application/vnd.jupyter.widget-view+json": {
       "model_id": "d35ec7e33e1e4e798be62116d78db497",
       "version_major": 2,
       "version_minor": 0
      },
      "text/plain": [
       "  0%|          | 0/1000 [00:00<?, ?it/s]"
      ]
     },
     "metadata": {},
     "output_type": "display_data"
    },
    {
     "data": {
      "application/vnd.jupyter.widget-view+json": {
       "model_id": "5491ca644ead44608a5f2ecfe325beaf",
       "version_major": 2,
       "version_minor": 0
      },
      "text/plain": [
       "  0%|          | 0/1000 [00:00<?, ?it/s]"
      ]
     },
     "metadata": {},
     "output_type": "display_data"
    },
    {
     "data": {
      "application/vnd.jupyter.widget-view+json": {
       "model_id": "9efe59c459294b9daaf051150cbe5dbb",
       "version_major": 2,
       "version_minor": 0
      },
      "text/plain": [
       "  0%|          | 0/1000 [00:00<?, ?it/s]"
      ]
     },
     "metadata": {},
     "output_type": "display_data"
    },
    {
     "data": {
      "application/vnd.jupyter.widget-view+json": {
       "model_id": "60442894f88d42769a9b5b7951355a7a",
       "version_major": 2,
       "version_minor": 0
      },
      "text/plain": [
       "  0%|          | 0/1000 [00:00<?, ?it/s]"
      ]
     },
     "metadata": {},
     "output_type": "display_data"
    },
    {
     "data": {
      "application/vnd.jupyter.widget-view+json": {
       "model_id": "562c33e9124543fbb0c3ef133cb809e0",
       "version_major": 2,
       "version_minor": 0
      },
      "text/plain": [
       "  0%|          | 0/1000 [00:00<?, ?it/s]"
      ]
     },
     "metadata": {},
     "output_type": "display_data"
    },
    {
     "data": {
      "application/vnd.jupyter.widget-view+json": {
       "model_id": "1f646299804a437db00a765d9fc9269f",
       "version_major": 2,
       "version_minor": 0
      },
      "text/plain": [
       "  0%|          | 0/1000 [00:00<?, ?it/s]"
      ]
     },
     "metadata": {},
     "output_type": "display_data"
    },
    {
     "data": {
      "application/vnd.jupyter.widget-view+json": {
       "model_id": "d8e00258b19744acba1f631181f699ad",
       "version_major": 2,
       "version_minor": 0
      },
      "text/plain": [
       "  0%|          | 0/1000 [00:00<?, ?it/s]"
      ]
     },
     "metadata": {},
     "output_type": "display_data"
    },
    {
     "data": {
      "application/vnd.jupyter.widget-view+json": {
       "model_id": "fe91d392957144e28ed66e208cc42353",
       "version_major": 2,
       "version_minor": 0
      },
      "text/plain": [
       "  0%|          | 0/1000 [00:00<?, ?it/s]"
      ]
     },
     "metadata": {},
     "output_type": "display_data"
    },
    {
     "data": {
      "application/vnd.jupyter.widget-view+json": {
       "model_id": "794e2f61b26f44d3acb9336d761af712",
       "version_major": 2,
       "version_minor": 0
      },
      "text/plain": [
       "  0%|          | 0/1000 [00:00<?, ?it/s]"
      ]
     },
     "metadata": {},
     "output_type": "display_data"
    },
    {
     "data": {
      "application/vnd.jupyter.widget-view+json": {
       "model_id": "15685537c776404b8028be41581d2f34",
       "version_major": 2,
       "version_minor": 0
      },
      "text/plain": [
       "  0%|          | 0/1000 [00:00<?, ?it/s]"
      ]
     },
     "metadata": {},
     "output_type": "display_data"
    },
    {
     "data": {
      "application/vnd.jupyter.widget-view+json": {
       "model_id": "ae6bea357cf14f639afc75850721a9d8",
       "version_major": 2,
       "version_minor": 0
      },
      "text/plain": [
       "  0%|          | 0/1000 [00:00<?, ?it/s]"
      ]
     },
     "metadata": {},
     "output_type": "display_data"
    },
    {
     "data": {
      "application/vnd.jupyter.widget-view+json": {
       "model_id": "8b2ad78c865e445e9b5c637392e2e2a5",
       "version_major": 2,
       "version_minor": 0
      },
      "text/plain": [
       "  0%|          | 0/1000 [00:00<?, ?it/s]"
      ]
     },
     "metadata": {},
     "output_type": "display_data"
    },
    {
     "data": {
      "application/vnd.jupyter.widget-view+json": {
       "model_id": "6116e47feabf467fa12ba6df6da083fb",
       "version_major": 2,
       "version_minor": 0
      },
      "text/plain": [
       "  0%|          | 0/1000 [00:00<?, ?it/s]"
      ]
     },
     "metadata": {},
     "output_type": "display_data"
    },
    {
     "data": {
      "application/vnd.jupyter.widget-view+json": {
       "model_id": "cfea97b66e18476280a7e73635e09d33",
       "version_major": 2,
       "version_minor": 0
      },
      "text/plain": [
       "  0%|          | 0/1000 [00:00<?, ?it/s]"
      ]
     },
     "metadata": {},
     "output_type": "display_data"
    },
    {
     "data": {
      "application/vnd.jupyter.widget-view+json": {
       "model_id": "39b48bf8d5a24c328eea75bf37a36a43",
       "version_major": 2,
       "version_minor": 0
      },
      "text/plain": [
       "  0%|          | 0/1000 [00:00<?, ?it/s]"
      ]
     },
     "metadata": {},
     "output_type": "display_data"
    },
    {
     "data": {
      "application/vnd.jupyter.widget-view+json": {
       "model_id": "a80d1fb4788c453981bafe2cb307fcd3",
       "version_major": 2,
       "version_minor": 0
      },
      "text/plain": [
       "  0%|          | 0/1000 [00:00<?, ?it/s]"
      ]
     },
     "metadata": {},
     "output_type": "display_data"
    },
    {
     "data": {
      "application/vnd.jupyter.widget-view+json": {
       "model_id": "9de60b79938146369c5cf184e26bdf35",
       "version_major": 2,
       "version_minor": 0
      },
      "text/plain": [
       "  0%|          | 0/1000 [00:00<?, ?it/s]"
      ]
     },
     "metadata": {},
     "output_type": "display_data"
    },
    {
     "data": {
      "application/vnd.jupyter.widget-view+json": {
       "model_id": "8bfa216bf05946e6a95c281ce602a543",
       "version_major": 2,
       "version_minor": 0
      },
      "text/plain": [
       "  0%|          | 0/1000 [00:00<?, ?it/s]"
      ]
     },
     "metadata": {},
     "output_type": "display_data"
    },
    {
     "data": {
      "application/vnd.jupyter.widget-view+json": {
       "model_id": "db56d5517ad64478b4517a2976c073ad",
       "version_major": 2,
       "version_minor": 0
      },
      "text/plain": [
       "  0%|          | 0/1000 [00:00<?, ?it/s]"
      ]
     },
     "metadata": {},
     "output_type": "display_data"
    },
    {
     "data": {
      "application/vnd.jupyter.widget-view+json": {
       "model_id": "e15afbc765ae4eaaa61cf289890bc108",
       "version_major": 2,
       "version_minor": 0
      },
      "text/plain": [
       "  0%|          | 0/1000 [00:00<?, ?it/s]"
      ]
     },
     "metadata": {},
     "output_type": "display_data"
    },
    {
     "data": {
      "application/vnd.jupyter.widget-view+json": {
       "model_id": "b8d5d077bfc746d595a237c59d15bfb0",
       "version_major": 2,
       "version_minor": 0
      },
      "text/plain": [
       "  0%|          | 0/1000 [00:00<?, ?it/s]"
      ]
     },
     "metadata": {},
     "output_type": "display_data"
    },
    {
     "data": {
      "application/vnd.jupyter.widget-view+json": {
       "model_id": "dfecd033f09b469f85275c9f353f73fc",
       "version_major": 2,
       "version_minor": 0
      },
      "text/plain": [
       "  0%|          | 0/1000 [00:00<?, ?it/s]"
      ]
     },
     "metadata": {},
     "output_type": "display_data"
    },
    {
     "data": {
      "application/vnd.jupyter.widget-view+json": {
       "model_id": "497f1962a6b943b784b118df9ca37a2e",
       "version_major": 2,
       "version_minor": 0
      },
      "text/plain": [
       "  0%|          | 0/1000 [00:00<?, ?it/s]"
      ]
     },
     "metadata": {},
     "output_type": "display_data"
    },
    {
     "data": {
      "application/vnd.jupyter.widget-view+json": {
       "model_id": "7565ed648c2b451cbf6093a3dfd842e6",
       "version_major": 2,
       "version_minor": 0
      },
      "text/plain": [
       "  0%|          | 0/1000 [00:00<?, ?it/s]"
      ]
     },
     "metadata": {},
     "output_type": "display_data"
    },
    {
     "data": {
      "application/vnd.jupyter.widget-view+json": {
       "model_id": "4a80e2aed1604340abdc10230a7bc030",
       "version_major": 2,
       "version_minor": 0
      },
      "text/plain": [
       "  0%|          | 0/1000 [00:00<?, ?it/s]"
      ]
     },
     "metadata": {},
     "output_type": "display_data"
    },
    {
     "data": {
      "application/vnd.jupyter.widget-view+json": {
       "model_id": "03f9df1ca7074aacb6ba8f1bcec4b8a2",
       "version_major": 2,
       "version_minor": 0
      },
      "text/plain": [
       "  0%|          | 0/1000 [00:00<?, ?it/s]"
      ]
     },
     "metadata": {},
     "output_type": "display_data"
    },
    {
     "data": {
      "application/vnd.jupyter.widget-view+json": {
       "model_id": "2239bc54adbc4604aa753c427b8b9eb2",
       "version_major": 2,
       "version_minor": 0
      },
      "text/plain": [
       "  0%|          | 0/1000 [00:00<?, ?it/s]"
      ]
     },
     "metadata": {},
     "output_type": "display_data"
    },
    {
     "data": {
      "application/vnd.jupyter.widget-view+json": {
       "model_id": "83b73b2aa5744828833a360acd892f41",
       "version_major": 2,
       "version_minor": 0
      },
      "text/plain": [
       "  0%|          | 0/1000 [00:00<?, ?it/s]"
      ]
     },
     "metadata": {},
     "output_type": "display_data"
    },
    {
     "data": {
      "application/vnd.jupyter.widget-view+json": {
       "model_id": "51e7cf99296643ee804676410d55ee82",
       "version_major": 2,
       "version_minor": 0
      },
      "text/plain": [
       "  0%|          | 0/1000 [00:00<?, ?it/s]"
      ]
     },
     "metadata": {},
     "output_type": "display_data"
    },
    {
     "data": {
      "application/vnd.jupyter.widget-view+json": {
       "model_id": "101698583ee647a3a240b06e4fd9041f",
       "version_major": 2,
       "version_minor": 0
      },
      "text/plain": [
       "  0%|          | 0/1000 [00:00<?, ?it/s]"
      ]
     },
     "metadata": {},
     "output_type": "display_data"
    },
    {
     "data": {
      "application/vnd.jupyter.widget-view+json": {
       "model_id": "dc50027ff0264637aa4b9ab40aba47bd",
       "version_major": 2,
       "version_minor": 0
      },
      "text/plain": [
       "  0%|          | 0/1000 [00:00<?, ?it/s]"
      ]
     },
     "metadata": {},
     "output_type": "display_data"
    },
    {
     "data": {
      "application/vnd.jupyter.widget-view+json": {
       "model_id": "56cd6f09dc4a4f5f945cc3441b430248",
       "version_major": 2,
       "version_minor": 0
      },
      "text/plain": [
       "  0%|          | 0/1000 [00:00<?, ?it/s]"
      ]
     },
     "metadata": {},
     "output_type": "display_data"
    },
    {
     "data": {
      "application/vnd.jupyter.widget-view+json": {
       "model_id": "cfcd19359294405fa89b022bb2b8a2a3",
       "version_major": 2,
       "version_minor": 0
      },
      "text/plain": [
       "  0%|          | 0/1000 [00:00<?, ?it/s]"
      ]
     },
     "metadata": {},
     "output_type": "display_data"
    },
    {
     "data": {
      "application/vnd.jupyter.widget-view+json": {
       "model_id": "454da724060f4ec0a89c649f86635d20",
       "version_major": 2,
       "version_minor": 0
      },
      "text/plain": [
       "  0%|          | 0/1000 [00:00<?, ?it/s]"
      ]
     },
     "metadata": {},
     "output_type": "display_data"
    },
    {
     "data": {
      "application/vnd.jupyter.widget-view+json": {
       "model_id": "2eb6b2bf48a945a39a7435f782bb7dab",
       "version_major": 2,
       "version_minor": 0
      },
      "text/plain": [
       "  0%|          | 0/1000 [00:00<?, ?it/s]"
      ]
     },
     "metadata": {},
     "output_type": "display_data"
    },
    {
     "data": {
      "application/vnd.jupyter.widget-view+json": {
       "model_id": "ae38ebba012f4be9a037fe34e5b48845",
       "version_major": 2,
       "version_minor": 0
      },
      "text/plain": [
       "  0%|          | 0/1000 [00:00<?, ?it/s]"
      ]
     },
     "metadata": {},
     "output_type": "display_data"
    },
    {
     "data": {
      "application/vnd.jupyter.widget-view+json": {
       "model_id": "92fb38a29ec6499890cd650912ac0b1e",
       "version_major": 2,
       "version_minor": 0
      },
      "text/plain": [
       "  0%|          | 0/1000 [00:00<?, ?it/s]"
      ]
     },
     "metadata": {},
     "output_type": "display_data"
    },
    {
     "data": {
      "application/vnd.jupyter.widget-view+json": {
       "model_id": "1dff564fa6b0405890b7018b09f71cd5",
       "version_major": 2,
       "version_minor": 0
      },
      "text/plain": [
       "  0%|          | 0/1000 [00:00<?, ?it/s]"
      ]
     },
     "metadata": {},
     "output_type": "display_data"
    },
    {
     "data": {
      "application/vnd.jupyter.widget-view+json": {
       "model_id": "8399afc325cb410e8dcce4c5e5c37172",
       "version_major": 2,
       "version_minor": 0
      },
      "text/plain": [
       "  0%|          | 0/1000 [00:00<?, ?it/s]"
      ]
     },
     "metadata": {},
     "output_type": "display_data"
    },
    {
     "data": {
      "application/vnd.jupyter.widget-view+json": {
       "model_id": "f77ec79e721a42aeaffc55efe2364df7",
       "version_major": 2,
       "version_minor": 0
      },
      "text/plain": [
       "  0%|          | 0/1000 [00:00<?, ?it/s]"
      ]
     },
     "metadata": {},
     "output_type": "display_data"
    },
    {
     "data": {
      "application/vnd.jupyter.widget-view+json": {
       "model_id": "0265ce3bccee419e90eca9ca58c792e6",
       "version_major": 2,
       "version_minor": 0
      },
      "text/plain": [
       "  0%|          | 0/1000 [00:00<?, ?it/s]"
      ]
     },
     "metadata": {},
     "output_type": "display_data"
    },
    {
     "data": {
      "application/vnd.jupyter.widget-view+json": {
       "model_id": "93f18a83f2784f5e9ebd6c27173493e4",
       "version_major": 2,
       "version_minor": 0
      },
      "text/plain": [
       "  0%|          | 0/1000 [00:00<?, ?it/s]"
      ]
     },
     "metadata": {},
     "output_type": "display_data"
    },
    {
     "data": {
      "application/vnd.jupyter.widget-view+json": {
       "model_id": "60119ce31d0a442985cb140eede8011f",
       "version_major": 2,
       "version_minor": 0
      },
      "text/plain": [
       "  0%|          | 0/1000 [00:00<?, ?it/s]"
      ]
     },
     "metadata": {},
     "output_type": "display_data"
    },
    {
     "data": {
      "application/vnd.jupyter.widget-view+json": {
       "model_id": "2d0076c5d630450b99b3bb48b41208b9",
       "version_major": 2,
       "version_minor": 0
      },
      "text/plain": [
       "  0%|          | 0/1000 [00:00<?, ?it/s]"
      ]
     },
     "metadata": {},
     "output_type": "display_data"
    },
    {
     "data": {
      "application/vnd.jupyter.widget-view+json": {
       "model_id": "233a29f20d004efbbf54bc4603d57e3b",
       "version_major": 2,
       "version_minor": 0
      },
      "text/plain": [
       "  0%|          | 0/1000 [00:00<?, ?it/s]"
      ]
     },
     "metadata": {},
     "output_type": "display_data"
    },
    {
     "data": {
      "application/vnd.jupyter.widget-view+json": {
       "model_id": "2f0a2ac8098f4f1cbeee5b7548ceb397",
       "version_major": 2,
       "version_minor": 0
      },
      "text/plain": [
       "  0%|          | 0/1000 [00:00<?, ?it/s]"
      ]
     },
     "metadata": {},
     "output_type": "display_data"
    },
    {
     "data": {
      "application/vnd.jupyter.widget-view+json": {
       "model_id": "e5a3c2e9d032420a89bf635c0ed5b5fa",
       "version_major": 2,
       "version_minor": 0
      },
      "text/plain": [
       "  0%|          | 0/1000 [00:00<?, ?it/s]"
      ]
     },
     "metadata": {},
     "output_type": "display_data"
    },
    {
     "data": {
      "application/vnd.jupyter.widget-view+json": {
       "model_id": "0c9d84bb97124ca19eac1ebe150afbcf",
       "version_major": 2,
       "version_minor": 0
      },
      "text/plain": [
       "  0%|          | 0/1000 [00:00<?, ?it/s]"
      ]
     },
     "metadata": {},
     "output_type": "display_data"
    },
    {
     "data": {
      "application/vnd.jupyter.widget-view+json": {
       "model_id": "0a5fa0ba25a54b67970c6a141d912361",
       "version_major": 2,
       "version_minor": 0
      },
      "text/plain": [
       "  0%|          | 0/1000 [00:00<?, ?it/s]"
      ]
     },
     "metadata": {},
     "output_type": "display_data"
    },
    {
     "data": {
      "application/vnd.jupyter.widget-view+json": {
       "model_id": "9a4878a213734bb38f4a63c2df094e0e",
       "version_major": 2,
       "version_minor": 0
      },
      "text/plain": [
       "  0%|          | 0/1000 [00:00<?, ?it/s]"
      ]
     },
     "metadata": {},
     "output_type": "display_data"
    },
    {
     "data": {
      "application/vnd.jupyter.widget-view+json": {
       "model_id": "ef75ccee7a354166a2cffebae2af9fd4",
       "version_major": 2,
       "version_minor": 0
      },
      "text/plain": [
       "  0%|          | 0/1000 [00:00<?, ?it/s]"
      ]
     },
     "metadata": {},
     "output_type": "display_data"
    },
    {
     "data": {
      "application/vnd.jupyter.widget-view+json": {
       "model_id": "bf8821ef39f0455ca09e9935bf246d94",
       "version_major": 2,
       "version_minor": 0
      },
      "text/plain": [
       "  0%|          | 0/1000 [00:00<?, ?it/s]"
      ]
     },
     "metadata": {},
     "output_type": "display_data"
    },
    {
     "data": {
      "application/vnd.jupyter.widget-view+json": {
       "model_id": "585db28135f34b46bd473fc8991538d1",
       "version_major": 2,
       "version_minor": 0
      },
      "text/plain": [
       "  0%|          | 0/1000 [00:00<?, ?it/s]"
      ]
     },
     "metadata": {},
     "output_type": "display_data"
    },
    {
     "data": {
      "application/vnd.jupyter.widget-view+json": {
       "model_id": "43a276ccc9604d1cbad46b3bc3b7f3fb",
       "version_major": 2,
       "version_minor": 0
      },
      "text/plain": [
       "  0%|          | 0/1000 [00:00<?, ?it/s]"
      ]
     },
     "metadata": {},
     "output_type": "display_data"
    },
    {
     "data": {
      "application/vnd.jupyter.widget-view+json": {
       "model_id": "7639dc974c93463ea509dbd62126b221",
       "version_major": 2,
       "version_minor": 0
      },
      "text/plain": [
       "  0%|          | 0/1000 [00:00<?, ?it/s]"
      ]
     },
     "metadata": {},
     "output_type": "display_data"
    },
    {
     "data": {
      "application/vnd.jupyter.widget-view+json": {
       "model_id": "e829d04b0f0b49369d1dfc64b644d7a0",
       "version_major": 2,
       "version_minor": 0
      },
      "text/plain": [
       "  0%|          | 0/1000 [00:00<?, ?it/s]"
      ]
     },
     "metadata": {},
     "output_type": "display_data"
    },
    {
     "data": {
      "application/vnd.jupyter.widget-view+json": {
       "model_id": "bfeff0e21b8145ae807d4afc8198fff0",
       "version_major": 2,
       "version_minor": 0
      },
      "text/plain": [
       "  0%|          | 0/1000 [00:00<?, ?it/s]"
      ]
     },
     "metadata": {},
     "output_type": "display_data"
    },
    {
     "data": {
      "application/vnd.jupyter.widget-view+json": {
       "model_id": "66c4d6fca8ef4e848882c245a637aa54",
       "version_major": 2,
       "version_minor": 0
      },
      "text/plain": [
       "  0%|          | 0/1000 [00:00<?, ?it/s]"
      ]
     },
     "metadata": {},
     "output_type": "display_data"
    },
    {
     "data": {
      "application/vnd.jupyter.widget-view+json": {
       "model_id": "1b1e7f73a2dd495d82643d96bd9ff43f",
       "version_major": 2,
       "version_minor": 0
      },
      "text/plain": [
       "  0%|          | 0/1000 [00:00<?, ?it/s]"
      ]
     },
     "metadata": {},
     "output_type": "display_data"
    },
    {
     "data": {
      "application/vnd.jupyter.widget-view+json": {
       "model_id": "a6633c47f9204ea1bdf22c8d139b54ad",
       "version_major": 2,
       "version_minor": 0
      },
      "text/plain": [
       "  0%|          | 0/1000 [00:00<?, ?it/s]"
      ]
     },
     "metadata": {},
     "output_type": "display_data"
    },
    {
     "data": {
      "application/vnd.jupyter.widget-view+json": {
       "model_id": "6a607ffe3e274160a2a0ecadbca46487",
       "version_major": 2,
       "version_minor": 0
      },
      "text/plain": [
       "  0%|          | 0/1000 [00:00<?, ?it/s]"
      ]
     },
     "metadata": {},
     "output_type": "display_data"
    },
    {
     "data": {
      "application/vnd.jupyter.widget-view+json": {
       "model_id": "e6b3aeddaccf418ab7411b869f22d0d5",
       "version_major": 2,
       "version_minor": 0
      },
      "text/plain": [
       "  0%|          | 0/1000 [00:00<?, ?it/s]"
      ]
     },
     "metadata": {},
     "output_type": "display_data"
    },
    {
     "data": {
      "application/vnd.jupyter.widget-view+json": {
       "model_id": "1ce236e3525046159f67a1d825407c8d",
       "version_major": 2,
       "version_minor": 0
      },
      "text/plain": [
       "  0%|          | 0/1000 [00:00<?, ?it/s]"
      ]
     },
     "metadata": {},
     "output_type": "display_data"
    },
    {
     "data": {
      "application/vnd.jupyter.widget-view+json": {
       "model_id": "d929ee3c70f3456899b3b973faefb485",
       "version_major": 2,
       "version_minor": 0
      },
      "text/plain": [
       "  0%|          | 0/1000 [00:00<?, ?it/s]"
      ]
     },
     "metadata": {},
     "output_type": "display_data"
    },
    {
     "data": {
      "application/vnd.jupyter.widget-view+json": {
       "model_id": "b4701a51cb74436097a3e5230f543a02",
       "version_major": 2,
       "version_minor": 0
      },
      "text/plain": [
       "  0%|          | 0/1000 [00:00<?, ?it/s]"
      ]
     },
     "metadata": {},
     "output_type": "display_data"
    },
    {
     "data": {
      "application/vnd.jupyter.widget-view+json": {
       "model_id": "1998bfb821d54be386544b5492c4a628",
       "version_major": 2,
       "version_minor": 0
      },
      "text/plain": [
       "  0%|          | 0/1000 [00:00<?, ?it/s]"
      ]
     },
     "metadata": {},
     "output_type": "display_data"
    },
    {
     "data": {
      "application/vnd.jupyter.widget-view+json": {
       "model_id": "934afd853782421cb946db274ec98baf",
       "version_major": 2,
       "version_minor": 0
      },
      "text/plain": [
       "  0%|          | 0/1000 [00:00<?, ?it/s]"
      ]
     },
     "metadata": {},
     "output_type": "display_data"
    },
    {
     "data": {
      "application/vnd.jupyter.widget-view+json": {
       "model_id": "a43c736219d442ef98486cfe17597c31",
       "version_major": 2,
       "version_minor": 0
      },
      "text/plain": [
       "  0%|          | 0/1000 [00:00<?, ?it/s]"
      ]
     },
     "metadata": {},
     "output_type": "display_data"
    },
    {
     "data": {
      "application/vnd.jupyter.widget-view+json": {
       "model_id": "4ec7dc960f114974b0652ed9d908e0c6",
       "version_major": 2,
       "version_minor": 0
      },
      "text/plain": [
       "  0%|          | 0/1000 [00:00<?, ?it/s]"
      ]
     },
     "metadata": {},
     "output_type": "display_data"
    },
    {
     "data": {
      "application/vnd.jupyter.widget-view+json": {
       "model_id": "4e212da199ac46dc89c1624686b208c9",
       "version_major": 2,
       "version_minor": 0
      },
      "text/plain": [
       "  0%|          | 0/1000 [00:00<?, ?it/s]"
      ]
     },
     "metadata": {},
     "output_type": "display_data"
    },
    {
     "data": {
      "application/vnd.jupyter.widget-view+json": {
       "model_id": "c3f27fc596254b4d9f7922e5b5802ff8",
       "version_major": 2,
       "version_minor": 0
      },
      "text/plain": [
       "  0%|          | 0/1000 [00:00<?, ?it/s]"
      ]
     },
     "metadata": {},
     "output_type": "display_data"
    },
    {
     "data": {
      "application/vnd.jupyter.widget-view+json": {
       "model_id": "23ed42f96f1e4c7986dd4eb64c83d56d",
       "version_major": 2,
       "version_minor": 0
      },
      "text/plain": [
       "  0%|          | 0/1000 [00:00<?, ?it/s]"
      ]
     },
     "metadata": {},
     "output_type": "display_data"
    },
    {
     "data": {
      "application/vnd.jupyter.widget-view+json": {
       "model_id": "0925aa3b33d74972ae608911a3288570",
       "version_major": 2,
       "version_minor": 0
      },
      "text/plain": [
       "  0%|          | 0/1000 [00:00<?, ?it/s]"
      ]
     },
     "metadata": {},
     "output_type": "display_data"
    },
    {
     "data": {
      "application/vnd.jupyter.widget-view+json": {
       "model_id": "ed2d14affd914141b16ebc736cd1dc31",
       "version_major": 2,
       "version_minor": 0
      },
      "text/plain": [
       "  0%|          | 0/1000 [00:00<?, ?it/s]"
      ]
     },
     "metadata": {},
     "output_type": "display_data"
    },
    {
     "data": {
      "application/vnd.jupyter.widget-view+json": {
       "model_id": "01c0559529544b3192d76cd24b14fb4e",
       "version_major": 2,
       "version_minor": 0
      },
      "text/plain": [
       "  0%|          | 0/1000 [00:00<?, ?it/s]"
      ]
     },
     "metadata": {},
     "output_type": "display_data"
    },
    {
     "data": {
      "application/vnd.jupyter.widget-view+json": {
       "model_id": "0fff9b1c44b04eb7a8256c637e46b45f",
       "version_major": 2,
       "version_minor": 0
      },
      "text/plain": [
       "  0%|          | 0/1000 [00:00<?, ?it/s]"
      ]
     },
     "metadata": {},
     "output_type": "display_data"
    },
    {
     "data": {
      "application/vnd.jupyter.widget-view+json": {
       "model_id": "d70b589d15fb462b9c71d60fe5526215",
       "version_major": 2,
       "version_minor": 0
      },
      "text/plain": [
       "  0%|          | 0/1000 [00:00<?, ?it/s]"
      ]
     },
     "metadata": {},
     "output_type": "display_data"
    },
    {
     "data": {
      "application/vnd.jupyter.widget-view+json": {
       "model_id": "7a164ff7ba7f41ccba488d4b0c35a6a9",
       "version_major": 2,
       "version_minor": 0
      },
      "text/plain": [
       "  0%|          | 0/1000 [00:00<?, ?it/s]"
      ]
     },
     "metadata": {},
     "output_type": "display_data"
    },
    {
     "data": {
      "application/vnd.jupyter.widget-view+json": {
       "model_id": "23db33e2d5624b188c3894209db3a772",
       "version_major": 2,
       "version_minor": 0
      },
      "text/plain": [
       "  0%|          | 0/1000 [00:00<?, ?it/s]"
      ]
     },
     "metadata": {},
     "output_type": "display_data"
    },
    {
     "data": {
      "application/vnd.jupyter.widget-view+json": {
       "model_id": "7a77ee6974bd486c80c6f9f0f09f4400",
       "version_major": 2,
       "version_minor": 0
      },
      "text/plain": [
       "  0%|          | 0/1000 [00:00<?, ?it/s]"
      ]
     },
     "metadata": {},
     "output_type": "display_data"
    },
    {
     "data": {
      "application/vnd.jupyter.widget-view+json": {
       "model_id": "5ef68aa355b9488e9c9113afee176f36",
       "version_major": 2,
       "version_minor": 0
      },
      "text/plain": [
       "  0%|          | 0/1000 [00:00<?, ?it/s]"
      ]
     },
     "metadata": {},
     "output_type": "display_data"
    },
    {
     "data": {
      "application/vnd.jupyter.widget-view+json": {
       "model_id": "637919134c744c668a826aa442e55215",
       "version_major": 2,
       "version_minor": 0
      },
      "text/plain": [
       "  0%|          | 0/1000 [00:00<?, ?it/s]"
      ]
     },
     "metadata": {},
     "output_type": "display_data"
    },
    {
     "data": {
      "application/vnd.jupyter.widget-view+json": {
       "model_id": "1a708b28505248639f008dcfa915f6af",
       "version_major": 2,
       "version_minor": 0
      },
      "text/plain": [
       "  0%|          | 0/1000 [00:00<?, ?it/s]"
      ]
     },
     "metadata": {},
     "output_type": "display_data"
    },
    {
     "data": {
      "application/vnd.jupyter.widget-view+json": {
       "model_id": "ac664c96ff584338b74f56217eea3c5b",
       "version_major": 2,
       "version_minor": 0
      },
      "text/plain": [
       "  0%|          | 0/1000 [00:00<?, ?it/s]"
      ]
     },
     "metadata": {},
     "output_type": "display_data"
    },
    {
     "data": {
      "application/vnd.jupyter.widget-view+json": {
       "model_id": "3896e0de0b3b42809184ab6fea0c8665",
       "version_major": 2,
       "version_minor": 0
      },
      "text/plain": [
       "  0%|          | 0/1000 [00:00<?, ?it/s]"
      ]
     },
     "metadata": {},
     "output_type": "display_data"
    },
    {
     "data": {
      "application/vnd.jupyter.widget-view+json": {
       "model_id": "ded7419085264c5d870ca926c8306fe9",
       "version_major": 2,
       "version_minor": 0
      },
      "text/plain": [
       "  0%|          | 0/1000 [00:00<?, ?it/s]"
      ]
     },
     "metadata": {},
     "output_type": "display_data"
    },
    {
     "data": {
      "application/vnd.jupyter.widget-view+json": {
       "model_id": "ac571ad67fbd445297f910db7219fcce",
       "version_major": 2,
       "version_minor": 0
      },
      "text/plain": [
       "  0%|          | 0/1000 [00:00<?, ?it/s]"
      ]
     },
     "metadata": {},
     "output_type": "display_data"
    },
    {
     "data": {
      "application/vnd.jupyter.widget-view+json": {
       "model_id": "a24a7ec9102f4f4cb144d44758b3b20f",
       "version_major": 2,
       "version_minor": 0
      },
      "text/plain": [
       "  0%|          | 0/1000 [00:00<?, ?it/s]"
      ]
     },
     "metadata": {},
     "output_type": "display_data"
    },
    {
     "data": {
      "application/vnd.jupyter.widget-view+json": {
       "model_id": "48d1b864d00e45228cf10dad7bf6051b",
       "version_major": 2,
       "version_minor": 0
      },
      "text/plain": [
       "  0%|          | 0/1000 [00:00<?, ?it/s]"
      ]
     },
     "metadata": {},
     "output_type": "display_data"
    },
    {
     "data": {
      "application/vnd.jupyter.widget-view+json": {
       "model_id": "3cdbc434a1e74124afe615ad6b6b9d8e",
       "version_major": 2,
       "version_minor": 0
      },
      "text/plain": [
       "  0%|          | 0/1000 [00:00<?, ?it/s]"
      ]
     },
     "metadata": {},
     "output_type": "display_data"
    },
    {
     "data": {
      "application/vnd.jupyter.widget-view+json": {
       "model_id": "8921ea87513d406889e9012dd59e66fa",
       "version_major": 2,
       "version_minor": 0
      },
      "text/plain": [
       "  0%|          | 0/1000 [00:00<?, ?it/s]"
      ]
     },
     "metadata": {},
     "output_type": "display_data"
    },
    {
     "data": {
      "application/vnd.jupyter.widget-view+json": {
       "model_id": "994dedbb64db4390b7b44af7fe7e3965",
       "version_major": 2,
       "version_minor": 0
      },
      "text/plain": [
       "  0%|          | 0/1000 [00:00<?, ?it/s]"
      ]
     },
     "metadata": {},
     "output_type": "display_data"
    },
    {
     "data": {
      "application/vnd.jupyter.widget-view+json": {
       "model_id": "03d28b9f9e244a2ea19940a3aa053706",
       "version_major": 2,
       "version_minor": 0
      },
      "text/plain": [
       "  0%|          | 0/1000 [00:00<?, ?it/s]"
      ]
     },
     "metadata": {},
     "output_type": "display_data"
    },
    {
     "data": {
      "application/vnd.jupyter.widget-view+json": {
       "model_id": "b303d2ccd72a49efb8f32f6a387973cb",
       "version_major": 2,
       "version_minor": 0
      },
      "text/plain": [
       "  0%|          | 0/1000 [00:00<?, ?it/s]"
      ]
     },
     "metadata": {},
     "output_type": "display_data"
    },
    {
     "data": {
      "application/vnd.jupyter.widget-view+json": {
       "model_id": "259359d998004826ad158eb5b35cb824",
       "version_major": 2,
       "version_minor": 0
      },
      "text/plain": [
       "  0%|          | 0/1000 [00:00<?, ?it/s]"
      ]
     },
     "metadata": {},
     "output_type": "display_data"
    },
    {
     "data": {
      "application/vnd.jupyter.widget-view+json": {
       "model_id": "227bb3ef247845e9818a0a0734fcb71c",
       "version_major": 2,
       "version_minor": 0
      },
      "text/plain": [
       "  0%|          | 0/1000 [00:00<?, ?it/s]"
      ]
     },
     "metadata": {},
     "output_type": "display_data"
    },
    {
     "data": {
      "application/vnd.jupyter.widget-view+json": {
       "model_id": "8e9686a32b894c23a2b1738c061aea2d",
       "version_major": 2,
       "version_minor": 0
      },
      "text/plain": [
       "  0%|          | 0/1000 [00:00<?, ?it/s]"
      ]
     },
     "metadata": {},
     "output_type": "display_data"
    },
    {
     "data": {
      "application/vnd.jupyter.widget-view+json": {
       "model_id": "718b10eba5e5448584d683d777676e9d",
       "version_major": 2,
       "version_minor": 0
      },
      "text/plain": [
       "  0%|          | 0/1000 [00:00<?, ?it/s]"
      ]
     },
     "metadata": {},
     "output_type": "display_data"
    },
    {
     "data": {
      "application/vnd.jupyter.widget-view+json": {
       "model_id": "59b161d2d50844628c22e9866372fe94",
       "version_major": 2,
       "version_minor": 0
      },
      "text/plain": [
       "  0%|          | 0/1000 [00:00<?, ?it/s]"
      ]
     },
     "metadata": {},
     "output_type": "display_data"
    },
    {
     "data": {
      "application/vnd.jupyter.widget-view+json": {
       "model_id": "9146a2e7b011487fac501e39d9fa5760",
       "version_major": 2,
       "version_minor": 0
      },
      "text/plain": [
       "  0%|          | 0/1000 [00:00<?, ?it/s]"
      ]
     },
     "metadata": {},
     "output_type": "display_data"
    },
    {
     "data": {
      "application/vnd.jupyter.widget-view+json": {
       "model_id": "ab5fe7db08344702ab2a7ea803f894ba",
       "version_major": 2,
       "version_minor": 0
      },
      "text/plain": [
       "  0%|          | 0/1000 [00:00<?, ?it/s]"
      ]
     },
     "metadata": {},
     "output_type": "display_data"
    },
    {
     "data": {
      "application/vnd.jupyter.widget-view+json": {
       "model_id": "994fd0d23198446aaef99a1dd19a2b6f",
       "version_major": 2,
       "version_minor": 0
      },
      "text/plain": [
       "  0%|          | 0/1000 [00:00<?, ?it/s]"
      ]
     },
     "metadata": {},
     "output_type": "display_data"
    },
    {
     "data": {
      "application/vnd.jupyter.widget-view+json": {
       "model_id": "051ee60267de4a909ac3b4f92546ff98",
       "version_major": 2,
       "version_minor": 0
      },
      "text/plain": [
       "  0%|          | 0/1000 [00:00<?, ?it/s]"
      ]
     },
     "metadata": {},
     "output_type": "display_data"
    },
    {
     "data": {
      "application/vnd.jupyter.widget-view+json": {
       "model_id": "b5b1807f049c4f458489b92f1493c3d7",
       "version_major": 2,
       "version_minor": 0
      },
      "text/plain": [
       "  0%|          | 0/1000 [00:00<?, ?it/s]"
      ]
     },
     "metadata": {},
     "output_type": "display_data"
    },
    {
     "data": {
      "application/vnd.jupyter.widget-view+json": {
       "model_id": "e9f325159f2d490dba20cc340314e270",
       "version_major": 2,
       "version_minor": 0
      },
      "text/plain": [
       "  0%|          | 0/1000 [00:00<?, ?it/s]"
      ]
     },
     "metadata": {},
     "output_type": "display_data"
    },
    {
     "data": {
      "application/vnd.jupyter.widget-view+json": {
       "model_id": "e3b07b539061414d82c50fb9e48051bf",
       "version_major": 2,
       "version_minor": 0
      },
      "text/plain": [
       "  0%|          | 0/1000 [00:00<?, ?it/s]"
      ]
     },
     "metadata": {},
     "output_type": "display_data"
    },
    {
     "data": {
      "application/vnd.jupyter.widget-view+json": {
       "model_id": "6162df2012564f3aac9241bbb7c3dec2",
       "version_major": 2,
       "version_minor": 0
      },
      "text/plain": [
       "  0%|          | 0/1000 [00:00<?, ?it/s]"
      ]
     },
     "metadata": {},
     "output_type": "display_data"
    },
    {
     "data": {
      "application/vnd.jupyter.widget-view+json": {
       "model_id": "216c8c9e9666489394beca68035b31ef",
       "version_major": 2,
       "version_minor": 0
      },
      "text/plain": [
       "  0%|          | 0/1000 [00:00<?, ?it/s]"
      ]
     },
     "metadata": {},
     "output_type": "display_data"
    },
    {
     "data": {
      "application/vnd.jupyter.widget-view+json": {
       "model_id": "c5f2dfb28f0d46989ed89dcc83a31cd5",
       "version_major": 2,
       "version_minor": 0
      },
      "text/plain": [
       "  0%|          | 0/1000 [00:00<?, ?it/s]"
      ]
     },
     "metadata": {},
     "output_type": "display_data"
    },
    {
     "data": {
      "application/vnd.jupyter.widget-view+json": {
       "model_id": "fd1146fa732149139aecd5ea0bfa3b0b",
       "version_major": 2,
       "version_minor": 0
      },
      "text/plain": [
       "  0%|          | 0/1000 [00:00<?, ?it/s]"
      ]
     },
     "metadata": {},
     "output_type": "display_data"
    },
    {
     "data": {
      "application/vnd.jupyter.widget-view+json": {
       "model_id": "e3727e4bdade46968b316dc3ba1e8188",
       "version_major": 2,
       "version_minor": 0
      },
      "text/plain": [
       "  0%|          | 0/1000 [00:00<?, ?it/s]"
      ]
     },
     "metadata": {},
     "output_type": "display_data"
    },
    {
     "data": {
      "application/vnd.jupyter.widget-view+json": {
       "model_id": "1d56bdebb96441fc9b7f69b4a3938239",
       "version_major": 2,
       "version_minor": 0
      },
      "text/plain": [
       "  0%|          | 0/1000 [00:00<?, ?it/s]"
      ]
     },
     "metadata": {},
     "output_type": "display_data"
    },
    {
     "data": {
      "application/vnd.jupyter.widget-view+json": {
       "model_id": "e88a9689ca4d4fd4b8b57fb2079ca701",
       "version_major": 2,
       "version_minor": 0
      },
      "text/plain": [
       "  0%|          | 0/1000 [00:00<?, ?it/s]"
      ]
     },
     "metadata": {},
     "output_type": "display_data"
    },
    {
     "data": {
      "application/vnd.jupyter.widget-view+json": {
       "model_id": "707f4de1ca1341b5aec4cc0f78b4cd77",
       "version_major": 2,
       "version_minor": 0
      },
      "text/plain": [
       "  0%|          | 0/1000 [00:00<?, ?it/s]"
      ]
     },
     "metadata": {},
     "output_type": "display_data"
    },
    {
     "data": {
      "application/vnd.jupyter.widget-view+json": {
       "model_id": "9d6e0fe2e51241709e0fa0569243958e",
       "version_major": 2,
       "version_minor": 0
      },
      "text/plain": [
       "  0%|          | 0/1000 [00:00<?, ?it/s]"
      ]
     },
     "metadata": {},
     "output_type": "display_data"
    },
    {
     "data": {
      "application/vnd.jupyter.widget-view+json": {
       "model_id": "8d348b0e11534352a98023ff6be347b0",
       "version_major": 2,
       "version_minor": 0
      },
      "text/plain": [
       "  0%|          | 0/1000 [00:00<?, ?it/s]"
      ]
     },
     "metadata": {},
     "output_type": "display_data"
    },
    {
     "data": {
      "application/vnd.jupyter.widget-view+json": {
       "model_id": "8a3bb41daefa48bba803c522e4347709",
       "version_major": 2,
       "version_minor": 0
      },
      "text/plain": [
       "  0%|          | 0/1000 [00:00<?, ?it/s]"
      ]
     },
     "metadata": {},
     "output_type": "display_data"
    },
    {
     "data": {
      "application/vnd.jupyter.widget-view+json": {
       "model_id": "437c2089ac6f4c56a83948e5a8fc846a",
       "version_major": 2,
       "version_minor": 0
      },
      "text/plain": [
       "  0%|          | 0/1000 [00:00<?, ?it/s]"
      ]
     },
     "metadata": {},
     "output_type": "display_data"
    },
    {
     "data": {
      "application/vnd.jupyter.widget-view+json": {
       "model_id": "c923f137165f4f06907aee92efe43b4f",
       "version_major": 2,
       "version_minor": 0
      },
      "text/plain": [
       "  0%|          | 0/1000 [00:00<?, ?it/s]"
      ]
     },
     "metadata": {},
     "output_type": "display_data"
    },
    {
     "data": {
      "application/vnd.jupyter.widget-view+json": {
       "model_id": "eaa116a037bd43a1a816a8f39ca7cd1a",
       "version_major": 2,
       "version_minor": 0
      },
      "text/plain": [
       "  0%|          | 0/1000 [00:00<?, ?it/s]"
      ]
     },
     "metadata": {},
     "output_type": "display_data"
    },
    {
     "data": {
      "application/vnd.jupyter.widget-view+json": {
       "model_id": "723156f1ded54b9ca757d47b07c2f468",
       "version_major": 2,
       "version_minor": 0
      },
      "text/plain": [
       "  0%|          | 0/1000 [00:00<?, ?it/s]"
      ]
     },
     "metadata": {},
     "output_type": "display_data"
    },
    {
     "data": {
      "application/vnd.jupyter.widget-view+json": {
       "model_id": "6100eaf135f148e6a9bd756ed62cc603",
       "version_major": 2,
       "version_minor": 0
      },
      "text/plain": [
       "  0%|          | 0/1000 [00:00<?, ?it/s]"
      ]
     },
     "metadata": {},
     "output_type": "display_data"
    },
    {
     "data": {
      "application/vnd.jupyter.widget-view+json": {
       "model_id": "e0d7db1456a247dcab0c7d2d1b25193b",
       "version_major": 2,
       "version_minor": 0
      },
      "text/plain": [
       "  0%|          | 0/1000 [00:00<?, ?it/s]"
      ]
     },
     "metadata": {},
     "output_type": "display_data"
    },
    {
     "data": {
      "application/vnd.jupyter.widget-view+json": {
       "model_id": "1b8275a6f78548da92c128d4f5362a19",
       "version_major": 2,
       "version_minor": 0
      },
      "text/plain": [
       "  0%|          | 0/1000 [00:00<?, ?it/s]"
      ]
     },
     "metadata": {},
     "output_type": "display_data"
    },
    {
     "data": {
      "application/vnd.jupyter.widget-view+json": {
       "model_id": "ae07063651804eec9b7b0791f13799ff",
       "version_major": 2,
       "version_minor": 0
      },
      "text/plain": [
       "  0%|          | 0/1000 [00:00<?, ?it/s]"
      ]
     },
     "metadata": {},
     "output_type": "display_data"
    },
    {
     "data": {
      "application/vnd.jupyter.widget-view+json": {
       "model_id": "1d7d6797d05d492ab8f438e8d8a2d5fa",
       "version_major": 2,
       "version_minor": 0
      },
      "text/plain": [
       "  0%|          | 0/1000 [00:00<?, ?it/s]"
      ]
     },
     "metadata": {},
     "output_type": "display_data"
    },
    {
     "data": {
      "application/vnd.jupyter.widget-view+json": {
       "model_id": "b039931f4bbb4435b5fc42f334496b2e",
       "version_major": 2,
       "version_minor": 0
      },
      "text/plain": [
       "  0%|          | 0/1000 [00:00<?, ?it/s]"
      ]
     },
     "metadata": {},
     "output_type": "display_data"
    },
    {
     "data": {
      "application/vnd.jupyter.widget-view+json": {
       "model_id": "c631aafc25c2475090b96ff74fcbc442",
       "version_major": 2,
       "version_minor": 0
      },
      "text/plain": [
       "  0%|          | 0/1000 [00:00<?, ?it/s]"
      ]
     },
     "metadata": {},
     "output_type": "display_data"
    },
    {
     "data": {
      "application/vnd.jupyter.widget-view+json": {
       "model_id": "3ca4fc1ba30e4582b482f77adf64c053",
       "version_major": 2,
       "version_minor": 0
      },
      "text/plain": [
       "  0%|          | 0/1000 [00:00<?, ?it/s]"
      ]
     },
     "metadata": {},
     "output_type": "display_data"
    },
    {
     "data": {
      "application/vnd.jupyter.widget-view+json": {
       "model_id": "2d127df2cd1a48e1bdbb5db3ae720cbe",
       "version_major": 2,
       "version_minor": 0
      },
      "text/plain": [
       "  0%|          | 0/1000 [00:00<?, ?it/s]"
      ]
     },
     "metadata": {},
     "output_type": "display_data"
    },
    {
     "data": {
      "application/vnd.jupyter.widget-view+json": {
       "model_id": "f4b3b7b4993a4ba181731374779f5382",
       "version_major": 2,
       "version_minor": 0
      },
      "text/plain": [
       "  0%|          | 0/1000 [00:00<?, ?it/s]"
      ]
     },
     "metadata": {},
     "output_type": "display_data"
    },
    {
     "data": {
      "application/vnd.jupyter.widget-view+json": {
       "model_id": "51873e97a4384a4cb2bd36f1cd95c2d5",
       "version_major": 2,
       "version_minor": 0
      },
      "text/plain": [
       "  0%|          | 0/1000 [00:00<?, ?it/s]"
      ]
     },
     "metadata": {},
     "output_type": "display_data"
    },
    {
     "data": {
      "application/vnd.jupyter.widget-view+json": {
       "model_id": "ad0969b983374da0961c3a68cd3530cc",
       "version_major": 2,
       "version_minor": 0
      },
      "text/plain": [
       "  0%|          | 0/1000 [00:00<?, ?it/s]"
      ]
     },
     "metadata": {},
     "output_type": "display_data"
    },
    {
     "data": {
      "application/vnd.jupyter.widget-view+json": {
       "model_id": "05c6910c7db44a3a9a5af7e83cfa52ae",
       "version_major": 2,
       "version_minor": 0
      },
      "text/plain": [
       "  0%|          | 0/1000 [00:00<?, ?it/s]"
      ]
     },
     "metadata": {},
     "output_type": "display_data"
    },
    {
     "data": {
      "application/vnd.jupyter.widget-view+json": {
       "model_id": "03e70e25f54d4a8dabcf123e644f4f64",
       "version_major": 2,
       "version_minor": 0
      },
      "text/plain": [
       "  0%|          | 0/1000 [00:00<?, ?it/s]"
      ]
     },
     "metadata": {},
     "output_type": "display_data"
    },
    {
     "data": {
      "application/vnd.jupyter.widget-view+json": {
       "model_id": "b5e9ce4d47e94abc8a0c822832f203ec",
       "version_major": 2,
       "version_minor": 0
      },
      "text/plain": [
       "  0%|          | 0/1000 [00:00<?, ?it/s]"
      ]
     },
     "metadata": {},
     "output_type": "display_data"
    },
    {
     "data": {
      "application/vnd.jupyter.widget-view+json": {
       "model_id": "53a27b8de7094e62813fb14de3bbbe2a",
       "version_major": 2,
       "version_minor": 0
      },
      "text/plain": [
       "  0%|          | 0/1000 [00:00<?, ?it/s]"
      ]
     },
     "metadata": {},
     "output_type": "display_data"
    },
    {
     "data": {
      "application/vnd.jupyter.widget-view+json": {
       "model_id": "6da586bc11a04fcea7b92f84b78d4ff1",
       "version_major": 2,
       "version_minor": 0
      },
      "text/plain": [
       "  0%|          | 0/1000 [00:00<?, ?it/s]"
      ]
     },
     "metadata": {},
     "output_type": "display_data"
    },
    {
     "data": {
      "application/vnd.jupyter.widget-view+json": {
       "model_id": "fb21c6e86543475ca5c1284b796735b5",
       "version_major": 2,
       "version_minor": 0
      },
      "text/plain": [
       "  0%|          | 0/1000 [00:00<?, ?it/s]"
      ]
     },
     "metadata": {},
     "output_type": "display_data"
    },
    {
     "data": {
      "application/vnd.jupyter.widget-view+json": {
       "model_id": "57cea91b0df64870b6c83a87731aef1e",
       "version_major": 2,
       "version_minor": 0
      },
      "text/plain": [
       "  0%|          | 0/1000 [00:00<?, ?it/s]"
      ]
     },
     "metadata": {},
     "output_type": "display_data"
    },
    {
     "data": {
      "application/vnd.jupyter.widget-view+json": {
       "model_id": "ee3770db73ae4fde89056911bc90adea",
       "version_major": 2,
       "version_minor": 0
      },
      "text/plain": [
       "  0%|          | 0/1000 [00:00<?, ?it/s]"
      ]
     },
     "metadata": {},
     "output_type": "display_data"
    },
    {
     "data": {
      "application/vnd.jupyter.widget-view+json": {
       "model_id": "a40a719cfaa247b4b55dbf9172dbdd67",
       "version_major": 2,
       "version_minor": 0
      },
      "text/plain": [
       "  0%|          | 0/1000 [00:00<?, ?it/s]"
      ]
     },
     "metadata": {},
     "output_type": "display_data"
    },
    {
     "data": {
      "application/vnd.jupyter.widget-view+json": {
       "model_id": "d005f145136d4b62b8738fc5bbd8090f",
       "version_major": 2,
       "version_minor": 0
      },
      "text/plain": [
       "  0%|          | 0/1000 [00:00<?, ?it/s]"
      ]
     },
     "metadata": {},
     "output_type": "display_data"
    },
    {
     "data": {
      "application/vnd.jupyter.widget-view+json": {
       "model_id": "8bdb8a89e94a4b159c199e4e206d8ded",
       "version_major": 2,
       "version_minor": 0
      },
      "text/plain": [
       "  0%|          | 0/1000 [00:00<?, ?it/s]"
      ]
     },
     "metadata": {},
     "output_type": "display_data"
    },
    {
     "data": {
      "application/vnd.jupyter.widget-view+json": {
       "model_id": "d38c6fc9e74b4b51881dc5ca672ab082",
       "version_major": 2,
       "version_minor": 0
      },
      "text/plain": [
       "  0%|          | 0/1000 [00:00<?, ?it/s]"
      ]
     },
     "metadata": {},
     "output_type": "display_data"
    },
    {
     "data": {
      "application/vnd.jupyter.widget-view+json": {
       "model_id": "c0a22893eebf41058b1465b3c6538d65",
       "version_major": 2,
       "version_minor": 0
      },
      "text/plain": [
       "  0%|          | 0/1000 [00:00<?, ?it/s]"
      ]
     },
     "metadata": {},
     "output_type": "display_data"
    },
    {
     "data": {
      "application/vnd.jupyter.widget-view+json": {
       "model_id": "7e9cb83b046f4f95899120abebb7c84c",
       "version_major": 2,
       "version_minor": 0
      },
      "text/plain": [
       "  0%|          | 0/1000 [00:00<?, ?it/s]"
      ]
     },
     "metadata": {},
     "output_type": "display_data"
    },
    {
     "data": {
      "application/vnd.jupyter.widget-view+json": {
       "model_id": "f88cecde450d45acb88f9806c6d7b411",
       "version_major": 2,
       "version_minor": 0
      },
      "text/plain": [
       "  0%|          | 0/1000 [00:00<?, ?it/s]"
      ]
     },
     "metadata": {},
     "output_type": "display_data"
    },
    {
     "data": {
      "application/vnd.jupyter.widget-view+json": {
       "model_id": "18295e1aef8a44f1907d0e27f6640192",
       "version_major": 2,
       "version_minor": 0
      },
      "text/plain": [
       "  0%|          | 0/1000 [00:00<?, ?it/s]"
      ]
     },
     "metadata": {},
     "output_type": "display_data"
    },
    {
     "data": {
      "application/vnd.jupyter.widget-view+json": {
       "model_id": "ad689a4e3fbf4c11b899bfdd9ece3c22",
       "version_major": 2,
       "version_minor": 0
      },
      "text/plain": [
       "  0%|          | 0/1000 [00:00<?, ?it/s]"
      ]
     },
     "metadata": {},
     "output_type": "display_data"
    },
    {
     "data": {
      "application/vnd.jupyter.widget-view+json": {
       "model_id": "3ee07e15043441fbb08f978e5bc45911",
       "version_major": 2,
       "version_minor": 0
      },
      "text/plain": [
       "  0%|          | 0/1000 [00:00<?, ?it/s]"
      ]
     },
     "metadata": {},
     "output_type": "display_data"
    },
    {
     "data": {
      "application/vnd.jupyter.widget-view+json": {
       "model_id": "8eadecf968b7462384e39b888d43f75e",
       "version_major": 2,
       "version_minor": 0
      },
      "text/plain": [
       "  0%|          | 0/1000 [00:00<?, ?it/s]"
      ]
     },
     "metadata": {},
     "output_type": "display_data"
    },
    {
     "data": {
      "application/vnd.jupyter.widget-view+json": {
       "model_id": "a82c0be9acb1418b9bd6e84cc6ce592c",
       "version_major": 2,
       "version_minor": 0
      },
      "text/plain": [
       "  0%|          | 0/1000 [00:00<?, ?it/s]"
      ]
     },
     "metadata": {},
     "output_type": "display_data"
    },
    {
     "data": {
      "application/vnd.jupyter.widget-view+json": {
       "model_id": "6022bb8c2f174853973d5449e93dfed4",
       "version_major": 2,
       "version_minor": 0
      },
      "text/plain": [
       "  0%|          | 0/1000 [00:00<?, ?it/s]"
      ]
     },
     "metadata": {},
     "output_type": "display_data"
    },
    {
     "data": {
      "application/vnd.jupyter.widget-view+json": {
       "model_id": "2233a8034a7548a5bb236cf93b2b3fc5",
       "version_major": 2,
       "version_minor": 0
      },
      "text/plain": [
       "  0%|          | 0/1000 [00:00<?, ?it/s]"
      ]
     },
     "metadata": {},
     "output_type": "display_data"
    },
    {
     "data": {
      "application/vnd.jupyter.widget-view+json": {
       "model_id": "ab2e6d108a774cf2854d51094dcc75fa",
       "version_major": 2,
       "version_minor": 0
      },
      "text/plain": [
       "  0%|          | 0/1000 [00:00<?, ?it/s]"
      ]
     },
     "metadata": {},
     "output_type": "display_data"
    },
    {
     "data": {
      "application/vnd.jupyter.widget-view+json": {
       "model_id": "ff842169ba7648f79379768e8e948875",
       "version_major": 2,
       "version_minor": 0
      },
      "text/plain": [
       "  0%|          | 0/1000 [00:00<?, ?it/s]"
      ]
     },
     "metadata": {},
     "output_type": "display_data"
    },
    {
     "data": {
      "application/vnd.jupyter.widget-view+json": {
       "model_id": "45f6a446def94e3891923d3037cf0d67",
       "version_major": 2,
       "version_minor": 0
      },
      "text/plain": [
       "  0%|          | 0/1000 [00:00<?, ?it/s]"
      ]
     },
     "metadata": {},
     "output_type": "display_data"
    },
    {
     "data": {
      "application/vnd.jupyter.widget-view+json": {
       "model_id": "a8e4d8052164464f82772c71f4cb2ebe",
       "version_major": 2,
       "version_minor": 0
      },
      "text/plain": [
       "  0%|          | 0/1000 [00:00<?, ?it/s]"
      ]
     },
     "metadata": {},
     "output_type": "display_data"
    },
    {
     "data": {
      "application/vnd.jupyter.widget-view+json": {
       "model_id": "b2f42ac0fdb84de9b47fe06c91b8c632",
       "version_major": 2,
       "version_minor": 0
      },
      "text/plain": [
       "  0%|          | 0/1000 [00:00<?, ?it/s]"
      ]
     },
     "metadata": {},
     "output_type": "display_data"
    },
    {
     "data": {
      "application/vnd.jupyter.widget-view+json": {
       "model_id": "dcc89f153ae84077b4a265caa37bc257",
       "version_major": 2,
       "version_minor": 0
      },
      "text/plain": [
       "  0%|          | 0/1000 [00:00<?, ?it/s]"
      ]
     },
     "metadata": {},
     "output_type": "display_data"
    },
    {
     "data": {
      "application/vnd.jupyter.widget-view+json": {
       "model_id": "0ec2dd9559924e79ad86e6cb01123e35",
       "version_major": 2,
       "version_minor": 0
      },
      "text/plain": [
       "  0%|          | 0/1000 [00:00<?, ?it/s]"
      ]
     },
     "metadata": {},
     "output_type": "display_data"
    },
    {
     "data": {
      "application/vnd.jupyter.widget-view+json": {
       "model_id": "71c8891137ef48579a29a8ccd05d2ca7",
       "version_major": 2,
       "version_minor": 0
      },
      "text/plain": [
       "  0%|          | 0/1000 [00:00<?, ?it/s]"
      ]
     },
     "metadata": {},
     "output_type": "display_data"
    },
    {
     "data": {
      "application/vnd.jupyter.widget-view+json": {
       "model_id": "0bd5ed517fb64f51b139b7e96e29b61f",
       "version_major": 2,
       "version_minor": 0
      },
      "text/plain": [
       "  0%|          | 0/1000 [00:00<?, ?it/s]"
      ]
     },
     "metadata": {},
     "output_type": "display_data"
    },
    {
     "data": {
      "application/vnd.jupyter.widget-view+json": {
       "model_id": "b075055596c24e17aa398639f36659f3",
       "version_major": 2,
       "version_minor": 0
      },
      "text/plain": [
       "  0%|          | 0/1000 [00:00<?, ?it/s]"
      ]
     },
     "metadata": {},
     "output_type": "display_data"
    },
    {
     "data": {
      "application/vnd.jupyter.widget-view+json": {
       "model_id": "e540a648c3284ce8b1941b5fb88200df",
       "version_major": 2,
       "version_minor": 0
      },
      "text/plain": [
       "  0%|          | 0/1000 [00:00<?, ?it/s]"
      ]
     },
     "metadata": {},
     "output_type": "display_data"
    },
    {
     "data": {
      "application/vnd.jupyter.widget-view+json": {
       "model_id": "c091633604c24b728466397e33c9fab5",
       "version_major": 2,
       "version_minor": 0
      },
      "text/plain": [
       "  0%|          | 0/1000 [00:00<?, ?it/s]"
      ]
     },
     "metadata": {},
     "output_type": "display_data"
    },
    {
     "data": {
      "application/vnd.jupyter.widget-view+json": {
       "model_id": "cbfa529e0c8d4242b118bc81dec58457",
       "version_major": 2,
       "version_minor": 0
      },
      "text/plain": [
       "  0%|          | 0/1000 [00:00<?, ?it/s]"
      ]
     },
     "metadata": {},
     "output_type": "display_data"
    },
    {
     "data": {
      "application/vnd.jupyter.widget-view+json": {
       "model_id": "8edd68070ef64bd6a3b8e345625c2dd7",
       "version_major": 2,
       "version_minor": 0
      },
      "text/plain": [
       "  0%|          | 0/1000 [00:00<?, ?it/s]"
      ]
     },
     "metadata": {},
     "output_type": "display_data"
    },
    {
     "data": {
      "application/vnd.jupyter.widget-view+json": {
       "model_id": "50d91af169d14ee38c7975a828caac2f",
       "version_major": 2,
       "version_minor": 0
      },
      "text/plain": [
       "  0%|          | 0/1000 [00:00<?, ?it/s]"
      ]
     },
     "metadata": {},
     "output_type": "display_data"
    },
    {
     "data": {
      "application/vnd.jupyter.widget-view+json": {
       "model_id": "2fcebef4a0804ffa9ee593bfff93ab1a",
       "version_major": 2,
       "version_minor": 0
      },
      "text/plain": [
       "  0%|          | 0/1000 [00:00<?, ?it/s]"
      ]
     },
     "metadata": {},
     "output_type": "display_data"
    },
    {
     "data": {
      "application/vnd.jupyter.widget-view+json": {
       "model_id": "289f52e623334148a7e0f9d9f375ee85",
       "version_major": 2,
       "version_minor": 0
      },
      "text/plain": [
       "  0%|          | 0/1000 [00:00<?, ?it/s]"
      ]
     },
     "metadata": {},
     "output_type": "display_data"
    },
    {
     "data": {
      "application/vnd.jupyter.widget-view+json": {
       "model_id": "bb5d7619ebb24721bc8923ceee9c9490",
       "version_major": 2,
       "version_minor": 0
      },
      "text/plain": [
       "  0%|          | 0/1000 [00:00<?, ?it/s]"
      ]
     },
     "metadata": {},
     "output_type": "display_data"
    },
    {
     "data": {
      "application/vnd.jupyter.widget-view+json": {
       "model_id": "099128ac3a3248cf80979b63565ea1c2",
       "version_major": 2,
       "version_minor": 0
      },
      "text/plain": [
       "  0%|          | 0/1000 [00:00<?, ?it/s]"
      ]
     },
     "metadata": {},
     "output_type": "display_data"
    },
    {
     "data": {
      "application/vnd.jupyter.widget-view+json": {
       "model_id": "0df83762272749a995206962d8c86761",
       "version_major": 2,
       "version_minor": 0
      },
      "text/plain": [
       "  0%|          | 0/1000 [00:00<?, ?it/s]"
      ]
     },
     "metadata": {},
     "output_type": "display_data"
    },
    {
     "data": {
      "application/vnd.jupyter.widget-view+json": {
       "model_id": "510ea7e95b634246b3592ec72ee6cd35",
       "version_major": 2,
       "version_minor": 0
      },
      "text/plain": [
       "  0%|          | 0/1000 [00:00<?, ?it/s]"
      ]
     },
     "metadata": {},
     "output_type": "display_data"
    },
    {
     "data": {
      "application/vnd.jupyter.widget-view+json": {
       "model_id": "60faae9f0954455999b471f93a77e721",
       "version_major": 2,
       "version_minor": 0
      },
      "text/plain": [
       "  0%|          | 0/1000 [00:00<?, ?it/s]"
      ]
     },
     "metadata": {},
     "output_type": "display_data"
    },
    {
     "data": {
      "application/vnd.jupyter.widget-view+json": {
       "model_id": "d9e602acb23e427f9021491f1c1a2d01",
       "version_major": 2,
       "version_minor": 0
      },
      "text/plain": [
       "  0%|          | 0/1000 [00:00<?, ?it/s]"
      ]
     },
     "metadata": {},
     "output_type": "display_data"
    },
    {
     "data": {
      "application/vnd.jupyter.widget-view+json": {
       "model_id": "f116659f22564094a9206df81d974fde",
       "version_major": 2,
       "version_minor": 0
      },
      "text/plain": [
       "  0%|          | 0/1000 [00:00<?, ?it/s]"
      ]
     },
     "metadata": {},
     "output_type": "display_data"
    },
    {
     "data": {
      "application/vnd.jupyter.widget-view+json": {
       "model_id": "72bafdba06944943b97130f9b0d1a377",
       "version_major": 2,
       "version_minor": 0
      },
      "text/plain": [
       "  0%|          | 0/1000 [00:00<?, ?it/s]"
      ]
     },
     "metadata": {},
     "output_type": "display_data"
    },
    {
     "data": {
      "application/vnd.jupyter.widget-view+json": {
       "model_id": "b7ebd50a07e042d682d8e6edbe6c5fb2",
       "version_major": 2,
       "version_minor": 0
      },
      "text/plain": [
       "  0%|          | 0/1000 [00:00<?, ?it/s]"
      ]
     },
     "metadata": {},
     "output_type": "display_data"
    },
    {
     "data": {
      "application/vnd.jupyter.widget-view+json": {
       "model_id": "2f52120147a141a084f1a89186945957",
       "version_major": 2,
       "version_minor": 0
      },
      "text/plain": [
       "  0%|          | 0/1000 [00:00<?, ?it/s]"
      ]
     },
     "metadata": {},
     "output_type": "display_data"
    },
    {
     "data": {
      "application/vnd.jupyter.widget-view+json": {
       "model_id": "a729cc1bb1514dee937cfbc205cc3678",
       "version_major": 2,
       "version_minor": 0
      },
      "text/plain": [
       "  0%|          | 0/1000 [00:00<?, ?it/s]"
      ]
     },
     "metadata": {},
     "output_type": "display_data"
    },
    {
     "data": {
      "application/vnd.jupyter.widget-view+json": {
       "model_id": "9504d7e8844b4ed78395df726c89fa48",
       "version_major": 2,
       "version_minor": 0
      },
      "text/plain": [
       "  0%|          | 0/1000 [00:00<?, ?it/s]"
      ]
     },
     "metadata": {},
     "output_type": "display_data"
    },
    {
     "data": {
      "application/vnd.jupyter.widget-view+json": {
       "model_id": "f263974a86bd4b15adbe87d166cd451b",
       "version_major": 2,
       "version_minor": 0
      },
      "text/plain": [
       "  0%|          | 0/1000 [00:00<?, ?it/s]"
      ]
     },
     "metadata": {},
     "output_type": "display_data"
    },
    {
     "data": {
      "application/vnd.jupyter.widget-view+json": {
       "model_id": "0d19fe34acdf4ddba3452510ad3e5630",
       "version_major": 2,
       "version_minor": 0
      },
      "text/plain": [
       "  0%|          | 0/1000 [00:00<?, ?it/s]"
      ]
     },
     "metadata": {},
     "output_type": "display_data"
    },
    {
     "data": {
      "application/vnd.jupyter.widget-view+json": {
       "model_id": "3e3d421e520c402bbdc78e21b36e9889",
       "version_major": 2,
       "version_minor": 0
      },
      "text/plain": [
       "  0%|          | 0/1000 [00:00<?, ?it/s]"
      ]
     },
     "metadata": {},
     "output_type": "display_data"
    },
    {
     "data": {
      "application/vnd.jupyter.widget-view+json": {
       "model_id": "0a76b0b7d8634ea4886d7a125175915c",
       "version_major": 2,
       "version_minor": 0
      },
      "text/plain": [
       "  0%|          | 0/1000 [00:00<?, ?it/s]"
      ]
     },
     "metadata": {},
     "output_type": "display_data"
    },
    {
     "data": {
      "application/vnd.jupyter.widget-view+json": {
       "model_id": "7be7918087474173a7479061fbec0aff",
       "version_major": 2,
       "version_minor": 0
      },
      "text/plain": [
       "  0%|          | 0/1000 [00:00<?, ?it/s]"
      ]
     },
     "metadata": {},
     "output_type": "display_data"
    },
    {
     "data": {
      "application/vnd.jupyter.widget-view+json": {
       "model_id": "42a51be77947448db1b341a92220f18b",
       "version_major": 2,
       "version_minor": 0
      },
      "text/plain": [
       "  0%|          | 0/1000 [00:00<?, ?it/s]"
      ]
     },
     "metadata": {},
     "output_type": "display_data"
    },
    {
     "data": {
      "application/vnd.jupyter.widget-view+json": {
       "model_id": "aa624a9554914f099f227651f4ec3429",
       "version_major": 2,
       "version_minor": 0
      },
      "text/plain": [
       "  0%|          | 0/1000 [00:00<?, ?it/s]"
      ]
     },
     "metadata": {},
     "output_type": "display_data"
    },
    {
     "data": {
      "application/vnd.jupyter.widget-view+json": {
       "model_id": "b4e784500e294fb3aaf4a0de370679b0",
       "version_major": 2,
       "version_minor": 0
      },
      "text/plain": [
       "  0%|          | 0/1000 [00:00<?, ?it/s]"
      ]
     },
     "metadata": {},
     "output_type": "display_data"
    },
    {
     "data": {
      "application/vnd.jupyter.widget-view+json": {
       "model_id": "1c22d8784b464e65af726bf2534e2f82",
       "version_major": 2,
       "version_minor": 0
      },
      "text/plain": [
       "  0%|          | 0/1000 [00:00<?, ?it/s]"
      ]
     },
     "metadata": {},
     "output_type": "display_data"
    },
    {
     "data": {
      "application/vnd.jupyter.widget-view+json": {
       "model_id": "aaace61023c84056a9b5dfea0a8dc137",
       "version_major": 2,
       "version_minor": 0
      },
      "text/plain": [
       "  0%|          | 0/1000 [00:00<?, ?it/s]"
      ]
     },
     "metadata": {},
     "output_type": "display_data"
    },
    {
     "data": {
      "application/vnd.jupyter.widget-view+json": {
       "model_id": "0278af491a4047f7bc3795f0aae44ab7",
       "version_major": 2,
       "version_minor": 0
      },
      "text/plain": [
       "  0%|          | 0/1000 [00:00<?, ?it/s]"
      ]
     },
     "metadata": {},
     "output_type": "display_data"
    },
    {
     "data": {
      "application/vnd.jupyter.widget-view+json": {
       "model_id": "dfc1b67a246841fe8e79a6867eba0ef3",
       "version_major": 2,
       "version_minor": 0
      },
      "text/plain": [
       "  0%|          | 0/1000 [00:00<?, ?it/s]"
      ]
     },
     "metadata": {},
     "output_type": "display_data"
    },
    {
     "data": {
      "application/vnd.jupyter.widget-view+json": {
       "model_id": "b15cf5e1b13541d19d9533c34c91e351",
       "version_major": 2,
       "version_minor": 0
      },
      "text/plain": [
       "  0%|          | 0/1000 [00:00<?, ?it/s]"
      ]
     },
     "metadata": {},
     "output_type": "display_data"
    },
    {
     "data": {
      "application/vnd.jupyter.widget-view+json": {
       "model_id": "7ea7513723a64cfdb63287cc09ce4cd9",
       "version_major": 2,
       "version_minor": 0
      },
      "text/plain": [
       "  0%|          | 0/1000 [00:00<?, ?it/s]"
      ]
     },
     "metadata": {},
     "output_type": "display_data"
    },
    {
     "data": {
      "application/vnd.jupyter.widget-view+json": {
       "model_id": "9e36ba71c4184281bfc9e4ea4a1d1d42",
       "version_major": 2,
       "version_minor": 0
      },
      "text/plain": [
       "  0%|          | 0/1000 [00:00<?, ?it/s]"
      ]
     },
     "metadata": {},
     "output_type": "display_data"
    },
    {
     "data": {
      "application/vnd.jupyter.widget-view+json": {
       "model_id": "6cfc778f6cca45349208a31938e002fa",
       "version_major": 2,
       "version_minor": 0
      },
      "text/plain": [
       "  0%|          | 0/1000 [00:00<?, ?it/s]"
      ]
     },
     "metadata": {},
     "output_type": "display_data"
    },
    {
     "data": {
      "application/vnd.jupyter.widget-view+json": {
       "model_id": "e2bab91fe22746b5b4087021da0259c2",
       "version_major": 2,
       "version_minor": 0
      },
      "text/plain": [
       "  0%|          | 0/1000 [00:00<?, ?it/s]"
      ]
     },
     "metadata": {},
     "output_type": "display_data"
    },
    {
     "data": {
      "application/vnd.jupyter.widget-view+json": {
       "model_id": "b38b801f064d445797c57a4e143318fb",
       "version_major": 2,
       "version_minor": 0
      },
      "text/plain": [
       "  0%|          | 0/1000 [00:00<?, ?it/s]"
      ]
     },
     "metadata": {},
     "output_type": "display_data"
    },
    {
     "data": {
      "application/vnd.jupyter.widget-view+json": {
       "model_id": "930ac4936d7f46b69e298b5a569f7ffb",
       "version_major": 2,
       "version_minor": 0
      },
      "text/plain": [
       "  0%|          | 0/1000 [00:00<?, ?it/s]"
      ]
     },
     "metadata": {},
     "output_type": "display_data"
    },
    {
     "data": {
      "application/vnd.jupyter.widget-view+json": {
       "model_id": "71d86b1048634407a81a8e8da9109331",
       "version_major": 2,
       "version_minor": 0
      },
      "text/plain": [
       "  0%|          | 0/1000 [00:00<?, ?it/s]"
      ]
     },
     "metadata": {},
     "output_type": "display_data"
    },
    {
     "data": {
      "application/vnd.jupyter.widget-view+json": {
       "model_id": "819d9682a2f3484fbc976251d79285a1",
       "version_major": 2,
       "version_minor": 0
      },
      "text/plain": [
       "  0%|          | 0/1000 [00:00<?, ?it/s]"
      ]
     },
     "metadata": {},
     "output_type": "display_data"
    },
    {
     "data": {
      "application/vnd.jupyter.widget-view+json": {
       "model_id": "125c3a012a814672b02811c7ba50d58a",
       "version_major": 2,
       "version_minor": 0
      },
      "text/plain": [
       "  0%|          | 0/1000 [00:00<?, ?it/s]"
      ]
     },
     "metadata": {},
     "output_type": "display_data"
    },
    {
     "data": {
      "application/vnd.jupyter.widget-view+json": {
       "model_id": "a133bfb9b01b417fb0aaf355ab8d06a0",
       "version_major": 2,
       "version_minor": 0
      },
      "text/plain": [
       "  0%|          | 0/1000 [00:00<?, ?it/s]"
      ]
     },
     "metadata": {},
     "output_type": "display_data"
    },
    {
     "data": {
      "application/vnd.jupyter.widget-view+json": {
       "model_id": "a44cf76e057546bebb3dca0dfeb89319",
       "version_major": 2,
       "version_minor": 0
      },
      "text/plain": [
       "  0%|          | 0/1000 [00:00<?, ?it/s]"
      ]
     },
     "metadata": {},
     "output_type": "display_data"
    },
    {
     "data": {
      "application/vnd.jupyter.widget-view+json": {
       "model_id": "04b0a3b2169c4303a4336c95ee65c16b",
       "version_major": 2,
       "version_minor": 0
      },
      "text/plain": [
       "  0%|          | 0/1000 [00:00<?, ?it/s]"
      ]
     },
     "metadata": {},
     "output_type": "display_data"
    },
    {
     "data": {
      "application/vnd.jupyter.widget-view+json": {
       "model_id": "8b0e2c9a45074285804b1da3a353cfb8",
       "version_major": 2,
       "version_minor": 0
      },
      "text/plain": [
       "  0%|          | 0/1000 [00:00<?, ?it/s]"
      ]
     },
     "metadata": {},
     "output_type": "display_data"
    },
    {
     "data": {
      "application/vnd.jupyter.widget-view+json": {
       "model_id": "d51fd689375244a785f231b8b8a0d94f",
       "version_major": 2,
       "version_minor": 0
      },
      "text/plain": [
       "  0%|          | 0/1000 [00:00<?, ?it/s]"
      ]
     },
     "metadata": {},
     "output_type": "display_data"
    },
    {
     "data": {
      "application/vnd.jupyter.widget-view+json": {
       "model_id": "e086b5cd96244812a5e956edbe7b0ce8",
       "version_major": 2,
       "version_minor": 0
      },
      "text/plain": [
       "  0%|          | 0/1000 [00:00<?, ?it/s]"
      ]
     },
     "metadata": {},
     "output_type": "display_data"
    },
    {
     "data": {
      "application/vnd.jupyter.widget-view+json": {
       "model_id": "f9fe45aae49d493b9ed431a039568b69",
       "version_major": 2,
       "version_minor": 0
      },
      "text/plain": [
       "  0%|          | 0/1000 [00:00<?, ?it/s]"
      ]
     },
     "metadata": {},
     "output_type": "display_data"
    },
    {
     "data": {
      "application/vnd.jupyter.widget-view+json": {
       "model_id": "4245cbace4cf4e5ea63ffd486d132ae1",
       "version_major": 2,
       "version_minor": 0
      },
      "text/plain": [
       "  0%|          | 0/1000 [00:00<?, ?it/s]"
      ]
     },
     "metadata": {},
     "output_type": "display_data"
    },
    {
     "data": {
      "application/vnd.jupyter.widget-view+json": {
       "model_id": "18297642b2c140eaa8702bedf51f8f4d",
       "version_major": 2,
       "version_minor": 0
      },
      "text/plain": [
       "  0%|          | 0/1000 [00:00<?, ?it/s]"
      ]
     },
     "metadata": {},
     "output_type": "display_data"
    },
    {
     "data": {
      "application/vnd.jupyter.widget-view+json": {
       "model_id": "0480c8d0ac8a44f990976143af9c9050",
       "version_major": 2,
       "version_minor": 0
      },
      "text/plain": [
       "  0%|          | 0/1000 [00:00<?, ?it/s]"
      ]
     },
     "metadata": {},
     "output_type": "display_data"
    },
    {
     "data": {
      "application/vnd.jupyter.widget-view+json": {
       "model_id": "97354418db2249a9bb7080a24846c1b1",
       "version_major": 2,
       "version_minor": 0
      },
      "text/plain": [
       "  0%|          | 0/1000 [00:00<?, ?it/s]"
      ]
     },
     "metadata": {},
     "output_type": "display_data"
    },
    {
     "data": {
      "application/vnd.jupyter.widget-view+json": {
       "model_id": "48205c7647d4403698766c140548146b",
       "version_major": 2,
       "version_minor": 0
      },
      "text/plain": [
       "  0%|          | 0/1000 [00:00<?, ?it/s]"
      ]
     },
     "metadata": {},
     "output_type": "display_data"
    },
    {
     "data": {
      "application/vnd.jupyter.widget-view+json": {
       "model_id": "e70edb974c9144a0b028a9f256c35907",
       "version_major": 2,
       "version_minor": 0
      },
      "text/plain": [
       "  0%|          | 0/1000 [00:00<?, ?it/s]"
      ]
     },
     "metadata": {},
     "output_type": "display_data"
    },
    {
     "data": {
      "application/vnd.jupyter.widget-view+json": {
       "model_id": "d21b4a8cc87c4d939673dc85e4a3d8fb",
       "version_major": 2,
       "version_minor": 0
      },
      "text/plain": [
       "  0%|          | 0/1000 [00:00<?, ?it/s]"
      ]
     },
     "metadata": {},
     "output_type": "display_data"
    },
    {
     "data": {
      "application/vnd.jupyter.widget-view+json": {
       "model_id": "47d57eede854417182088773fe08852a",
       "version_major": 2,
       "version_minor": 0
      },
      "text/plain": [
       "  0%|          | 0/1000 [00:00<?, ?it/s]"
      ]
     },
     "metadata": {},
     "output_type": "display_data"
    },
    {
     "data": {
      "application/vnd.jupyter.widget-view+json": {
       "model_id": "9cea9099998c4542b420948d3510ce1a",
       "version_major": 2,
       "version_minor": 0
      },
      "text/plain": [
       "  0%|          | 0/1000 [00:00<?, ?it/s]"
      ]
     },
     "metadata": {},
     "output_type": "display_data"
    },
    {
     "data": {
      "application/vnd.jupyter.widget-view+json": {
       "model_id": "80c5a3f8973042399387c367af1818c0",
       "version_major": 2,
       "version_minor": 0
      },
      "text/plain": [
       "  0%|          | 0/1000 [00:00<?, ?it/s]"
      ]
     },
     "metadata": {},
     "output_type": "display_data"
    },
    {
     "data": {
      "application/vnd.jupyter.widget-view+json": {
       "model_id": "d8f181f7e34748c0801d63f03f1f3f13",
       "version_major": 2,
       "version_minor": 0
      },
      "text/plain": [
       "  0%|          | 0/1000 [00:00<?, ?it/s]"
      ]
     },
     "metadata": {},
     "output_type": "display_data"
    },
    {
     "data": {
      "application/vnd.jupyter.widget-view+json": {
       "model_id": "be8499eb5467492a9db08446d501e9cd",
       "version_major": 2,
       "version_minor": 0
      },
      "text/plain": [
       "  0%|          | 0/1000 [00:00<?, ?it/s]"
      ]
     },
     "metadata": {},
     "output_type": "display_data"
    },
    {
     "data": {
      "application/vnd.jupyter.widget-view+json": {
       "model_id": "10f82744acf7480191d2cb1eb22d02c6",
       "version_major": 2,
       "version_minor": 0
      },
      "text/plain": [
       "  0%|          | 0/1000 [00:00<?, ?it/s]"
      ]
     },
     "metadata": {},
     "output_type": "display_data"
    },
    {
     "data": {
      "application/vnd.jupyter.widget-view+json": {
       "model_id": "53b6ef928d5c4be6bf5a55fed21b868d",
       "version_major": 2,
       "version_minor": 0
      },
      "text/plain": [
       "  0%|          | 0/1000 [00:00<?, ?it/s]"
      ]
     },
     "metadata": {},
     "output_type": "display_data"
    },
    {
     "data": {
      "application/vnd.jupyter.widget-view+json": {
       "model_id": "1aa55506f5364b32aafa43bb3936dca0",
       "version_major": 2,
       "version_minor": 0
      },
      "text/plain": [
       "  0%|          | 0/1000 [00:00<?, ?it/s]"
      ]
     },
     "metadata": {},
     "output_type": "display_data"
    },
    {
     "data": {
      "application/vnd.jupyter.widget-view+json": {
       "model_id": "77803310dc064993913d5ae7fd8131b2",
       "version_major": 2,
       "version_minor": 0
      },
      "text/plain": [
       "  0%|          | 0/1000 [00:00<?, ?it/s]"
      ]
     },
     "metadata": {},
     "output_type": "display_data"
    },
    {
     "data": {
      "application/vnd.jupyter.widget-view+json": {
       "model_id": "a8474c83739a4fceb0d91a025a1ddb01",
       "version_major": 2,
       "version_minor": 0
      },
      "text/plain": [
       "  0%|          | 0/1000 [00:00<?, ?it/s]"
      ]
     },
     "metadata": {},
     "output_type": "display_data"
    },
    {
     "data": {
      "application/vnd.jupyter.widget-view+json": {
       "model_id": "0596eb45399c4e5b9e120752551ffa79",
       "version_major": 2,
       "version_minor": 0
      },
      "text/plain": [
       "  0%|          | 0/1000 [00:00<?, ?it/s]"
      ]
     },
     "metadata": {},
     "output_type": "display_data"
    },
    {
     "data": {
      "application/vnd.jupyter.widget-view+json": {
       "model_id": "c9ecd7f5343746b991af894c1ccc45a6",
       "version_major": 2,
       "version_minor": 0
      },
      "text/plain": [
       "  0%|          | 0/1000 [00:00<?, ?it/s]"
      ]
     },
     "metadata": {},
     "output_type": "display_data"
    },
    {
     "data": {
      "application/vnd.jupyter.widget-view+json": {
       "model_id": "bde2634b8cc04e308cbb316123920096",
       "version_major": 2,
       "version_minor": 0
      },
      "text/plain": [
       "  0%|          | 0/1000 [00:00<?, ?it/s]"
      ]
     },
     "metadata": {},
     "output_type": "display_data"
    },
    {
     "data": {
      "application/vnd.jupyter.widget-view+json": {
       "model_id": "f6759f2884584b2c841af75aab323cdb",
       "version_major": 2,
       "version_minor": 0
      },
      "text/plain": [
       "  0%|          | 0/1000 [00:00<?, ?it/s]"
      ]
     },
     "metadata": {},
     "output_type": "display_data"
    },
    {
     "data": {
      "application/vnd.jupyter.widget-view+json": {
       "model_id": "2330174451e84e479e109b3a4d4abd09",
       "version_major": 2,
       "version_minor": 0
      },
      "text/plain": [
       "  0%|          | 0/1000 [00:00<?, ?it/s]"
      ]
     },
     "metadata": {},
     "output_type": "display_data"
    },
    {
     "data": {
      "application/vnd.jupyter.widget-view+json": {
       "model_id": "db00d1c9bb104ecbaffa7a3865d43724",
       "version_major": 2,
       "version_minor": 0
      },
      "text/plain": [
       "  0%|          | 0/1000 [00:00<?, ?it/s]"
      ]
     },
     "metadata": {},
     "output_type": "display_data"
    },
    {
     "data": {
      "application/vnd.jupyter.widget-view+json": {
       "model_id": "980f293717184e17813e7b4f4a0069d8",
       "version_major": 2,
       "version_minor": 0
      },
      "text/plain": [
       "  0%|          | 0/1000 [00:00<?, ?it/s]"
      ]
     },
     "metadata": {},
     "output_type": "display_data"
    },
    {
     "data": {
      "application/vnd.jupyter.widget-view+json": {
       "model_id": "94983d67359942e6af852f8e32432968",
       "version_major": 2,
       "version_minor": 0
      },
      "text/plain": [
       "  0%|          | 0/1000 [00:00<?, ?it/s]"
      ]
     },
     "metadata": {},
     "output_type": "display_data"
    },
    {
     "data": {
      "application/vnd.jupyter.widget-view+json": {
       "model_id": "b705dc3778a041d7acf09f403778f069",
       "version_major": 2,
       "version_minor": 0
      },
      "text/plain": [
       "  0%|          | 0/1000 [00:00<?, ?it/s]"
      ]
     },
     "metadata": {},
     "output_type": "display_data"
    },
    {
     "data": {
      "application/vnd.jupyter.widget-view+json": {
       "model_id": "dbf2dd40c83d4b3a87bbe83e4f9ed50f",
       "version_major": 2,
       "version_minor": 0
      },
      "text/plain": [
       "  0%|          | 0/1000 [00:00<?, ?it/s]"
      ]
     },
     "metadata": {},
     "output_type": "display_data"
    },
    {
     "data": {
      "application/vnd.jupyter.widget-view+json": {
       "model_id": "d26c8b7385e646fcbca8f2ab92ae71d6",
       "version_major": 2,
       "version_minor": 0
      },
      "text/plain": [
       "  0%|          | 0/1000 [00:00<?, ?it/s]"
      ]
     },
     "metadata": {},
     "output_type": "display_data"
    },
    {
     "data": {
      "application/vnd.jupyter.widget-view+json": {
       "model_id": "2592ea5269f746a7979e3683e34cf859",
       "version_major": 2,
       "version_minor": 0
      },
      "text/plain": [
       "  0%|          | 0/1000 [00:00<?, ?it/s]"
      ]
     },
     "metadata": {},
     "output_type": "display_data"
    },
    {
     "data": {
      "application/vnd.jupyter.widget-view+json": {
       "model_id": "7439dc7a3b254f5a868c4a4894f2f4e4",
       "version_major": 2,
       "version_minor": 0
      },
      "text/plain": [
       "  0%|          | 0/1000 [00:00<?, ?it/s]"
      ]
     },
     "metadata": {},
     "output_type": "display_data"
    },
    {
     "data": {
      "application/vnd.jupyter.widget-view+json": {
       "model_id": "af8d8ce510704e0f8a7fce2af0f4e535",
       "version_major": 2,
       "version_minor": 0
      },
      "text/plain": [
       "  0%|          | 0/1000 [00:00<?, ?it/s]"
      ]
     },
     "metadata": {},
     "output_type": "display_data"
    },
    {
     "data": {
      "application/vnd.jupyter.widget-view+json": {
       "model_id": "90cb00c79d35401c9524847b8297eda7",
       "version_major": 2,
       "version_minor": 0
      },
      "text/plain": [
       "  0%|          | 0/1000 [00:00<?, ?it/s]"
      ]
     },
     "metadata": {},
     "output_type": "display_data"
    },
    {
     "data": {
      "application/vnd.jupyter.widget-view+json": {
       "model_id": "d8115741e2f64cd4a331296f81a6d4ca",
       "version_major": 2,
       "version_minor": 0
      },
      "text/plain": [
       "  0%|          | 0/1000 [00:00<?, ?it/s]"
      ]
     },
     "metadata": {},
     "output_type": "display_data"
    },
    {
     "data": {
      "application/vnd.jupyter.widget-view+json": {
       "model_id": "191c107994994f919bde9a91dbda17ee",
       "version_major": 2,
       "version_minor": 0
      },
      "text/plain": [
       "  0%|          | 0/1000 [00:00<?, ?it/s]"
      ]
     },
     "metadata": {},
     "output_type": "display_data"
    },
    {
     "data": {
      "application/vnd.jupyter.widget-view+json": {
       "model_id": "e22eff469e574c54a9e63149f0dee385",
       "version_major": 2,
       "version_minor": 0
      },
      "text/plain": [
       "  0%|          | 0/1000 [00:00<?, ?it/s]"
      ]
     },
     "metadata": {},
     "output_type": "display_data"
    },
    {
     "data": {
      "application/vnd.jupyter.widget-view+json": {
       "model_id": "bff4a2622eb346ef8cd5832ab4fc447f",
       "version_major": 2,
       "version_minor": 0
      },
      "text/plain": [
       "  0%|          | 0/1000 [00:00<?, ?it/s]"
      ]
     },
     "metadata": {},
     "output_type": "display_data"
    },
    {
     "data": {
      "application/vnd.jupyter.widget-view+json": {
       "model_id": "cf3bc5fd7e78451395c52c450ec3adc0",
       "version_major": 2,
       "version_minor": 0
      },
      "text/plain": [
       "  0%|          | 0/1000 [00:00<?, ?it/s]"
      ]
     },
     "metadata": {},
     "output_type": "display_data"
    },
    {
     "data": {
      "application/vnd.jupyter.widget-view+json": {
       "model_id": "2735a3d310b74930b834d14a28c8477e",
       "version_major": 2,
       "version_minor": 0
      },
      "text/plain": [
       "  0%|          | 0/1000 [00:00<?, ?it/s]"
      ]
     },
     "metadata": {},
     "output_type": "display_data"
    },
    {
     "data": {
      "application/vnd.jupyter.widget-view+json": {
       "model_id": "2c379252bbd24767adeb7cb7606ad5a6",
       "version_major": 2,
       "version_minor": 0
      },
      "text/plain": [
       "  0%|          | 0/1000 [00:00<?, ?it/s]"
      ]
     },
     "metadata": {},
     "output_type": "display_data"
    },
    {
     "data": {
      "application/vnd.jupyter.widget-view+json": {
       "model_id": "9bc86e58c268459bbc5191ba59ac088c",
       "version_major": 2,
       "version_minor": 0
      },
      "text/plain": [
       "  0%|          | 0/1000 [00:00<?, ?it/s]"
      ]
     },
     "metadata": {},
     "output_type": "display_data"
    },
    {
     "data": {
      "application/vnd.jupyter.widget-view+json": {
       "model_id": "99e7b919f3e1485fb52369403906ed22",
       "version_major": 2,
       "version_minor": 0
      },
      "text/plain": [
       "  0%|          | 0/1000 [00:00<?, ?it/s]"
      ]
     },
     "metadata": {},
     "output_type": "display_data"
    },
    {
     "data": {
      "application/vnd.jupyter.widget-view+json": {
       "model_id": "006b8763560f481bafecd48a59a41141",
       "version_major": 2,
       "version_minor": 0
      },
      "text/plain": [
       "  0%|          | 0/1000 [00:00<?, ?it/s]"
      ]
     },
     "metadata": {},
     "output_type": "display_data"
    },
    {
     "data": {
      "application/vnd.jupyter.widget-view+json": {
       "model_id": "ffac892b7de74b2eb2ae71ffb9b3de1c",
       "version_major": 2,
       "version_minor": 0
      },
      "text/plain": [
       "  0%|          | 0/1000 [00:00<?, ?it/s]"
      ]
     },
     "metadata": {},
     "output_type": "display_data"
    },
    {
     "data": {
      "application/vnd.jupyter.widget-view+json": {
       "model_id": "dcaf816e8f9a46a4b577bf480a655dc5",
       "version_major": 2,
       "version_minor": 0
      },
      "text/plain": [
       "  0%|          | 0/1000 [00:00<?, ?it/s]"
      ]
     },
     "metadata": {},
     "output_type": "display_data"
    },
    {
     "data": {
      "application/vnd.jupyter.widget-view+json": {
       "model_id": "b9cc34378f214fb4b0b9d3b7b8e14023",
       "version_major": 2,
       "version_minor": 0
      },
      "text/plain": [
       "  0%|          | 0/1000 [00:00<?, ?it/s]"
      ]
     },
     "metadata": {},
     "output_type": "display_data"
    },
    {
     "data": {
      "application/vnd.jupyter.widget-view+json": {
       "model_id": "74ca0e6a18444f219bd85e5a6b6dd917",
       "version_major": 2,
       "version_minor": 0
      },
      "text/plain": [
       "  0%|          | 0/1000 [00:00<?, ?it/s]"
      ]
     },
     "metadata": {},
     "output_type": "display_data"
    },
    {
     "data": {
      "application/vnd.jupyter.widget-view+json": {
       "model_id": "f1934156e5824c7f9762a6dd5e8e98fb",
       "version_major": 2,
       "version_minor": 0
      },
      "text/plain": [
       "  0%|          | 0/1000 [00:00<?, ?it/s]"
      ]
     },
     "metadata": {},
     "output_type": "display_data"
    },
    {
     "data": {
      "application/vnd.jupyter.widget-view+json": {
       "model_id": "5d7085e48da34477ab387742f90d43e0",
       "version_major": 2,
       "version_minor": 0
      },
      "text/plain": [
       "  0%|          | 0/1000 [00:00<?, ?it/s]"
      ]
     },
     "metadata": {},
     "output_type": "display_data"
    },
    {
     "data": {
      "application/vnd.jupyter.widget-view+json": {
       "model_id": "44b07b6ec103418ab0f7f5128acd56d1",
       "version_major": 2,
       "version_minor": 0
      },
      "text/plain": [
       "  0%|          | 0/1000 [00:00<?, ?it/s]"
      ]
     },
     "metadata": {},
     "output_type": "display_data"
    },
    {
     "data": {
      "application/vnd.jupyter.widget-view+json": {
       "model_id": "eb7f38c78bb5421ebb788b8b3aa26341",
       "version_major": 2,
       "version_minor": 0
      },
      "text/plain": [
       "  0%|          | 0/1000 [00:00<?, ?it/s]"
      ]
     },
     "metadata": {},
     "output_type": "display_data"
    },
    {
     "data": {
      "application/vnd.jupyter.widget-view+json": {
       "model_id": "8e5e17bd70124ea3a97e9fd425d23497",
       "version_major": 2,
       "version_minor": 0
      },
      "text/plain": [
       "  0%|          | 0/1000 [00:00<?, ?it/s]"
      ]
     },
     "metadata": {},
     "output_type": "display_data"
    },
    {
     "data": {
      "application/vnd.jupyter.widget-view+json": {
       "model_id": "1fd5b8237a02413988a2e144c6331ce9",
       "version_major": 2,
       "version_minor": 0
      },
      "text/plain": [
       "  0%|          | 0/1000 [00:00<?, ?it/s]"
      ]
     },
     "metadata": {},
     "output_type": "display_data"
    },
    {
     "data": {
      "application/vnd.jupyter.widget-view+json": {
       "model_id": "bed54e89921a4e358458493ed9e98fce",
       "version_major": 2,
       "version_minor": 0
      },
      "text/plain": [
       "  0%|          | 0/1000 [00:00<?, ?it/s]"
      ]
     },
     "metadata": {},
     "output_type": "display_data"
    },
    {
     "data": {
      "application/vnd.jupyter.widget-view+json": {
       "model_id": "94644eeffb6c417796211ce7b4a15e33",
       "version_major": 2,
       "version_minor": 0
      },
      "text/plain": [
       "  0%|          | 0/1000 [00:00<?, ?it/s]"
      ]
     },
     "metadata": {},
     "output_type": "display_data"
    },
    {
     "data": {
      "application/vnd.jupyter.widget-view+json": {
       "model_id": "7fbef66f02434c6b940ac8a6db8103f3",
       "version_major": 2,
       "version_minor": 0
      },
      "text/plain": [
       "  0%|          | 0/1000 [00:00<?, ?it/s]"
      ]
     },
     "metadata": {},
     "output_type": "display_data"
    },
    {
     "data": {
      "application/vnd.jupyter.widget-view+json": {
       "model_id": "d695964373c34f699ae5f8ed4717a6df",
       "version_major": 2,
       "version_minor": 0
      },
      "text/plain": [
       "  0%|          | 0/1000 [00:00<?, ?it/s]"
      ]
     },
     "metadata": {},
     "output_type": "display_data"
    },
    {
     "data": {
      "application/vnd.jupyter.widget-view+json": {
       "model_id": "e6a64ab385b947ccb169215cbc0eafb2",
       "version_major": 2,
       "version_minor": 0
      },
      "text/plain": [
       "  0%|          | 0/1000 [00:00<?, ?it/s]"
      ]
     },
     "metadata": {},
     "output_type": "display_data"
    },
    {
     "data": {
      "application/vnd.jupyter.widget-view+json": {
       "model_id": "4681b6d1ad1b4d92ad7bac50ef709037",
       "version_major": 2,
       "version_minor": 0
      },
      "text/plain": [
       "  0%|          | 0/1000 [00:00<?, ?it/s]"
      ]
     },
     "metadata": {},
     "output_type": "display_data"
    },
    {
     "data": {
      "application/vnd.jupyter.widget-view+json": {
       "model_id": "cc493ec24a55457584db36dec5434ab8",
       "version_major": 2,
       "version_minor": 0
      },
      "text/plain": [
       "  0%|          | 0/1000 [00:00<?, ?it/s]"
      ]
     },
     "metadata": {},
     "output_type": "display_data"
    },
    {
     "data": {
      "application/vnd.jupyter.widget-view+json": {
       "model_id": "4e006d69f4564a1683d7c8f4ca994c6a",
       "version_major": 2,
       "version_minor": 0
      },
      "text/plain": [
       "  0%|          | 0/1000 [00:00<?, ?it/s]"
      ]
     },
     "metadata": {},
     "output_type": "display_data"
    },
    {
     "data": {
      "application/vnd.jupyter.widget-view+json": {
       "model_id": "722215f4234b4e71bf7e13d0f7164d14",
       "version_major": 2,
       "version_minor": 0
      },
      "text/plain": [
       "  0%|          | 0/1000 [00:00<?, ?it/s]"
      ]
     },
     "metadata": {},
     "output_type": "display_data"
    },
    {
     "data": {
      "application/vnd.jupyter.widget-view+json": {
       "model_id": "d36d6e0c4aef4adf90fbda68b696cd78",
       "version_major": 2,
       "version_minor": 0
      },
      "text/plain": [
       "  0%|          | 0/1000 [00:00<?, ?it/s]"
      ]
     },
     "metadata": {},
     "output_type": "display_data"
    },
    {
     "data": {
      "application/vnd.jupyter.widget-view+json": {
       "model_id": "655352ce80554031bc76b6d0a7a0707b",
       "version_major": 2,
       "version_minor": 0
      },
      "text/plain": [
       "  0%|          | 0/1000 [00:00<?, ?it/s]"
      ]
     },
     "metadata": {},
     "output_type": "display_data"
    },
    {
     "data": {
      "application/vnd.jupyter.widget-view+json": {
       "model_id": "6857c765748d4f179e27d443948ee74d",
       "version_major": 2,
       "version_minor": 0
      },
      "text/plain": [
       "  0%|          | 0/1000 [00:00<?, ?it/s]"
      ]
     },
     "metadata": {},
     "output_type": "display_data"
    },
    {
     "data": {
      "application/vnd.jupyter.widget-view+json": {
       "model_id": "2af08aa6205347958ac07841979a7191",
       "version_major": 2,
       "version_minor": 0
      },
      "text/plain": [
       "  0%|          | 0/1000 [00:00<?, ?it/s]"
      ]
     },
     "metadata": {},
     "output_type": "display_data"
    },
    {
     "data": {
      "application/vnd.jupyter.widget-view+json": {
       "model_id": "1e5c48bb52014da691801fa41e3e773c",
       "version_major": 2,
       "version_minor": 0
      },
      "text/plain": [
       "  0%|          | 0/1000 [00:00<?, ?it/s]"
      ]
     },
     "metadata": {},
     "output_type": "display_data"
    },
    {
     "data": {
      "application/vnd.jupyter.widget-view+json": {
       "model_id": "29ed4b423e584670b2796a3e4078d137",
       "version_major": 2,
       "version_minor": 0
      },
      "text/plain": [
       "  0%|          | 0/1000 [00:00<?, ?it/s]"
      ]
     },
     "metadata": {},
     "output_type": "display_data"
    },
    {
     "data": {
      "application/vnd.jupyter.widget-view+json": {
       "model_id": "70c275a1acc54c968a235d0889db97bc",
       "version_major": 2,
       "version_minor": 0
      },
      "text/plain": [
       "  0%|          | 0/1000 [00:00<?, ?it/s]"
      ]
     },
     "metadata": {},
     "output_type": "display_data"
    },
    {
     "data": {
      "application/vnd.jupyter.widget-view+json": {
       "model_id": "3137a9f240634414b937fbf06f0a51ad",
       "version_major": 2,
       "version_minor": 0
      },
      "text/plain": [
       "  0%|          | 0/1000 [00:00<?, ?it/s]"
      ]
     },
     "metadata": {},
     "output_type": "display_data"
    },
    {
     "data": {
      "application/vnd.jupyter.widget-view+json": {
       "model_id": "43205d4de35141e1822982a7dfab5748",
       "version_major": 2,
       "version_minor": 0
      },
      "text/plain": [
       "  0%|          | 0/1000 [00:00<?, ?it/s]"
      ]
     },
     "metadata": {},
     "output_type": "display_data"
    },
    {
     "data": {
      "application/vnd.jupyter.widget-view+json": {
       "model_id": "f42ae0c48dd6406da0c82feb8ae65c31",
       "version_major": 2,
       "version_minor": 0
      },
      "text/plain": [
       "  0%|          | 0/1000 [00:00<?, ?it/s]"
      ]
     },
     "metadata": {},
     "output_type": "display_data"
    },
    {
     "data": {
      "application/vnd.jupyter.widget-view+json": {
       "model_id": "ce5d90c4f2f4419190caf59a43ede716",
       "version_major": 2,
       "version_minor": 0
      },
      "text/plain": [
       "  0%|          | 0/1000 [00:00<?, ?it/s]"
      ]
     },
     "metadata": {},
     "output_type": "display_data"
    },
    {
     "data": {
      "application/vnd.jupyter.widget-view+json": {
       "model_id": "4a472abc4821403881b83f339fae9b27",
       "version_major": 2,
       "version_minor": 0
      },
      "text/plain": [
       "  0%|          | 0/1000 [00:00<?, ?it/s]"
      ]
     },
     "metadata": {},
     "output_type": "display_data"
    },
    {
     "data": {
      "application/vnd.jupyter.widget-view+json": {
       "model_id": "6aafd7050cfb4d4cae63ecd409331c00",
       "version_major": 2,
       "version_minor": 0
      },
      "text/plain": [
       "  0%|          | 0/1000 [00:00<?, ?it/s]"
      ]
     },
     "metadata": {},
     "output_type": "display_data"
    },
    {
     "data": {
      "application/vnd.jupyter.widget-view+json": {
       "model_id": "7098a5c4ba7f4b2bbd6420077af7c2a0",
       "version_major": 2,
       "version_minor": 0
      },
      "text/plain": [
       "  0%|          | 0/1000 [00:00<?, ?it/s]"
      ]
     },
     "metadata": {},
     "output_type": "display_data"
    },
    {
     "data": {
      "application/vnd.jupyter.widget-view+json": {
       "model_id": "9e2da96521cf4979812d1864789fd26d",
       "version_major": 2,
       "version_minor": 0
      },
      "text/plain": [
       "  0%|          | 0/1000 [00:00<?, ?it/s]"
      ]
     },
     "metadata": {},
     "output_type": "display_data"
    },
    {
     "data": {
      "application/vnd.jupyter.widget-view+json": {
       "model_id": "6a648185d8374fc694a4f523feef950a",
       "version_major": 2,
       "version_minor": 0
      },
      "text/plain": [
       "  0%|          | 0/1000 [00:00<?, ?it/s]"
      ]
     },
     "metadata": {},
     "output_type": "display_data"
    },
    {
     "data": {
      "application/vnd.jupyter.widget-view+json": {
       "model_id": "25e3dfdb6bc0479398612ea8583b12cd",
       "version_major": 2,
       "version_minor": 0
      },
      "text/plain": [
       "  0%|          | 0/1000 [00:00<?, ?it/s]"
      ]
     },
     "metadata": {},
     "output_type": "display_data"
    },
    {
     "data": {
      "application/vnd.jupyter.widget-view+json": {
       "model_id": "98909437e664403cba6bbf17e94fccc7",
       "version_major": 2,
       "version_minor": 0
      },
      "text/plain": [
       "  0%|          | 0/1000 [00:00<?, ?it/s]"
      ]
     },
     "metadata": {},
     "output_type": "display_data"
    },
    {
     "data": {
      "application/vnd.jupyter.widget-view+json": {
       "model_id": "f45e90c8b36841c5b501c0cac2cfe949",
       "version_major": 2,
       "version_minor": 0
      },
      "text/plain": [
       "  0%|          | 0/1000 [00:00<?, ?it/s]"
      ]
     },
     "metadata": {},
     "output_type": "display_data"
    },
    {
     "data": {
      "application/vnd.jupyter.widget-view+json": {
       "model_id": "eaf741eaa42043acb048fa318b0cb97e",
       "version_major": 2,
       "version_minor": 0
      },
      "text/plain": [
       "  0%|          | 0/1000 [00:00<?, ?it/s]"
      ]
     },
     "metadata": {},
     "output_type": "display_data"
    },
    {
     "data": {
      "application/vnd.jupyter.widget-view+json": {
       "model_id": "2660a849315843c6be883e0e8ac16f4d",
       "version_major": 2,
       "version_minor": 0
      },
      "text/plain": [
       "  0%|          | 0/1000 [00:00<?, ?it/s]"
      ]
     },
     "metadata": {},
     "output_type": "display_data"
    },
    {
     "data": {
      "application/vnd.jupyter.widget-view+json": {
       "model_id": "db54539de9294ff7ae740c190c0fd605",
       "version_major": 2,
       "version_minor": 0
      },
      "text/plain": [
       "  0%|          | 0/1000 [00:00<?, ?it/s]"
      ]
     },
     "metadata": {},
     "output_type": "display_data"
    },
    {
     "data": {
      "application/vnd.jupyter.widget-view+json": {
       "model_id": "45e1d6ce56c94673b0f6db408f077520",
       "version_major": 2,
       "version_minor": 0
      },
      "text/plain": [
       "  0%|          | 0/1000 [00:00<?, ?it/s]"
      ]
     },
     "metadata": {},
     "output_type": "display_data"
    },
    {
     "data": {
      "application/vnd.jupyter.widget-view+json": {
       "model_id": "b9a8b857e2994c7495bf6d4cf2ab108c",
       "version_major": 2,
       "version_minor": 0
      },
      "text/plain": [
       "  0%|          | 0/1000 [00:00<?, ?it/s]"
      ]
     },
     "metadata": {},
     "output_type": "display_data"
    },
    {
     "data": {
      "application/vnd.jupyter.widget-view+json": {
       "model_id": "6ed4caa3f9ea4ee5b233169fa4d0fb66",
       "version_major": 2,
       "version_minor": 0
      },
      "text/plain": [
       "  0%|          | 0/1000 [00:00<?, ?it/s]"
      ]
     },
     "metadata": {},
     "output_type": "display_data"
    },
    {
     "data": {
      "application/vnd.jupyter.widget-view+json": {
       "model_id": "420a1d5ebdc24337914bfd441efc3503",
       "version_major": 2,
       "version_minor": 0
      },
      "text/plain": [
       "  0%|          | 0/1000 [00:00<?, ?it/s]"
      ]
     },
     "metadata": {},
     "output_type": "display_data"
    },
    {
     "data": {
      "application/vnd.jupyter.widget-view+json": {
       "model_id": "f08d40b5cf52492bb227d7dd29994f71",
       "version_major": 2,
       "version_minor": 0
      },
      "text/plain": [
       "  0%|          | 0/1000 [00:00<?, ?it/s]"
      ]
     },
     "metadata": {},
     "output_type": "display_data"
    },
    {
     "data": {
      "application/vnd.jupyter.widget-view+json": {
       "model_id": "0e3d815494e74b66960b45c7dd0de987",
       "version_major": 2,
       "version_minor": 0
      },
      "text/plain": [
       "  0%|          | 0/1000 [00:00<?, ?it/s]"
      ]
     },
     "metadata": {},
     "output_type": "display_data"
    },
    {
     "data": {
      "application/vnd.jupyter.widget-view+json": {
       "model_id": "d1d4f4d04ca84994b64a0cb98ac115be",
       "version_major": 2,
       "version_minor": 0
      },
      "text/plain": [
       "  0%|          | 0/1000 [00:00<?, ?it/s]"
      ]
     },
     "metadata": {},
     "output_type": "display_data"
    },
    {
     "data": {
      "application/vnd.jupyter.widget-view+json": {
       "model_id": "b29cd3f2a28f477f85f935433d91a56c",
       "version_major": 2,
       "version_minor": 0
      },
      "text/plain": [
       "  0%|          | 0/1000 [00:00<?, ?it/s]"
      ]
     },
     "metadata": {},
     "output_type": "display_data"
    },
    {
     "data": {
      "application/vnd.jupyter.widget-view+json": {
       "model_id": "7624d226b5a84458a44956f1d08d9211",
       "version_major": 2,
       "version_minor": 0
      },
      "text/plain": [
       "  0%|          | 0/1000 [00:00<?, ?it/s]"
      ]
     },
     "metadata": {},
     "output_type": "display_data"
    },
    {
     "data": {
      "application/vnd.jupyter.widget-view+json": {
       "model_id": "c8dca5e9c5d24eeaaa969df84462cd6f",
       "version_major": 2,
       "version_minor": 0
      },
      "text/plain": [
       "  0%|          | 0/1000 [00:00<?, ?it/s]"
      ]
     },
     "metadata": {},
     "output_type": "display_data"
    },
    {
     "data": {
      "application/vnd.jupyter.widget-view+json": {
       "model_id": "7fb0f457f0e94478b27a454df36100be",
       "version_major": 2,
       "version_minor": 0
      },
      "text/plain": [
       "  0%|          | 0/1000 [00:00<?, ?it/s]"
      ]
     },
     "metadata": {},
     "output_type": "display_data"
    },
    {
     "data": {
      "application/vnd.jupyter.widget-view+json": {
       "model_id": "0bed30a108f549ef8508976530be89f9",
       "version_major": 2,
       "version_minor": 0
      },
      "text/plain": [
       "  0%|          | 0/1000 [00:00<?, ?it/s]"
      ]
     },
     "metadata": {},
     "output_type": "display_data"
    },
    {
     "data": {
      "application/vnd.jupyter.widget-view+json": {
       "model_id": "66f815140d4e4d618ead9503f4536d5d",
       "version_major": 2,
       "version_minor": 0
      },
      "text/plain": [
       "  0%|          | 0/1000 [00:00<?, ?it/s]"
      ]
     },
     "metadata": {},
     "output_type": "display_data"
    },
    {
     "data": {
      "application/vnd.jupyter.widget-view+json": {
       "model_id": "e71470c3528343a08189a6b758de41d7",
       "version_major": 2,
       "version_minor": 0
      },
      "text/plain": [
       "  0%|          | 0/1000 [00:00<?, ?it/s]"
      ]
     },
     "metadata": {},
     "output_type": "display_data"
    },
    {
     "data": {
      "application/vnd.jupyter.widget-view+json": {
       "model_id": "6d7383c39c8c4e2185b3108fabfd7242",
       "version_major": 2,
       "version_minor": 0
      },
      "text/plain": [
       "  0%|          | 0/1000 [00:00<?, ?it/s]"
      ]
     },
     "metadata": {},
     "output_type": "display_data"
    },
    {
     "data": {
      "application/vnd.jupyter.widget-view+json": {
       "model_id": "fe4acac81b984604a153a6dfae368c4a",
       "version_major": 2,
       "version_minor": 0
      },
      "text/plain": [
       "  0%|          | 0/1000 [00:00<?, ?it/s]"
      ]
     },
     "metadata": {},
     "output_type": "display_data"
    },
    {
     "data": {
      "application/vnd.jupyter.widget-view+json": {
       "model_id": "40dee598b8a148f5b089f1ce7694a156",
       "version_major": 2,
       "version_minor": 0
      },
      "text/plain": [
       "  0%|          | 0/1000 [00:00<?, ?it/s]"
      ]
     },
     "metadata": {},
     "output_type": "display_data"
    },
    {
     "data": {
      "application/vnd.jupyter.widget-view+json": {
       "model_id": "851445e4159249eb8a60d56ce8a69815",
       "version_major": 2,
       "version_minor": 0
      },
      "text/plain": [
       "  0%|          | 0/1000 [00:00<?, ?it/s]"
      ]
     },
     "metadata": {},
     "output_type": "display_data"
    },
    {
     "data": {
      "application/vnd.jupyter.widget-view+json": {
       "model_id": "cb88b44b556a42e6914031542bb9a9ed",
       "version_major": 2,
       "version_minor": 0
      },
      "text/plain": [
       "  0%|          | 0/1000 [00:00<?, ?it/s]"
      ]
     },
     "metadata": {},
     "output_type": "display_data"
    },
    {
     "data": {
      "application/vnd.jupyter.widget-view+json": {
       "model_id": "9acd593d0bfd45f68f4b16a6d532e76f",
       "version_major": 2,
       "version_minor": 0
      },
      "text/plain": [
       "  0%|          | 0/1000 [00:00<?, ?it/s]"
      ]
     },
     "metadata": {},
     "output_type": "display_data"
    },
    {
     "data": {
      "application/vnd.jupyter.widget-view+json": {
       "model_id": "7ace69164b1741188ef1f733aac2a205",
       "version_major": 2,
       "version_minor": 0
      },
      "text/plain": [
       "  0%|          | 0/1000 [00:00<?, ?it/s]"
      ]
     },
     "metadata": {},
     "output_type": "display_data"
    },
    {
     "data": {
      "application/vnd.jupyter.widget-view+json": {
       "model_id": "42a0fd3abdcb4eeb9d628deddd04818e",
       "version_major": 2,
       "version_minor": 0
      },
      "text/plain": [
       "  0%|          | 0/1000 [00:00<?, ?it/s]"
      ]
     },
     "metadata": {},
     "output_type": "display_data"
    },
    {
     "data": {
      "application/vnd.jupyter.widget-view+json": {
       "model_id": "3f65672cf96f4fa4a2b151f26530aeb3",
       "version_major": 2,
       "version_minor": 0
      },
      "text/plain": [
       "  0%|          | 0/1000 [00:00<?, ?it/s]"
      ]
     },
     "metadata": {},
     "output_type": "display_data"
    },
    {
     "data": {
      "application/vnd.jupyter.widget-view+json": {
       "model_id": "a3b290f7d9534f2e97dbec79b661cdf1",
       "version_major": 2,
       "version_minor": 0
      },
      "text/plain": [
       "  0%|          | 0/1000 [00:00<?, ?it/s]"
      ]
     },
     "metadata": {},
     "output_type": "display_data"
    },
    {
     "data": {
      "application/vnd.jupyter.widget-view+json": {
       "model_id": "46d71776834b4f6981177ac6460b89f0",
       "version_major": 2,
       "version_minor": 0
      },
      "text/plain": [
       "  0%|          | 0/1000 [00:00<?, ?it/s]"
      ]
     },
     "metadata": {},
     "output_type": "display_data"
    },
    {
     "data": {
      "application/vnd.jupyter.widget-view+json": {
       "model_id": "e7943b3047cd4b14b1acb627e42164a6",
       "version_major": 2,
       "version_minor": 0
      },
      "text/plain": [
       "  0%|          | 0/1000 [00:00<?, ?it/s]"
      ]
     },
     "metadata": {},
     "output_type": "display_data"
    },
    {
     "data": {
      "application/vnd.jupyter.widget-view+json": {
       "model_id": "44eccedb296a448090db792f43d41976",
       "version_major": 2,
       "version_minor": 0
      },
      "text/plain": [
       "  0%|          | 0/1000 [00:00<?, ?it/s]"
      ]
     },
     "metadata": {},
     "output_type": "display_data"
    },
    {
     "data": {
      "application/vnd.jupyter.widget-view+json": {
       "model_id": "f1c4002e099c4bdca5719e106b0068f1",
       "version_major": 2,
       "version_minor": 0
      },
      "text/plain": [
       "  0%|          | 0/1000 [00:00<?, ?it/s]"
      ]
     },
     "metadata": {},
     "output_type": "display_data"
    },
    {
     "data": {
      "application/vnd.jupyter.widget-view+json": {
       "model_id": "de9951f8ccc24641b00f41bb86adfcba",
       "version_major": 2,
       "version_minor": 0
      },
      "text/plain": [
       "  0%|          | 0/1000 [00:00<?, ?it/s]"
      ]
     },
     "metadata": {},
     "output_type": "display_data"
    },
    {
     "data": {
      "application/vnd.jupyter.widget-view+json": {
       "model_id": "8c4a00d61f9f4caaae28acc0bc345095",
       "version_major": 2,
       "version_minor": 0
      },
      "text/plain": [
       "  0%|          | 0/1000 [00:00<?, ?it/s]"
      ]
     },
     "metadata": {},
     "output_type": "display_data"
    },
    {
     "data": {
      "application/vnd.jupyter.widget-view+json": {
       "model_id": "0893c0575cbf4c72b7839ff4043b8639",
       "version_major": 2,
       "version_minor": 0
      },
      "text/plain": [
       "  0%|          | 0/1000 [00:00<?, ?it/s]"
      ]
     },
     "metadata": {},
     "output_type": "display_data"
    },
    {
     "data": {
      "application/vnd.jupyter.widget-view+json": {
       "model_id": "3dac9ddac1994789ada95eb40efb08c8",
       "version_major": 2,
       "version_minor": 0
      },
      "text/plain": [
       "  0%|          | 0/1000 [00:00<?, ?it/s]"
      ]
     },
     "metadata": {},
     "output_type": "display_data"
    },
    {
     "data": {
      "application/vnd.jupyter.widget-view+json": {
       "model_id": "a2721e77f16c4867b49daf284a1b88c0",
       "version_major": 2,
       "version_minor": 0
      },
      "text/plain": [
       "  0%|          | 0/1000 [00:00<?, ?it/s]"
      ]
     },
     "metadata": {},
     "output_type": "display_data"
    },
    {
     "data": {
      "application/vnd.jupyter.widget-view+json": {
       "model_id": "bb8a4d1817b447ffa1eb599e5a36d09a",
       "version_major": 2,
       "version_minor": 0
      },
      "text/plain": [
       "  0%|          | 0/1000 [00:00<?, ?it/s]"
      ]
     },
     "metadata": {},
     "output_type": "display_data"
    },
    {
     "data": {
      "application/vnd.jupyter.widget-view+json": {
       "model_id": "dbdee41983f548268af2315e02748caf",
       "version_major": 2,
       "version_minor": 0
      },
      "text/plain": [
       "  0%|          | 0/1000 [00:00<?, ?it/s]"
      ]
     },
     "metadata": {},
     "output_type": "display_data"
    },
    {
     "data": {
      "application/vnd.jupyter.widget-view+json": {
       "model_id": "0786d9f89b7f4b3c89f8fc1cfd881150",
       "version_major": 2,
       "version_minor": 0
      },
      "text/plain": [
       "  0%|          | 0/1000 [00:00<?, ?it/s]"
      ]
     },
     "metadata": {},
     "output_type": "display_data"
    },
    {
     "data": {
      "application/vnd.jupyter.widget-view+json": {
       "model_id": "a58ebc66e2924754ad20280517fd08da",
       "version_major": 2,
       "version_minor": 0
      },
      "text/plain": [
       "  0%|          | 0/1000 [00:00<?, ?it/s]"
      ]
     },
     "metadata": {},
     "output_type": "display_data"
    },
    {
     "data": {
      "application/vnd.jupyter.widget-view+json": {
       "model_id": "3db8b57ae8b9479db7aa95e2964024f1",
       "version_major": 2,
       "version_minor": 0
      },
      "text/plain": [
       "  0%|          | 0/1000 [00:00<?, ?it/s]"
      ]
     },
     "metadata": {},
     "output_type": "display_data"
    },
    {
     "data": {
      "application/vnd.jupyter.widget-view+json": {
       "model_id": "7d9b2795039241aa827a85e34fa2fcbc",
       "version_major": 2,
       "version_minor": 0
      },
      "text/plain": [
       "  0%|          | 0/1000 [00:00<?, ?it/s]"
      ]
     },
     "metadata": {},
     "output_type": "display_data"
    },
    {
     "data": {
      "application/vnd.jupyter.widget-view+json": {
       "model_id": "1a7a96fefaf2476581b1094b3b51c60f",
       "version_major": 2,
       "version_minor": 0
      },
      "text/plain": [
       "  0%|          | 0/1000 [00:00<?, ?it/s]"
      ]
     },
     "metadata": {},
     "output_type": "display_data"
    },
    {
     "data": {
      "application/vnd.jupyter.widget-view+json": {
       "model_id": "244fbf86ed39452d8e87c21ab6718778",
       "version_major": 2,
       "version_minor": 0
      },
      "text/plain": [
       "  0%|          | 0/1000 [00:00<?, ?it/s]"
      ]
     },
     "metadata": {},
     "output_type": "display_data"
    },
    {
     "data": {
      "application/vnd.jupyter.widget-view+json": {
       "model_id": "f16f7e849f3a40dda3979212a30c65ad",
       "version_major": 2,
       "version_minor": 0
      },
      "text/plain": [
       "  0%|          | 0/1000 [00:00<?, ?it/s]"
      ]
     },
     "metadata": {},
     "output_type": "display_data"
    },
    {
     "data": {
      "application/vnd.jupyter.widget-view+json": {
       "model_id": "5b962994d1f34970ae9d3d48e038c189",
       "version_major": 2,
       "version_minor": 0
      },
      "text/plain": [
       "  0%|          | 0/1000 [00:00<?, ?it/s]"
      ]
     },
     "metadata": {},
     "output_type": "display_data"
    },
    {
     "data": {
      "application/vnd.jupyter.widget-view+json": {
       "model_id": "5c3f8dd7b9204cffa185a1b44698ca05",
       "version_major": 2,
       "version_minor": 0
      },
      "text/plain": [
       "  0%|          | 0/1000 [00:00<?, ?it/s]"
      ]
     },
     "metadata": {},
     "output_type": "display_data"
    },
    {
     "data": {
      "application/vnd.jupyter.widget-view+json": {
       "model_id": "44e996d5060e4e908da562a7909f68d3",
       "version_major": 2,
       "version_minor": 0
      },
      "text/plain": [
       "  0%|          | 0/1000 [00:00<?, ?it/s]"
      ]
     },
     "metadata": {},
     "output_type": "display_data"
    },
    {
     "data": {
      "application/vnd.jupyter.widget-view+json": {
       "model_id": "b9feda454fc04c6ca27f93a84360a914",
       "version_major": 2,
       "version_minor": 0
      },
      "text/plain": [
       "  0%|          | 0/1000 [00:00<?, ?it/s]"
      ]
     },
     "metadata": {},
     "output_type": "display_data"
    },
    {
     "data": {
      "application/vnd.jupyter.widget-view+json": {
       "model_id": "89a48de39e6a48c39b8cb9fea3ae86f6",
       "version_major": 2,
       "version_minor": 0
      },
      "text/plain": [
       "  0%|          | 0/1000 [00:00<?, ?it/s]"
      ]
     },
     "metadata": {},
     "output_type": "display_data"
    },
    {
     "data": {
      "application/vnd.jupyter.widget-view+json": {
       "model_id": "2f98f1c8de6142fdbd87b4f1b10678c0",
       "version_major": 2,
       "version_minor": 0
      },
      "text/plain": [
       "  0%|          | 0/1000 [00:00<?, ?it/s]"
      ]
     },
     "metadata": {},
     "output_type": "display_data"
    },
    {
     "data": {
      "application/vnd.jupyter.widget-view+json": {
       "model_id": "a55ed799e8944dd68fe3e6f968c97dec",
       "version_major": 2,
       "version_minor": 0
      },
      "text/plain": [
       "  0%|          | 0/1000 [00:00<?, ?it/s]"
      ]
     },
     "metadata": {},
     "output_type": "display_data"
    },
    {
     "data": {
      "application/vnd.jupyter.widget-view+json": {
       "model_id": "982cbe6db0a040468ebad35f6a92f171",
       "version_major": 2,
       "version_minor": 0
      },
      "text/plain": [
       "  0%|          | 0/1000 [00:00<?, ?it/s]"
      ]
     },
     "metadata": {},
     "output_type": "display_data"
    },
    {
     "data": {
      "application/vnd.jupyter.widget-view+json": {
       "model_id": "5fa0ccbabac84553aebb0a444152b2bd",
       "version_major": 2,
       "version_minor": 0
      },
      "text/plain": [
       "  0%|          | 0/1000 [00:00<?, ?it/s]"
      ]
     },
     "metadata": {},
     "output_type": "display_data"
    },
    {
     "data": {
      "application/vnd.jupyter.widget-view+json": {
       "model_id": "67bff2cf0ea849a58f10075d50e621d7",
       "version_major": 2,
       "version_minor": 0
      },
      "text/plain": [
       "  0%|          | 0/1000 [00:00<?, ?it/s]"
      ]
     },
     "metadata": {},
     "output_type": "display_data"
    },
    {
     "data": {
      "application/vnd.jupyter.widget-view+json": {
       "model_id": "5fad757e7e6a4061850a930dd3755f34",
       "version_major": 2,
       "version_minor": 0
      },
      "text/plain": [
       "  0%|          | 0/1000 [00:00<?, ?it/s]"
      ]
     },
     "metadata": {},
     "output_type": "display_data"
    },
    {
     "data": {
      "application/vnd.jupyter.widget-view+json": {
       "model_id": "26a29d0918a14593b078add365870ce6",
       "version_major": 2,
       "version_minor": 0
      },
      "text/plain": [
       "  0%|          | 0/1000 [00:00<?, ?it/s]"
      ]
     },
     "metadata": {},
     "output_type": "display_data"
    },
    {
     "data": {
      "application/vnd.jupyter.widget-view+json": {
       "model_id": "1e07c372cdb84694983d73fff62e540e",
       "version_major": 2,
       "version_minor": 0
      },
      "text/plain": [
       "  0%|          | 0/1000 [00:00<?, ?it/s]"
      ]
     },
     "metadata": {},
     "output_type": "display_data"
    },
    {
     "data": {
      "application/vnd.jupyter.widget-view+json": {
       "model_id": "d51bb4b3ca634be58a3988c50a60460c",
       "version_major": 2,
       "version_minor": 0
      },
      "text/plain": [
       "  0%|          | 0/1000 [00:00<?, ?it/s]"
      ]
     },
     "metadata": {},
     "output_type": "display_data"
    },
    {
     "data": {
      "application/vnd.jupyter.widget-view+json": {
       "model_id": "f726b7fce53a4adab765422e5c99e3f5",
       "version_major": 2,
       "version_minor": 0
      },
      "text/plain": [
       "  0%|          | 0/1000 [00:00<?, ?it/s]"
      ]
     },
     "metadata": {},
     "output_type": "display_data"
    },
    {
     "data": {
      "application/vnd.jupyter.widget-view+json": {
       "model_id": "ceb93982d7c94af2875bda23568a1648",
       "version_major": 2,
       "version_minor": 0
      },
      "text/plain": [
       "  0%|          | 0/1000 [00:00<?, ?it/s]"
      ]
     },
     "metadata": {},
     "output_type": "display_data"
    },
    {
     "data": {
      "application/vnd.jupyter.widget-view+json": {
       "model_id": "667459fd0ece49b7a9b035d41fd01fd8",
       "version_major": 2,
       "version_minor": 0
      },
      "text/plain": [
       "  0%|          | 0/1000 [00:00<?, ?it/s]"
      ]
     },
     "metadata": {},
     "output_type": "display_data"
    },
    {
     "data": {
      "application/vnd.jupyter.widget-view+json": {
       "model_id": "8744728457894d7d9dfdfb5cc9cad2cf",
       "version_major": 2,
       "version_minor": 0
      },
      "text/plain": [
       "  0%|          | 0/1000 [00:00<?, ?it/s]"
      ]
     },
     "metadata": {},
     "output_type": "display_data"
    },
    {
     "data": {
      "application/vnd.jupyter.widget-view+json": {
       "model_id": "92c646ce08934efea5fdbe82d9436995",
       "version_major": 2,
       "version_minor": 0
      },
      "text/plain": [
       "  0%|          | 0/1000 [00:00<?, ?it/s]"
      ]
     },
     "metadata": {},
     "output_type": "display_data"
    },
    {
     "data": {
      "application/vnd.jupyter.widget-view+json": {
       "model_id": "882d0bc29cb2416b8e3e5cfcad1744ca",
       "version_major": 2,
       "version_minor": 0
      },
      "text/plain": [
       "  0%|          | 0/1000 [00:00<?, ?it/s]"
      ]
     },
     "metadata": {},
     "output_type": "display_data"
    },
    {
     "data": {
      "application/vnd.jupyter.widget-view+json": {
       "model_id": "380f84cb1e244356b33992cd0e5b2a22",
       "version_major": 2,
       "version_minor": 0
      },
      "text/plain": [
       "  0%|          | 0/1000 [00:00<?, ?it/s]"
      ]
     },
     "metadata": {},
     "output_type": "display_data"
    },
    {
     "data": {
      "application/vnd.jupyter.widget-view+json": {
       "model_id": "40643a98198243f6aa3324c9340cdba8",
       "version_major": 2,
       "version_minor": 0
      },
      "text/plain": [
       "  0%|          | 0/1000 [00:00<?, ?it/s]"
      ]
     },
     "metadata": {},
     "output_type": "display_data"
    },
    {
     "data": {
      "application/vnd.jupyter.widget-view+json": {
       "model_id": "390bd5d233144bfe8fa96262f93ea476",
       "version_major": 2,
       "version_minor": 0
      },
      "text/plain": [
       "  0%|          | 0/1000 [00:00<?, ?it/s]"
      ]
     },
     "metadata": {},
     "output_type": "display_data"
    },
    {
     "data": {
      "application/vnd.jupyter.widget-view+json": {
       "model_id": "57d2299e5c4a4b61ae67130ae958dc45",
       "version_major": 2,
       "version_minor": 0
      },
      "text/plain": [
       "  0%|          | 0/1000 [00:00<?, ?it/s]"
      ]
     },
     "metadata": {},
     "output_type": "display_data"
    },
    {
     "data": {
      "application/vnd.jupyter.widget-view+json": {
       "model_id": "6790adc1d15a4dd981ab50d961fe41f4",
       "version_major": 2,
       "version_minor": 0
      },
      "text/plain": [
       "  0%|          | 0/1000 [00:00<?, ?it/s]"
      ]
     },
     "metadata": {},
     "output_type": "display_data"
    },
    {
     "data": {
      "application/vnd.jupyter.widget-view+json": {
       "model_id": "f6f63a7d426f41b4b914329395432753",
       "version_major": 2,
       "version_minor": 0
      },
      "text/plain": [
       "  0%|          | 0/1000 [00:00<?, ?it/s]"
      ]
     },
     "metadata": {},
     "output_type": "display_data"
    },
    {
     "data": {
      "application/vnd.jupyter.widget-view+json": {
       "model_id": "de9b8ab513a3477aa4e12a67811af709",
       "version_major": 2,
       "version_minor": 0
      },
      "text/plain": [
       "  0%|          | 0/1000 [00:00<?, ?it/s]"
      ]
     },
     "metadata": {},
     "output_type": "display_data"
    },
    {
     "data": {
      "application/vnd.jupyter.widget-view+json": {
       "model_id": "0e4816c88bf34c618ee65eac78bf98e6",
       "version_major": 2,
       "version_minor": 0
      },
      "text/plain": [
       "  0%|          | 0/1000 [00:00<?, ?it/s]"
      ]
     },
     "metadata": {},
     "output_type": "display_data"
    },
    {
     "data": {
      "application/vnd.jupyter.widget-view+json": {
       "model_id": "771d922634284327bf63d62dfcffc4c3",
       "version_major": 2,
       "version_minor": 0
      },
      "text/plain": [
       "  0%|          | 0/1000 [00:00<?, ?it/s]"
      ]
     },
     "metadata": {},
     "output_type": "display_data"
    },
    {
     "data": {
      "application/vnd.jupyter.widget-view+json": {
       "model_id": "7a7a62ca920346f5bdd3cd0ed94fc804",
       "version_major": 2,
       "version_minor": 0
      },
      "text/plain": [
       "  0%|          | 0/1000 [00:00<?, ?it/s]"
      ]
     },
     "metadata": {},
     "output_type": "display_data"
    },
    {
     "data": {
      "application/vnd.jupyter.widget-view+json": {
       "model_id": "9c75d8fc5af449509678e97e8576cc49",
       "version_major": 2,
       "version_minor": 0
      },
      "text/plain": [
       "  0%|          | 0/1000 [00:00<?, ?it/s]"
      ]
     },
     "metadata": {},
     "output_type": "display_data"
    },
    {
     "data": {
      "application/vnd.jupyter.widget-view+json": {
       "model_id": "37fc69b836f740bea7e4ef0fcec9f5a8",
       "version_major": 2,
       "version_minor": 0
      },
      "text/plain": [
       "  0%|          | 0/1000 [00:00<?, ?it/s]"
      ]
     },
     "metadata": {},
     "output_type": "display_data"
    },
    {
     "data": {
      "application/vnd.jupyter.widget-view+json": {
       "model_id": "0a6ad104001748918784ff6101bfe4d5",
       "version_major": 2,
       "version_minor": 0
      },
      "text/plain": [
       "  0%|          | 0/1000 [00:00<?, ?it/s]"
      ]
     },
     "metadata": {},
     "output_type": "display_data"
    },
    {
     "data": {
      "application/vnd.jupyter.widget-view+json": {
       "model_id": "45509df1ab064eceb1a657a7bfc10c3e",
       "version_major": 2,
       "version_minor": 0
      },
      "text/plain": [
       "  0%|          | 0/1000 [00:00<?, ?it/s]"
      ]
     },
     "metadata": {},
     "output_type": "display_data"
    },
    {
     "data": {
      "application/vnd.jupyter.widget-view+json": {
       "model_id": "93c1fb018b684a72850b704ac8ca7a00",
       "version_major": 2,
       "version_minor": 0
      },
      "text/plain": [
       "  0%|          | 0/1000 [00:00<?, ?it/s]"
      ]
     },
     "metadata": {},
     "output_type": "display_data"
    },
    {
     "data": {
      "application/vnd.jupyter.widget-view+json": {
       "model_id": "7995f84023724e16a8ee3179e99986bb",
       "version_major": 2,
       "version_minor": 0
      },
      "text/plain": [
       "  0%|          | 0/1000 [00:00<?, ?it/s]"
      ]
     },
     "metadata": {},
     "output_type": "display_data"
    },
    {
     "data": {
      "application/vnd.jupyter.widget-view+json": {
       "model_id": "5fb83ba36fee49c781c1053363412c1d",
       "version_major": 2,
       "version_minor": 0
      },
      "text/plain": [
       "  0%|          | 0/1000 [00:00<?, ?it/s]"
      ]
     },
     "metadata": {},
     "output_type": "display_data"
    },
    {
     "data": {
      "application/vnd.jupyter.widget-view+json": {
       "model_id": "cced4c031aa248aa9c886fb2eb614c1b",
       "version_major": 2,
       "version_minor": 0
      },
      "text/plain": [
       "  0%|          | 0/1000 [00:00<?, ?it/s]"
      ]
     },
     "metadata": {},
     "output_type": "display_data"
    },
    {
     "data": {
      "application/vnd.jupyter.widget-view+json": {
       "model_id": "196bd6ce02124f9db0272f4948c369a9",
       "version_major": 2,
       "version_minor": 0
      },
      "text/plain": [
       "  0%|          | 0/1000 [00:00<?, ?it/s]"
      ]
     },
     "metadata": {},
     "output_type": "display_data"
    },
    {
     "data": {
      "application/vnd.jupyter.widget-view+json": {
       "model_id": "ee4fb2b35de547bda81a343d66de6312",
       "version_major": 2,
       "version_minor": 0
      },
      "text/plain": [
       "  0%|          | 0/1000 [00:00<?, ?it/s]"
      ]
     },
     "metadata": {},
     "output_type": "display_data"
    },
    {
     "data": {
      "application/vnd.jupyter.widget-view+json": {
       "model_id": "121918f598fd414e97c2b8b7186b6592",
       "version_major": 2,
       "version_minor": 0
      },
      "text/plain": [
       "  0%|          | 0/1000 [00:00<?, ?it/s]"
      ]
     },
     "metadata": {},
     "output_type": "display_data"
    },
    {
     "data": {
      "application/vnd.jupyter.widget-view+json": {
       "model_id": "d6246060182e4041aeb05b899cae4916",
       "version_major": 2,
       "version_minor": 0
      },
      "text/plain": [
       "  0%|          | 0/1000 [00:00<?, ?it/s]"
      ]
     },
     "metadata": {},
     "output_type": "display_data"
    },
    {
     "data": {
      "application/vnd.jupyter.widget-view+json": {
       "model_id": "fb8f8ce5060243bf8fb4eb2f4942a015",
       "version_major": 2,
       "version_minor": 0
      },
      "text/plain": [
       "  0%|          | 0/1000 [00:00<?, ?it/s]"
      ]
     },
     "metadata": {},
     "output_type": "display_data"
    },
    {
     "data": {
      "application/vnd.jupyter.widget-view+json": {
       "model_id": "91d184e886c74b159270b614e488faa4",
       "version_major": 2,
       "version_minor": 0
      },
      "text/plain": [
       "  0%|          | 0/1000 [00:00<?, ?it/s]"
      ]
     },
     "metadata": {},
     "output_type": "display_data"
    },
    {
     "data": {
      "application/vnd.jupyter.widget-view+json": {
       "model_id": "ec0a83370f49480f813c945e126c029c",
       "version_major": 2,
       "version_minor": 0
      },
      "text/plain": [
       "  0%|          | 0/1000 [00:00<?, ?it/s]"
      ]
     },
     "metadata": {},
     "output_type": "display_data"
    },
    {
     "data": {
      "application/vnd.jupyter.widget-view+json": {
       "model_id": "42aa614f3bd146798e152dc782106feb",
       "version_major": 2,
       "version_minor": 0
      },
      "text/plain": [
       "  0%|          | 0/1000 [00:00<?, ?it/s]"
      ]
     },
     "metadata": {},
     "output_type": "display_data"
    },
    {
     "data": {
      "application/vnd.jupyter.widget-view+json": {
       "model_id": "d32d93a3913748a2bd9c84557c0ce26a",
       "version_major": 2,
       "version_minor": 0
      },
      "text/plain": [
       "  0%|          | 0/1000 [00:00<?, ?it/s]"
      ]
     },
     "metadata": {},
     "output_type": "display_data"
    },
    {
     "data": {
      "application/vnd.jupyter.widget-view+json": {
       "model_id": "2d1a3e239c1e4c788b49f21b59ab3883",
       "version_major": 2,
       "version_minor": 0
      },
      "text/plain": [
       "  0%|          | 0/1000 [00:00<?, ?it/s]"
      ]
     },
     "metadata": {},
     "output_type": "display_data"
    },
    {
     "data": {
      "application/vnd.jupyter.widget-view+json": {
       "model_id": "b36e395fdc4848a28091cff8ccae58e4",
       "version_major": 2,
       "version_minor": 0
      },
      "text/plain": [
       "  0%|          | 0/1000 [00:00<?, ?it/s]"
      ]
     },
     "metadata": {},
     "output_type": "display_data"
    },
    {
     "data": {
      "application/vnd.jupyter.widget-view+json": {
       "model_id": "dc43d72528aa485da726bf1b65b86468",
       "version_major": 2,
       "version_minor": 0
      },
      "text/plain": [
       "  0%|          | 0/1000 [00:00<?, ?it/s]"
      ]
     },
     "metadata": {},
     "output_type": "display_data"
    },
    {
     "data": {
      "application/vnd.jupyter.widget-view+json": {
       "model_id": "200474df7136462791ed1a9893d7fd6f",
       "version_major": 2,
       "version_minor": 0
      },
      "text/plain": [
       "  0%|          | 0/1000 [00:00<?, ?it/s]"
      ]
     },
     "metadata": {},
     "output_type": "display_data"
    },
    {
     "data": {
      "application/vnd.jupyter.widget-view+json": {
       "model_id": "1fb6be6398b340a1806154352a0a4cae",
       "version_major": 2,
       "version_minor": 0
      },
      "text/plain": [
       "  0%|          | 0/1000 [00:00<?, ?it/s]"
      ]
     },
     "metadata": {},
     "output_type": "display_data"
    },
    {
     "data": {
      "application/vnd.jupyter.widget-view+json": {
       "model_id": "6d74dfca2a474bd0a334d5f620846e5c",
       "version_major": 2,
       "version_minor": 0
      },
      "text/plain": [
       "  0%|          | 0/1000 [00:00<?, ?it/s]"
      ]
     },
     "metadata": {},
     "output_type": "display_data"
    },
    {
     "data": {
      "application/vnd.jupyter.widget-view+json": {
       "model_id": "7b657e0b7ea2473180f34d651f192787",
       "version_major": 2,
       "version_minor": 0
      },
      "text/plain": [
       "  0%|          | 0/1000 [00:00<?, ?it/s]"
      ]
     },
     "metadata": {},
     "output_type": "display_data"
    },
    {
     "data": {
      "application/vnd.jupyter.widget-view+json": {
       "model_id": "e282931418a842bab2e5faa203d6bea5",
       "version_major": 2,
       "version_minor": 0
      },
      "text/plain": [
       "  0%|          | 0/1000 [00:00<?, ?it/s]"
      ]
     },
     "metadata": {},
     "output_type": "display_data"
    },
    {
     "data": {
      "application/vnd.jupyter.widget-view+json": {
       "model_id": "782cb447bc0b462ab57676019d18752b",
       "version_major": 2,
       "version_minor": 0
      },
      "text/plain": [
       "  0%|          | 0/1000 [00:00<?, ?it/s]"
      ]
     },
     "metadata": {},
     "output_type": "display_data"
    },
    {
     "data": {
      "application/vnd.jupyter.widget-view+json": {
       "model_id": "a6c518d8e3274bec9fe44482d4d0de72",
       "version_major": 2,
       "version_minor": 0
      },
      "text/plain": [
       "  0%|          | 0/1000 [00:00<?, ?it/s]"
      ]
     },
     "metadata": {},
     "output_type": "display_data"
    },
    {
     "data": {
      "application/vnd.jupyter.widget-view+json": {
       "model_id": "770a328f0a5440f89ec73f1429aa34d8",
       "version_major": 2,
       "version_minor": 0
      },
      "text/plain": [
       "  0%|          | 0/1000 [00:00<?, ?it/s]"
      ]
     },
     "metadata": {},
     "output_type": "display_data"
    },
    {
     "data": {
      "application/vnd.jupyter.widget-view+json": {
       "model_id": "6bd56e2850a349a196e7f10253dc5559",
       "version_major": 2,
       "version_minor": 0
      },
      "text/plain": [
       "  0%|          | 0/1000 [00:00<?, ?it/s]"
      ]
     },
     "metadata": {},
     "output_type": "display_data"
    },
    {
     "data": {
      "application/vnd.jupyter.widget-view+json": {
       "model_id": "bdda3f26faf145ccba6c4de1add49450",
       "version_major": 2,
       "version_minor": 0
      },
      "text/plain": [
       "  0%|          | 0/1000 [00:00<?, ?it/s]"
      ]
     },
     "metadata": {},
     "output_type": "display_data"
    },
    {
     "data": {
      "application/vnd.jupyter.widget-view+json": {
       "model_id": "2e596c132e8c402bbcfd470b3f4a7017",
       "version_major": 2,
       "version_minor": 0
      },
      "text/plain": [
       "  0%|          | 0/1000 [00:00<?, ?it/s]"
      ]
     },
     "metadata": {},
     "output_type": "display_data"
    },
    {
     "data": {
      "application/vnd.jupyter.widget-view+json": {
       "model_id": "17b3933121b548b19d65928883dfd731",
       "version_major": 2,
       "version_minor": 0
      },
      "text/plain": [
       "  0%|          | 0/1000 [00:00<?, ?it/s]"
      ]
     },
     "metadata": {},
     "output_type": "display_data"
    },
    {
     "data": {
      "application/vnd.jupyter.widget-view+json": {
       "model_id": "afe19abba6cd42a58d5aa981417e1cd0",
       "version_major": 2,
       "version_minor": 0
      },
      "text/plain": [
       "  0%|          | 0/1000 [00:00<?, ?it/s]"
      ]
     },
     "metadata": {},
     "output_type": "display_data"
    },
    {
     "data": {
      "application/vnd.jupyter.widget-view+json": {
       "model_id": "92ae9ff585cb45f8bb436d3f6663ce46",
       "version_major": 2,
       "version_minor": 0
      },
      "text/plain": [
       "  0%|          | 0/1000 [00:00<?, ?it/s]"
      ]
     },
     "metadata": {},
     "output_type": "display_data"
    },
    {
     "data": {
      "application/vnd.jupyter.widget-view+json": {
       "model_id": "5c43494c12654e69a2192cbdd6e13c02",
       "version_major": 2,
       "version_minor": 0
      },
      "text/plain": [
       "  0%|          | 0/1000 [00:00<?, ?it/s]"
      ]
     },
     "metadata": {},
     "output_type": "display_data"
    },
    {
     "data": {
      "application/vnd.jupyter.widget-view+json": {
       "model_id": "693032cf0d2249e2a6f762456a1efe10",
       "version_major": 2,
       "version_minor": 0
      },
      "text/plain": [
       "  0%|          | 0/1000 [00:00<?, ?it/s]"
      ]
     },
     "metadata": {},
     "output_type": "display_data"
    },
    {
     "data": {
      "application/vnd.jupyter.widget-view+json": {
       "model_id": "f54e64c1868e42848582dae2436da8d3",
       "version_major": 2,
       "version_minor": 0
      },
      "text/plain": [
       "  0%|          | 0/1000 [00:00<?, ?it/s]"
      ]
     },
     "metadata": {},
     "output_type": "display_data"
    },
    {
     "data": {
      "application/vnd.jupyter.widget-view+json": {
       "model_id": "4b033b11055a45bcba7a97b9982e5018",
       "version_major": 2,
       "version_minor": 0
      },
      "text/plain": [
       "  0%|          | 0/1000 [00:00<?, ?it/s]"
      ]
     },
     "metadata": {},
     "output_type": "display_data"
    },
    {
     "data": {
      "application/vnd.jupyter.widget-view+json": {
       "model_id": "d43a230ba5ea4354961ed9922f257e73",
       "version_major": 2,
       "version_minor": 0
      },
      "text/plain": [
       "  0%|          | 0/1000 [00:00<?, ?it/s]"
      ]
     },
     "metadata": {},
     "output_type": "display_data"
    },
    {
     "data": {
      "application/vnd.jupyter.widget-view+json": {
       "model_id": "39b1a5d1c97744a48df39074c880668e",
       "version_major": 2,
       "version_minor": 0
      },
      "text/plain": [
       "  0%|          | 0/1000 [00:00<?, ?it/s]"
      ]
     },
     "metadata": {},
     "output_type": "display_data"
    },
    {
     "data": {
      "application/vnd.jupyter.widget-view+json": {
       "model_id": "a96ac971df9642bfab60d2a67150b9a9",
       "version_major": 2,
       "version_minor": 0
      },
      "text/plain": [
       "  0%|          | 0/1000 [00:00<?, ?it/s]"
      ]
     },
     "metadata": {},
     "output_type": "display_data"
    },
    {
     "data": {
      "application/vnd.jupyter.widget-view+json": {
       "model_id": "5d827f3826e04f6f93702b2e37cd4db4",
       "version_major": 2,
       "version_minor": 0
      },
      "text/plain": [
       "  0%|          | 0/1000 [00:00<?, ?it/s]"
      ]
     },
     "metadata": {},
     "output_type": "display_data"
    },
    {
     "data": {
      "application/vnd.jupyter.widget-view+json": {
       "model_id": "97443df4e93c4135a377d30fdd686397",
       "version_major": 2,
       "version_minor": 0
      },
      "text/plain": [
       "  0%|          | 0/1000 [00:00<?, ?it/s]"
      ]
     },
     "metadata": {},
     "output_type": "display_data"
    },
    {
     "data": {
      "application/vnd.jupyter.widget-view+json": {
       "model_id": "107a45993c44481a9b450bb25c2e696f",
       "version_major": 2,
       "version_minor": 0
      },
      "text/plain": [
       "  0%|          | 0/1000 [00:00<?, ?it/s]"
      ]
     },
     "metadata": {},
     "output_type": "display_data"
    },
    {
     "data": {
      "application/vnd.jupyter.widget-view+json": {
       "model_id": "9558bf5a4f9f484d9c529e27713b1b14",
       "version_major": 2,
       "version_minor": 0
      },
      "text/plain": [
       "  0%|          | 0/1000 [00:00<?, ?it/s]"
      ]
     },
     "metadata": {},
     "output_type": "display_data"
    },
    {
     "data": {
      "application/vnd.jupyter.widget-view+json": {
       "model_id": "9c55dff8be884273801fa2b662d4a0fe",
       "version_major": 2,
       "version_minor": 0
      },
      "text/plain": [
       "  0%|          | 0/1000 [00:00<?, ?it/s]"
      ]
     },
     "metadata": {},
     "output_type": "display_data"
    },
    {
     "data": {
      "application/vnd.jupyter.widget-view+json": {
       "model_id": "564311d9dd1d4497bd7e8ddfaae2b7cb",
       "version_major": 2,
       "version_minor": 0
      },
      "text/plain": [
       "  0%|          | 0/1000 [00:00<?, ?it/s]"
      ]
     },
     "metadata": {},
     "output_type": "display_data"
    },
    {
     "data": {
      "application/vnd.jupyter.widget-view+json": {
       "model_id": "6858fed472ba4e3baebbf9866c10df4e",
       "version_major": 2,
       "version_minor": 0
      },
      "text/plain": [
       "  0%|          | 0/1000 [00:00<?, ?it/s]"
      ]
     },
     "metadata": {},
     "output_type": "display_data"
    },
    {
     "data": {
      "application/vnd.jupyter.widget-view+json": {
       "model_id": "27e91bb169d54c839bca94b3c8dd1d6a",
       "version_major": 2,
       "version_minor": 0
      },
      "text/plain": [
       "  0%|          | 0/1000 [00:00<?, ?it/s]"
      ]
     },
     "metadata": {},
     "output_type": "display_data"
    },
    {
     "data": {
      "application/vnd.jupyter.widget-view+json": {
       "model_id": "1c1ec70af2fe4291974f17fc54b6da49",
       "version_major": 2,
       "version_minor": 0
      },
      "text/plain": [
       "  0%|          | 0/1000 [00:00<?, ?it/s]"
      ]
     },
     "metadata": {},
     "output_type": "display_data"
    },
    {
     "data": {
      "application/vnd.jupyter.widget-view+json": {
       "model_id": "09153da122d64ad9b1f298a3a872396c",
       "version_major": 2,
       "version_minor": 0
      },
      "text/plain": [
       "  0%|          | 0/1000 [00:00<?, ?it/s]"
      ]
     },
     "metadata": {},
     "output_type": "display_data"
    },
    {
     "data": {
      "application/vnd.jupyter.widget-view+json": {
       "model_id": "140bf5a090b4425cbba0da5cf2c0b370",
       "version_major": 2,
       "version_minor": 0
      },
      "text/plain": [
       "  0%|          | 0/1000 [00:00<?, ?it/s]"
      ]
     },
     "metadata": {},
     "output_type": "display_data"
    },
    {
     "data": {
      "application/vnd.jupyter.widget-view+json": {
       "model_id": "32e5864c65bf4499b144a1104df530a4",
       "version_major": 2,
       "version_minor": 0
      },
      "text/plain": [
       "  0%|          | 0/1000 [00:00<?, ?it/s]"
      ]
     },
     "metadata": {},
     "output_type": "display_data"
    },
    {
     "data": {
      "application/vnd.jupyter.widget-view+json": {
       "model_id": "1d15b3c4fa8e4f6a8c688dfed737846c",
       "version_major": 2,
       "version_minor": 0
      },
      "text/plain": [
       "  0%|          | 0/1000 [00:00<?, ?it/s]"
      ]
     },
     "metadata": {},
     "output_type": "display_data"
    },
    {
     "data": {
      "application/vnd.jupyter.widget-view+json": {
       "model_id": "3185104f6864424dbf2dbcd70c60b93d",
       "version_major": 2,
       "version_minor": 0
      },
      "text/plain": [
       "  0%|          | 0/1000 [00:00<?, ?it/s]"
      ]
     },
     "metadata": {},
     "output_type": "display_data"
    },
    {
     "data": {
      "application/vnd.jupyter.widget-view+json": {
       "model_id": "db59ec8cca984c7095b11a703a8440f1",
       "version_major": 2,
       "version_minor": 0
      },
      "text/plain": [
       "  0%|          | 0/1000 [00:00<?, ?it/s]"
      ]
     },
     "metadata": {},
     "output_type": "display_data"
    },
    {
     "data": {
      "application/vnd.jupyter.widget-view+json": {
       "model_id": "cbc990eff36e4242beca02f1751fd7ea",
       "version_major": 2,
       "version_minor": 0
      },
      "text/plain": [
       "  0%|          | 0/1000 [00:00<?, ?it/s]"
      ]
     },
     "metadata": {},
     "output_type": "display_data"
    },
    {
     "data": {
      "application/vnd.jupyter.widget-view+json": {
       "model_id": "2d6bf10e663b4d55b218d0fa2f7cebc4",
       "version_major": 2,
       "version_minor": 0
      },
      "text/plain": [
       "  0%|          | 0/1000 [00:00<?, ?it/s]"
      ]
     },
     "metadata": {},
     "output_type": "display_data"
    },
    {
     "data": {
      "application/vnd.jupyter.widget-view+json": {
       "model_id": "20d297eca7054a6e86fb0bba8ee8832a",
       "version_major": 2,
       "version_minor": 0
      },
      "text/plain": [
       "  0%|          | 0/1000 [00:00<?, ?it/s]"
      ]
     },
     "metadata": {},
     "output_type": "display_data"
    },
    {
     "data": {
      "application/vnd.jupyter.widget-view+json": {
       "model_id": "fd7afe38716e4fc9b603c76e0879cf34",
       "version_major": 2,
       "version_minor": 0
      },
      "text/plain": [
       "  0%|          | 0/1000 [00:00<?, ?it/s]"
      ]
     },
     "metadata": {},
     "output_type": "display_data"
    },
    {
     "data": {
      "application/vnd.jupyter.widget-view+json": {
       "model_id": "66535350c0e146908b4b6aaedaa0d1cb",
       "version_major": 2,
       "version_minor": 0
      },
      "text/plain": [
       "  0%|          | 0/1000 [00:00<?, ?it/s]"
      ]
     },
     "metadata": {},
     "output_type": "display_data"
    },
    {
     "data": {
      "application/vnd.jupyter.widget-view+json": {
       "model_id": "9a7f01d1409f4a06ad7279666a48c1ee",
       "version_major": 2,
       "version_minor": 0
      },
      "text/plain": [
       "  0%|          | 0/1000 [00:00<?, ?it/s]"
      ]
     },
     "metadata": {},
     "output_type": "display_data"
    },
    {
     "data": {
      "application/vnd.jupyter.widget-view+json": {
       "model_id": "658fac6928004044b62902f789e0bcb8",
       "version_major": 2,
       "version_minor": 0
      },
      "text/plain": [
       "  0%|          | 0/1000 [00:00<?, ?it/s]"
      ]
     },
     "metadata": {},
     "output_type": "display_data"
    },
    {
     "data": {
      "application/vnd.jupyter.widget-view+json": {
       "model_id": "6a7f1ef0e23446318e513c8da6e9092b",
       "version_major": 2,
       "version_minor": 0
      },
      "text/plain": [
       "  0%|          | 0/1000 [00:00<?, ?it/s]"
      ]
     },
     "metadata": {},
     "output_type": "display_data"
    },
    {
     "data": {
      "application/vnd.jupyter.widget-view+json": {
       "model_id": "d66291d53aa74dac9e32c8ab21d899d9",
       "version_major": 2,
       "version_minor": 0
      },
      "text/plain": [
       "  0%|          | 0/1000 [00:00<?, ?it/s]"
      ]
     },
     "metadata": {},
     "output_type": "display_data"
    },
    {
     "data": {
      "application/vnd.jupyter.widget-view+json": {
       "model_id": "f20aae63da6540c7b9709b4eb3f5d94e",
       "version_major": 2,
       "version_minor": 0
      },
      "text/plain": [
       "  0%|          | 0/1000 [00:00<?, ?it/s]"
      ]
     },
     "metadata": {},
     "output_type": "display_data"
    },
    {
     "data": {
      "application/vnd.jupyter.widget-view+json": {
       "model_id": "a57c96a2bc584751a10a792c0fa60335",
       "version_major": 2,
       "version_minor": 0
      },
      "text/plain": [
       "  0%|          | 0/1000 [00:00<?, ?it/s]"
      ]
     },
     "metadata": {},
     "output_type": "display_data"
    },
    {
     "data": {
      "application/vnd.jupyter.widget-view+json": {
       "model_id": "b8b8f67442694b788f0237b4f9f2ddfd",
       "version_major": 2,
       "version_minor": 0
      },
      "text/plain": [
       "  0%|          | 0/1000 [00:00<?, ?it/s]"
      ]
     },
     "metadata": {},
     "output_type": "display_data"
    },
    {
     "data": {
      "application/vnd.jupyter.widget-view+json": {
       "model_id": "c00195d0f54249cd854d43311153d5c1",
       "version_major": 2,
       "version_minor": 0
      },
      "text/plain": [
       "  0%|          | 0/1000 [00:00<?, ?it/s]"
      ]
     },
     "metadata": {},
     "output_type": "display_data"
    },
    {
     "data": {
      "application/vnd.jupyter.widget-view+json": {
       "model_id": "33bcf28548374dbc9bb66142a25374c5",
       "version_major": 2,
       "version_minor": 0
      },
      "text/plain": [
       "  0%|          | 0/1000 [00:00<?, ?it/s]"
      ]
     },
     "metadata": {},
     "output_type": "display_data"
    },
    {
     "data": {
      "application/vnd.jupyter.widget-view+json": {
       "model_id": "72e140e079f7448f843aad412ebcdfc5",
       "version_major": 2,
       "version_minor": 0
      },
      "text/plain": [
       "  0%|          | 0/1000 [00:00<?, ?it/s]"
      ]
     },
     "metadata": {},
     "output_type": "display_data"
    },
    {
     "data": {
      "application/vnd.jupyter.widget-view+json": {
       "model_id": "5479d08457784f79aa6ea935e9e9ada2",
       "version_major": 2,
       "version_minor": 0
      },
      "text/plain": [
       "  0%|          | 0/1000 [00:00<?, ?it/s]"
      ]
     },
     "metadata": {},
     "output_type": "display_data"
    },
    {
     "data": {
      "application/vnd.jupyter.widget-view+json": {
       "model_id": "e63eda78019942a3976a449b3dbbf825",
       "version_major": 2,
       "version_minor": 0
      },
      "text/plain": [
       "  0%|          | 0/1000 [00:00<?, ?it/s]"
      ]
     },
     "metadata": {},
     "output_type": "display_data"
    },
    {
     "data": {
      "application/vnd.jupyter.widget-view+json": {
       "model_id": "979b0206b5e54dbf8ccf030fa2ab7e37",
       "version_major": 2,
       "version_minor": 0
      },
      "text/plain": [
       "  0%|          | 0/1000 [00:00<?, ?it/s]"
      ]
     },
     "metadata": {},
     "output_type": "display_data"
    },
    {
     "data": {
      "application/vnd.jupyter.widget-view+json": {
       "model_id": "7a121b56346546f59c08a167cc110b1d",
       "version_major": 2,
       "version_minor": 0
      },
      "text/plain": [
       "  0%|          | 0/1000 [00:00<?, ?it/s]"
      ]
     },
     "metadata": {},
     "output_type": "display_data"
    },
    {
     "data": {
      "application/vnd.jupyter.widget-view+json": {
       "model_id": "354c53dd0f2c4526b6bd80707cd6349c",
       "version_major": 2,
       "version_minor": 0
      },
      "text/plain": [
       "  0%|          | 0/1000 [00:00<?, ?it/s]"
      ]
     },
     "metadata": {},
     "output_type": "display_data"
    },
    {
     "data": {
      "application/vnd.jupyter.widget-view+json": {
       "model_id": "fdeb123303624468b4d301b782d8cea7",
       "version_major": 2,
       "version_minor": 0
      },
      "text/plain": [
       "  0%|          | 0/1000 [00:00<?, ?it/s]"
      ]
     },
     "metadata": {},
     "output_type": "display_data"
    },
    {
     "data": {
      "application/vnd.jupyter.widget-view+json": {
       "model_id": "20b9964a792a4ac686d6fe2c4b70c889",
       "version_major": 2,
       "version_minor": 0
      },
      "text/plain": [
       "  0%|          | 0/1000 [00:00<?, ?it/s]"
      ]
     },
     "metadata": {},
     "output_type": "display_data"
    },
    {
     "data": {
      "application/vnd.jupyter.widget-view+json": {
       "model_id": "b4fa4c7030a849148087a2dbe948f5e2",
       "version_major": 2,
       "version_minor": 0
      },
      "text/plain": [
       "  0%|          | 0/1000 [00:00<?, ?it/s]"
      ]
     },
     "metadata": {},
     "output_type": "display_data"
    },
    {
     "data": {
      "application/vnd.jupyter.widget-view+json": {
       "model_id": "1c8d81447511471ca47a6602b63ae413",
       "version_major": 2,
       "version_minor": 0
      },
      "text/plain": [
       "  0%|          | 0/1000 [00:00<?, ?it/s]"
      ]
     },
     "metadata": {},
     "output_type": "display_data"
    },
    {
     "data": {
      "application/vnd.jupyter.widget-view+json": {
       "model_id": "fdde577dc1624737ae68b0d8d6214855",
       "version_major": 2,
       "version_minor": 0
      },
      "text/plain": [
       "  0%|          | 0/1000 [00:00<?, ?it/s]"
      ]
     },
     "metadata": {},
     "output_type": "display_data"
    },
    {
     "data": {
      "application/vnd.jupyter.widget-view+json": {
       "model_id": "2837f62353e44878a881e4f56b1a11f7",
       "version_major": 2,
       "version_minor": 0
      },
      "text/plain": [
       "  0%|          | 0/1000 [00:00<?, ?it/s]"
      ]
     },
     "metadata": {},
     "output_type": "display_data"
    },
    {
     "data": {
      "application/vnd.jupyter.widget-view+json": {
       "model_id": "fbfec5e326ae4b4db6d7fb4da0319c92",
       "version_major": 2,
       "version_minor": 0
      },
      "text/plain": [
       "  0%|          | 0/1000 [00:00<?, ?it/s]"
      ]
     },
     "metadata": {},
     "output_type": "display_data"
    },
    {
     "data": {
      "application/vnd.jupyter.widget-view+json": {
       "model_id": "abebb558cdb64531a4a958fe2476e61b",
       "version_major": 2,
       "version_minor": 0
      },
      "text/plain": [
       "  0%|          | 0/1000 [00:00<?, ?it/s]"
      ]
     },
     "metadata": {},
     "output_type": "display_data"
    },
    {
     "data": {
      "application/vnd.jupyter.widget-view+json": {
       "model_id": "9b29a1765f2d43fbaab4f23007687f95",
       "version_major": 2,
       "version_minor": 0
      },
      "text/plain": [
       "  0%|          | 0/1000 [00:00<?, ?it/s]"
      ]
     },
     "metadata": {},
     "output_type": "display_data"
    },
    {
     "data": {
      "application/vnd.jupyter.widget-view+json": {
       "model_id": "b68019ebf2a3472d88f37ad015543343",
       "version_major": 2,
       "version_minor": 0
      },
      "text/plain": [
       "  0%|          | 0/1000 [00:00<?, ?it/s]"
      ]
     },
     "metadata": {},
     "output_type": "display_data"
    },
    {
     "data": {
      "application/vnd.jupyter.widget-view+json": {
       "model_id": "e165f3c7440946228be4063ff11551ec",
       "version_major": 2,
       "version_minor": 0
      },
      "text/plain": [
       "  0%|          | 0/1000 [00:00<?, ?it/s]"
      ]
     },
     "metadata": {},
     "output_type": "display_data"
    },
    {
     "data": {
      "application/vnd.jupyter.widget-view+json": {
       "model_id": "387f7fa9d7c744bb97a7c4d194cf993a",
       "version_major": 2,
       "version_minor": 0
      },
      "text/plain": [
       "  0%|          | 0/1000 [00:00<?, ?it/s]"
      ]
     },
     "metadata": {},
     "output_type": "display_data"
    },
    {
     "data": {
      "application/vnd.jupyter.widget-view+json": {
       "model_id": "39490d8f316d46cc9c017f2f23ed04e5",
       "version_major": 2,
       "version_minor": 0
      },
      "text/plain": [
       "  0%|          | 0/1000 [00:00<?, ?it/s]"
      ]
     },
     "metadata": {},
     "output_type": "display_data"
    },
    {
     "data": {
      "application/vnd.jupyter.widget-view+json": {
       "model_id": "9c608384ad2848b7b034d175e4574cd9",
       "version_major": 2,
       "version_minor": 0
      },
      "text/plain": [
       "  0%|          | 0/1000 [00:00<?, ?it/s]"
      ]
     },
     "metadata": {},
     "output_type": "display_data"
    },
    {
     "data": {
      "application/vnd.jupyter.widget-view+json": {
       "model_id": "68e267dcdd3b44e98c0fc4b0a48e1bec",
       "version_major": 2,
       "version_minor": 0
      },
      "text/plain": [
       "  0%|          | 0/1000 [00:00<?, ?it/s]"
      ]
     },
     "metadata": {},
     "output_type": "display_data"
    },
    {
     "data": {
      "application/vnd.jupyter.widget-view+json": {
       "model_id": "f1d14babd3ce4cd59c86a315181809d2",
       "version_major": 2,
       "version_minor": 0
      },
      "text/plain": [
       "  0%|          | 0/1000 [00:00<?, ?it/s]"
      ]
     },
     "metadata": {},
     "output_type": "display_data"
    },
    {
     "data": {
      "application/vnd.jupyter.widget-view+json": {
       "model_id": "19b961ddb2164fcd81fedd5236500076",
       "version_major": 2,
       "version_minor": 0
      },
      "text/plain": [
       "  0%|          | 0/1000 [00:00<?, ?it/s]"
      ]
     },
     "metadata": {},
     "output_type": "display_data"
    },
    {
     "data": {
      "application/vnd.jupyter.widget-view+json": {
       "model_id": "f7699891431446ffa2b603441d0773c2",
       "version_major": 2,
       "version_minor": 0
      },
      "text/plain": [
       "  0%|          | 0/1000 [00:00<?, ?it/s]"
      ]
     },
     "metadata": {},
     "output_type": "display_data"
    },
    {
     "data": {
      "application/vnd.jupyter.widget-view+json": {
       "model_id": "a2939711a9df428fa4f1ef2f05ec8599",
       "version_major": 2,
       "version_minor": 0
      },
      "text/plain": [
       "  0%|          | 0/1000 [00:00<?, ?it/s]"
      ]
     },
     "metadata": {},
     "output_type": "display_data"
    },
    {
     "data": {
      "application/vnd.jupyter.widget-view+json": {
       "model_id": "5e57d7217206444ca46d7200e30a9ebf",
       "version_major": 2,
       "version_minor": 0
      },
      "text/plain": [
       "  0%|          | 0/1000 [00:00<?, ?it/s]"
      ]
     },
     "metadata": {},
     "output_type": "display_data"
    },
    {
     "data": {
      "application/vnd.jupyter.widget-view+json": {
       "model_id": "5ebad3b4446042f4bfee5ca8e4296d36",
       "version_major": 2,
       "version_minor": 0
      },
      "text/plain": [
       "  0%|          | 0/1000 [00:00<?, ?it/s]"
      ]
     },
     "metadata": {},
     "output_type": "display_data"
    },
    {
     "data": {
      "application/vnd.jupyter.widget-view+json": {
       "model_id": "e74382406e504b9d8443a194bbc29a6e",
       "version_major": 2,
       "version_minor": 0
      },
      "text/plain": [
       "  0%|          | 0/1000 [00:00<?, ?it/s]"
      ]
     },
     "metadata": {},
     "output_type": "display_data"
    },
    {
     "data": {
      "application/vnd.jupyter.widget-view+json": {
       "model_id": "a6672b31d0de490498120c3437930a0d",
       "version_major": 2,
       "version_minor": 0
      },
      "text/plain": [
       "  0%|          | 0/1000 [00:00<?, ?it/s]"
      ]
     },
     "metadata": {},
     "output_type": "display_data"
    },
    {
     "data": {
      "application/vnd.jupyter.widget-view+json": {
       "model_id": "a2f9f052db8944e493b6f3d9002b7796",
       "version_major": 2,
       "version_minor": 0
      },
      "text/plain": [
       "  0%|          | 0/1000 [00:00<?, ?it/s]"
      ]
     },
     "metadata": {},
     "output_type": "display_data"
    },
    {
     "data": {
      "application/vnd.jupyter.widget-view+json": {
       "model_id": "c9992cd5422343c2a29fdb24e6965ff5",
       "version_major": 2,
       "version_minor": 0
      },
      "text/plain": [
       "  0%|          | 0/1000 [00:00<?, ?it/s]"
      ]
     },
     "metadata": {},
     "output_type": "display_data"
    },
    {
     "data": {
      "application/vnd.jupyter.widget-view+json": {
       "model_id": "c5e776d372d5412a93fa69c070f56737",
       "version_major": 2,
       "version_minor": 0
      },
      "text/plain": [
       "  0%|          | 0/1000 [00:00<?, ?it/s]"
      ]
     },
     "metadata": {},
     "output_type": "display_data"
    },
    {
     "data": {
      "application/vnd.jupyter.widget-view+json": {
       "model_id": "146cddfe60364161ade1fa783e720bf0",
       "version_major": 2,
       "version_minor": 0
      },
      "text/plain": [
       "  0%|          | 0/1000 [00:00<?, ?it/s]"
      ]
     },
     "metadata": {},
     "output_type": "display_data"
    },
    {
     "data": {
      "application/vnd.jupyter.widget-view+json": {
       "model_id": "d6edabfabb0946b69401da2a76218725",
       "version_major": 2,
       "version_minor": 0
      },
      "text/plain": [
       "  0%|          | 0/1000 [00:00<?, ?it/s]"
      ]
     },
     "metadata": {},
     "output_type": "display_data"
    },
    {
     "data": {
      "application/vnd.jupyter.widget-view+json": {
       "model_id": "8e60b4c0899c4c66929faed91fcd6c83",
       "version_major": 2,
       "version_minor": 0
      },
      "text/plain": [
       "  0%|          | 0/1000 [00:00<?, ?it/s]"
      ]
     },
     "metadata": {},
     "output_type": "display_data"
    },
    {
     "data": {
      "application/vnd.jupyter.widget-view+json": {
       "model_id": "d6b8d5c0296743d4beef1363f6e0a6df",
       "version_major": 2,
       "version_minor": 0
      },
      "text/plain": [
       "  0%|          | 0/1000 [00:00<?, ?it/s]"
      ]
     },
     "metadata": {},
     "output_type": "display_data"
    },
    {
     "data": {
      "application/vnd.jupyter.widget-view+json": {
       "model_id": "8ed659a58d674b78a790503c19c8704c",
       "version_major": 2,
       "version_minor": 0
      },
      "text/plain": [
       "  0%|          | 0/1000 [00:00<?, ?it/s]"
      ]
     },
     "metadata": {},
     "output_type": "display_data"
    },
    {
     "data": {
      "application/vnd.jupyter.widget-view+json": {
       "model_id": "dd8bc9bd3b51472283b53daef7dadd36",
       "version_major": 2,
       "version_minor": 0
      },
      "text/plain": [
       "  0%|          | 0/1000 [00:00<?, ?it/s]"
      ]
     },
     "metadata": {},
     "output_type": "display_data"
    },
    {
     "data": {
      "application/vnd.jupyter.widget-view+json": {
       "model_id": "02f53bb712d14bd7a4761a0f366fd51c",
       "version_major": 2,
       "version_minor": 0
      },
      "text/plain": [
       "  0%|          | 0/1000 [00:00<?, ?it/s]"
      ]
     },
     "metadata": {},
     "output_type": "display_data"
    },
    {
     "data": {
      "application/vnd.jupyter.widget-view+json": {
       "model_id": "44260fe6286844db902d6232bd622e31",
       "version_major": 2,
       "version_minor": 0
      },
      "text/plain": [
       "  0%|          | 0/1000 [00:00<?, ?it/s]"
      ]
     },
     "metadata": {},
     "output_type": "display_data"
    },
    {
     "data": {
      "application/vnd.jupyter.widget-view+json": {
       "model_id": "f33b1335846949cdbe4542a8100a16fa",
       "version_major": 2,
       "version_minor": 0
      },
      "text/plain": [
       "  0%|          | 0/1000 [00:00<?, ?it/s]"
      ]
     },
     "metadata": {},
     "output_type": "display_data"
    },
    {
     "data": {
      "application/vnd.jupyter.widget-view+json": {
       "model_id": "b0d4b69ce2aa4e51a7fbb69ae5459b2e",
       "version_major": 2,
       "version_minor": 0
      },
      "text/plain": [
       "  0%|          | 0/1000 [00:00<?, ?it/s]"
      ]
     },
     "metadata": {},
     "output_type": "display_data"
    },
    {
     "data": {
      "application/vnd.jupyter.widget-view+json": {
       "model_id": "ab90642b8974409ba0386f70d2013c46",
       "version_major": 2,
       "version_minor": 0
      },
      "text/plain": [
       "  0%|          | 0/1000 [00:00<?, ?it/s]"
      ]
     },
     "metadata": {},
     "output_type": "display_data"
    },
    {
     "data": {
      "application/vnd.jupyter.widget-view+json": {
       "model_id": "204a7b098aa54368b5617a65e78db681",
       "version_major": 2,
       "version_minor": 0
      },
      "text/plain": [
       "  0%|          | 0/1000 [00:00<?, ?it/s]"
      ]
     },
     "metadata": {},
     "output_type": "display_data"
    },
    {
     "data": {
      "application/vnd.jupyter.widget-view+json": {
       "model_id": "4ae5122843f244b396863bbd1684b0ed",
       "version_major": 2,
       "version_minor": 0
      },
      "text/plain": [
       "  0%|          | 0/1000 [00:00<?, ?it/s]"
      ]
     },
     "metadata": {},
     "output_type": "display_data"
    },
    {
     "data": {
      "application/vnd.jupyter.widget-view+json": {
       "model_id": "23e397268e8f4e77beb4255638a451fc",
       "version_major": 2,
       "version_minor": 0
      },
      "text/plain": [
       "  0%|          | 0/1000 [00:00<?, ?it/s]"
      ]
     },
     "metadata": {},
     "output_type": "display_data"
    },
    {
     "data": {
      "application/vnd.jupyter.widget-view+json": {
       "model_id": "3077edfac8654c4db1756bbea7830561",
       "version_major": 2,
       "version_minor": 0
      },
      "text/plain": [
       "  0%|          | 0/1000 [00:00<?, ?it/s]"
      ]
     },
     "metadata": {},
     "output_type": "display_data"
    },
    {
     "data": {
      "application/vnd.jupyter.widget-view+json": {
       "model_id": "689c94f0767c4b6b9a1deb75aa1496c2",
       "version_major": 2,
       "version_minor": 0
      },
      "text/plain": [
       "  0%|          | 0/1000 [00:00<?, ?it/s]"
      ]
     },
     "metadata": {},
     "output_type": "display_data"
    },
    {
     "data": {
      "application/vnd.jupyter.widget-view+json": {
       "model_id": "6cc6021866454f8a95226149e0a8ca08",
       "version_major": 2,
       "version_minor": 0
      },
      "text/plain": [
       "  0%|          | 0/1000 [00:00<?, ?it/s]"
      ]
     },
     "metadata": {},
     "output_type": "display_data"
    },
    {
     "data": {
      "application/vnd.jupyter.widget-view+json": {
       "model_id": "17543d3e525e4cdaaa88bac11179bac7",
       "version_major": 2,
       "version_minor": 0
      },
      "text/plain": [
       "  0%|          | 0/1000 [00:00<?, ?it/s]"
      ]
     },
     "metadata": {},
     "output_type": "display_data"
    },
    {
     "data": {
      "application/vnd.jupyter.widget-view+json": {
       "model_id": "af6321720906466a975d35996c3b0d3e",
       "version_major": 2,
       "version_minor": 0
      },
      "text/plain": [
       "  0%|          | 0/1000 [00:00<?, ?it/s]"
      ]
     },
     "metadata": {},
     "output_type": "display_data"
    },
    {
     "data": {
      "application/vnd.jupyter.widget-view+json": {
       "model_id": "89fc426a730744abb121e2c6705564c0",
       "version_major": 2,
       "version_minor": 0
      },
      "text/plain": [
       "  0%|          | 0/1000 [00:00<?, ?it/s]"
      ]
     },
     "metadata": {},
     "output_type": "display_data"
    },
    {
     "data": {
      "application/vnd.jupyter.widget-view+json": {
       "model_id": "a24480ab78cc4378973547c6db729e43",
       "version_major": 2,
       "version_minor": 0
      },
      "text/plain": [
       "  0%|          | 0/1000 [00:00<?, ?it/s]"
      ]
     },
     "metadata": {},
     "output_type": "display_data"
    },
    {
     "data": {
      "application/vnd.jupyter.widget-view+json": {
       "model_id": "e08f8bd4a75b4db0b4b0dc783e480342",
       "version_major": 2,
       "version_minor": 0
      },
      "text/plain": [
       "  0%|          | 0/1000 [00:00<?, ?it/s]"
      ]
     },
     "metadata": {},
     "output_type": "display_data"
    },
    {
     "data": {
      "application/vnd.jupyter.widget-view+json": {
       "model_id": "08c8a73ddac94bbebcd5b5c40592a2d0",
       "version_major": 2,
       "version_minor": 0
      },
      "text/plain": [
       "  0%|          | 0/1000 [00:00<?, ?it/s]"
      ]
     },
     "metadata": {},
     "output_type": "display_data"
    },
    {
     "data": {
      "application/vnd.jupyter.widget-view+json": {
       "model_id": "47b03fb7b6b9436a8ec661e1c9edd318",
       "version_major": 2,
       "version_minor": 0
      },
      "text/plain": [
       "  0%|          | 0/1000 [00:00<?, ?it/s]"
      ]
     },
     "metadata": {},
     "output_type": "display_data"
    },
    {
     "data": {
      "application/vnd.jupyter.widget-view+json": {
       "model_id": "81409d8ba9b74e309e09d8d47d947a2c",
       "version_major": 2,
       "version_minor": 0
      },
      "text/plain": [
       "  0%|          | 0/1000 [00:00<?, ?it/s]"
      ]
     },
     "metadata": {},
     "output_type": "display_data"
    },
    {
     "data": {
      "application/vnd.jupyter.widget-view+json": {
       "model_id": "5779a1f92eca420e810d4cc76c7f2915",
       "version_major": 2,
       "version_minor": 0
      },
      "text/plain": [
       "  0%|          | 0/1000 [00:00<?, ?it/s]"
      ]
     },
     "metadata": {},
     "output_type": "display_data"
    },
    {
     "data": {
      "application/vnd.jupyter.widget-view+json": {
       "model_id": "2dd527511858484e9843817233a6dd44",
       "version_major": 2,
       "version_minor": 0
      },
      "text/plain": [
       "  0%|          | 0/1000 [00:00<?, ?it/s]"
      ]
     },
     "metadata": {},
     "output_type": "display_data"
    },
    {
     "data": {
      "application/vnd.jupyter.widget-view+json": {
       "model_id": "cecc9b27ec3b4d4aba00ce990d5eefa9",
       "version_major": 2,
       "version_minor": 0
      },
      "text/plain": [
       "  0%|          | 0/1000 [00:00<?, ?it/s]"
      ]
     },
     "metadata": {},
     "output_type": "display_data"
    },
    {
     "data": {
      "application/vnd.jupyter.widget-view+json": {
       "model_id": "a0a0cfe96ea44cab862ebfe1d00d68f5",
       "version_major": 2,
       "version_minor": 0
      },
      "text/plain": [
       "  0%|          | 0/1000 [00:00<?, ?it/s]"
      ]
     },
     "metadata": {},
     "output_type": "display_data"
    },
    {
     "data": {
      "application/vnd.jupyter.widget-view+json": {
       "model_id": "4db8202b451c4d219f392016146db6cd",
       "version_major": 2,
       "version_minor": 0
      },
      "text/plain": [
       "  0%|          | 0/1000 [00:00<?, ?it/s]"
      ]
     },
     "metadata": {},
     "output_type": "display_data"
    },
    {
     "data": {
      "application/vnd.jupyter.widget-view+json": {
       "model_id": "5ecd2bfeeb0f4b42beef419e6c270345",
       "version_major": 2,
       "version_minor": 0
      },
      "text/plain": [
       "  0%|          | 0/1000 [00:00<?, ?it/s]"
      ]
     },
     "metadata": {},
     "output_type": "display_data"
    },
    {
     "data": {
      "application/vnd.jupyter.widget-view+json": {
       "model_id": "19081810bbe1462ab7421ab9e59a690c",
       "version_major": 2,
       "version_minor": 0
      },
      "text/plain": [
       "  0%|          | 0/1000 [00:00<?, ?it/s]"
      ]
     },
     "metadata": {},
     "output_type": "display_data"
    },
    {
     "data": {
      "application/vnd.jupyter.widget-view+json": {
       "model_id": "d98a8cf6a8d144539c5df38c20899178",
       "version_major": 2,
       "version_minor": 0
      },
      "text/plain": [
       "  0%|          | 0/1000 [00:00<?, ?it/s]"
      ]
     },
     "metadata": {},
     "output_type": "display_data"
    },
    {
     "data": {
      "application/vnd.jupyter.widget-view+json": {
       "model_id": "fece29f682454d1a915ec87e778107d2",
       "version_major": 2,
       "version_minor": 0
      },
      "text/plain": [
       "  0%|          | 0/1000 [00:00<?, ?it/s]"
      ]
     },
     "metadata": {},
     "output_type": "display_data"
    },
    {
     "data": {
      "application/vnd.jupyter.widget-view+json": {
       "model_id": "621c71642da7455eb6bfcda13cb4fb22",
       "version_major": 2,
       "version_minor": 0
      },
      "text/plain": [
       "  0%|          | 0/1000 [00:00<?, ?it/s]"
      ]
     },
     "metadata": {},
     "output_type": "display_data"
    },
    {
     "data": {
      "application/vnd.jupyter.widget-view+json": {
       "model_id": "c9582c5e1bec4b9d81dbc345a1cbd687",
       "version_major": 2,
       "version_minor": 0
      },
      "text/plain": [
       "  0%|          | 0/1000 [00:00<?, ?it/s]"
      ]
     },
     "metadata": {},
     "output_type": "display_data"
    },
    {
     "data": {
      "application/vnd.jupyter.widget-view+json": {
       "model_id": "db0a90ce717244e39e19b54c484fbcba",
       "version_major": 2,
       "version_minor": 0
      },
      "text/plain": [
       "  0%|          | 0/1000 [00:00<?, ?it/s]"
      ]
     },
     "metadata": {},
     "output_type": "display_data"
    },
    {
     "data": {
      "application/vnd.jupyter.widget-view+json": {
       "model_id": "b842e45ffeb54fa7bd0e97d175ade7eb",
       "version_major": 2,
       "version_minor": 0
      },
      "text/plain": [
       "  0%|          | 0/1000 [00:00<?, ?it/s]"
      ]
     },
     "metadata": {},
     "output_type": "display_data"
    },
    {
     "data": {
      "application/vnd.jupyter.widget-view+json": {
       "model_id": "3d6c021190694004bb6f8e81f7235e78",
       "version_major": 2,
       "version_minor": 0
      },
      "text/plain": [
       "  0%|          | 0/1000 [00:00<?, ?it/s]"
      ]
     },
     "metadata": {},
     "output_type": "display_data"
    },
    {
     "data": {
      "application/vnd.jupyter.widget-view+json": {
       "model_id": "8805a9f323d949f28bfc9df1726cf3fc",
       "version_major": 2,
       "version_minor": 0
      },
      "text/plain": [
       "  0%|          | 0/1000 [00:00<?, ?it/s]"
      ]
     },
     "metadata": {},
     "output_type": "display_data"
    },
    {
     "data": {
      "application/vnd.jupyter.widget-view+json": {
       "model_id": "5fe87f24618a41f7916fa6cf75b99108",
       "version_major": 2,
       "version_minor": 0
      },
      "text/plain": [
       "  0%|          | 0/1000 [00:00<?, ?it/s]"
      ]
     },
     "metadata": {},
     "output_type": "display_data"
    },
    {
     "data": {
      "application/vnd.jupyter.widget-view+json": {
       "model_id": "c0b21b381cbe4f9eb6bfe0d9eacbbd0e",
       "version_major": 2,
       "version_minor": 0
      },
      "text/plain": [
       "  0%|          | 0/1000 [00:00<?, ?it/s]"
      ]
     },
     "metadata": {},
     "output_type": "display_data"
    },
    {
     "data": {
      "application/vnd.jupyter.widget-view+json": {
       "model_id": "cee0d70b06ee4a65a737df3ec61cb6f9",
       "version_major": 2,
       "version_minor": 0
      },
      "text/plain": [
       "  0%|          | 0/1000 [00:00<?, ?it/s]"
      ]
     },
     "metadata": {},
     "output_type": "display_data"
    },
    {
     "data": {
      "application/vnd.jupyter.widget-view+json": {
       "model_id": "4a8643860f6a49af9493766888ca2438",
       "version_major": 2,
       "version_minor": 0
      },
      "text/plain": [
       "  0%|          | 0/1000 [00:00<?, ?it/s]"
      ]
     },
     "metadata": {},
     "output_type": "display_data"
    },
    {
     "data": {
      "application/vnd.jupyter.widget-view+json": {
       "model_id": "35717b8987374cdaa67980bd2611a712",
       "version_major": 2,
       "version_minor": 0
      },
      "text/plain": [
       "  0%|          | 0/1000 [00:00<?, ?it/s]"
      ]
     },
     "metadata": {},
     "output_type": "display_data"
    },
    {
     "data": {
      "application/vnd.jupyter.widget-view+json": {
       "model_id": "836546573adf4debbbc5358f8fd7bb90",
       "version_major": 2,
       "version_minor": 0
      },
      "text/plain": [
       "  0%|          | 0/1000 [00:00<?, ?it/s]"
      ]
     },
     "metadata": {},
     "output_type": "display_data"
    },
    {
     "data": {
      "application/vnd.jupyter.widget-view+json": {
       "model_id": "e746b1eb1fc543bba94e6c98209d8f17",
       "version_major": 2,
       "version_minor": 0
      },
      "text/plain": [
       "  0%|          | 0/1000 [00:00<?, ?it/s]"
      ]
     },
     "metadata": {},
     "output_type": "display_data"
    },
    {
     "data": {
      "application/vnd.jupyter.widget-view+json": {
       "model_id": "50b6dc5ffc6a48a98e5b43cc466dcbe7",
       "version_major": 2,
       "version_minor": 0
      },
      "text/plain": [
       "  0%|          | 0/1000 [00:00<?, ?it/s]"
      ]
     },
     "metadata": {},
     "output_type": "display_data"
    },
    {
     "data": {
      "application/vnd.jupyter.widget-view+json": {
       "model_id": "840abf11c47843cd819c37756ceadd55",
       "version_major": 2,
       "version_minor": 0
      },
      "text/plain": [
       "  0%|          | 0/1000 [00:00<?, ?it/s]"
      ]
     },
     "metadata": {},
     "output_type": "display_data"
    },
    {
     "data": {
      "application/vnd.jupyter.widget-view+json": {
       "model_id": "ccaa5d82bec1454d868ea2e58e071cb5",
       "version_major": 2,
       "version_minor": 0
      },
      "text/plain": [
       "  0%|          | 0/1000 [00:00<?, ?it/s]"
      ]
     },
     "metadata": {},
     "output_type": "display_data"
    },
    {
     "data": {
      "application/vnd.jupyter.widget-view+json": {
       "model_id": "0f541c169bb84c38b6d621b7d415ff4e",
       "version_major": 2,
       "version_minor": 0
      },
      "text/plain": [
       "  0%|          | 0/1000 [00:00<?, ?it/s]"
      ]
     },
     "metadata": {},
     "output_type": "display_data"
    },
    {
     "data": {
      "application/vnd.jupyter.widget-view+json": {
       "model_id": "bf1e078552c24a449b6b11f082f97ce4",
       "version_major": 2,
       "version_minor": 0
      },
      "text/plain": [
       "  0%|          | 0/1000 [00:00<?, ?it/s]"
      ]
     },
     "metadata": {},
     "output_type": "display_data"
    },
    {
     "data": {
      "application/vnd.jupyter.widget-view+json": {
       "model_id": "2439d3516aa84dd48eb9f859f7de6f2d",
       "version_major": 2,
       "version_minor": 0
      },
      "text/plain": [
       "  0%|          | 0/1000 [00:00<?, ?it/s]"
      ]
     },
     "metadata": {},
     "output_type": "display_data"
    },
    {
     "data": {
      "application/vnd.jupyter.widget-view+json": {
       "model_id": "741536c9a3b34fdc8928fbf6a4c160db",
       "version_major": 2,
       "version_minor": 0
      },
      "text/plain": [
       "  0%|          | 0/1000 [00:00<?, ?it/s]"
      ]
     },
     "metadata": {},
     "output_type": "display_data"
    },
    {
     "data": {
      "application/vnd.jupyter.widget-view+json": {
       "model_id": "c69bd9e6d72c430daab220782bfdebd1",
       "version_major": 2,
       "version_minor": 0
      },
      "text/plain": [
       "  0%|          | 0/1000 [00:00<?, ?it/s]"
      ]
     },
     "metadata": {},
     "output_type": "display_data"
    },
    {
     "data": {
      "application/vnd.jupyter.widget-view+json": {
       "model_id": "70aa2cabb324486f82b4b4236b014094",
       "version_major": 2,
       "version_minor": 0
      },
      "text/plain": [
       "  0%|          | 0/1000 [00:00<?, ?it/s]"
      ]
     },
     "metadata": {},
     "output_type": "display_data"
    },
    {
     "data": {
      "application/vnd.jupyter.widget-view+json": {
       "model_id": "356fe297635b4b438ddc4eded349608c",
       "version_major": 2,
       "version_minor": 0
      },
      "text/plain": [
       "  0%|          | 0/1000 [00:00<?, ?it/s]"
      ]
     },
     "metadata": {},
     "output_type": "display_data"
    },
    {
     "data": {
      "application/vnd.jupyter.widget-view+json": {
       "model_id": "ed00f77c1230411eba3bc871065052ae",
       "version_major": 2,
       "version_minor": 0
      },
      "text/plain": [
       "  0%|          | 0/1000 [00:00<?, ?it/s]"
      ]
     },
     "metadata": {},
     "output_type": "display_data"
    },
    {
     "data": {
      "application/vnd.jupyter.widget-view+json": {
       "model_id": "03b956ef467a416f8824546579e84f59",
       "version_major": 2,
       "version_minor": 0
      },
      "text/plain": [
       "  0%|          | 0/1000 [00:00<?, ?it/s]"
      ]
     },
     "metadata": {},
     "output_type": "display_data"
    },
    {
     "data": {
      "application/vnd.jupyter.widget-view+json": {
       "model_id": "9167b3be87b44ab3863aa1b0cfb125fb",
       "version_major": 2,
       "version_minor": 0
      },
      "text/plain": [
       "  0%|          | 0/1000 [00:00<?, ?it/s]"
      ]
     },
     "metadata": {},
     "output_type": "display_data"
    },
    {
     "data": {
      "application/vnd.jupyter.widget-view+json": {
       "model_id": "6c80811a5b7a4b71b705fb822d8205bd",
       "version_major": 2,
       "version_minor": 0
      },
      "text/plain": [
       "  0%|          | 0/1000 [00:00<?, ?it/s]"
      ]
     },
     "metadata": {},
     "output_type": "display_data"
    },
    {
     "data": {
      "application/vnd.jupyter.widget-view+json": {
       "model_id": "d9203e4a7c694f9aab60d7e46d3dcc18",
       "version_major": 2,
       "version_minor": 0
      },
      "text/plain": [
       "  0%|          | 0/1000 [00:00<?, ?it/s]"
      ]
     },
     "metadata": {},
     "output_type": "display_data"
    },
    {
     "data": {
      "application/vnd.jupyter.widget-view+json": {
       "model_id": "b54e200c0e4341478078c1026eccf8fe",
       "version_major": 2,
       "version_minor": 0
      },
      "text/plain": [
       "  0%|          | 0/1000 [00:00<?, ?it/s]"
      ]
     },
     "metadata": {},
     "output_type": "display_data"
    },
    {
     "data": {
      "application/vnd.jupyter.widget-view+json": {
       "model_id": "13958c3f10cc432588805d68e7c754ca",
       "version_major": 2,
       "version_minor": 0
      },
      "text/plain": [
       "  0%|          | 0/1000 [00:00<?, ?it/s]"
      ]
     },
     "metadata": {},
     "output_type": "display_data"
    },
    {
     "data": {
      "application/vnd.jupyter.widget-view+json": {
       "model_id": "c875fa13052b40b286e516683ba54b0b",
       "version_major": 2,
       "version_minor": 0
      },
      "text/plain": [
       "  0%|          | 0/1000 [00:00<?, ?it/s]"
      ]
     },
     "metadata": {},
     "output_type": "display_data"
    },
    {
     "data": {
      "application/vnd.jupyter.widget-view+json": {
       "model_id": "7d3f9463c00c4df2ba4cf5d7342eb0c8",
       "version_major": 2,
       "version_minor": 0
      },
      "text/plain": [
       "  0%|          | 0/1000 [00:00<?, ?it/s]"
      ]
     },
     "metadata": {},
     "output_type": "display_data"
    },
    {
     "data": {
      "application/vnd.jupyter.widget-view+json": {
       "model_id": "d746d03535484698bd53ef1b722b5f39",
       "version_major": 2,
       "version_minor": 0
      },
      "text/plain": [
       "  0%|          | 0/1000 [00:00<?, ?it/s]"
      ]
     },
     "metadata": {},
     "output_type": "display_data"
    },
    {
     "data": {
      "application/vnd.jupyter.widget-view+json": {
       "model_id": "a124d466380e4bea866a394a4fc2e4a7",
       "version_major": 2,
       "version_minor": 0
      },
      "text/plain": [
       "  0%|          | 0/1000 [00:00<?, ?it/s]"
      ]
     },
     "metadata": {},
     "output_type": "display_data"
    },
    {
     "data": {
      "application/vnd.jupyter.widget-view+json": {
       "model_id": "bef3ea5b31fa4c638d3a8c442938c0de",
       "version_major": 2,
       "version_minor": 0
      },
      "text/plain": [
       "  0%|          | 0/1000 [00:00<?, ?it/s]"
      ]
     },
     "metadata": {},
     "output_type": "display_data"
    },
    {
     "data": {
      "application/vnd.jupyter.widget-view+json": {
       "model_id": "0d4bf9a8de594290968884fa4ba86ff8",
       "version_major": 2,
       "version_minor": 0
      },
      "text/plain": [
       "  0%|          | 0/1000 [00:00<?, ?it/s]"
      ]
     },
     "metadata": {},
     "output_type": "display_data"
    },
    {
     "data": {
      "application/vnd.jupyter.widget-view+json": {
       "model_id": "43de19e030424006a79d06531a53e7dd",
       "version_major": 2,
       "version_minor": 0
      },
      "text/plain": [
       "  0%|          | 0/1000 [00:00<?, ?it/s]"
      ]
     },
     "metadata": {},
     "output_type": "display_data"
    },
    {
     "data": {
      "application/vnd.jupyter.widget-view+json": {
       "model_id": "e458f2d9cc50475fafe534dfa127ee2a",
       "version_major": 2,
       "version_minor": 0
      },
      "text/plain": [
       "  0%|          | 0/1000 [00:00<?, ?it/s]"
      ]
     },
     "metadata": {},
     "output_type": "display_data"
    },
    {
     "data": {
      "application/vnd.jupyter.widget-view+json": {
       "model_id": "326840c4cc074e6f95711d1cc5fd1a7c",
       "version_major": 2,
       "version_minor": 0
      },
      "text/plain": [
       "  0%|          | 0/1000 [00:00<?, ?it/s]"
      ]
     },
     "metadata": {},
     "output_type": "display_data"
    },
    {
     "data": {
      "application/vnd.jupyter.widget-view+json": {
       "model_id": "c9f25fbad45744e4a1942265bef8f06d",
       "version_major": 2,
       "version_minor": 0
      },
      "text/plain": [
       "  0%|          | 0/1000 [00:00<?, ?it/s]"
      ]
     },
     "metadata": {},
     "output_type": "display_data"
    },
    {
     "data": {
      "application/vnd.jupyter.widget-view+json": {
       "model_id": "04171f4fe1b24384be24520b9bdcf2a8",
       "version_major": 2,
       "version_minor": 0
      },
      "text/plain": [
       "  0%|          | 0/1000 [00:00<?, ?it/s]"
      ]
     },
     "metadata": {},
     "output_type": "display_data"
    },
    {
     "data": {
      "application/vnd.jupyter.widget-view+json": {
       "model_id": "42f9997df7404094ab461e320fc37af9",
       "version_major": 2,
       "version_minor": 0
      },
      "text/plain": [
       "  0%|          | 0/1000 [00:00<?, ?it/s]"
      ]
     },
     "metadata": {},
     "output_type": "display_data"
    },
    {
     "data": {
      "application/vnd.jupyter.widget-view+json": {
       "model_id": "96a18298988e4c5b9359318b9d7133cd",
       "version_major": 2,
       "version_minor": 0
      },
      "text/plain": [
       "  0%|          | 0/1000 [00:00<?, ?it/s]"
      ]
     },
     "metadata": {},
     "output_type": "display_data"
    },
    {
     "data": {
      "application/vnd.jupyter.widget-view+json": {
       "model_id": "cd99c0a6c49b4fc38b52c0a556b3de2e",
       "version_major": 2,
       "version_minor": 0
      },
      "text/plain": [
       "  0%|          | 0/1000 [00:00<?, ?it/s]"
      ]
     },
     "metadata": {},
     "output_type": "display_data"
    },
    {
     "data": {
      "application/vnd.jupyter.widget-view+json": {
       "model_id": "307e2dd8ab0248698a1bc17242f27be3",
       "version_major": 2,
       "version_minor": 0
      },
      "text/plain": [
       "  0%|          | 0/1000 [00:00<?, ?it/s]"
      ]
     },
     "metadata": {},
     "output_type": "display_data"
    },
    {
     "data": {
      "application/vnd.jupyter.widget-view+json": {
       "model_id": "cc3ca365f14f4e26beefb32fa2b47d8e",
       "version_major": 2,
       "version_minor": 0
      },
      "text/plain": [
       "  0%|          | 0/1000 [00:00<?, ?it/s]"
      ]
     },
     "metadata": {},
     "output_type": "display_data"
    },
    {
     "data": {
      "application/vnd.jupyter.widget-view+json": {
       "model_id": "99e8d5404a834e6990b51c2b31f8004f",
       "version_major": 2,
       "version_minor": 0
      },
      "text/plain": [
       "  0%|          | 0/1000 [00:00<?, ?it/s]"
      ]
     },
     "metadata": {},
     "output_type": "display_data"
    },
    {
     "data": {
      "application/vnd.jupyter.widget-view+json": {
       "model_id": "108bf51a920048bc93254c6e7d841b41",
       "version_major": 2,
       "version_minor": 0
      },
      "text/plain": [
       "  0%|          | 0/1000 [00:00<?, ?it/s]"
      ]
     },
     "metadata": {},
     "output_type": "display_data"
    },
    {
     "data": {
      "application/vnd.jupyter.widget-view+json": {
       "model_id": "44383f49a5034c7396c73a16f8849edd",
       "version_major": 2,
       "version_minor": 0
      },
      "text/plain": [
       "  0%|          | 0/1000 [00:00<?, ?it/s]"
      ]
     },
     "metadata": {},
     "output_type": "display_data"
    },
    {
     "data": {
      "application/vnd.jupyter.widget-view+json": {
       "model_id": "ee37a0d5db2b4031b0ecdcb75301b32d",
       "version_major": 2,
       "version_minor": 0
      },
      "text/plain": [
       "  0%|          | 0/1000 [00:00<?, ?it/s]"
      ]
     },
     "metadata": {},
     "output_type": "display_data"
    },
    {
     "data": {
      "application/vnd.jupyter.widget-view+json": {
       "model_id": "3afc276ff2294e6f98a492dd4147a9be",
       "version_major": 2,
       "version_minor": 0
      },
      "text/plain": [
       "  0%|          | 0/1000 [00:00<?, ?it/s]"
      ]
     },
     "metadata": {},
     "output_type": "display_data"
    },
    {
     "data": {
      "application/vnd.jupyter.widget-view+json": {
       "model_id": "8a9ea6f32a304b1e8ed122608d9fcad7",
       "version_major": 2,
       "version_minor": 0
      },
      "text/plain": [
       "  0%|          | 0/1000 [00:00<?, ?it/s]"
      ]
     },
     "metadata": {},
     "output_type": "display_data"
    },
    {
     "data": {
      "application/vnd.jupyter.widget-view+json": {
       "model_id": "eae11f9ebfea4a0a8fccb8b028ba1c0b",
       "version_major": 2,
       "version_minor": 0
      },
      "text/plain": [
       "  0%|          | 0/1000 [00:00<?, ?it/s]"
      ]
     },
     "metadata": {},
     "output_type": "display_data"
    },
    {
     "data": {
      "application/vnd.jupyter.widget-view+json": {
       "model_id": "91d30d0e882345b0a20ae1c80fa03220",
       "version_major": 2,
       "version_minor": 0
      },
      "text/plain": [
       "  0%|          | 0/1000 [00:00<?, ?it/s]"
      ]
     },
     "metadata": {},
     "output_type": "display_data"
    },
    {
     "data": {
      "application/vnd.jupyter.widget-view+json": {
       "model_id": "9f4a9c14e8084781980a1010a30722fb",
       "version_major": 2,
       "version_minor": 0
      },
      "text/plain": [
       "  0%|          | 0/1000 [00:00<?, ?it/s]"
      ]
     },
     "metadata": {},
     "output_type": "display_data"
    },
    {
     "data": {
      "application/vnd.jupyter.widget-view+json": {
       "model_id": "3d37209234f648bfaf5d76c85dcea31c",
       "version_major": 2,
       "version_minor": 0
      },
      "text/plain": [
       "  0%|          | 0/1000 [00:00<?, ?it/s]"
      ]
     },
     "metadata": {},
     "output_type": "display_data"
    },
    {
     "data": {
      "application/vnd.jupyter.widget-view+json": {
       "model_id": "bc9c500992224dbdbd4340202e2a996e",
       "version_major": 2,
       "version_minor": 0
      },
      "text/plain": [
       "  0%|          | 0/1000 [00:00<?, ?it/s]"
      ]
     },
     "metadata": {},
     "output_type": "display_data"
    },
    {
     "data": {
      "application/vnd.jupyter.widget-view+json": {
       "model_id": "61836f88d46849c9a1eb3165d34e89b8",
       "version_major": 2,
       "version_minor": 0
      },
      "text/plain": [
       "  0%|          | 0/1000 [00:00<?, ?it/s]"
      ]
     },
     "metadata": {},
     "output_type": "display_data"
    },
    {
     "data": {
      "application/vnd.jupyter.widget-view+json": {
       "model_id": "5f8965481b224b5fa605fc1793c5b62e",
       "version_major": 2,
       "version_minor": 0
      },
      "text/plain": [
       "  0%|          | 0/1000 [00:00<?, ?it/s]"
      ]
     },
     "metadata": {},
     "output_type": "display_data"
    },
    {
     "data": {
      "application/vnd.jupyter.widget-view+json": {
       "model_id": "255e8e149d634742bfb6a25d8fa42f93",
       "version_major": 2,
       "version_minor": 0
      },
      "text/plain": [
       "  0%|          | 0/1000 [00:00<?, ?it/s]"
      ]
     },
     "metadata": {},
     "output_type": "display_data"
    },
    {
     "data": {
      "application/vnd.jupyter.widget-view+json": {
       "model_id": "374956a64508449786f5952b9d990c52",
       "version_major": 2,
       "version_minor": 0
      },
      "text/plain": [
       "  0%|          | 0/1000 [00:00<?, ?it/s]"
      ]
     },
     "metadata": {},
     "output_type": "display_data"
    },
    {
     "data": {
      "application/vnd.jupyter.widget-view+json": {
       "model_id": "b61d8036a9a144e9b74a2cc5bc511a49",
       "version_major": 2,
       "version_minor": 0
      },
      "text/plain": [
       "  0%|          | 0/1000 [00:00<?, ?it/s]"
      ]
     },
     "metadata": {},
     "output_type": "display_data"
    },
    {
     "data": {
      "application/vnd.jupyter.widget-view+json": {
       "model_id": "eed4e5d0364d4e43b3dd8eb4e4658df6",
       "version_major": 2,
       "version_minor": 0
      },
      "text/plain": [
       "  0%|          | 0/1000 [00:00<?, ?it/s]"
      ]
     },
     "metadata": {},
     "output_type": "display_data"
    },
    {
     "data": {
      "application/vnd.jupyter.widget-view+json": {
       "model_id": "257cea69b20c43a8a8095fa647c5412a",
       "version_major": 2,
       "version_minor": 0
      },
      "text/plain": [
       "  0%|          | 0/1000 [00:00<?, ?it/s]"
      ]
     },
     "metadata": {},
     "output_type": "display_data"
    },
    {
     "data": {
      "application/vnd.jupyter.widget-view+json": {
       "model_id": "3d387b3c5d4f4edd885223623787882c",
       "version_major": 2,
       "version_minor": 0
      },
      "text/plain": [
       "  0%|          | 0/1000 [00:00<?, ?it/s]"
      ]
     },
     "metadata": {},
     "output_type": "display_data"
    },
    {
     "data": {
      "application/vnd.jupyter.widget-view+json": {
       "model_id": "25d95bfa6e3947b6bb6c7e2701140659",
       "version_major": 2,
       "version_minor": 0
      },
      "text/plain": [
       "  0%|          | 0/1000 [00:00<?, ?it/s]"
      ]
     },
     "metadata": {},
     "output_type": "display_data"
    },
    {
     "data": {
      "application/vnd.jupyter.widget-view+json": {
       "model_id": "01db310fced14b849730dd0c43e0ad49",
       "version_major": 2,
       "version_minor": 0
      },
      "text/plain": [
       "  0%|          | 0/1000 [00:00<?, ?it/s]"
      ]
     },
     "metadata": {},
     "output_type": "display_data"
    },
    {
     "data": {
      "application/vnd.jupyter.widget-view+json": {
       "model_id": "f185108217954128a6b532a61be06d62",
       "version_major": 2,
       "version_minor": 0
      },
      "text/plain": [
       "  0%|          | 0/1000 [00:00<?, ?it/s]"
      ]
     },
     "metadata": {},
     "output_type": "display_data"
    },
    {
     "data": {
      "application/vnd.jupyter.widget-view+json": {
       "model_id": "f73e238ac0eb45c3bba171209c8d5736",
       "version_major": 2,
       "version_minor": 0
      },
      "text/plain": [
       "  0%|          | 0/1000 [00:00<?, ?it/s]"
      ]
     },
     "metadata": {},
     "output_type": "display_data"
    },
    {
     "data": {
      "application/vnd.jupyter.widget-view+json": {
       "model_id": "3cc184faae4f4fb584234c69acd51b50",
       "version_major": 2,
       "version_minor": 0
      },
      "text/plain": [
       "  0%|          | 0/1000 [00:00<?, ?it/s]"
      ]
     },
     "metadata": {},
     "output_type": "display_data"
    },
    {
     "data": {
      "application/vnd.jupyter.widget-view+json": {
       "model_id": "ecddd667d6f94e32831bf2157e7b51c0",
       "version_major": 2,
       "version_minor": 0
      },
      "text/plain": [
       "  0%|          | 0/1000 [00:00<?, ?it/s]"
      ]
     },
     "metadata": {},
     "output_type": "display_data"
    },
    {
     "data": {
      "application/vnd.jupyter.widget-view+json": {
       "model_id": "143926375f6e4a58b866fbe2c90f2a52",
       "version_major": 2,
       "version_minor": 0
      },
      "text/plain": [
       "  0%|          | 0/1000 [00:00<?, ?it/s]"
      ]
     },
     "metadata": {},
     "output_type": "display_data"
    },
    {
     "data": {
      "application/vnd.jupyter.widget-view+json": {
       "model_id": "c9a56395b46d495291ac2253d5f0fa58",
       "version_major": 2,
       "version_minor": 0
      },
      "text/plain": [
       "  0%|          | 0/1000 [00:00<?, ?it/s]"
      ]
     },
     "metadata": {},
     "output_type": "display_data"
    },
    {
     "data": {
      "application/vnd.jupyter.widget-view+json": {
       "model_id": "cefd461057a14451b79784c8dc4becd7",
       "version_major": 2,
       "version_minor": 0
      },
      "text/plain": [
       "  0%|          | 0/1000 [00:00<?, ?it/s]"
      ]
     },
     "metadata": {},
     "output_type": "display_data"
    },
    {
     "data": {
      "application/vnd.jupyter.widget-view+json": {
       "model_id": "01510f6571f14284aade5dcd4b79921e",
       "version_major": 2,
       "version_minor": 0
      },
      "text/plain": [
       "  0%|          | 0/1000 [00:00<?, ?it/s]"
      ]
     },
     "metadata": {},
     "output_type": "display_data"
    },
    {
     "data": {
      "application/vnd.jupyter.widget-view+json": {
       "model_id": "18d820df86f343258b51cbc7970d56a9",
       "version_major": 2,
       "version_minor": 0
      },
      "text/plain": [
       "  0%|          | 0/1000 [00:00<?, ?it/s]"
      ]
     },
     "metadata": {},
     "output_type": "display_data"
    },
    {
     "data": {
      "application/vnd.jupyter.widget-view+json": {
       "model_id": "cd4fa7b6cb5a4e68918ecb1028ae501b",
       "version_major": 2,
       "version_minor": 0
      },
      "text/plain": [
       "  0%|          | 0/1000 [00:00<?, ?it/s]"
      ]
     },
     "metadata": {},
     "output_type": "display_data"
    },
    {
     "data": {
      "application/vnd.jupyter.widget-view+json": {
       "model_id": "83b50a6b9632408eaa14e88837abd9ab",
       "version_major": 2,
       "version_minor": 0
      },
      "text/plain": [
       "  0%|          | 0/1000 [00:00<?, ?it/s]"
      ]
     },
     "metadata": {},
     "output_type": "display_data"
    },
    {
     "data": {
      "application/vnd.jupyter.widget-view+json": {
       "model_id": "249d1826062e4f01a6dd8a330992aaa4",
       "version_major": 2,
       "version_minor": 0
      },
      "text/plain": [
       "  0%|          | 0/1000 [00:00<?, ?it/s]"
      ]
     },
     "metadata": {},
     "output_type": "display_data"
    },
    {
     "data": {
      "application/vnd.jupyter.widget-view+json": {
       "model_id": "60ab5fdd84e04aa9b07399b6c92c3f87",
       "version_major": 2,
       "version_minor": 0
      },
      "text/plain": [
       "  0%|          | 0/1000 [00:00<?, ?it/s]"
      ]
     },
     "metadata": {},
     "output_type": "display_data"
    },
    {
     "data": {
      "application/vnd.jupyter.widget-view+json": {
       "model_id": "e079b4168e9f49afac77dbc12e584255",
       "version_major": 2,
       "version_minor": 0
      },
      "text/plain": [
       "  0%|          | 0/1000 [00:00<?, ?it/s]"
      ]
     },
     "metadata": {},
     "output_type": "display_data"
    },
    {
     "data": {
      "application/vnd.jupyter.widget-view+json": {
       "model_id": "0bb76541fba74f469f6903efc7a0af5b",
       "version_major": 2,
       "version_minor": 0
      },
      "text/plain": [
       "  0%|          | 0/1000 [00:00<?, ?it/s]"
      ]
     },
     "metadata": {},
     "output_type": "display_data"
    },
    {
     "data": {
      "application/vnd.jupyter.widget-view+json": {
       "model_id": "92700197ad824b38acf1069eec7e1d6f",
       "version_major": 2,
       "version_minor": 0
      },
      "text/plain": [
       "  0%|          | 0/1000 [00:00<?, ?it/s]"
      ]
     },
     "metadata": {},
     "output_type": "display_data"
    },
    {
     "data": {
      "application/vnd.jupyter.widget-view+json": {
       "model_id": "6c634017199648aaa72ce47f0473b87b",
       "version_major": 2,
       "version_minor": 0
      },
      "text/plain": [
       "  0%|          | 0/1000 [00:00<?, ?it/s]"
      ]
     },
     "metadata": {},
     "output_type": "display_data"
    },
    {
     "data": {
      "application/vnd.jupyter.widget-view+json": {
       "model_id": "20ac2a9eb5ef4597962e94913e50232e",
       "version_major": 2,
       "version_minor": 0
      },
      "text/plain": [
       "  0%|          | 0/1000 [00:00<?, ?it/s]"
      ]
     },
     "metadata": {},
     "output_type": "display_data"
    },
    {
     "data": {
      "application/vnd.jupyter.widget-view+json": {
       "model_id": "da2e78a90c384378b3c7606f82b7a295",
       "version_major": 2,
       "version_minor": 0
      },
      "text/plain": [
       "  0%|          | 0/1000 [00:00<?, ?it/s]"
      ]
     },
     "metadata": {},
     "output_type": "display_data"
    },
    {
     "data": {
      "application/vnd.jupyter.widget-view+json": {
       "model_id": "8483f4da3cf3444cb463ab2b13eb498a",
       "version_major": 2,
       "version_minor": 0
      },
      "text/plain": [
       "  0%|          | 0/1000 [00:00<?, ?it/s]"
      ]
     },
     "metadata": {},
     "output_type": "display_data"
    },
    {
     "data": {
      "application/vnd.jupyter.widget-view+json": {
       "model_id": "4bdf2912bb094da4898fc9f67a0b1f98",
       "version_major": 2,
       "version_minor": 0
      },
      "text/plain": [
       "  0%|          | 0/1000 [00:00<?, ?it/s]"
      ]
     },
     "metadata": {},
     "output_type": "display_data"
    },
    {
     "data": {
      "application/vnd.jupyter.widget-view+json": {
       "model_id": "325cb5807de44264a0351e6cee6daebb",
       "version_major": 2,
       "version_minor": 0
      },
      "text/plain": [
       "  0%|          | 0/1000 [00:00<?, ?it/s]"
      ]
     },
     "metadata": {},
     "output_type": "display_data"
    },
    {
     "data": {
      "application/vnd.jupyter.widget-view+json": {
       "model_id": "0005a59a232349829ad60941a1037bca",
       "version_major": 2,
       "version_minor": 0
      },
      "text/plain": [
       "  0%|          | 0/1000 [00:00<?, ?it/s]"
      ]
     },
     "metadata": {},
     "output_type": "display_data"
    },
    {
     "data": {
      "application/vnd.jupyter.widget-view+json": {
       "model_id": "4f8df322cf5d4732bde40a6a3f877ec5",
       "version_major": 2,
       "version_minor": 0
      },
      "text/plain": [
       "  0%|          | 0/1000 [00:00<?, ?it/s]"
      ]
     },
     "metadata": {},
     "output_type": "display_data"
    },
    {
     "data": {
      "application/vnd.jupyter.widget-view+json": {
       "model_id": "b6c8d6b1fe8b4fb48351f22de1f73f7a",
       "version_major": 2,
       "version_minor": 0
      },
      "text/plain": [
       "  0%|          | 0/1000 [00:00<?, ?it/s]"
      ]
     },
     "metadata": {},
     "output_type": "display_data"
    },
    {
     "data": {
      "application/vnd.jupyter.widget-view+json": {
       "model_id": "25753ed17a7d4fd48265f73acd90b517",
       "version_major": 2,
       "version_minor": 0
      },
      "text/plain": [
       "  0%|          | 0/1000 [00:00<?, ?it/s]"
      ]
     },
     "metadata": {},
     "output_type": "display_data"
    },
    {
     "data": {
      "application/vnd.jupyter.widget-view+json": {
       "model_id": "17a1eda49cf14665992a3e8b0a46b171",
       "version_major": 2,
       "version_minor": 0
      },
      "text/plain": [
       "  0%|          | 0/1000 [00:00<?, ?it/s]"
      ]
     },
     "metadata": {},
     "output_type": "display_data"
    },
    {
     "data": {
      "application/vnd.jupyter.widget-view+json": {
       "model_id": "66413529f68a47608eb5f178d9b287da",
       "version_major": 2,
       "version_minor": 0
      },
      "text/plain": [
       "  0%|          | 0/1000 [00:00<?, ?it/s]"
      ]
     },
     "metadata": {},
     "output_type": "display_data"
    },
    {
     "data": {
      "application/vnd.jupyter.widget-view+json": {
       "model_id": "abea31b807694ea48aa42b3475d959b9",
       "version_major": 2,
       "version_minor": 0
      },
      "text/plain": [
       "  0%|          | 0/1000 [00:00<?, ?it/s]"
      ]
     },
     "metadata": {},
     "output_type": "display_data"
    },
    {
     "data": {
      "application/vnd.jupyter.widget-view+json": {
       "model_id": "847e8f9c981e428c997dbf97a17377b6",
       "version_major": 2,
       "version_minor": 0
      },
      "text/plain": [
       "  0%|          | 0/1000 [00:00<?, ?it/s]"
      ]
     },
     "metadata": {},
     "output_type": "display_data"
    },
    {
     "data": {
      "application/vnd.jupyter.widget-view+json": {
       "model_id": "60a1b18b91834757bb9cffc459935738",
       "version_major": 2,
       "version_minor": 0
      },
      "text/plain": [
       "  0%|          | 0/1000 [00:00<?, ?it/s]"
      ]
     },
     "metadata": {},
     "output_type": "display_data"
    },
    {
     "data": {
      "application/vnd.jupyter.widget-view+json": {
       "model_id": "bbf220544b5c4bd1ae87bd8462457296",
       "version_major": 2,
       "version_minor": 0
      },
      "text/plain": [
       "  0%|          | 0/1000 [00:00<?, ?it/s]"
      ]
     },
     "metadata": {},
     "output_type": "display_data"
    },
    {
     "data": {
      "application/vnd.jupyter.widget-view+json": {
       "model_id": "9f0d83fb7692478eb985fcbaefd63f8a",
       "version_major": 2,
       "version_minor": 0
      },
      "text/plain": [
       "  0%|          | 0/1000 [00:00<?, ?it/s]"
      ]
     },
     "metadata": {},
     "output_type": "display_data"
    },
    {
     "data": {
      "application/vnd.jupyter.widget-view+json": {
       "model_id": "5a180d01a43443138bc623b2c506b5d9",
       "version_major": 2,
       "version_minor": 0
      },
      "text/plain": [
       "  0%|          | 0/1000 [00:00<?, ?it/s]"
      ]
     },
     "metadata": {},
     "output_type": "display_data"
    },
    {
     "data": {
      "application/vnd.jupyter.widget-view+json": {
       "model_id": "b0870d2c69e94275bc5917b3eb16b608",
       "version_major": 2,
       "version_minor": 0
      },
      "text/plain": [
       "  0%|          | 0/1000 [00:00<?, ?it/s]"
      ]
     },
     "metadata": {},
     "output_type": "display_data"
    },
    {
     "data": {
      "application/vnd.jupyter.widget-view+json": {
       "model_id": "875979285e14450d8490ba8fec571b4e",
       "version_major": 2,
       "version_minor": 0
      },
      "text/plain": [
       "  0%|          | 0/1000 [00:00<?, ?it/s]"
      ]
     },
     "metadata": {},
     "output_type": "display_data"
    },
    {
     "data": {
      "application/vnd.jupyter.widget-view+json": {
       "model_id": "5010307affb94479927218fc3ae598be",
       "version_major": 2,
       "version_minor": 0
      },
      "text/plain": [
       "  0%|          | 0/1000 [00:00<?, ?it/s]"
      ]
     },
     "metadata": {},
     "output_type": "display_data"
    },
    {
     "data": {
      "application/vnd.jupyter.widget-view+json": {
       "model_id": "f9d7823f2de145a38ec9e2f15504bf78",
       "version_major": 2,
       "version_minor": 0
      },
      "text/plain": [
       "  0%|          | 0/1000 [00:00<?, ?it/s]"
      ]
     },
     "metadata": {},
     "output_type": "display_data"
    },
    {
     "data": {
      "application/vnd.jupyter.widget-view+json": {
       "model_id": "937094b8afdc4f2190d1f04802d7157e",
       "version_major": 2,
       "version_minor": 0
      },
      "text/plain": [
       "  0%|          | 0/1000 [00:00<?, ?it/s]"
      ]
     },
     "metadata": {},
     "output_type": "display_data"
    },
    {
     "data": {
      "application/vnd.jupyter.widget-view+json": {
       "model_id": "2f33fb9964cb461c9297fe03e1eca0f3",
       "version_major": 2,
       "version_minor": 0
      },
      "text/plain": [
       "  0%|          | 0/1000 [00:00<?, ?it/s]"
      ]
     },
     "metadata": {},
     "output_type": "display_data"
    },
    {
     "data": {
      "application/vnd.jupyter.widget-view+json": {
       "model_id": "295c76fc686a403fa1ba76efa954bb60",
       "version_major": 2,
       "version_minor": 0
      },
      "text/plain": [
       "  0%|          | 0/1000 [00:00<?, ?it/s]"
      ]
     },
     "metadata": {},
     "output_type": "display_data"
    },
    {
     "data": {
      "application/vnd.jupyter.widget-view+json": {
       "model_id": "9a8fa1be742843c1939fcc0ef55e6a4f",
       "version_major": 2,
       "version_minor": 0
      },
      "text/plain": [
       "  0%|          | 0/1000 [00:00<?, ?it/s]"
      ]
     },
     "metadata": {},
     "output_type": "display_data"
    },
    {
     "data": {
      "application/vnd.jupyter.widget-view+json": {
       "model_id": "fbc334cfaec9410ab210d83c6314a246",
       "version_major": 2,
       "version_minor": 0
      },
      "text/plain": [
       "  0%|          | 0/1000 [00:00<?, ?it/s]"
      ]
     },
     "metadata": {},
     "output_type": "display_data"
    },
    {
     "data": {
      "application/vnd.jupyter.widget-view+json": {
       "model_id": "38eaf8385cb24e8d95cd00cd5567ae93",
       "version_major": 2,
       "version_minor": 0
      },
      "text/plain": [
       "  0%|          | 0/1000 [00:00<?, ?it/s]"
      ]
     },
     "metadata": {},
     "output_type": "display_data"
    },
    {
     "data": {
      "application/vnd.jupyter.widget-view+json": {
       "model_id": "0687e741c4044adb9cca48cd52049f1a",
       "version_major": 2,
       "version_minor": 0
      },
      "text/plain": [
       "  0%|          | 0/1000 [00:00<?, ?it/s]"
      ]
     },
     "metadata": {},
     "output_type": "display_data"
    },
    {
     "data": {
      "application/vnd.jupyter.widget-view+json": {
       "model_id": "bc39f6f358074c9985f43f41f9d2c5cb",
       "version_major": 2,
       "version_minor": 0
      },
      "text/plain": [
       "  0%|          | 0/1000 [00:00<?, ?it/s]"
      ]
     },
     "metadata": {},
     "output_type": "display_data"
    },
    {
     "data": {
      "application/vnd.jupyter.widget-view+json": {
       "model_id": "d1b551b6f736468e90320902695305f3",
       "version_major": 2,
       "version_minor": 0
      },
      "text/plain": [
       "  0%|          | 0/1000 [00:00<?, ?it/s]"
      ]
     },
     "metadata": {},
     "output_type": "display_data"
    },
    {
     "data": {
      "application/vnd.jupyter.widget-view+json": {
       "model_id": "feaf6345489a44a8a340027a1b0ad47a",
       "version_major": 2,
       "version_minor": 0
      },
      "text/plain": [
       "  0%|          | 0/1000 [00:00<?, ?it/s]"
      ]
     },
     "metadata": {},
     "output_type": "display_data"
    },
    {
     "data": {
      "application/vnd.jupyter.widget-view+json": {
       "model_id": "b56c5e0675ed4c29a8bcd0cf0ac05194",
       "version_major": 2,
       "version_minor": 0
      },
      "text/plain": [
       "  0%|          | 0/1000 [00:00<?, ?it/s]"
      ]
     },
     "metadata": {},
     "output_type": "display_data"
    },
    {
     "data": {
      "application/vnd.jupyter.widget-view+json": {
       "model_id": "16f03d7bbe4c4cf9bd9911feee3d1415",
       "version_major": 2,
       "version_minor": 0
      },
      "text/plain": [
       "  0%|          | 0/1000 [00:00<?, ?it/s]"
      ]
     },
     "metadata": {},
     "output_type": "display_data"
    },
    {
     "data": {
      "application/vnd.jupyter.widget-view+json": {
       "model_id": "c5d174bf77f54fe9a20599def116eb88",
       "version_major": 2,
       "version_minor": 0
      },
      "text/plain": [
       "  0%|          | 0/1000 [00:00<?, ?it/s]"
      ]
     },
     "metadata": {},
     "output_type": "display_data"
    },
    {
     "data": {
      "application/vnd.jupyter.widget-view+json": {
       "model_id": "c222f436bfac4ea1942f0f419e275ecd",
       "version_major": 2,
       "version_minor": 0
      },
      "text/plain": [
       "  0%|          | 0/1000 [00:00<?, ?it/s]"
      ]
     },
     "metadata": {},
     "output_type": "display_data"
    },
    {
     "data": {
      "application/vnd.jupyter.widget-view+json": {
       "model_id": "99761f1a287546cdb2f942cc734d4c55",
       "version_major": 2,
       "version_minor": 0
      },
      "text/plain": [
       "  0%|          | 0/1000 [00:00<?, ?it/s]"
      ]
     },
     "metadata": {},
     "output_type": "display_data"
    },
    {
     "data": {
      "application/vnd.jupyter.widget-view+json": {
       "model_id": "12333e93e1e745c8a7ea6d72527b8850",
       "version_major": 2,
       "version_minor": 0
      },
      "text/plain": [
       "  0%|          | 0/1000 [00:00<?, ?it/s]"
      ]
     },
     "metadata": {},
     "output_type": "display_data"
    },
    {
     "data": {
      "application/vnd.jupyter.widget-view+json": {
       "model_id": "17edad6b997a44aa9a34cbd26bf4b63e",
       "version_major": 2,
       "version_minor": 0
      },
      "text/plain": [
       "  0%|          | 0/1000 [00:00<?, ?it/s]"
      ]
     },
     "metadata": {},
     "output_type": "display_data"
    },
    {
     "data": {
      "application/vnd.jupyter.widget-view+json": {
       "model_id": "d510f792f6a14c41b154fd9f00c6d818",
       "version_major": 2,
       "version_minor": 0
      },
      "text/plain": [
       "  0%|          | 0/1000 [00:00<?, ?it/s]"
      ]
     },
     "metadata": {},
     "output_type": "display_data"
    },
    {
     "data": {
      "application/vnd.jupyter.widget-view+json": {
       "model_id": "e1438b276dd14f0088f44742142b6c7a",
       "version_major": 2,
       "version_minor": 0
      },
      "text/plain": [
       "  0%|          | 0/1000 [00:00<?, ?it/s]"
      ]
     },
     "metadata": {},
     "output_type": "display_data"
    },
    {
     "data": {
      "application/vnd.jupyter.widget-view+json": {
       "model_id": "6f39abd8b7e6460eb1df883f0c06fc80",
       "version_major": 2,
       "version_minor": 0
      },
      "text/plain": [
       "  0%|          | 0/1000 [00:00<?, ?it/s]"
      ]
     },
     "metadata": {},
     "output_type": "display_data"
    },
    {
     "data": {
      "application/vnd.jupyter.widget-view+json": {
       "model_id": "aa82688a7e574bfeae718dd5f0a29fae",
       "version_major": 2,
       "version_minor": 0
      },
      "text/plain": [
       "  0%|          | 0/1000 [00:00<?, ?it/s]"
      ]
     },
     "metadata": {},
     "output_type": "display_data"
    },
    {
     "data": {
      "application/vnd.jupyter.widget-view+json": {
       "model_id": "932754d3fe494481a2162ba84d7d826f",
       "version_major": 2,
       "version_minor": 0
      },
      "text/plain": [
       "  0%|          | 0/1000 [00:00<?, ?it/s]"
      ]
     },
     "metadata": {},
     "output_type": "display_data"
    },
    {
     "data": {
      "application/vnd.jupyter.widget-view+json": {
       "model_id": "973a47612bb54c2aab1f9730ad7e6b62",
       "version_major": 2,
       "version_minor": 0
      },
      "text/plain": [
       "  0%|          | 0/1000 [00:00<?, ?it/s]"
      ]
     },
     "metadata": {},
     "output_type": "display_data"
    },
    {
     "data": {
      "application/vnd.jupyter.widget-view+json": {
       "model_id": "300e0d03adf84af6962057df8a39f06f",
       "version_major": 2,
       "version_minor": 0
      },
      "text/plain": [
       "  0%|          | 0/1000 [00:00<?, ?it/s]"
      ]
     },
     "metadata": {},
     "output_type": "display_data"
    },
    {
     "data": {
      "application/vnd.jupyter.widget-view+json": {
       "model_id": "eae689227cc742f08c3da668194849dd",
       "version_major": 2,
       "version_minor": 0
      },
      "text/plain": [
       "  0%|          | 0/1000 [00:00<?, ?it/s]"
      ]
     },
     "metadata": {},
     "output_type": "display_data"
    },
    {
     "data": {
      "application/vnd.jupyter.widget-view+json": {
       "model_id": "c85f400e20a040c898b07cfd7f60e28d",
       "version_major": 2,
       "version_minor": 0
      },
      "text/plain": [
       "  0%|          | 0/1000 [00:00<?, ?it/s]"
      ]
     },
     "metadata": {},
     "output_type": "display_data"
    },
    {
     "data": {
      "application/vnd.jupyter.widget-view+json": {
       "model_id": "a27a9bd757a1423bb60d9dfb8ef33fcc",
       "version_major": 2,
       "version_minor": 0
      },
      "text/plain": [
       "  0%|          | 0/1000 [00:00<?, ?it/s]"
      ]
     },
     "metadata": {},
     "output_type": "display_data"
    },
    {
     "data": {
      "application/vnd.jupyter.widget-view+json": {
       "model_id": "f9942425f1704324933b16005c6ee326",
       "version_major": 2,
       "version_minor": 0
      },
      "text/plain": [
       "  0%|          | 0/1000 [00:00<?, ?it/s]"
      ]
     },
     "metadata": {},
     "output_type": "display_data"
    },
    {
     "data": {
      "application/vnd.jupyter.widget-view+json": {
       "model_id": "a4d40bc9d0e74557b85e94418d880fe6",
       "version_major": 2,
       "version_minor": 0
      },
      "text/plain": [
       "  0%|          | 0/1000 [00:00<?, ?it/s]"
      ]
     },
     "metadata": {},
     "output_type": "display_data"
    },
    {
     "data": {
      "application/vnd.jupyter.widget-view+json": {
       "model_id": "216af820ef6c430fbd71dcb145a31d7a",
       "version_major": 2,
       "version_minor": 0
      },
      "text/plain": [
       "  0%|          | 0/1000 [00:00<?, ?it/s]"
      ]
     },
     "metadata": {},
     "output_type": "display_data"
    },
    {
     "data": {
      "application/vnd.jupyter.widget-view+json": {
       "model_id": "91ab8cc336f24190af491423e94ca1dc",
       "version_major": 2,
       "version_minor": 0
      },
      "text/plain": [
       "  0%|          | 0/1000 [00:00<?, ?it/s]"
      ]
     },
     "metadata": {},
     "output_type": "display_data"
    },
    {
     "data": {
      "application/vnd.jupyter.widget-view+json": {
       "model_id": "6e5d48cda3604c31bf42f2f611ac08ff",
       "version_major": 2,
       "version_minor": 0
      },
      "text/plain": [
       "  0%|          | 0/1000 [00:00<?, ?it/s]"
      ]
     },
     "metadata": {},
     "output_type": "display_data"
    },
    {
     "data": {
      "application/vnd.jupyter.widget-view+json": {
       "model_id": "658a0f62bf7049b48a52f1779cff24b1",
       "version_major": 2,
       "version_minor": 0
      },
      "text/plain": [
       "  0%|          | 0/1000 [00:00<?, ?it/s]"
      ]
     },
     "metadata": {},
     "output_type": "display_data"
    },
    {
     "data": {
      "application/vnd.jupyter.widget-view+json": {
       "model_id": "cd176840e4804a059ed37191f610be77",
       "version_major": 2,
       "version_minor": 0
      },
      "text/plain": [
       "  0%|          | 0/1000 [00:00<?, ?it/s]"
      ]
     },
     "metadata": {},
     "output_type": "display_data"
    },
    {
     "data": {
      "application/vnd.jupyter.widget-view+json": {
       "model_id": "cb24640681de4710a2579e8610ba8784",
       "version_major": 2,
       "version_minor": 0
      },
      "text/plain": [
       "  0%|          | 0/1000 [00:00<?, ?it/s]"
      ]
     },
     "metadata": {},
     "output_type": "display_data"
    },
    {
     "data": {
      "application/vnd.jupyter.widget-view+json": {
       "model_id": "3f010d75dc6544b1beebfd72524ce452",
       "version_major": 2,
       "version_minor": 0
      },
      "text/plain": [
       "  0%|          | 0/1000 [00:00<?, ?it/s]"
      ]
     },
     "metadata": {},
     "output_type": "display_data"
    },
    {
     "data": {
      "application/vnd.jupyter.widget-view+json": {
       "model_id": "77432df66d2846a6a2aeee4c4eead4a7",
       "version_major": 2,
       "version_minor": 0
      },
      "text/plain": [
       "  0%|          | 0/1000 [00:00<?, ?it/s]"
      ]
     },
     "metadata": {},
     "output_type": "display_data"
    },
    {
     "data": {
      "application/vnd.jupyter.widget-view+json": {
       "model_id": "0e57c3e770ff413ba81e36f87aa18d9a",
       "version_major": 2,
       "version_minor": 0
      },
      "text/plain": [
       "  0%|          | 0/1000 [00:00<?, ?it/s]"
      ]
     },
     "metadata": {},
     "output_type": "display_data"
    },
    {
     "data": {
      "application/vnd.jupyter.widget-view+json": {
       "model_id": "1a6fb69375bc47178c806ab5e44aabb0",
       "version_major": 2,
       "version_minor": 0
      },
      "text/plain": [
       "  0%|          | 0/1000 [00:00<?, ?it/s]"
      ]
     },
     "metadata": {},
     "output_type": "display_data"
    },
    {
     "data": {
      "application/vnd.jupyter.widget-view+json": {
       "model_id": "34091b18c32042359621ea690d814967",
       "version_major": 2,
       "version_minor": 0
      },
      "text/plain": [
       "  0%|          | 0/1000 [00:00<?, ?it/s]"
      ]
     },
     "metadata": {},
     "output_type": "display_data"
    },
    {
     "data": {
      "application/vnd.jupyter.widget-view+json": {
       "model_id": "f9a30d8a45674bd0875a22cfe09956d6",
       "version_major": 2,
       "version_minor": 0
      },
      "text/plain": [
       "  0%|          | 0/1000 [00:00<?, ?it/s]"
      ]
     },
     "metadata": {},
     "output_type": "display_data"
    },
    {
     "data": {
      "application/vnd.jupyter.widget-view+json": {
       "model_id": "f8ae7aa3f3ea46278d7adcba60c9adc2",
       "version_major": 2,
       "version_minor": 0
      },
      "text/plain": [
       "  0%|          | 0/1000 [00:00<?, ?it/s]"
      ]
     },
     "metadata": {},
     "output_type": "display_data"
    },
    {
     "data": {
      "application/vnd.jupyter.widget-view+json": {
       "model_id": "86620cb06f6e4ecdb7388a691dc4ac06",
       "version_major": 2,
       "version_minor": 0
      },
      "text/plain": [
       "  0%|          | 0/1000 [00:00<?, ?it/s]"
      ]
     },
     "metadata": {},
     "output_type": "display_data"
    },
    {
     "data": {
      "application/vnd.jupyter.widget-view+json": {
       "model_id": "9d2f354307d34773a7e9c1b3c3e00246",
       "version_major": 2,
       "version_minor": 0
      },
      "text/plain": [
       "  0%|          | 0/1000 [00:00<?, ?it/s]"
      ]
     },
     "metadata": {},
     "output_type": "display_data"
    },
    {
     "data": {
      "application/vnd.jupyter.widget-view+json": {
       "model_id": "5b09116ad315484c97dc49004f2d4bef",
       "version_major": 2,
       "version_minor": 0
      },
      "text/plain": [
       "  0%|          | 0/1000 [00:00<?, ?it/s]"
      ]
     },
     "metadata": {},
     "output_type": "display_data"
    },
    {
     "data": {
      "application/vnd.jupyter.widget-view+json": {
       "model_id": "9ca57c02f76247e6ae9cfc69d9860429",
       "version_major": 2,
       "version_minor": 0
      },
      "text/plain": [
       "  0%|          | 0/1000 [00:00<?, ?it/s]"
      ]
     },
     "metadata": {},
     "output_type": "display_data"
    },
    {
     "data": {
      "application/vnd.jupyter.widget-view+json": {
       "model_id": "5105fa721540419baa73b22cae191cec",
       "version_major": 2,
       "version_minor": 0
      },
      "text/plain": [
       "  0%|          | 0/1000 [00:00<?, ?it/s]"
      ]
     },
     "metadata": {},
     "output_type": "display_data"
    },
    {
     "data": {
      "application/vnd.jupyter.widget-view+json": {
       "model_id": "d0f4aee440dc4f63a33aecf18b2a5d62",
       "version_major": 2,
       "version_minor": 0
      },
      "text/plain": [
       "  0%|          | 0/1000 [00:00<?, ?it/s]"
      ]
     },
     "metadata": {},
     "output_type": "display_data"
    },
    {
     "data": {
      "application/vnd.jupyter.widget-view+json": {
       "model_id": "d75f70c33b424e22914aa14bf5d4a2a0",
       "version_major": 2,
       "version_minor": 0
      },
      "text/plain": [
       "  0%|          | 0/1000 [00:00<?, ?it/s]"
      ]
     },
     "metadata": {},
     "output_type": "display_data"
    },
    {
     "data": {
      "application/vnd.jupyter.widget-view+json": {
       "model_id": "41138f578a6140e48fdb6180c998ac16",
       "version_major": 2,
       "version_minor": 0
      },
      "text/plain": [
       "  0%|          | 0/1000 [00:00<?, ?it/s]"
      ]
     },
     "metadata": {},
     "output_type": "display_data"
    },
    {
     "data": {
      "application/vnd.jupyter.widget-view+json": {
       "model_id": "7bf8940feac64f02b547aca4c508fdf6",
       "version_major": 2,
       "version_minor": 0
      },
      "text/plain": [
       "  0%|          | 0/1000 [00:00<?, ?it/s]"
      ]
     },
     "metadata": {},
     "output_type": "display_data"
    },
    {
     "data": {
      "application/vnd.jupyter.widget-view+json": {
       "model_id": "3ec73d75732f41dfbed04f2516eaf817",
       "version_major": 2,
       "version_minor": 0
      },
      "text/plain": [
       "  0%|          | 0/1000 [00:00<?, ?it/s]"
      ]
     },
     "metadata": {},
     "output_type": "display_data"
    },
    {
     "data": {
      "application/vnd.jupyter.widget-view+json": {
       "model_id": "a2211d7f5c9c45fe9eb89552675a623d",
       "version_major": 2,
       "version_minor": 0
      },
      "text/plain": [
       "  0%|          | 0/1000 [00:00<?, ?it/s]"
      ]
     },
     "metadata": {},
     "output_type": "display_data"
    },
    {
     "data": {
      "application/vnd.jupyter.widget-view+json": {
       "model_id": "b1f3a7bd0cc94e7faafde71a7b34584f",
       "version_major": 2,
       "version_minor": 0
      },
      "text/plain": [
       "  0%|          | 0/1000 [00:00<?, ?it/s]"
      ]
     },
     "metadata": {},
     "output_type": "display_data"
    },
    {
     "data": {
      "application/vnd.jupyter.widget-view+json": {
       "model_id": "4790d461abc1472abfc47a8f918b72ae",
       "version_major": 2,
       "version_minor": 0
      },
      "text/plain": [
       "  0%|          | 0/1000 [00:00<?, ?it/s]"
      ]
     },
     "metadata": {},
     "output_type": "display_data"
    },
    {
     "data": {
      "application/vnd.jupyter.widget-view+json": {
       "model_id": "739e5a41cecf43c6a92aab11052ca9e4",
       "version_major": 2,
       "version_minor": 0
      },
      "text/plain": [
       "  0%|          | 0/1000 [00:00<?, ?it/s]"
      ]
     },
     "metadata": {},
     "output_type": "display_data"
    },
    {
     "data": {
      "application/vnd.jupyter.widget-view+json": {
       "model_id": "5c15717dfc4f403f95b6e211ccb799b4",
       "version_major": 2,
       "version_minor": 0
      },
      "text/plain": [
       "  0%|          | 0/1000 [00:00<?, ?it/s]"
      ]
     },
     "metadata": {},
     "output_type": "display_data"
    },
    {
     "data": {
      "application/vnd.jupyter.widget-view+json": {
       "model_id": "39f1a5bf8b4c4c4d83b67c94befbed7b",
       "version_major": 2,
       "version_minor": 0
      },
      "text/plain": [
       "  0%|          | 0/1000 [00:00<?, ?it/s]"
      ]
     },
     "metadata": {},
     "output_type": "display_data"
    },
    {
     "data": {
      "application/vnd.jupyter.widget-view+json": {
       "model_id": "6ef04899c1ee458d873b0d3cafb913d9",
       "version_major": 2,
       "version_minor": 0
      },
      "text/plain": [
       "  0%|          | 0/1000 [00:00<?, ?it/s]"
      ]
     },
     "metadata": {},
     "output_type": "display_data"
    },
    {
     "data": {
      "application/vnd.jupyter.widget-view+json": {
       "model_id": "84c308ea8cf34696968cb431880ac9ab",
       "version_major": 2,
       "version_minor": 0
      },
      "text/plain": [
       "  0%|          | 0/1000 [00:00<?, ?it/s]"
      ]
     },
     "metadata": {},
     "output_type": "display_data"
    },
    {
     "data": {
      "application/vnd.jupyter.widget-view+json": {
       "model_id": "78a00d7f157d41df8c475f070004afc1",
       "version_major": 2,
       "version_minor": 0
      },
      "text/plain": [
       "  0%|          | 0/1000 [00:00<?, ?it/s]"
      ]
     },
     "metadata": {},
     "output_type": "display_data"
    },
    {
     "data": {
      "application/vnd.jupyter.widget-view+json": {
       "model_id": "e616caf4aa0d4ffa9f7d744cbda68fb3",
       "version_major": 2,
       "version_minor": 0
      },
      "text/plain": [
       "  0%|          | 0/1000 [00:00<?, ?it/s]"
      ]
     },
     "metadata": {},
     "output_type": "display_data"
    },
    {
     "data": {
      "application/vnd.jupyter.widget-view+json": {
       "model_id": "3350e488938d4821bb1ebaf126fdeae9",
       "version_major": 2,
       "version_minor": 0
      },
      "text/plain": [
       "  0%|          | 0/1000 [00:00<?, ?it/s]"
      ]
     },
     "metadata": {},
     "output_type": "display_data"
    },
    {
     "data": {
      "application/vnd.jupyter.widget-view+json": {
       "model_id": "26550944fd144bf5aa9dc152c704b535",
       "version_major": 2,
       "version_minor": 0
      },
      "text/plain": [
       "  0%|          | 0/1000 [00:00<?, ?it/s]"
      ]
     },
     "metadata": {},
     "output_type": "display_data"
    },
    {
     "data": {
      "application/vnd.jupyter.widget-view+json": {
       "model_id": "ec536c83e3b64db8827d41a1ec8e814e",
       "version_major": 2,
       "version_minor": 0
      },
      "text/plain": [
       "  0%|          | 0/1000 [00:00<?, ?it/s]"
      ]
     },
     "metadata": {},
     "output_type": "display_data"
    },
    {
     "data": {
      "application/vnd.jupyter.widget-view+json": {
       "model_id": "ee5334c73f6c4109a16e40c79864e282",
       "version_major": 2,
       "version_minor": 0
      },
      "text/plain": [
       "  0%|          | 0/1000 [00:00<?, ?it/s]"
      ]
     },
     "metadata": {},
     "output_type": "display_data"
    },
    {
     "data": {
      "application/vnd.jupyter.widget-view+json": {
       "model_id": "fdd906787a1745f0a200cab86c2711a1",
       "version_major": 2,
       "version_minor": 0
      },
      "text/plain": [
       "  0%|          | 0/1000 [00:00<?, ?it/s]"
      ]
     },
     "metadata": {},
     "output_type": "display_data"
    },
    {
     "data": {
      "application/vnd.jupyter.widget-view+json": {
       "model_id": "8f2463ac1ce4416f99b2168ac6a4a5af",
       "version_major": 2,
       "version_minor": 0
      },
      "text/plain": [
       "  0%|          | 0/1000 [00:00<?, ?it/s]"
      ]
     },
     "metadata": {},
     "output_type": "display_data"
    },
    {
     "data": {
      "application/vnd.jupyter.widget-view+json": {
       "model_id": "c08e43bc833a412caaf903ac43ca19ba",
       "version_major": 2,
       "version_minor": 0
      },
      "text/plain": [
       "  0%|          | 0/1000 [00:00<?, ?it/s]"
      ]
     },
     "metadata": {},
     "output_type": "display_data"
    },
    {
     "data": {
      "application/vnd.jupyter.widget-view+json": {
       "model_id": "78c06afe86b64ced922805453eff3f99",
       "version_major": 2,
       "version_minor": 0
      },
      "text/plain": [
       "  0%|          | 0/1000 [00:00<?, ?it/s]"
      ]
     },
     "metadata": {},
     "output_type": "display_data"
    },
    {
     "data": {
      "application/vnd.jupyter.widget-view+json": {
       "model_id": "90ea85b6617d443aa6effe7f18e4fb70",
       "version_major": 2,
       "version_minor": 0
      },
      "text/plain": [
       "  0%|          | 0/1000 [00:00<?, ?it/s]"
      ]
     },
     "metadata": {},
     "output_type": "display_data"
    },
    {
     "data": {
      "application/vnd.jupyter.widget-view+json": {
       "model_id": "fc5a83c335d8457da0fe9425d254960c",
       "version_major": 2,
       "version_minor": 0
      },
      "text/plain": [
       "  0%|          | 0/1000 [00:00<?, ?it/s]"
      ]
     },
     "metadata": {},
     "output_type": "display_data"
    },
    {
     "data": {
      "application/vnd.jupyter.widget-view+json": {
       "model_id": "f618515f527a420eb1e895fad91ea7f5",
       "version_major": 2,
       "version_minor": 0
      },
      "text/plain": [
       "  0%|          | 0/1000 [00:00<?, ?it/s]"
      ]
     },
     "metadata": {},
     "output_type": "display_data"
    },
    {
     "data": {
      "application/vnd.jupyter.widget-view+json": {
       "model_id": "bbeec07de7c0460b8481cd6ad14cc401",
       "version_major": 2,
       "version_minor": 0
      },
      "text/plain": [
       "  0%|          | 0/1000 [00:00<?, ?it/s]"
      ]
     },
     "metadata": {},
     "output_type": "display_data"
    },
    {
     "data": {
      "application/vnd.jupyter.widget-view+json": {
       "model_id": "3d8af752aaa341899e84105d80a7f7db",
       "version_major": 2,
       "version_minor": 0
      },
      "text/plain": [
       "  0%|          | 0/1000 [00:00<?, ?it/s]"
      ]
     },
     "metadata": {},
     "output_type": "display_data"
    },
    {
     "data": {
      "application/vnd.jupyter.widget-view+json": {
       "model_id": "09690e95a1ad492494f69292065c74cc",
       "version_major": 2,
       "version_minor": 0
      },
      "text/plain": [
       "  0%|          | 0/1000 [00:00<?, ?it/s]"
      ]
     },
     "metadata": {},
     "output_type": "display_data"
    },
    {
     "data": {
      "application/vnd.jupyter.widget-view+json": {
       "model_id": "1ddbabe3da174324af0b6cd46d00fd29",
       "version_major": 2,
       "version_minor": 0
      },
      "text/plain": [
       "  0%|          | 0/1000 [00:00<?, ?it/s]"
      ]
     },
     "metadata": {},
     "output_type": "display_data"
    },
    {
     "data": {
      "application/vnd.jupyter.widget-view+json": {
       "model_id": "ab912348ad1644bdb73968bff43620ed",
       "version_major": 2,
       "version_minor": 0
      },
      "text/plain": [
       "  0%|          | 0/1000 [00:00<?, ?it/s]"
      ]
     },
     "metadata": {},
     "output_type": "display_data"
    },
    {
     "data": {
      "application/vnd.jupyter.widget-view+json": {
       "model_id": "c79d12c08f4440a5a95e85672eaadce3",
       "version_major": 2,
       "version_minor": 0
      },
      "text/plain": [
       "  0%|          | 0/1000 [00:00<?, ?it/s]"
      ]
     },
     "metadata": {},
     "output_type": "display_data"
    },
    {
     "data": {
      "application/vnd.jupyter.widget-view+json": {
       "model_id": "0f4d42b70fe843e1a3db321607988483",
       "version_major": 2,
       "version_minor": 0
      },
      "text/plain": [
       "  0%|          | 0/1000 [00:00<?, ?it/s]"
      ]
     },
     "metadata": {},
     "output_type": "display_data"
    },
    {
     "data": {
      "application/vnd.jupyter.widget-view+json": {
       "model_id": "cb5188515a47433498525bf4fc629c3c",
       "version_major": 2,
       "version_minor": 0
      },
      "text/plain": [
       "  0%|          | 0/1000 [00:00<?, ?it/s]"
      ]
     },
     "metadata": {},
     "output_type": "display_data"
    },
    {
     "data": {
      "application/vnd.jupyter.widget-view+json": {
       "model_id": "8fcbaf9e066a48728c86f6a071672349",
       "version_major": 2,
       "version_minor": 0
      },
      "text/plain": [
       "  0%|          | 0/1000 [00:00<?, ?it/s]"
      ]
     },
     "metadata": {},
     "output_type": "display_data"
    },
    {
     "data": {
      "application/vnd.jupyter.widget-view+json": {
       "model_id": "a1c53ce3ed084397822051b1873adff2",
       "version_major": 2,
       "version_minor": 0
      },
      "text/plain": [
       "  0%|          | 0/1000 [00:00<?, ?it/s]"
      ]
     },
     "metadata": {},
     "output_type": "display_data"
    },
    {
     "data": {
      "application/vnd.jupyter.widget-view+json": {
       "model_id": "38a3c8e2ceed4e24a6d2a222b91c9344",
       "version_major": 2,
       "version_minor": 0
      },
      "text/plain": [
       "  0%|          | 0/1000 [00:00<?, ?it/s]"
      ]
     },
     "metadata": {},
     "output_type": "display_data"
    },
    {
     "data": {
      "application/vnd.jupyter.widget-view+json": {
       "model_id": "39e079e95c8c4fdeb7a83ab029d7aada",
       "version_major": 2,
       "version_minor": 0
      },
      "text/plain": [
       "  0%|          | 0/1000 [00:00<?, ?it/s]"
      ]
     },
     "metadata": {},
     "output_type": "display_data"
    },
    {
     "data": {
      "application/vnd.jupyter.widget-view+json": {
       "model_id": "36abd6265c054072b3accab165bc4ed8",
       "version_major": 2,
       "version_minor": 0
      },
      "text/plain": [
       "  0%|          | 0/1000 [00:00<?, ?it/s]"
      ]
     },
     "metadata": {},
     "output_type": "display_data"
    },
    {
     "data": {
      "application/vnd.jupyter.widget-view+json": {
       "model_id": "554614428a3845848731f2cff58fa315",
       "version_major": 2,
       "version_minor": 0
      },
      "text/plain": [
       "  0%|          | 0/1000 [00:00<?, ?it/s]"
      ]
     },
     "metadata": {},
     "output_type": "display_data"
    },
    {
     "data": {
      "application/vnd.jupyter.widget-view+json": {
       "model_id": "e98af03735d04ba7a1c3fcc2e24a09f7",
       "version_major": 2,
       "version_minor": 0
      },
      "text/plain": [
       "  0%|          | 0/1000 [00:00<?, ?it/s]"
      ]
     },
     "metadata": {},
     "output_type": "display_data"
    },
    {
     "data": {
      "application/vnd.jupyter.widget-view+json": {
       "model_id": "51c3057737f747f8a6834548e719ea98",
       "version_major": 2,
       "version_minor": 0
      },
      "text/plain": [
       "  0%|          | 0/1000 [00:00<?, ?it/s]"
      ]
     },
     "metadata": {},
     "output_type": "display_data"
    },
    {
     "data": {
      "application/vnd.jupyter.widget-view+json": {
       "model_id": "618d2138c12f4ff3b5b3f62e739abc54",
       "version_major": 2,
       "version_minor": 0
      },
      "text/plain": [
       "  0%|          | 0/1000 [00:00<?, ?it/s]"
      ]
     },
     "metadata": {},
     "output_type": "display_data"
    },
    {
     "data": {
      "application/vnd.jupyter.widget-view+json": {
       "model_id": "767f588296c1405e948b812c8313438d",
       "version_major": 2,
       "version_minor": 0
      },
      "text/plain": [
       "  0%|          | 0/1000 [00:00<?, ?it/s]"
      ]
     },
     "metadata": {},
     "output_type": "display_data"
    },
    {
     "data": {
      "application/vnd.jupyter.widget-view+json": {
       "model_id": "6ca11a4b43fe4de38574a3270ba41497",
       "version_major": 2,
       "version_minor": 0
      },
      "text/plain": [
       "  0%|          | 0/1000 [00:00<?, ?it/s]"
      ]
     },
     "metadata": {},
     "output_type": "display_data"
    },
    {
     "data": {
      "application/vnd.jupyter.widget-view+json": {
       "model_id": "726faa12e240423f8206777caae5e96e",
       "version_major": 2,
       "version_minor": 0
      },
      "text/plain": [
       "  0%|          | 0/1000 [00:00<?, ?it/s]"
      ]
     },
     "metadata": {},
     "output_type": "display_data"
    },
    {
     "data": {
      "application/vnd.jupyter.widget-view+json": {
       "model_id": "ed8b632782bc49a9818a59a68698a821",
       "version_major": 2,
       "version_minor": 0
      },
      "text/plain": [
       "  0%|          | 0/1000 [00:00<?, ?it/s]"
      ]
     },
     "metadata": {},
     "output_type": "display_data"
    },
    {
     "data": {
      "application/vnd.jupyter.widget-view+json": {
       "model_id": "3e66887090284c309c53913d23804bdb",
       "version_major": 2,
       "version_minor": 0
      },
      "text/plain": [
       "  0%|          | 0/1000 [00:00<?, ?it/s]"
      ]
     },
     "metadata": {},
     "output_type": "display_data"
    },
    {
     "data": {
      "application/vnd.jupyter.widget-view+json": {
       "model_id": "a639079e12a04c19a92bf7d3e22be2ee",
       "version_major": 2,
       "version_minor": 0
      },
      "text/plain": [
       "  0%|          | 0/1000 [00:00<?, ?it/s]"
      ]
     },
     "metadata": {},
     "output_type": "display_data"
    },
    {
     "data": {
      "application/vnd.jupyter.widget-view+json": {
       "model_id": "4e767d6d9b884b04be0851805ce6b1d6",
       "version_major": 2,
       "version_minor": 0
      },
      "text/plain": [
       "  0%|          | 0/1000 [00:00<?, ?it/s]"
      ]
     },
     "metadata": {},
     "output_type": "display_data"
    },
    {
     "data": {
      "application/vnd.jupyter.widget-view+json": {
       "model_id": "41baba78476f43c5ba1cedc9ecbb8e50",
       "version_major": 2,
       "version_minor": 0
      },
      "text/plain": [
       "  0%|          | 0/1000 [00:00<?, ?it/s]"
      ]
     },
     "metadata": {},
     "output_type": "display_data"
    },
    {
     "data": {
      "application/vnd.jupyter.widget-view+json": {
       "model_id": "6f44248af766423798a8507ee14828c1",
       "version_major": 2,
       "version_minor": 0
      },
      "text/plain": [
       "  0%|          | 0/1000 [00:00<?, ?it/s]"
      ]
     },
     "metadata": {},
     "output_type": "display_data"
    },
    {
     "data": {
      "application/vnd.jupyter.widget-view+json": {
       "model_id": "8c329e9a00534adfb2c4f2952bc6506c",
       "version_major": 2,
       "version_minor": 0
      },
      "text/plain": [
       "  0%|          | 0/1000 [00:00<?, ?it/s]"
      ]
     },
     "metadata": {},
     "output_type": "display_data"
    },
    {
     "data": {
      "application/vnd.jupyter.widget-view+json": {
       "model_id": "37ff7d63d8ac4a5ab8d8db46dcad39f5",
       "version_major": 2,
       "version_minor": 0
      },
      "text/plain": [
       "  0%|          | 0/1000 [00:00<?, ?it/s]"
      ]
     },
     "metadata": {},
     "output_type": "display_data"
    },
    {
     "data": {
      "application/vnd.jupyter.widget-view+json": {
       "model_id": "b4919ba99a874c1eb018c242651bb54b",
       "version_major": 2,
       "version_minor": 0
      },
      "text/plain": [
       "  0%|          | 0/1000 [00:00<?, ?it/s]"
      ]
     },
     "metadata": {},
     "output_type": "display_data"
    },
    {
     "data": {
      "application/vnd.jupyter.widget-view+json": {
       "model_id": "8ebb0aad3e5741079bd5434e97c68566",
       "version_major": 2,
       "version_minor": 0
      },
      "text/plain": [
       "  0%|          | 0/1000 [00:00<?, ?it/s]"
      ]
     },
     "metadata": {},
     "output_type": "display_data"
    },
    {
     "data": {
      "application/vnd.jupyter.widget-view+json": {
       "model_id": "9013386c7ab449bf8c6b30016efc6460",
       "version_major": 2,
       "version_minor": 0
      },
      "text/plain": [
       "  0%|          | 0/1000 [00:00<?, ?it/s]"
      ]
     },
     "metadata": {},
     "output_type": "display_data"
    },
    {
     "data": {
      "application/vnd.jupyter.widget-view+json": {
       "model_id": "457ba0edd93544518b10a6eeda71f634",
       "version_major": 2,
       "version_minor": 0
      },
      "text/plain": [
       "  0%|          | 0/1000 [00:00<?, ?it/s]"
      ]
     },
     "metadata": {},
     "output_type": "display_data"
    },
    {
     "data": {
      "application/vnd.jupyter.widget-view+json": {
       "model_id": "13166676f36241c79195631bd5590dcf",
       "version_major": 2,
       "version_minor": 0
      },
      "text/plain": [
       "  0%|          | 0/1000 [00:00<?, ?it/s]"
      ]
     },
     "metadata": {},
     "output_type": "display_data"
    },
    {
     "data": {
      "application/vnd.jupyter.widget-view+json": {
       "model_id": "37f1566a7ed44908af087ee159d0ffd7",
       "version_major": 2,
       "version_minor": 0
      },
      "text/plain": [
       "  0%|          | 0/1000 [00:00<?, ?it/s]"
      ]
     },
     "metadata": {},
     "output_type": "display_data"
    },
    {
     "data": {
      "application/vnd.jupyter.widget-view+json": {
       "model_id": "e883c47fd7cb4d5bb2e0ddbdc51b3008",
       "version_major": 2,
       "version_minor": 0
      },
      "text/plain": [
       "  0%|          | 0/1000 [00:00<?, ?it/s]"
      ]
     },
     "metadata": {},
     "output_type": "display_data"
    },
    {
     "data": {
      "application/vnd.jupyter.widget-view+json": {
       "model_id": "155d76fa835f472f86e0b407619c8490",
       "version_major": 2,
       "version_minor": 0
      },
      "text/plain": [
       "  0%|          | 0/1000 [00:00<?, ?it/s]"
      ]
     },
     "metadata": {},
     "output_type": "display_data"
    },
    {
     "data": {
      "application/vnd.jupyter.widget-view+json": {
       "model_id": "1cc5f4afffd04c688055dd0a56ffabc4",
       "version_major": 2,
       "version_minor": 0
      },
      "text/plain": [
       "  0%|          | 0/1000 [00:00<?, ?it/s]"
      ]
     },
     "metadata": {},
     "output_type": "display_data"
    },
    {
     "data": {
      "application/vnd.jupyter.widget-view+json": {
       "model_id": "e4fc59d9817645d7935dd9c1de427294",
       "version_major": 2,
       "version_minor": 0
      },
      "text/plain": [
       "  0%|          | 0/1000 [00:00<?, ?it/s]"
      ]
     },
     "metadata": {},
     "output_type": "display_data"
    },
    {
     "data": {
      "application/vnd.jupyter.widget-view+json": {
       "model_id": "60ade513300a4da9be716792e9377a09",
       "version_major": 2,
       "version_minor": 0
      },
      "text/plain": [
       "  0%|          | 0/1000 [00:00<?, ?it/s]"
      ]
     },
     "metadata": {},
     "output_type": "display_data"
    },
    {
     "data": {
      "application/vnd.jupyter.widget-view+json": {
       "model_id": "52be7e77330047ea87f211a3226e7d76",
       "version_major": 2,
       "version_minor": 0
      },
      "text/plain": [
       "  0%|          | 0/1000 [00:00<?, ?it/s]"
      ]
     },
     "metadata": {},
     "output_type": "display_data"
    },
    {
     "data": {
      "application/vnd.jupyter.widget-view+json": {
       "model_id": "25134d269ae54ba0b4cff429e33bf391",
       "version_major": 2,
       "version_minor": 0
      },
      "text/plain": [
       "  0%|          | 0/1000 [00:00<?, ?it/s]"
      ]
     },
     "metadata": {},
     "output_type": "display_data"
    },
    {
     "data": {
      "application/vnd.jupyter.widget-view+json": {
       "model_id": "46d14129a65345e89511b0c12a7fc603",
       "version_major": 2,
       "version_minor": 0
      },
      "text/plain": [
       "  0%|          | 0/1000 [00:00<?, ?it/s]"
      ]
     },
     "metadata": {},
     "output_type": "display_data"
    },
    {
     "data": {
      "application/vnd.jupyter.widget-view+json": {
       "model_id": "df4e8d002be54a9ea8c4910ac2220395",
       "version_major": 2,
       "version_minor": 0
      },
      "text/plain": [
       "  0%|          | 0/1000 [00:00<?, ?it/s]"
      ]
     },
     "metadata": {},
     "output_type": "display_data"
    },
    {
     "data": {
      "application/vnd.jupyter.widget-view+json": {
       "model_id": "e3515efdb16d4fc1985844cc987d00b2",
       "version_major": 2,
       "version_minor": 0
      },
      "text/plain": [
       "  0%|          | 0/1000 [00:00<?, ?it/s]"
      ]
     },
     "metadata": {},
     "output_type": "display_data"
    },
    {
     "data": {
      "application/vnd.jupyter.widget-view+json": {
       "model_id": "fd99195987cd422f8ea659089dcb049e",
       "version_major": 2,
       "version_minor": 0
      },
      "text/plain": [
       "  0%|          | 0/1000 [00:00<?, ?it/s]"
      ]
     },
     "metadata": {},
     "output_type": "display_data"
    },
    {
     "data": {
      "application/vnd.jupyter.widget-view+json": {
       "model_id": "e282615f64754589bff2f6c2ab3d3d4f",
       "version_major": 2,
       "version_minor": 0
      },
      "text/plain": [
       "  0%|          | 0/1000 [00:00<?, ?it/s]"
      ]
     },
     "metadata": {},
     "output_type": "display_data"
    },
    {
     "data": {
      "application/vnd.jupyter.widget-view+json": {
       "model_id": "cc3890853ee64fbfb24d1bc3398af961",
       "version_major": 2,
       "version_minor": 0
      },
      "text/plain": [
       "  0%|          | 0/1000 [00:00<?, ?it/s]"
      ]
     },
     "metadata": {},
     "output_type": "display_data"
    },
    {
     "data": {
      "application/vnd.jupyter.widget-view+json": {
       "model_id": "0fb914858fa448ec8d250afaeac7d8ff",
       "version_major": 2,
       "version_minor": 0
      },
      "text/plain": [
       "  0%|          | 0/1000 [00:00<?, ?it/s]"
      ]
     },
     "metadata": {},
     "output_type": "display_data"
    },
    {
     "data": {
      "application/vnd.jupyter.widget-view+json": {
       "model_id": "6d3dcbbfda3346518fa557e50cca53a7",
       "version_major": 2,
       "version_minor": 0
      },
      "text/plain": [
       "  0%|          | 0/1000 [00:00<?, ?it/s]"
      ]
     },
     "metadata": {},
     "output_type": "display_data"
    },
    {
     "data": {
      "application/vnd.jupyter.widget-view+json": {
       "model_id": "e9c7c68b3ffd417284841a75ac3bcc7d",
       "version_major": 2,
       "version_minor": 0
      },
      "text/plain": [
       "  0%|          | 0/1000 [00:00<?, ?it/s]"
      ]
     },
     "metadata": {},
     "output_type": "display_data"
    },
    {
     "data": {
      "application/vnd.jupyter.widget-view+json": {
       "model_id": "5ea0933efbbc4ee8b48f9ba9cefee022",
       "version_major": 2,
       "version_minor": 0
      },
      "text/plain": [
       "  0%|          | 0/1000 [00:00<?, ?it/s]"
      ]
     },
     "metadata": {},
     "output_type": "display_data"
    },
    {
     "data": {
      "application/vnd.jupyter.widget-view+json": {
       "model_id": "bc31991a37bf49958329f4e7c9cfda43",
       "version_major": 2,
       "version_minor": 0
      },
      "text/plain": [
       "  0%|          | 0/1000 [00:00<?, ?it/s]"
      ]
     },
     "metadata": {},
     "output_type": "display_data"
    },
    {
     "data": {
      "application/vnd.jupyter.widget-view+json": {
       "model_id": "06b62005b20a4d16948e5000e827265d",
       "version_major": 2,
       "version_minor": 0
      },
      "text/plain": [
       "  0%|          | 0/1000 [00:00<?, ?it/s]"
      ]
     },
     "metadata": {},
     "output_type": "display_data"
    },
    {
     "data": {
      "application/vnd.jupyter.widget-view+json": {
       "model_id": "5c8ac4364c1243b3b5693ebecb632070",
       "version_major": 2,
       "version_minor": 0
      },
      "text/plain": [
       "  0%|          | 0/1000 [00:00<?, ?it/s]"
      ]
     },
     "metadata": {},
     "output_type": "display_data"
    },
    {
     "data": {
      "application/vnd.jupyter.widget-view+json": {
       "model_id": "68849e2743034945a303e1a992508f05",
       "version_major": 2,
       "version_minor": 0
      },
      "text/plain": [
       "  0%|          | 0/1000 [00:00<?, ?it/s]"
      ]
     },
     "metadata": {},
     "output_type": "display_data"
    },
    {
     "data": {
      "application/vnd.jupyter.widget-view+json": {
       "model_id": "0cc7a2f62bd5487085b12216d37e3332",
       "version_major": 2,
       "version_minor": 0
      },
      "text/plain": [
       "  0%|          | 0/1000 [00:00<?, ?it/s]"
      ]
     },
     "metadata": {},
     "output_type": "display_data"
    },
    {
     "data": {
      "application/vnd.jupyter.widget-view+json": {
       "model_id": "f7860f60788c4463a180303f96bbdc63",
       "version_major": 2,
       "version_minor": 0
      },
      "text/plain": [
       "  0%|          | 0/1000 [00:00<?, ?it/s]"
      ]
     },
     "metadata": {},
     "output_type": "display_data"
    },
    {
     "data": {
      "application/vnd.jupyter.widget-view+json": {
       "model_id": "0c95efed6da842d2ba90fbe3787ba1d3",
       "version_major": 2,
       "version_minor": 0
      },
      "text/plain": [
       "  0%|          | 0/1000 [00:00<?, ?it/s]"
      ]
     },
     "metadata": {},
     "output_type": "display_data"
    },
    {
     "data": {
      "application/vnd.jupyter.widget-view+json": {
       "model_id": "768b5143aacd492aac8a678542cb3354",
       "version_major": 2,
       "version_minor": 0
      },
      "text/plain": [
       "  0%|          | 0/1000 [00:00<?, ?it/s]"
      ]
     },
     "metadata": {},
     "output_type": "display_data"
    },
    {
     "data": {
      "application/vnd.jupyter.widget-view+json": {
       "model_id": "6f9aae03a52a4ad89bbccd27362544ec",
       "version_major": 2,
       "version_minor": 0
      },
      "text/plain": [
       "  0%|          | 0/1000 [00:00<?, ?it/s]"
      ]
     },
     "metadata": {},
     "output_type": "display_data"
    },
    {
     "data": {
      "application/vnd.jupyter.widget-view+json": {
       "model_id": "7475527960fd4a2b8d32a13ca1a49497",
       "version_major": 2,
       "version_minor": 0
      },
      "text/plain": [
       "  0%|          | 0/1000 [00:00<?, ?it/s]"
      ]
     },
     "metadata": {},
     "output_type": "display_data"
    },
    {
     "data": {
      "application/vnd.jupyter.widget-view+json": {
       "model_id": "edc7c193418e48b3b70920271256a01f",
       "version_major": 2,
       "version_minor": 0
      },
      "text/plain": [
       "  0%|          | 0/1000 [00:00<?, ?it/s]"
      ]
     },
     "metadata": {},
     "output_type": "display_data"
    },
    {
     "data": {
      "application/vnd.jupyter.widget-view+json": {
       "model_id": "9c770f9e43234e82bd39458b76926e1e",
       "version_major": 2,
       "version_minor": 0
      },
      "text/plain": [
       "  0%|          | 0/1000 [00:00<?, ?it/s]"
      ]
     },
     "metadata": {},
     "output_type": "display_data"
    },
    {
     "data": {
      "application/vnd.jupyter.widget-view+json": {
       "model_id": "9dcd4b6271704a569b7740325c853778",
       "version_major": 2,
       "version_minor": 0
      },
      "text/plain": [
       "  0%|          | 0/1000 [00:00<?, ?it/s]"
      ]
     },
     "metadata": {},
     "output_type": "display_data"
    },
    {
     "data": {
      "application/vnd.jupyter.widget-view+json": {
       "model_id": "6f28434ad9ed4c9eb698ccf7bf99753e",
       "version_major": 2,
       "version_minor": 0
      },
      "text/plain": [
       "  0%|          | 0/1000 [00:00<?, ?it/s]"
      ]
     },
     "metadata": {},
     "output_type": "display_data"
    },
    {
     "data": {
      "application/vnd.jupyter.widget-view+json": {
       "model_id": "ee4471a8b947468daf785a5f37e24a9e",
       "version_major": 2,
       "version_minor": 0
      },
      "text/plain": [
       "  0%|          | 0/1000 [00:00<?, ?it/s]"
      ]
     },
     "metadata": {},
     "output_type": "display_data"
    },
    {
     "data": {
      "application/vnd.jupyter.widget-view+json": {
       "model_id": "56c5ef357a274f0abda7a48f3b0430d9",
       "version_major": 2,
       "version_minor": 0
      },
      "text/plain": [
       "  0%|          | 0/1000 [00:00<?, ?it/s]"
      ]
     },
     "metadata": {},
     "output_type": "display_data"
    },
    {
     "data": {
      "application/vnd.jupyter.widget-view+json": {
       "model_id": "3eea6d95b9fd470f97c58884d6f67515",
       "version_major": 2,
       "version_minor": 0
      },
      "text/plain": [
       "  0%|          | 0/1000 [00:00<?, ?it/s]"
      ]
     },
     "metadata": {},
     "output_type": "display_data"
    },
    {
     "data": {
      "application/vnd.jupyter.widget-view+json": {
       "model_id": "4a3b89410b06454795289b8cf5f8c72b",
       "version_major": 2,
       "version_minor": 0
      },
      "text/plain": [
       "  0%|          | 0/1000 [00:00<?, ?it/s]"
      ]
     },
     "metadata": {},
     "output_type": "display_data"
    },
    {
     "data": {
      "application/vnd.jupyter.widget-view+json": {
       "model_id": "2dce8d03e08745d692bcbca9947696a3",
       "version_major": 2,
       "version_minor": 0
      },
      "text/plain": [
       "  0%|          | 0/1000 [00:00<?, ?it/s]"
      ]
     },
     "metadata": {},
     "output_type": "display_data"
    },
    {
     "data": {
      "application/vnd.jupyter.widget-view+json": {
       "model_id": "c3df1c08a92c4ff6bf038baf4e8d0428",
       "version_major": 2,
       "version_minor": 0
      },
      "text/plain": [
       "  0%|          | 0/1000 [00:00<?, ?it/s]"
      ]
     },
     "metadata": {},
     "output_type": "display_data"
    },
    {
     "data": {
      "application/vnd.jupyter.widget-view+json": {
       "model_id": "d1ecce638c35453c82079a582a3d4b8b",
       "version_major": 2,
       "version_minor": 0
      },
      "text/plain": [
       "  0%|          | 0/1000 [00:00<?, ?it/s]"
      ]
     },
     "metadata": {},
     "output_type": "display_data"
    },
    {
     "data": {
      "application/vnd.jupyter.widget-view+json": {
       "model_id": "449921e085a74fba9f63d41c4c7a1588",
       "version_major": 2,
       "version_minor": 0
      },
      "text/plain": [
       "  0%|          | 0/1000 [00:00<?, ?it/s]"
      ]
     },
     "metadata": {},
     "output_type": "display_data"
    },
    {
     "data": {
      "application/vnd.jupyter.widget-view+json": {
       "model_id": "428c716ea9704cf2b4a6d09551831131",
       "version_major": 2,
       "version_minor": 0
      },
      "text/plain": [
       "  0%|          | 0/1000 [00:00<?, ?it/s]"
      ]
     },
     "metadata": {},
     "output_type": "display_data"
    },
    {
     "data": {
      "application/vnd.jupyter.widget-view+json": {
       "model_id": "156e583d05c1483589415dcce46a1e0b",
       "version_major": 2,
       "version_minor": 0
      },
      "text/plain": [
       "  0%|          | 0/1000 [00:00<?, ?it/s]"
      ]
     },
     "metadata": {},
     "output_type": "display_data"
    },
    {
     "data": {
      "application/vnd.jupyter.widget-view+json": {
       "model_id": "40bcc729d9d64998b9017c20837eb39d",
       "version_major": 2,
       "version_minor": 0
      },
      "text/plain": [
       "  0%|          | 0/1000 [00:00<?, ?it/s]"
      ]
     },
     "metadata": {},
     "output_type": "display_data"
    },
    {
     "data": {
      "application/vnd.jupyter.widget-view+json": {
       "model_id": "42dd72ed2392419ca28ed4984e05e17d",
       "version_major": 2,
       "version_minor": 0
      },
      "text/plain": [
       "  0%|          | 0/1000 [00:00<?, ?it/s]"
      ]
     },
     "metadata": {},
     "output_type": "display_data"
    },
    {
     "data": {
      "application/vnd.jupyter.widget-view+json": {
       "model_id": "49dbc718ae1b44fbb2c175c7bd79022d",
       "version_major": 2,
       "version_minor": 0
      },
      "text/plain": [
       "  0%|          | 0/1000 [00:00<?, ?it/s]"
      ]
     },
     "metadata": {},
     "output_type": "display_data"
    },
    {
     "data": {
      "application/vnd.jupyter.widget-view+json": {
       "model_id": "41634f0364bf42009667efa3e8fe8b45",
       "version_major": 2,
       "version_minor": 0
      },
      "text/plain": [
       "  0%|          | 0/1000 [00:00<?, ?it/s]"
      ]
     },
     "metadata": {},
     "output_type": "display_data"
    },
    {
     "data": {
      "application/vnd.jupyter.widget-view+json": {
       "model_id": "2dede746b46b4f8f8a2ebb1bb0d7ab56",
       "version_major": 2,
       "version_minor": 0
      },
      "text/plain": [
       "  0%|          | 0/1000 [00:00<?, ?it/s]"
      ]
     },
     "metadata": {},
     "output_type": "display_data"
    },
    {
     "data": {
      "application/vnd.jupyter.widget-view+json": {
       "model_id": "25caf64af618468d8b3cf22a3f41543c",
       "version_major": 2,
       "version_minor": 0
      },
      "text/plain": [
       "  0%|          | 0/1000 [00:00<?, ?it/s]"
      ]
     },
     "metadata": {},
     "output_type": "display_data"
    },
    {
     "data": {
      "application/vnd.jupyter.widget-view+json": {
       "model_id": "de0b798670b84a7e85623bec700b2ad7",
       "version_major": 2,
       "version_minor": 0
      },
      "text/plain": [
       "  0%|          | 0/1000 [00:00<?, ?it/s]"
      ]
     },
     "metadata": {},
     "output_type": "display_data"
    },
    {
     "data": {
      "application/vnd.jupyter.widget-view+json": {
       "model_id": "883ba6986b604a61b855b9525a9a4a40",
       "version_major": 2,
       "version_minor": 0
      },
      "text/plain": [
       "  0%|          | 0/1000 [00:00<?, ?it/s]"
      ]
     },
     "metadata": {},
     "output_type": "display_data"
    },
    {
     "data": {
      "application/vnd.jupyter.widget-view+json": {
       "model_id": "25ef6567ad094008bd42291dc4f817fa",
       "version_major": 2,
       "version_minor": 0
      },
      "text/plain": [
       "  0%|          | 0/1000 [00:00<?, ?it/s]"
      ]
     },
     "metadata": {},
     "output_type": "display_data"
    },
    {
     "data": {
      "application/vnd.jupyter.widget-view+json": {
       "model_id": "31df61565a4c425cb348ce066b61437b",
       "version_major": 2,
       "version_minor": 0
      },
      "text/plain": [
       "  0%|          | 0/1000 [00:00<?, ?it/s]"
      ]
     },
     "metadata": {},
     "output_type": "display_data"
    },
    {
     "data": {
      "application/vnd.jupyter.widget-view+json": {
       "model_id": "f4905245a3e54148b7966d33e237de02",
       "version_major": 2,
       "version_minor": 0
      },
      "text/plain": [
       "  0%|          | 0/1000 [00:00<?, ?it/s]"
      ]
     },
     "metadata": {},
     "output_type": "display_data"
    },
    {
     "data": {
      "application/vnd.jupyter.widget-view+json": {
       "model_id": "5af99293b3ab437187d8fe8e0ccb58ca",
       "version_major": 2,
       "version_minor": 0
      },
      "text/plain": [
       "  0%|          | 0/1000 [00:00<?, ?it/s]"
      ]
     },
     "metadata": {},
     "output_type": "display_data"
    },
    {
     "data": {
      "application/vnd.jupyter.widget-view+json": {
       "model_id": "bf389c20a6bd42e5b579855ceb1e2939",
       "version_major": 2,
       "version_minor": 0
      },
      "text/plain": [
       "  0%|          | 0/1000 [00:00<?, ?it/s]"
      ]
     },
     "metadata": {},
     "output_type": "display_data"
    },
    {
     "data": {
      "application/vnd.jupyter.widget-view+json": {
       "model_id": "2818432d4ed542d8be76e963afae3ff3",
       "version_major": 2,
       "version_minor": 0
      },
      "text/plain": [
       "  0%|          | 0/1000 [00:00<?, ?it/s]"
      ]
     },
     "metadata": {},
     "output_type": "display_data"
    },
    {
     "data": {
      "application/vnd.jupyter.widget-view+json": {
       "model_id": "385d72b6abb645728544b336bdf63a46",
       "version_major": 2,
       "version_minor": 0
      },
      "text/plain": [
       "  0%|          | 0/1000 [00:00<?, ?it/s]"
      ]
     },
     "metadata": {},
     "output_type": "display_data"
    },
    {
     "data": {
      "application/vnd.jupyter.widget-view+json": {
       "model_id": "40e9be59a6714a1d862109b553ad00ab",
       "version_major": 2,
       "version_minor": 0
      },
      "text/plain": [
       "  0%|          | 0/1000 [00:00<?, ?it/s]"
      ]
     },
     "metadata": {},
     "output_type": "display_data"
    },
    {
     "data": {
      "application/vnd.jupyter.widget-view+json": {
       "model_id": "925e0b9e906a428497fbce6e6a19adb6",
       "version_major": 2,
       "version_minor": 0
      },
      "text/plain": [
       "  0%|          | 0/1000 [00:00<?, ?it/s]"
      ]
     },
     "metadata": {},
     "output_type": "display_data"
    },
    {
     "data": {
      "application/vnd.jupyter.widget-view+json": {
       "model_id": "e3460b5b02be42adb801e8d4d730d262",
       "version_major": 2,
       "version_minor": 0
      },
      "text/plain": [
       "  0%|          | 0/1000 [00:00<?, ?it/s]"
      ]
     },
     "metadata": {},
     "output_type": "display_data"
    },
    {
     "data": {
      "application/vnd.jupyter.widget-view+json": {
       "model_id": "4961556e65fe43b482c87d00892c20b2",
       "version_major": 2,
       "version_minor": 0
      },
      "text/plain": [
       "  0%|          | 0/1000 [00:00<?, ?it/s]"
      ]
     },
     "metadata": {},
     "output_type": "display_data"
    },
    {
     "data": {
      "application/vnd.jupyter.widget-view+json": {
       "model_id": "e8d74f93118b4352ad91e3e8338d1b9f",
       "version_major": 2,
       "version_minor": 0
      },
      "text/plain": [
       "  0%|          | 0/1000 [00:00<?, ?it/s]"
      ]
     },
     "metadata": {},
     "output_type": "display_data"
    },
    {
     "data": {
      "application/vnd.jupyter.widget-view+json": {
       "model_id": "b37b707d33854b0380c10b130fbb530c",
       "version_major": 2,
       "version_minor": 0
      },
      "text/plain": [
       "  0%|          | 0/1000 [00:00<?, ?it/s]"
      ]
     },
     "metadata": {},
     "output_type": "display_data"
    },
    {
     "data": {
      "application/vnd.jupyter.widget-view+json": {
       "model_id": "c1e085965ce24dbb8dbfc3af369dfd6a",
       "version_major": 2,
       "version_minor": 0
      },
      "text/plain": [
       "  0%|          | 0/1000 [00:00<?, ?it/s]"
      ]
     },
     "metadata": {},
     "output_type": "display_data"
    },
    {
     "data": {
      "application/vnd.jupyter.widget-view+json": {
       "model_id": "59cc04d81d5d48238ccdb56382fc22f7",
       "version_major": 2,
       "version_minor": 0
      },
      "text/plain": [
       "  0%|          | 0/1000 [00:00<?, ?it/s]"
      ]
     },
     "metadata": {},
     "output_type": "display_data"
    },
    {
     "data": {
      "application/vnd.jupyter.widget-view+json": {
       "model_id": "99c7a8317918475483ad0e40bf1583ed",
       "version_major": 2,
       "version_minor": 0
      },
      "text/plain": [
       "  0%|          | 0/1000 [00:00<?, ?it/s]"
      ]
     },
     "metadata": {},
     "output_type": "display_data"
    },
    {
     "data": {
      "application/vnd.jupyter.widget-view+json": {
       "model_id": "fb3bc0a85a584f2586577276726528b2",
       "version_major": 2,
       "version_minor": 0
      },
      "text/plain": [
       "  0%|          | 0/1000 [00:00<?, ?it/s]"
      ]
     },
     "metadata": {},
     "output_type": "display_data"
    },
    {
     "data": {
      "application/vnd.jupyter.widget-view+json": {
       "model_id": "83fc31cade7c437e8b36cb4e808c2955",
       "version_major": 2,
       "version_minor": 0
      },
      "text/plain": [
       "  0%|          | 0/1000 [00:00<?, ?it/s]"
      ]
     },
     "metadata": {},
     "output_type": "display_data"
    },
    {
     "data": {
      "application/vnd.jupyter.widget-view+json": {
       "model_id": "86b4f3303d1f42149322d3b1c91d81ff",
       "version_major": 2,
       "version_minor": 0
      },
      "text/plain": [
       "  0%|          | 0/1000 [00:00<?, ?it/s]"
      ]
     },
     "metadata": {},
     "output_type": "display_data"
    },
    {
     "data": {
      "application/vnd.jupyter.widget-view+json": {
       "model_id": "db0e70704b1f452aaf1cc390a6a36c7b",
       "version_major": 2,
       "version_minor": 0
      },
      "text/plain": [
       "  0%|          | 0/1000 [00:00<?, ?it/s]"
      ]
     },
     "metadata": {},
     "output_type": "display_data"
    },
    {
     "data": {
      "application/vnd.jupyter.widget-view+json": {
       "model_id": "fd854edaea0f4ec1a0d50494d0a32579",
       "version_major": 2,
       "version_minor": 0
      },
      "text/plain": [
       "  0%|          | 0/1000 [00:00<?, ?it/s]"
      ]
     },
     "metadata": {},
     "output_type": "display_data"
    },
    {
     "data": {
      "application/vnd.jupyter.widget-view+json": {
       "model_id": "27f5f5a0b349413bb76957bbf5c0afcb",
       "version_major": 2,
       "version_minor": 0
      },
      "text/plain": [
       "  0%|          | 0/1000 [00:00<?, ?it/s]"
      ]
     },
     "metadata": {},
     "output_type": "display_data"
    },
    {
     "data": {
      "application/vnd.jupyter.widget-view+json": {
       "model_id": "3954e356ec744665a573d4ab9b0d2643",
       "version_major": 2,
       "version_minor": 0
      },
      "text/plain": [
       "  0%|          | 0/1000 [00:00<?, ?it/s]"
      ]
     },
     "metadata": {},
     "output_type": "display_data"
    },
    {
     "data": {
      "application/vnd.jupyter.widget-view+json": {
       "model_id": "9b15b13963794fefbd953df6347cbf04",
       "version_major": 2,
       "version_minor": 0
      },
      "text/plain": [
       "  0%|          | 0/1000 [00:00<?, ?it/s]"
      ]
     },
     "metadata": {},
     "output_type": "display_data"
    },
    {
     "data": {
      "application/vnd.jupyter.widget-view+json": {
       "model_id": "6221f3512ebd4b3a826459cb55844534",
       "version_major": 2,
       "version_minor": 0
      },
      "text/plain": [
       "  0%|          | 0/1000 [00:00<?, ?it/s]"
      ]
     },
     "metadata": {},
     "output_type": "display_data"
    },
    {
     "data": {
      "application/vnd.jupyter.widget-view+json": {
       "model_id": "8404d0488827430bb1d149d23b7fb771",
       "version_major": 2,
       "version_minor": 0
      },
      "text/plain": [
       "  0%|          | 0/1000 [00:00<?, ?it/s]"
      ]
     },
     "metadata": {},
     "output_type": "display_data"
    },
    {
     "data": {
      "application/vnd.jupyter.widget-view+json": {
       "model_id": "8042ab02996c471197281079f87f26e9",
       "version_major": 2,
       "version_minor": 0
      },
      "text/plain": [
       "  0%|          | 0/1000 [00:00<?, ?it/s]"
      ]
     },
     "metadata": {},
     "output_type": "display_data"
    },
    {
     "data": {
      "application/vnd.jupyter.widget-view+json": {
       "model_id": "046eaafb8f094792b73b78018a450538",
       "version_major": 2,
       "version_minor": 0
      },
      "text/plain": [
       "  0%|          | 0/1000 [00:00<?, ?it/s]"
      ]
     },
     "metadata": {},
     "output_type": "display_data"
    },
    {
     "data": {
      "application/vnd.jupyter.widget-view+json": {
       "model_id": "b3831db8ed0a4055bfd48b3a4cfcd120",
       "version_major": 2,
       "version_minor": 0
      },
      "text/plain": [
       "  0%|          | 0/1000 [00:00<?, ?it/s]"
      ]
     },
     "metadata": {},
     "output_type": "display_data"
    },
    {
     "data": {
      "application/vnd.jupyter.widget-view+json": {
       "model_id": "bed353b80c0a4836b124a80669df5bf4",
       "version_major": 2,
       "version_minor": 0
      },
      "text/plain": [
       "  0%|          | 0/1000 [00:00<?, ?it/s]"
      ]
     },
     "metadata": {},
     "output_type": "display_data"
    },
    {
     "data": {
      "application/vnd.jupyter.widget-view+json": {
       "model_id": "ea53b00d992840f9bdf1493131967775",
       "version_major": 2,
       "version_minor": 0
      },
      "text/plain": [
       "  0%|          | 0/1000 [00:00<?, ?it/s]"
      ]
     },
     "metadata": {},
     "output_type": "display_data"
    },
    {
     "data": {
      "application/vnd.jupyter.widget-view+json": {
       "model_id": "14e7f117df944cc5baa257bdff48f5ad",
       "version_major": 2,
       "version_minor": 0
      },
      "text/plain": [
       "  0%|          | 0/1000 [00:00<?, ?it/s]"
      ]
     },
     "metadata": {},
     "output_type": "display_data"
    },
    {
     "data": {
      "application/vnd.jupyter.widget-view+json": {
       "model_id": "e8e9a1e61d91479390543456a7971687",
       "version_major": 2,
       "version_minor": 0
      },
      "text/plain": [
       "  0%|          | 0/1000 [00:00<?, ?it/s]"
      ]
     },
     "metadata": {},
     "output_type": "display_data"
    },
    {
     "data": {
      "application/vnd.jupyter.widget-view+json": {
       "model_id": "a520b1d18133498b8acb46ae91b2589e",
       "version_major": 2,
       "version_minor": 0
      },
      "text/plain": [
       "  0%|          | 0/1000 [00:00<?, ?it/s]"
      ]
     },
     "metadata": {},
     "output_type": "display_data"
    },
    {
     "data": {
      "application/vnd.jupyter.widget-view+json": {
       "model_id": "a299b4e8258f4aaab84e6baa9d46bd78",
       "version_major": 2,
       "version_minor": 0
      },
      "text/plain": [
       "  0%|          | 0/1000 [00:00<?, ?it/s]"
      ]
     },
     "metadata": {},
     "output_type": "display_data"
    },
    {
     "data": {
      "application/vnd.jupyter.widget-view+json": {
       "model_id": "9b1013aa0cb0490e99063dc9f38411e6",
       "version_major": 2,
       "version_minor": 0
      },
      "text/plain": [
       "  0%|          | 0/1000 [00:00<?, ?it/s]"
      ]
     },
     "metadata": {},
     "output_type": "display_data"
    },
    {
     "data": {
      "application/vnd.jupyter.widget-view+json": {
       "model_id": "befe31ee3ad84be98042b40580b43fba",
       "version_major": 2,
       "version_minor": 0
      },
      "text/plain": [
       "  0%|          | 0/1000 [00:00<?, ?it/s]"
      ]
     },
     "metadata": {},
     "output_type": "display_data"
    },
    {
     "data": {
      "application/vnd.jupyter.widget-view+json": {
       "model_id": "e2754d9d7ca6417b9c1d4da433abb665",
       "version_major": 2,
       "version_minor": 0
      },
      "text/plain": [
       "  0%|          | 0/1000 [00:00<?, ?it/s]"
      ]
     },
     "metadata": {},
     "output_type": "display_data"
    },
    {
     "data": {
      "application/vnd.jupyter.widget-view+json": {
       "model_id": "334c5dda66ff4c259c88468f30e79138",
       "version_major": 2,
       "version_minor": 0
      },
      "text/plain": [
       "  0%|          | 0/1000 [00:00<?, ?it/s]"
      ]
     },
     "metadata": {},
     "output_type": "display_data"
    },
    {
     "data": {
      "application/vnd.jupyter.widget-view+json": {
       "model_id": "9a1fd18b33954ed48a70de5a421475e2",
       "version_major": 2,
       "version_minor": 0
      },
      "text/plain": [
       "  0%|          | 0/1000 [00:00<?, ?it/s]"
      ]
     },
     "metadata": {},
     "output_type": "display_data"
    },
    {
     "data": {
      "application/vnd.jupyter.widget-view+json": {
       "model_id": "5231b65fa89947d0949caaa0351faa51",
       "version_major": 2,
       "version_minor": 0
      },
      "text/plain": [
       "  0%|          | 0/1000 [00:00<?, ?it/s]"
      ]
     },
     "metadata": {},
     "output_type": "display_data"
    },
    {
     "data": {
      "application/vnd.jupyter.widget-view+json": {
       "model_id": "cc8545384d91405ab7050baacf4aef25",
       "version_major": 2,
       "version_minor": 0
      },
      "text/plain": [
       "  0%|          | 0/1000 [00:00<?, ?it/s]"
      ]
     },
     "metadata": {},
     "output_type": "display_data"
    },
    {
     "data": {
      "application/vnd.jupyter.widget-view+json": {
       "model_id": "01733e1f79d04c6386b94bd863ecd8a3",
       "version_major": 2,
       "version_minor": 0
      },
      "text/plain": [
       "  0%|          | 0/1000 [00:00<?, ?it/s]"
      ]
     },
     "metadata": {},
     "output_type": "display_data"
    },
    {
     "data": {
      "application/vnd.jupyter.widget-view+json": {
       "model_id": "f7e377211b9b4064b97760b0da898789",
       "version_major": 2,
       "version_minor": 0
      },
      "text/plain": [
       "  0%|          | 0/1000 [00:00<?, ?it/s]"
      ]
     },
     "metadata": {},
     "output_type": "display_data"
    },
    {
     "data": {
      "application/vnd.jupyter.widget-view+json": {
       "model_id": "8d4022350e094d348cb07f5213db59ce",
       "version_major": 2,
       "version_minor": 0
      },
      "text/plain": [
       "  0%|          | 0/1000 [00:00<?, ?it/s]"
      ]
     },
     "metadata": {},
     "output_type": "display_data"
    },
    {
     "data": {
      "application/vnd.jupyter.widget-view+json": {
       "model_id": "8dadaf4919ab47549d490e1798aa8110",
       "version_major": 2,
       "version_minor": 0
      },
      "text/plain": [
       "  0%|          | 0/1000 [00:00<?, ?it/s]"
      ]
     },
     "metadata": {},
     "output_type": "display_data"
    },
    {
     "data": {
      "application/vnd.jupyter.widget-view+json": {
       "model_id": "039fb10df8ea4e608db35b31b40f8cb3",
       "version_major": 2,
       "version_minor": 0
      },
      "text/plain": [
       "  0%|          | 0/1000 [00:00<?, ?it/s]"
      ]
     },
     "metadata": {},
     "output_type": "display_data"
    },
    {
     "data": {
      "application/vnd.jupyter.widget-view+json": {
       "model_id": "fd65292e815f4b2e8aec546b8ea76331",
       "version_major": 2,
       "version_minor": 0
      },
      "text/plain": [
       "  0%|          | 0/1000 [00:00<?, ?it/s]"
      ]
     },
     "metadata": {},
     "output_type": "display_data"
    },
    {
     "data": {
      "application/vnd.jupyter.widget-view+json": {
       "model_id": "188d9b1810f24accbe807b6f0821970e",
       "version_major": 2,
       "version_minor": 0
      },
      "text/plain": [
       "  0%|          | 0/1000 [00:00<?, ?it/s]"
      ]
     },
     "metadata": {},
     "output_type": "display_data"
    },
    {
     "data": {
      "application/vnd.jupyter.widget-view+json": {
       "model_id": "024fa9eac44943bfbea25e9ce20f69b2",
       "version_major": 2,
       "version_minor": 0
      },
      "text/plain": [
       "  0%|          | 0/1000 [00:00<?, ?it/s]"
      ]
     },
     "metadata": {},
     "output_type": "display_data"
    },
    {
     "data": {
      "application/vnd.jupyter.widget-view+json": {
       "model_id": "5272e656f09f415f9534e2ef6fc43ef2",
       "version_major": 2,
       "version_minor": 0
      },
      "text/plain": [
       "  0%|          | 0/1000 [00:00<?, ?it/s]"
      ]
     },
     "metadata": {},
     "output_type": "display_data"
    },
    {
     "data": {
      "application/vnd.jupyter.widget-view+json": {
       "model_id": "e2e0ad9fb2e0496ca3f2efbc96a4a36e",
       "version_major": 2,
       "version_minor": 0
      },
      "text/plain": [
       "  0%|          | 0/1000 [00:00<?, ?it/s]"
      ]
     },
     "metadata": {},
     "output_type": "display_data"
    },
    {
     "data": {
      "application/vnd.jupyter.widget-view+json": {
       "model_id": "12dcf53f87624b9d855cfcd2eea76d62",
       "version_major": 2,
       "version_minor": 0
      },
      "text/plain": [
       "  0%|          | 0/1000 [00:00<?, ?it/s]"
      ]
     },
     "metadata": {},
     "output_type": "display_data"
    },
    {
     "data": {
      "application/vnd.jupyter.widget-view+json": {
       "model_id": "edfe01eb73224b70ad04993a01a57b29",
       "version_major": 2,
       "version_minor": 0
      },
      "text/plain": [
       "  0%|          | 0/1000 [00:00<?, ?it/s]"
      ]
     },
     "metadata": {},
     "output_type": "display_data"
    },
    {
     "data": {
      "application/vnd.jupyter.widget-view+json": {
       "model_id": "15e17938e9bf4dd3b33cc629ce66e1e3",
       "version_major": 2,
       "version_minor": 0
      },
      "text/plain": [
       "  0%|          | 0/1000 [00:00<?, ?it/s]"
      ]
     },
     "metadata": {},
     "output_type": "display_data"
    },
    {
     "data": {
      "application/vnd.jupyter.widget-view+json": {
       "model_id": "b8993804039c4ed5b2905ff86138154f",
       "version_major": 2,
       "version_minor": 0
      },
      "text/plain": [
       "  0%|          | 0/1000 [00:00<?, ?it/s]"
      ]
     },
     "metadata": {},
     "output_type": "display_data"
    },
    {
     "data": {
      "application/vnd.jupyter.widget-view+json": {
       "model_id": "629fb6c653b34d358a5aafa38215fdce",
       "version_major": 2,
       "version_minor": 0
      },
      "text/plain": [
       "  0%|          | 0/1000 [00:00<?, ?it/s]"
      ]
     },
     "metadata": {},
     "output_type": "display_data"
    },
    {
     "data": {
      "application/vnd.jupyter.widget-view+json": {
       "model_id": "ab31cab552054f2196997047f3a7795e",
       "version_major": 2,
       "version_minor": 0
      },
      "text/plain": [
       "  0%|          | 0/1000 [00:00<?, ?it/s]"
      ]
     },
     "metadata": {},
     "output_type": "display_data"
    },
    {
     "data": {
      "application/vnd.jupyter.widget-view+json": {
       "model_id": "547f66d4006540cfbdccfe0186e2ea98",
       "version_major": 2,
       "version_minor": 0
      },
      "text/plain": [
       "  0%|          | 0/1000 [00:00<?, ?it/s]"
      ]
     },
     "metadata": {},
     "output_type": "display_data"
    },
    {
     "data": {
      "application/vnd.jupyter.widget-view+json": {
       "model_id": "d63b9715a6aa431093262d96e83ea15f",
       "version_major": 2,
       "version_minor": 0
      },
      "text/plain": [
       "  0%|          | 0/1000 [00:00<?, ?it/s]"
      ]
     },
     "metadata": {},
     "output_type": "display_data"
    },
    {
     "data": {
      "application/vnd.jupyter.widget-view+json": {
       "model_id": "ac9619c2b5cf479cb4df996b2a453631",
       "version_major": 2,
       "version_minor": 0
      },
      "text/plain": [
       "  0%|          | 0/1000 [00:00<?, ?it/s]"
      ]
     },
     "metadata": {},
     "output_type": "display_data"
    },
    {
     "data": {
      "application/vnd.jupyter.widget-view+json": {
       "model_id": "b183a77d7cce4daf84971f7e662be83d",
       "version_major": 2,
       "version_minor": 0
      },
      "text/plain": [
       "  0%|          | 0/1000 [00:00<?, ?it/s]"
      ]
     },
     "metadata": {},
     "output_type": "display_data"
    },
    {
     "data": {
      "application/vnd.jupyter.widget-view+json": {
       "model_id": "bd0a0357f4cb434581ba7d0e6bb71c6b",
       "version_major": 2,
       "version_minor": 0
      },
      "text/plain": [
       "  0%|          | 0/1000 [00:00<?, ?it/s]"
      ]
     },
     "metadata": {},
     "output_type": "display_data"
    },
    {
     "data": {
      "application/vnd.jupyter.widget-view+json": {
       "model_id": "221fa0876278485db26f795fed3b11d3",
       "version_major": 2,
       "version_minor": 0
      },
      "text/plain": [
       "  0%|          | 0/1000 [00:00<?, ?it/s]"
      ]
     },
     "metadata": {},
     "output_type": "display_data"
    },
    {
     "data": {
      "application/vnd.jupyter.widget-view+json": {
       "model_id": "eb6707a57dd843129c4d5164cfc392d5",
       "version_major": 2,
       "version_minor": 0
      },
      "text/plain": [
       "  0%|          | 0/1000 [00:00<?, ?it/s]"
      ]
     },
     "metadata": {},
     "output_type": "display_data"
    },
    {
     "data": {
      "application/vnd.jupyter.widget-view+json": {
       "model_id": "4ae9cf7062aa4094b8f962266c6033f3",
       "version_major": 2,
       "version_minor": 0
      },
      "text/plain": [
       "  0%|          | 0/1000 [00:00<?, ?it/s]"
      ]
     },
     "metadata": {},
     "output_type": "display_data"
    },
    {
     "data": {
      "application/vnd.jupyter.widget-view+json": {
       "model_id": "b0786a5a80914ee99b5c13860221ace1",
       "version_major": 2,
       "version_minor": 0
      },
      "text/plain": [
       "  0%|          | 0/1000 [00:00<?, ?it/s]"
      ]
     },
     "metadata": {},
     "output_type": "display_data"
    },
    {
     "data": {
      "application/vnd.jupyter.widget-view+json": {
       "model_id": "f69c0d1be2cb4abe898e70dcf4e75ef2",
       "version_major": 2,
       "version_minor": 0
      },
      "text/plain": [
       "  0%|          | 0/1000 [00:00<?, ?it/s]"
      ]
     },
     "metadata": {},
     "output_type": "display_data"
    },
    {
     "data": {
      "application/vnd.jupyter.widget-view+json": {
       "model_id": "94ac2e5d34cc4e2a9fd23540bf75cf5e",
       "version_major": 2,
       "version_minor": 0
      },
      "text/plain": [
       "  0%|          | 0/1000 [00:00<?, ?it/s]"
      ]
     },
     "metadata": {},
     "output_type": "display_data"
    },
    {
     "data": {
      "application/vnd.jupyter.widget-view+json": {
       "model_id": "5e880a7408ce4a4e80ff4192aef1822e",
       "version_major": 2,
       "version_minor": 0
      },
      "text/plain": [
       "  0%|          | 0/1000 [00:00<?, ?it/s]"
      ]
     },
     "metadata": {},
     "output_type": "display_data"
    },
    {
     "data": {
      "application/vnd.jupyter.widget-view+json": {
       "model_id": "59d1b35b145142039722147d2ed10a8b",
       "version_major": 2,
       "version_minor": 0
      },
      "text/plain": [
       "  0%|          | 0/1000 [00:00<?, ?it/s]"
      ]
     },
     "metadata": {},
     "output_type": "display_data"
    },
    {
     "data": {
      "application/vnd.jupyter.widget-view+json": {
       "model_id": "d42b8a82cc7146ca888a3ddba2a08791",
       "version_major": 2,
       "version_minor": 0
      },
      "text/plain": [
       "  0%|          | 0/1000 [00:00<?, ?it/s]"
      ]
     },
     "metadata": {},
     "output_type": "display_data"
    },
    {
     "data": {
      "application/vnd.jupyter.widget-view+json": {
       "model_id": "f418d424c1794f69834fbc4ff2085ccb",
       "version_major": 2,
       "version_minor": 0
      },
      "text/plain": [
       "  0%|          | 0/1000 [00:00<?, ?it/s]"
      ]
     },
     "metadata": {},
     "output_type": "display_data"
    },
    {
     "data": {
      "application/vnd.jupyter.widget-view+json": {
       "model_id": "abfb627cfe6e4ee4a7f962a9eb78726d",
       "version_major": 2,
       "version_minor": 0
      },
      "text/plain": [
       "  0%|          | 0/1000 [00:00<?, ?it/s]"
      ]
     },
     "metadata": {},
     "output_type": "display_data"
    },
    {
     "data": {
      "application/vnd.jupyter.widget-view+json": {
       "model_id": "30939f5e4edd42d387f1284a056b5e80",
       "version_major": 2,
       "version_minor": 0
      },
      "text/plain": [
       "  0%|          | 0/1000 [00:00<?, ?it/s]"
      ]
     },
     "metadata": {},
     "output_type": "display_data"
    },
    {
     "data": {
      "application/vnd.jupyter.widget-view+json": {
       "model_id": "b45dfb4c2ab04f4bb5be2883a3790cca",
       "version_major": 2,
       "version_minor": 0
      },
      "text/plain": [
       "  0%|          | 0/1000 [00:00<?, ?it/s]"
      ]
     },
     "metadata": {},
     "output_type": "display_data"
    },
    {
     "data": {
      "application/vnd.jupyter.widget-view+json": {
       "model_id": "5292a71e31e64a32a1ebb06f9361bdd6",
       "version_major": 2,
       "version_minor": 0
      },
      "text/plain": [
       "  0%|          | 0/1000 [00:00<?, ?it/s]"
      ]
     },
     "metadata": {},
     "output_type": "display_data"
    },
    {
     "data": {
      "application/vnd.jupyter.widget-view+json": {
       "model_id": "58f5aa05fe5c4b909f13ecd9f5c7b471",
       "version_major": 2,
       "version_minor": 0
      },
      "text/plain": [
       "  0%|          | 0/1000 [00:00<?, ?it/s]"
      ]
     },
     "metadata": {},
     "output_type": "display_data"
    },
    {
     "data": {
      "application/vnd.jupyter.widget-view+json": {
       "model_id": "fe17dd468f67468788825db289ba826a",
       "version_major": 2,
       "version_minor": 0
      },
      "text/plain": [
       "  0%|          | 0/1000 [00:00<?, ?it/s]"
      ]
     },
     "metadata": {},
     "output_type": "display_data"
    },
    {
     "data": {
      "application/vnd.jupyter.widget-view+json": {
       "model_id": "05f91d06f03f4f8a8d2827b8f419e0b6",
       "version_major": 2,
       "version_minor": 0
      },
      "text/plain": [
       "  0%|          | 0/1000 [00:00<?, ?it/s]"
      ]
     },
     "metadata": {},
     "output_type": "display_data"
    },
    {
     "data": {
      "application/vnd.jupyter.widget-view+json": {
       "model_id": "cb867dd02dd84037aca64a14e14bab26",
       "version_major": 2,
       "version_minor": 0
      },
      "text/plain": [
       "  0%|          | 0/1000 [00:00<?, ?it/s]"
      ]
     },
     "metadata": {},
     "output_type": "display_data"
    },
    {
     "data": {
      "application/vnd.jupyter.widget-view+json": {
       "model_id": "eb1835d3ef6845f4ba20c0350d0ace02",
       "version_major": 2,
       "version_minor": 0
      },
      "text/plain": [
       "  0%|          | 0/1000 [00:00<?, ?it/s]"
      ]
     },
     "metadata": {},
     "output_type": "display_data"
    },
    {
     "data": {
      "application/vnd.jupyter.widget-view+json": {
       "model_id": "e6dd6a20fad64b9b99a17d902d778e9e",
       "version_major": 2,
       "version_minor": 0
      },
      "text/plain": [
       "  0%|          | 0/1000 [00:00<?, ?it/s]"
      ]
     },
     "metadata": {},
     "output_type": "display_data"
    },
    {
     "data": {
      "application/vnd.jupyter.widget-view+json": {
       "model_id": "61c0708a7f0d4bd6a51a341dec1c585b",
       "version_major": 2,
       "version_minor": 0
      },
      "text/plain": [
       "  0%|          | 0/1000 [00:00<?, ?it/s]"
      ]
     },
     "metadata": {},
     "output_type": "display_data"
    },
    {
     "data": {
      "application/vnd.jupyter.widget-view+json": {
       "model_id": "e6fdb15856054011b11f2eebfc733a57",
       "version_major": 2,
       "version_minor": 0
      },
      "text/plain": [
       "  0%|          | 0/1000 [00:00<?, ?it/s]"
      ]
     },
     "metadata": {},
     "output_type": "display_data"
    },
    {
     "data": {
      "application/vnd.jupyter.widget-view+json": {
       "model_id": "fe86b3c10ad64481bf711fbbefe9a263",
       "version_major": 2,
       "version_minor": 0
      },
      "text/plain": [
       "  0%|          | 0/1000 [00:00<?, ?it/s]"
      ]
     },
     "metadata": {},
     "output_type": "display_data"
    },
    {
     "data": {
      "application/vnd.jupyter.widget-view+json": {
       "model_id": "9a3e58f2ca64414da05dbcb568281ae6",
       "version_major": 2,
       "version_minor": 0
      },
      "text/plain": [
       "  0%|          | 0/1000 [00:00<?, ?it/s]"
      ]
     },
     "metadata": {},
     "output_type": "display_data"
    },
    {
     "data": {
      "application/vnd.jupyter.widget-view+json": {
       "model_id": "fa36b31f08364515b405590914844eee",
       "version_major": 2,
       "version_minor": 0
      },
      "text/plain": [
       "  0%|          | 0/1000 [00:00<?, ?it/s]"
      ]
     },
     "metadata": {},
     "output_type": "display_data"
    },
    {
     "data": {
      "application/vnd.jupyter.widget-view+json": {
       "model_id": "1a4ef38b81bf43e4aef133c8b79556d3",
       "version_major": 2,
       "version_minor": 0
      },
      "text/plain": [
       "  0%|          | 0/1000 [00:00<?, ?it/s]"
      ]
     },
     "metadata": {},
     "output_type": "display_data"
    },
    {
     "data": {
      "application/vnd.jupyter.widget-view+json": {
       "model_id": "fdd8f9997e3a450da20913baafcfbd0a",
       "version_major": 2,
       "version_minor": 0
      },
      "text/plain": [
       "  0%|          | 0/1000 [00:00<?, ?it/s]"
      ]
     },
     "metadata": {},
     "output_type": "display_data"
    },
    {
     "data": {
      "application/vnd.jupyter.widget-view+json": {
       "model_id": "c9c01e3ed772473d87b128e6544c632e",
       "version_major": 2,
       "version_minor": 0
      },
      "text/plain": [
       "  0%|          | 0/1000 [00:00<?, ?it/s]"
      ]
     },
     "metadata": {},
     "output_type": "display_data"
    },
    {
     "data": {
      "application/vnd.jupyter.widget-view+json": {
       "model_id": "3f93f530c8284405acbd42d3e84f46ce",
       "version_major": 2,
       "version_minor": 0
      },
      "text/plain": [
       "  0%|          | 0/1000 [00:00<?, ?it/s]"
      ]
     },
     "metadata": {},
     "output_type": "display_data"
    },
    {
     "data": {
      "application/vnd.jupyter.widget-view+json": {
       "model_id": "44d43421ddb34ee3915d8be1a0f813f1",
       "version_major": 2,
       "version_minor": 0
      },
      "text/plain": [
       "  0%|          | 0/1000 [00:00<?, ?it/s]"
      ]
     },
     "metadata": {},
     "output_type": "display_data"
    },
    {
     "data": {
      "application/vnd.jupyter.widget-view+json": {
       "model_id": "69bdd730cbed442d81c78a142558f467",
       "version_major": 2,
       "version_minor": 0
      },
      "text/plain": [
       "  0%|          | 0/1000 [00:00<?, ?it/s]"
      ]
     },
     "metadata": {},
     "output_type": "display_data"
    },
    {
     "data": {
      "application/vnd.jupyter.widget-view+json": {
       "model_id": "709efd4348bc462bad2b0b4779d8ed24",
       "version_major": 2,
       "version_minor": 0
      },
      "text/plain": [
       "  0%|          | 0/1000 [00:00<?, ?it/s]"
      ]
     },
     "metadata": {},
     "output_type": "display_data"
    },
    {
     "data": {
      "application/vnd.jupyter.widget-view+json": {
       "model_id": "bd849fde30284783a097311b02590a7a",
       "version_major": 2,
       "version_minor": 0
      },
      "text/plain": [
       "  0%|          | 0/1000 [00:00<?, ?it/s]"
      ]
     },
     "metadata": {},
     "output_type": "display_data"
    },
    {
     "data": {
      "application/vnd.jupyter.widget-view+json": {
       "model_id": "e6ba6d9dc93e4792b39a0f33c5d91298",
       "version_major": 2,
       "version_minor": 0
      },
      "text/plain": [
       "  0%|          | 0/1000 [00:00<?, ?it/s]"
      ]
     },
     "metadata": {},
     "output_type": "display_data"
    },
    {
     "data": {
      "application/vnd.jupyter.widget-view+json": {
       "model_id": "77e9cd5574604cdaae76b408b8cf98fe",
       "version_major": 2,
       "version_minor": 0
      },
      "text/plain": [
       "  0%|          | 0/1000 [00:00<?, ?it/s]"
      ]
     },
     "metadata": {},
     "output_type": "display_data"
    },
    {
     "data": {
      "application/vnd.jupyter.widget-view+json": {
       "model_id": "731ae9297f784d57b26c98f941a53ee7",
       "version_major": 2,
       "version_minor": 0
      },
      "text/plain": [
       "  0%|          | 0/1000 [00:00<?, ?it/s]"
      ]
     },
     "metadata": {},
     "output_type": "display_data"
    },
    {
     "data": {
      "application/vnd.jupyter.widget-view+json": {
       "model_id": "a873e95fc38c4941b018b4823c566e36",
       "version_major": 2,
       "version_minor": 0
      },
      "text/plain": [
       "  0%|          | 0/1000 [00:00<?, ?it/s]"
      ]
     },
     "metadata": {},
     "output_type": "display_data"
    },
    {
     "data": {
      "application/vnd.jupyter.widget-view+json": {
       "model_id": "12b52132171546fd99b7131413a5b127",
       "version_major": 2,
       "version_minor": 0
      },
      "text/plain": [
       "  0%|          | 0/1000 [00:00<?, ?it/s]"
      ]
     },
     "metadata": {},
     "output_type": "display_data"
    },
    {
     "data": {
      "application/vnd.jupyter.widget-view+json": {
       "model_id": "89b3145f939343d28cb6dfba560fca8e",
       "version_major": 2,
       "version_minor": 0
      },
      "text/plain": [
       "  0%|          | 0/1000 [00:00<?, ?it/s]"
      ]
     },
     "metadata": {},
     "output_type": "display_data"
    },
    {
     "data": {
      "application/vnd.jupyter.widget-view+json": {
       "model_id": "7d99805e25ca468595b590a551d1102c",
       "version_major": 2,
       "version_minor": 0
      },
      "text/plain": [
       "  0%|          | 0/1000 [00:00<?, ?it/s]"
      ]
     },
     "metadata": {},
     "output_type": "display_data"
    },
    {
     "data": {
      "application/vnd.jupyter.widget-view+json": {
       "model_id": "69c7f393cd264d1c9f084946afae27b7",
       "version_major": 2,
       "version_minor": 0
      },
      "text/plain": [
       "  0%|          | 0/1000 [00:00<?, ?it/s]"
      ]
     },
     "metadata": {},
     "output_type": "display_data"
    },
    {
     "data": {
      "application/vnd.jupyter.widget-view+json": {
       "model_id": "fa67f9e7c5d2414db1ab7a6a6b1b4187",
       "version_major": 2,
       "version_minor": 0
      },
      "text/plain": [
       "  0%|          | 0/1000 [00:00<?, ?it/s]"
      ]
     },
     "metadata": {},
     "output_type": "display_data"
    },
    {
     "data": {
      "application/vnd.jupyter.widget-view+json": {
       "model_id": "47ac5e1292eb4a37bc2138c1de8252d3",
       "version_major": 2,
       "version_minor": 0
      },
      "text/plain": [
       "  0%|          | 0/1000 [00:00<?, ?it/s]"
      ]
     },
     "metadata": {},
     "output_type": "display_data"
    },
    {
     "data": {
      "application/vnd.jupyter.widget-view+json": {
       "model_id": "f7f342d677a4475e8fcdabb727ec01a6",
       "version_major": 2,
       "version_minor": 0
      },
      "text/plain": [
       "  0%|          | 0/1000 [00:00<?, ?it/s]"
      ]
     },
     "metadata": {},
     "output_type": "display_data"
    },
    {
     "data": {
      "application/vnd.jupyter.widget-view+json": {
       "model_id": "b18a2198b2f740babac23094c8210803",
       "version_major": 2,
       "version_minor": 0
      },
      "text/plain": [
       "  0%|          | 0/1000 [00:00<?, ?it/s]"
      ]
     },
     "metadata": {},
     "output_type": "display_data"
    },
    {
     "data": {
      "application/vnd.jupyter.widget-view+json": {
       "model_id": "e406e9584cd34bb99a7d213debbaf881",
       "version_major": 2,
       "version_minor": 0
      },
      "text/plain": [
       "  0%|          | 0/1000 [00:00<?, ?it/s]"
      ]
     },
     "metadata": {},
     "output_type": "display_data"
    },
    {
     "data": {
      "application/vnd.jupyter.widget-view+json": {
       "model_id": "c3af9abf0c874809a10847750896e0b5",
       "version_major": 2,
       "version_minor": 0
      },
      "text/plain": [
       "  0%|          | 0/1000 [00:00<?, ?it/s]"
      ]
     },
     "metadata": {},
     "output_type": "display_data"
    },
    {
     "data": {
      "application/vnd.jupyter.widget-view+json": {
       "model_id": "3ee7d2c015dd49e88490d37d11251c22",
       "version_major": 2,
       "version_minor": 0
      },
      "text/plain": [
       "  0%|          | 0/1000 [00:00<?, ?it/s]"
      ]
     },
     "metadata": {},
     "output_type": "display_data"
    },
    {
     "data": {
      "application/vnd.jupyter.widget-view+json": {
       "model_id": "9ddc58cde4d047e5b2e65a6cd8a2a517",
       "version_major": 2,
       "version_minor": 0
      },
      "text/plain": [
       "  0%|          | 0/1000 [00:00<?, ?it/s]"
      ]
     },
     "metadata": {},
     "output_type": "display_data"
    },
    {
     "data": {
      "application/vnd.jupyter.widget-view+json": {
       "model_id": "1a509d561aaf404998e986a4efb6ffc8",
       "version_major": 2,
       "version_minor": 0
      },
      "text/plain": [
       "  0%|          | 0/1000 [00:00<?, ?it/s]"
      ]
     },
     "metadata": {},
     "output_type": "display_data"
    },
    {
     "data": {
      "application/vnd.jupyter.widget-view+json": {
       "model_id": "e473ac3c98864b6ca604c7b425dd33d6",
       "version_major": 2,
       "version_minor": 0
      },
      "text/plain": [
       "  0%|          | 0/1000 [00:00<?, ?it/s]"
      ]
     },
     "metadata": {},
     "output_type": "display_data"
    },
    {
     "data": {
      "application/vnd.jupyter.widget-view+json": {
       "model_id": "8e8452536fd64e61929de373963b6f80",
       "version_major": 2,
       "version_minor": 0
      },
      "text/plain": [
       "  0%|          | 0/1000 [00:00<?, ?it/s]"
      ]
     },
     "metadata": {},
     "output_type": "display_data"
    },
    {
     "data": {
      "application/vnd.jupyter.widget-view+json": {
       "model_id": "ab675e36f9b546d9b0c1ac3b7b8651af",
       "version_major": 2,
       "version_minor": 0
      },
      "text/plain": [
       "  0%|          | 0/1000 [00:00<?, ?it/s]"
      ]
     },
     "metadata": {},
     "output_type": "display_data"
    },
    {
     "data": {
      "application/vnd.jupyter.widget-view+json": {
       "model_id": "aaa3c78285434508b7b021108b86ccef",
       "version_major": 2,
       "version_minor": 0
      },
      "text/plain": [
       "  0%|          | 0/1000 [00:00<?, ?it/s]"
      ]
     },
     "metadata": {},
     "output_type": "display_data"
    },
    {
     "data": {
      "application/vnd.jupyter.widget-view+json": {
       "model_id": "02c0b1102c1c4552a0a59a8ebf5b1b68",
       "version_major": 2,
       "version_minor": 0
      },
      "text/plain": [
       "  0%|          | 0/1000 [00:00<?, ?it/s]"
      ]
     },
     "metadata": {},
     "output_type": "display_data"
    },
    {
     "data": {
      "application/vnd.jupyter.widget-view+json": {
       "model_id": "32f2bef53d8f4d68aac7cfa73aa90a5e",
       "version_major": 2,
       "version_minor": 0
      },
      "text/plain": [
       "  0%|          | 0/1000 [00:00<?, ?it/s]"
      ]
     },
     "metadata": {},
     "output_type": "display_data"
    },
    {
     "data": {
      "application/vnd.jupyter.widget-view+json": {
       "model_id": "c3f461bd079d442fb46d625209a3fc13",
       "version_major": 2,
       "version_minor": 0
      },
      "text/plain": [
       "  0%|          | 0/1000 [00:00<?, ?it/s]"
      ]
     },
     "metadata": {},
     "output_type": "display_data"
    },
    {
     "data": {
      "application/vnd.jupyter.widget-view+json": {
       "model_id": "1c13a9c3bb0343c1a2c23f058963cb74",
       "version_major": 2,
       "version_minor": 0
      },
      "text/plain": [
       "  0%|          | 0/1000 [00:00<?, ?it/s]"
      ]
     },
     "metadata": {},
     "output_type": "display_data"
    },
    {
     "data": {
      "application/vnd.jupyter.widget-view+json": {
       "model_id": "d3749e7e6909402f81cf927f766b18f7",
       "version_major": 2,
       "version_minor": 0
      },
      "text/plain": [
       "  0%|          | 0/1000 [00:00<?, ?it/s]"
      ]
     },
     "metadata": {},
     "output_type": "display_data"
    },
    {
     "data": {
      "application/vnd.jupyter.widget-view+json": {
       "model_id": "38b5bc493a914109b63f1627b6c321b9",
       "version_major": 2,
       "version_minor": 0
      },
      "text/plain": [
       "  0%|          | 0/1000 [00:00<?, ?it/s]"
      ]
     },
     "metadata": {},
     "output_type": "display_data"
    },
    {
     "data": {
      "application/vnd.jupyter.widget-view+json": {
       "model_id": "42f7f8f277844742a30a383ee8a1869a",
       "version_major": 2,
       "version_minor": 0
      },
      "text/plain": [
       "  0%|          | 0/1000 [00:00<?, ?it/s]"
      ]
     },
     "metadata": {},
     "output_type": "display_data"
    },
    {
     "data": {
      "application/vnd.jupyter.widget-view+json": {
       "model_id": "605751a05ea34ab8a2186316e9bcfe65",
       "version_major": 2,
       "version_minor": 0
      },
      "text/plain": [
       "  0%|          | 0/1000 [00:00<?, ?it/s]"
      ]
     },
     "metadata": {},
     "output_type": "display_data"
    },
    {
     "data": {
      "application/vnd.jupyter.widget-view+json": {
       "model_id": "12252466dc914a7295ab0da275298ed0",
       "version_major": 2,
       "version_minor": 0
      },
      "text/plain": [
       "  0%|          | 0/1000 [00:00<?, ?it/s]"
      ]
     },
     "metadata": {},
     "output_type": "display_data"
    },
    {
     "data": {
      "application/vnd.jupyter.widget-view+json": {
       "model_id": "f2836dc5bb4d42d7bc26abeeb39e8dc7",
       "version_major": 2,
       "version_minor": 0
      },
      "text/plain": [
       "  0%|          | 0/1000 [00:00<?, ?it/s]"
      ]
     },
     "metadata": {},
     "output_type": "display_data"
    },
    {
     "data": {
      "application/vnd.jupyter.widget-view+json": {
       "model_id": "95d1fc7f4f0c4ca68755dd35951ba75c",
       "version_major": 2,
       "version_minor": 0
      },
      "text/plain": [
       "  0%|          | 0/1000 [00:00<?, ?it/s]"
      ]
     },
     "metadata": {},
     "output_type": "display_data"
    },
    {
     "data": {
      "application/vnd.jupyter.widget-view+json": {
       "model_id": "02346f4280434749999d68995caec900",
       "version_major": 2,
       "version_minor": 0
      },
      "text/plain": [
       "  0%|          | 0/1000 [00:00<?, ?it/s]"
      ]
     },
     "metadata": {},
     "output_type": "display_data"
    },
    {
     "data": {
      "application/vnd.jupyter.widget-view+json": {
       "model_id": "d617189eb2674de6a686b55950633a4f",
       "version_major": 2,
       "version_minor": 0
      },
      "text/plain": [
       "  0%|          | 0/1000 [00:00<?, ?it/s]"
      ]
     },
     "metadata": {},
     "output_type": "display_data"
    },
    {
     "data": {
      "application/vnd.jupyter.widget-view+json": {
       "model_id": "779fae7724594335ab06841e5d2b125b",
       "version_major": 2,
       "version_minor": 0
      },
      "text/plain": [
       "  0%|          | 0/1000 [00:00<?, ?it/s]"
      ]
     },
     "metadata": {},
     "output_type": "display_data"
    },
    {
     "data": {
      "application/vnd.jupyter.widget-view+json": {
       "model_id": "dcdc176d1e40461eaf46a96dfabc68c1",
       "version_major": 2,
       "version_minor": 0
      },
      "text/plain": [
       "  0%|          | 0/1000 [00:00<?, ?it/s]"
      ]
     },
     "metadata": {},
     "output_type": "display_data"
    },
    {
     "data": {
      "application/vnd.jupyter.widget-view+json": {
       "model_id": "37ab9879cefc4478a610cc786d764716",
       "version_major": 2,
       "version_minor": 0
      },
      "text/plain": [
       "  0%|          | 0/1000 [00:00<?, ?it/s]"
      ]
     },
     "metadata": {},
     "output_type": "display_data"
    },
    {
     "data": {
      "application/vnd.jupyter.widget-view+json": {
       "model_id": "5c4660fc93554f6183fbd5770f21deee",
       "version_major": 2,
       "version_minor": 0
      },
      "text/plain": [
       "  0%|          | 0/1000 [00:00<?, ?it/s]"
      ]
     },
     "metadata": {},
     "output_type": "display_data"
    },
    {
     "data": {
      "application/vnd.jupyter.widget-view+json": {
       "model_id": "a81fa190b7ab4dac894b709fd4767ca4",
       "version_major": 2,
       "version_minor": 0
      },
      "text/plain": [
       "  0%|          | 0/1000 [00:00<?, ?it/s]"
      ]
     },
     "metadata": {},
     "output_type": "display_data"
    },
    {
     "data": {
      "application/vnd.jupyter.widget-view+json": {
       "model_id": "f123303c05964b69810d8e36e15f48ef",
       "version_major": 2,
       "version_minor": 0
      },
      "text/plain": [
       "  0%|          | 0/1000 [00:00<?, ?it/s]"
      ]
     },
     "metadata": {},
     "output_type": "display_data"
    },
    {
     "data": {
      "application/vnd.jupyter.widget-view+json": {
       "model_id": "6c2804a8c4344649b215c83ddfa92aef",
       "version_major": 2,
       "version_minor": 0
      },
      "text/plain": [
       "  0%|          | 0/1000 [00:00<?, ?it/s]"
      ]
     },
     "metadata": {},
     "output_type": "display_data"
    },
    {
     "data": {
      "application/vnd.jupyter.widget-view+json": {
       "model_id": "70aef4cf04294c5d9816a1bc7f606582",
       "version_major": 2,
       "version_minor": 0
      },
      "text/plain": [
       "  0%|          | 0/1000 [00:00<?, ?it/s]"
      ]
     },
     "metadata": {},
     "output_type": "display_data"
    },
    {
     "data": {
      "application/vnd.jupyter.widget-view+json": {
       "model_id": "fc8e3ef2815148b38039ecc2c9d05d3c",
       "version_major": 2,
       "version_minor": 0
      },
      "text/plain": [
       "  0%|          | 0/1000 [00:00<?, ?it/s]"
      ]
     },
     "metadata": {},
     "output_type": "display_data"
    },
    {
     "data": {
      "application/vnd.jupyter.widget-view+json": {
       "model_id": "a09c283caf2c4a959b5af6ddcf603f92",
       "version_major": 2,
       "version_minor": 0
      },
      "text/plain": [
       "  0%|          | 0/1000 [00:00<?, ?it/s]"
      ]
     },
     "metadata": {},
     "output_type": "display_data"
    },
    {
     "data": {
      "application/vnd.jupyter.widget-view+json": {
       "model_id": "ae6b14b1f131462fb4263633f82c9f22",
       "version_major": 2,
       "version_minor": 0
      },
      "text/plain": [
       "  0%|          | 0/1000 [00:00<?, ?it/s]"
      ]
     },
     "metadata": {},
     "output_type": "display_data"
    },
    {
     "data": {
      "application/vnd.jupyter.widget-view+json": {
       "model_id": "9a0ebbcfac0a45bdbd5e3a9e30bfb112",
       "version_major": 2,
       "version_minor": 0
      },
      "text/plain": [
       "  0%|          | 0/1000 [00:00<?, ?it/s]"
      ]
     },
     "metadata": {},
     "output_type": "display_data"
    },
    {
     "data": {
      "application/vnd.jupyter.widget-view+json": {
       "model_id": "0854af9c87264e86b017110bde5a057d",
       "version_major": 2,
       "version_minor": 0
      },
      "text/plain": [
       "  0%|          | 0/1000 [00:00<?, ?it/s]"
      ]
     },
     "metadata": {},
     "output_type": "display_data"
    },
    {
     "data": {
      "application/vnd.jupyter.widget-view+json": {
       "model_id": "90482b6525764614905cfb0e3df98e7e",
       "version_major": 2,
       "version_minor": 0
      },
      "text/plain": [
       "  0%|          | 0/1000 [00:00<?, ?it/s]"
      ]
     },
     "metadata": {},
     "output_type": "display_data"
    },
    {
     "data": {
      "application/vnd.jupyter.widget-view+json": {
       "model_id": "0f263a3497754dafae87ca91fc41ddd2",
       "version_major": 2,
       "version_minor": 0
      },
      "text/plain": [
       "  0%|          | 0/1000 [00:00<?, ?it/s]"
      ]
     },
     "metadata": {},
     "output_type": "display_data"
    },
    {
     "data": {
      "application/vnd.jupyter.widget-view+json": {
       "model_id": "d3fa675aab104ade9486ff712b834e32",
       "version_major": 2,
       "version_minor": 0
      },
      "text/plain": [
       "  0%|          | 0/1000 [00:00<?, ?it/s]"
      ]
     },
     "metadata": {},
     "output_type": "display_data"
    },
    {
     "data": {
      "application/vnd.jupyter.widget-view+json": {
       "model_id": "302d8f369ade4994b69cadf262ebe3fb",
       "version_major": 2,
       "version_minor": 0
      },
      "text/plain": [
       "  0%|          | 0/1000 [00:00<?, ?it/s]"
      ]
     },
     "metadata": {},
     "output_type": "display_data"
    },
    {
     "data": {
      "application/vnd.jupyter.widget-view+json": {
       "model_id": "24c1709e82164631bb1d7b113608fe49",
       "version_major": 2,
       "version_minor": 0
      },
      "text/plain": [
       "  0%|          | 0/1000 [00:00<?, ?it/s]"
      ]
     },
     "metadata": {},
     "output_type": "display_data"
    },
    {
     "data": {
      "application/vnd.jupyter.widget-view+json": {
       "model_id": "2f71391572a44ab2825a05e6a9ae9108",
       "version_major": 2,
       "version_minor": 0
      },
      "text/plain": [
       "  0%|          | 0/1000 [00:00<?, ?it/s]"
      ]
     },
     "metadata": {},
     "output_type": "display_data"
    },
    {
     "data": {
      "application/vnd.jupyter.widget-view+json": {
       "model_id": "7f8cf571c4d2437fa96357f09943534d",
       "version_major": 2,
       "version_minor": 0
      },
      "text/plain": [
       "  0%|          | 0/1000 [00:00<?, ?it/s]"
      ]
     },
     "metadata": {},
     "output_type": "display_data"
    },
    {
     "data": {
      "application/vnd.jupyter.widget-view+json": {
       "model_id": "af8fab4c2ad64e938a61fbccba2b0906",
       "version_major": 2,
       "version_minor": 0
      },
      "text/plain": [
       "  0%|          | 0/1000 [00:00<?, ?it/s]"
      ]
     },
     "metadata": {},
     "output_type": "display_data"
    },
    {
     "data": {
      "application/vnd.jupyter.widget-view+json": {
       "model_id": "75a3a4c54f02443f865d5fdbf0dff02f",
       "version_major": 2,
       "version_minor": 0
      },
      "text/plain": [
       "  0%|          | 0/1000 [00:00<?, ?it/s]"
      ]
     },
     "metadata": {},
     "output_type": "display_data"
    },
    {
     "data": {
      "application/vnd.jupyter.widget-view+json": {
       "model_id": "16226ef637ff4e029a0152e9fea7f3cb",
       "version_major": 2,
       "version_minor": 0
      },
      "text/plain": [
       "  0%|          | 0/1000 [00:00<?, ?it/s]"
      ]
     },
     "metadata": {},
     "output_type": "display_data"
    },
    {
     "data": {
      "application/vnd.jupyter.widget-view+json": {
       "model_id": "1bc8d186745b4eb9a4f0faca55678704",
       "version_major": 2,
       "version_minor": 0
      },
      "text/plain": [
       "  0%|          | 0/1000 [00:00<?, ?it/s]"
      ]
     },
     "metadata": {},
     "output_type": "display_data"
    },
    {
     "data": {
      "application/vnd.jupyter.widget-view+json": {
       "model_id": "790526afc03d46a6a4f94f07a3b2c5dc",
       "version_major": 2,
       "version_minor": 0
      },
      "text/plain": [
       "  0%|          | 0/1000 [00:00<?, ?it/s]"
      ]
     },
     "metadata": {},
     "output_type": "display_data"
    },
    {
     "data": {
      "application/vnd.jupyter.widget-view+json": {
       "model_id": "9174684645854967a6c1edfcf50f50e2",
       "version_major": 2,
       "version_minor": 0
      },
      "text/plain": [
       "  0%|          | 0/1000 [00:00<?, ?it/s]"
      ]
     },
     "metadata": {},
     "output_type": "display_data"
    },
    {
     "data": {
      "application/vnd.jupyter.widget-view+json": {
       "model_id": "016e4992c14c4c77a6e78ac8283aa4e6",
       "version_major": 2,
       "version_minor": 0
      },
      "text/plain": [
       "  0%|          | 0/1000 [00:00<?, ?it/s]"
      ]
     },
     "metadata": {},
     "output_type": "display_data"
    },
    {
     "data": {
      "application/vnd.jupyter.widget-view+json": {
       "model_id": "24416c9903944d40b4ca360a7d3a3670",
       "version_major": 2,
       "version_minor": 0
      },
      "text/plain": [
       "  0%|          | 0/1000 [00:00<?, ?it/s]"
      ]
     },
     "metadata": {},
     "output_type": "display_data"
    },
    {
     "data": {
      "application/vnd.jupyter.widget-view+json": {
       "model_id": "2a0abf757d31462aa93dc764e09985dc",
       "version_major": 2,
       "version_minor": 0
      },
      "text/plain": [
       "  0%|          | 0/1000 [00:00<?, ?it/s]"
      ]
     },
     "metadata": {},
     "output_type": "display_data"
    },
    {
     "data": {
      "application/vnd.jupyter.widget-view+json": {
       "model_id": "87b4c0e0d4ca4fcd9141b8791b4ee623",
       "version_major": 2,
       "version_minor": 0
      },
      "text/plain": [
       "  0%|          | 0/1000 [00:00<?, ?it/s]"
      ]
     },
     "metadata": {},
     "output_type": "display_data"
    },
    {
     "data": {
      "application/vnd.jupyter.widget-view+json": {
       "model_id": "cbfd9d01695e45d7af8833c14ea4d61e",
       "version_major": 2,
       "version_minor": 0
      },
      "text/plain": [
       "  0%|          | 0/1000 [00:00<?, ?it/s]"
      ]
     },
     "metadata": {},
     "output_type": "display_data"
    },
    {
     "data": {
      "application/vnd.jupyter.widget-view+json": {
       "model_id": "c79346b9f5bb487385423d70fd42ea56",
       "version_major": 2,
       "version_minor": 0
      },
      "text/plain": [
       "  0%|          | 0/1000 [00:00<?, ?it/s]"
      ]
     },
     "metadata": {},
     "output_type": "display_data"
    },
    {
     "data": {
      "application/vnd.jupyter.widget-view+json": {
       "model_id": "30d24035d641436c9afaa8c3be07cf52",
       "version_major": 2,
       "version_minor": 0
      },
      "text/plain": [
       "  0%|          | 0/1000 [00:00<?, ?it/s]"
      ]
     },
     "metadata": {},
     "output_type": "display_data"
    },
    {
     "data": {
      "application/vnd.jupyter.widget-view+json": {
       "model_id": "483343b4113a45d09bef677563accdec",
       "version_major": 2,
       "version_minor": 0
      },
      "text/plain": [
       "  0%|          | 0/1000 [00:00<?, ?it/s]"
      ]
     },
     "metadata": {},
     "output_type": "display_data"
    },
    {
     "data": {
      "application/vnd.jupyter.widget-view+json": {
       "model_id": "a214ea5b8f1147c4aaa2e2f4e19df58f",
       "version_major": 2,
       "version_minor": 0
      },
      "text/plain": [
       "  0%|          | 0/1000 [00:00<?, ?it/s]"
      ]
     },
     "metadata": {},
     "output_type": "display_data"
    },
    {
     "data": {
      "application/vnd.jupyter.widget-view+json": {
       "model_id": "cf3ac0647aea4923b982c80857171190",
       "version_major": 2,
       "version_minor": 0
      },
      "text/plain": [
       "  0%|          | 0/1000 [00:00<?, ?it/s]"
      ]
     },
     "metadata": {},
     "output_type": "display_data"
    },
    {
     "data": {
      "application/vnd.jupyter.widget-view+json": {
       "model_id": "f12e6bbc2140468dbb82b9edb29dc7dc",
       "version_major": 2,
       "version_minor": 0
      },
      "text/plain": [
       "  0%|          | 0/1000 [00:00<?, ?it/s]"
      ]
     },
     "metadata": {},
     "output_type": "display_data"
    },
    {
     "data": {
      "application/vnd.jupyter.widget-view+json": {
       "model_id": "e1a84598db144049b28766953cc986a6",
       "version_major": 2,
       "version_minor": 0
      },
      "text/plain": [
       "  0%|          | 0/1000 [00:00<?, ?it/s]"
      ]
     },
     "metadata": {},
     "output_type": "display_data"
    },
    {
     "data": {
      "application/vnd.jupyter.widget-view+json": {
       "model_id": "a7cf8340e264476184ca22d32d9153b3",
       "version_major": 2,
       "version_minor": 0
      },
      "text/plain": [
       "  0%|          | 0/1000 [00:00<?, ?it/s]"
      ]
     },
     "metadata": {},
     "output_type": "display_data"
    },
    {
     "data": {
      "application/vnd.jupyter.widget-view+json": {
       "model_id": "7ed60aaeeee441a892770101c83ed1d3",
       "version_major": 2,
       "version_minor": 0
      },
      "text/plain": [
       "  0%|          | 0/1000 [00:00<?, ?it/s]"
      ]
     },
     "metadata": {},
     "output_type": "display_data"
    },
    {
     "data": {
      "application/vnd.jupyter.widget-view+json": {
       "model_id": "398f8dc176724215b4cbec8b27ffbb4e",
       "version_major": 2,
       "version_minor": 0
      },
      "text/plain": [
       "  0%|          | 0/1000 [00:00<?, ?it/s]"
      ]
     },
     "metadata": {},
     "output_type": "display_data"
    },
    {
     "data": {
      "application/vnd.jupyter.widget-view+json": {
       "model_id": "847389d4843648ea8a319a9563ac57de",
       "version_major": 2,
       "version_minor": 0
      },
      "text/plain": [
       "  0%|          | 0/1000 [00:00<?, ?it/s]"
      ]
     },
     "metadata": {},
     "output_type": "display_data"
    },
    {
     "data": {
      "application/vnd.jupyter.widget-view+json": {
       "model_id": "ef88f5c2858e4e838a1eba0ce64f032b",
       "version_major": 2,
       "version_minor": 0
      },
      "text/plain": [
       "  0%|          | 0/1000 [00:00<?, ?it/s]"
      ]
     },
     "metadata": {},
     "output_type": "display_data"
    },
    {
     "data": {
      "application/vnd.jupyter.widget-view+json": {
       "model_id": "c206597bcc294671b1445bde4bc9ee0d",
       "version_major": 2,
       "version_minor": 0
      },
      "text/plain": [
       "  0%|          | 0/1000 [00:00<?, ?it/s]"
      ]
     },
     "metadata": {},
     "output_type": "display_data"
    },
    {
     "data": {
      "application/vnd.jupyter.widget-view+json": {
       "model_id": "6d24059fa3bc4f34ae8bcd5ad4962c74",
       "version_major": 2,
       "version_minor": 0
      },
      "text/plain": [
       "  0%|          | 0/1000 [00:00<?, ?it/s]"
      ]
     },
     "metadata": {},
     "output_type": "display_data"
    },
    {
     "data": {
      "application/vnd.jupyter.widget-view+json": {
       "model_id": "c637ec5d165846e58df06d06b99e94ed",
       "version_major": 2,
       "version_minor": 0
      },
      "text/plain": [
       "  0%|          | 0/1000 [00:00<?, ?it/s]"
      ]
     },
     "metadata": {},
     "output_type": "display_data"
    },
    {
     "data": {
      "application/vnd.jupyter.widget-view+json": {
       "model_id": "e17107865ab949a9bdc56caeceaeee0f",
       "version_major": 2,
       "version_minor": 0
      },
      "text/plain": [
       "  0%|          | 0/1000 [00:00<?, ?it/s]"
      ]
     },
     "metadata": {},
     "output_type": "display_data"
    },
    {
     "data": {
      "application/vnd.jupyter.widget-view+json": {
       "model_id": "e30a659c7ff84367b62399a388a3d0fd",
       "version_major": 2,
       "version_minor": 0
      },
      "text/plain": [
       "  0%|          | 0/1000 [00:00<?, ?it/s]"
      ]
     },
     "metadata": {},
     "output_type": "display_data"
    },
    {
     "data": {
      "application/vnd.jupyter.widget-view+json": {
       "model_id": "0b8b58366e2243af96d345068aff554c",
       "version_major": 2,
       "version_minor": 0
      },
      "text/plain": [
       "  0%|          | 0/1000 [00:00<?, ?it/s]"
      ]
     },
     "metadata": {},
     "output_type": "display_data"
    },
    {
     "data": {
      "application/vnd.jupyter.widget-view+json": {
       "model_id": "ff3032a09eb548ffb808a30f1a8ff9a2",
       "version_major": 2,
       "version_minor": 0
      },
      "text/plain": [
       "  0%|          | 0/1000 [00:00<?, ?it/s]"
      ]
     },
     "metadata": {},
     "output_type": "display_data"
    },
    {
     "data": {
      "application/vnd.jupyter.widget-view+json": {
       "model_id": "69fefc83154c4488809e4a880af45728",
       "version_major": 2,
       "version_minor": 0
      },
      "text/plain": [
       "  0%|          | 0/1000 [00:00<?, ?it/s]"
      ]
     },
     "metadata": {},
     "output_type": "display_data"
    },
    {
     "data": {
      "application/vnd.jupyter.widget-view+json": {
       "model_id": "30608a4eec3c4483820a0c8e48b5a068",
       "version_major": 2,
       "version_minor": 0
      },
      "text/plain": [
       "  0%|          | 0/1000 [00:00<?, ?it/s]"
      ]
     },
     "metadata": {},
     "output_type": "display_data"
    },
    {
     "data": {
      "application/vnd.jupyter.widget-view+json": {
       "model_id": "142c2ed6e7cd4195894832e4e3954ce6",
       "version_major": 2,
       "version_minor": 0
      },
      "text/plain": [
       "  0%|          | 0/1000 [00:00<?, ?it/s]"
      ]
     },
     "metadata": {},
     "output_type": "display_data"
    },
    {
     "data": {
      "application/vnd.jupyter.widget-view+json": {
       "model_id": "c54487f0d25e4ab4828bdd949fe5bdfe",
       "version_major": 2,
       "version_minor": 0
      },
      "text/plain": [
       "  0%|          | 0/1000 [00:00<?, ?it/s]"
      ]
     },
     "metadata": {},
     "output_type": "display_data"
    },
    {
     "data": {
      "application/vnd.jupyter.widget-view+json": {
       "model_id": "d608c47dcc1e42ee83414e71284b701c",
       "version_major": 2,
       "version_minor": 0
      },
      "text/plain": [
       "  0%|          | 0/1000 [00:00<?, ?it/s]"
      ]
     },
     "metadata": {},
     "output_type": "display_data"
    },
    {
     "data": {
      "application/vnd.jupyter.widget-view+json": {
       "model_id": "cfcaf4fb69434eceb72474208cdb2a97",
       "version_major": 2,
       "version_minor": 0
      },
      "text/plain": [
       "  0%|          | 0/1000 [00:00<?, ?it/s]"
      ]
     },
     "metadata": {},
     "output_type": "display_data"
    },
    {
     "data": {
      "application/vnd.jupyter.widget-view+json": {
       "model_id": "0b062574bfdd4df0b1ea52e224218857",
       "version_major": 2,
       "version_minor": 0
      },
      "text/plain": [
       "  0%|          | 0/1000 [00:00<?, ?it/s]"
      ]
     },
     "metadata": {},
     "output_type": "display_data"
    },
    {
     "data": {
      "application/vnd.jupyter.widget-view+json": {
       "model_id": "3e6592fab932431a9baafe30ede9b916",
       "version_major": 2,
       "version_minor": 0
      },
      "text/plain": [
       "  0%|          | 0/1000 [00:00<?, ?it/s]"
      ]
     },
     "metadata": {},
     "output_type": "display_data"
    },
    {
     "data": {
      "application/vnd.jupyter.widget-view+json": {
       "model_id": "76e40851a28a4f709c07512916d934c9",
       "version_major": 2,
       "version_minor": 0
      },
      "text/plain": [
       "  0%|          | 0/1000 [00:00<?, ?it/s]"
      ]
     },
     "metadata": {},
     "output_type": "display_data"
    },
    {
     "data": {
      "application/vnd.jupyter.widget-view+json": {
       "model_id": "0fcbcffbfd5b4429a0fc0642cdb885b4",
       "version_major": 2,
       "version_minor": 0
      },
      "text/plain": [
       "  0%|          | 0/1000 [00:00<?, ?it/s]"
      ]
     },
     "metadata": {},
     "output_type": "display_data"
    },
    {
     "data": {
      "application/vnd.jupyter.widget-view+json": {
       "model_id": "4027c73e255144f7a64ac92d9d0cdb76",
       "version_major": 2,
       "version_minor": 0
      },
      "text/plain": [
       "  0%|          | 0/1000 [00:00<?, ?it/s]"
      ]
     },
     "metadata": {},
     "output_type": "display_data"
    },
    {
     "data": {
      "application/vnd.jupyter.widget-view+json": {
       "model_id": "1750f51e771b4d719a397f3cc4be39ab",
       "version_major": 2,
       "version_minor": 0
      },
      "text/plain": [
       "  0%|          | 0/1000 [00:00<?, ?it/s]"
      ]
     },
     "metadata": {},
     "output_type": "display_data"
    },
    {
     "data": {
      "application/vnd.jupyter.widget-view+json": {
       "model_id": "8882640a90604c21865855d05986e535",
       "version_major": 2,
       "version_minor": 0
      },
      "text/plain": [
       "  0%|          | 0/1000 [00:00<?, ?it/s]"
      ]
     },
     "metadata": {},
     "output_type": "display_data"
    },
    {
     "data": {
      "application/vnd.jupyter.widget-view+json": {
       "model_id": "f72ebaca05404b77a8bade69132fdfbe",
       "version_major": 2,
       "version_minor": 0
      },
      "text/plain": [
       "  0%|          | 0/1000 [00:00<?, ?it/s]"
      ]
     },
     "metadata": {},
     "output_type": "display_data"
    },
    {
     "data": {
      "application/vnd.jupyter.widget-view+json": {
       "model_id": "bdcf7174e2e542dd9207baf8541290c1",
       "version_major": 2,
       "version_minor": 0
      },
      "text/plain": [
       "  0%|          | 0/1000 [00:00<?, ?it/s]"
      ]
     },
     "metadata": {},
     "output_type": "display_data"
    },
    {
     "data": {
      "application/vnd.jupyter.widget-view+json": {
       "model_id": "6905ab07c0874f14891f39f98bf48496",
       "version_major": 2,
       "version_minor": 0
      },
      "text/plain": [
       "  0%|          | 0/1000 [00:00<?, ?it/s]"
      ]
     },
     "metadata": {},
     "output_type": "display_data"
    },
    {
     "data": {
      "application/vnd.jupyter.widget-view+json": {
       "model_id": "37f56920b4b64b899c001fefeb81d07e",
       "version_major": 2,
       "version_minor": 0
      },
      "text/plain": [
       "  0%|          | 0/1000 [00:00<?, ?it/s]"
      ]
     },
     "metadata": {},
     "output_type": "display_data"
    },
    {
     "data": {
      "application/vnd.jupyter.widget-view+json": {
       "model_id": "ba278706ce6444aaa54595bba8f166d9",
       "version_major": 2,
       "version_minor": 0
      },
      "text/plain": [
       "  0%|          | 0/1000 [00:00<?, ?it/s]"
      ]
     },
     "metadata": {},
     "output_type": "display_data"
    },
    {
     "data": {
      "application/vnd.jupyter.widget-view+json": {
       "model_id": "e004b6f8df8f49e7ad67e294c4867408",
       "version_major": 2,
       "version_minor": 0
      },
      "text/plain": [
       "  0%|          | 0/1000 [00:00<?, ?it/s]"
      ]
     },
     "metadata": {},
     "output_type": "display_data"
    },
    {
     "data": {
      "application/vnd.jupyter.widget-view+json": {
       "model_id": "6c889baeebcd4db9a615bf70c23e0441",
       "version_major": 2,
       "version_minor": 0
      },
      "text/plain": [
       "  0%|          | 0/1000 [00:00<?, ?it/s]"
      ]
     },
     "metadata": {},
     "output_type": "display_data"
    },
    {
     "data": {
      "application/vnd.jupyter.widget-view+json": {
       "model_id": "4b93a069bde84706ad80fa6cde2ff8f5",
       "version_major": 2,
       "version_minor": 0
      },
      "text/plain": [
       "  0%|          | 0/1000 [00:00<?, ?it/s]"
      ]
     },
     "metadata": {},
     "output_type": "display_data"
    },
    {
     "data": {
      "application/vnd.jupyter.widget-view+json": {
       "model_id": "a8ef6c04bd15434391bf50db03229223",
       "version_major": 2,
       "version_minor": 0
      },
      "text/plain": [
       "  0%|          | 0/1000 [00:00<?, ?it/s]"
      ]
     },
     "metadata": {},
     "output_type": "display_data"
    },
    {
     "data": {
      "application/vnd.jupyter.widget-view+json": {
       "model_id": "3ba1bf015b684f8b91e772cf10718c0e",
       "version_major": 2,
       "version_minor": 0
      },
      "text/plain": [
       "  0%|          | 0/1000 [00:00<?, ?it/s]"
      ]
     },
     "metadata": {},
     "output_type": "display_data"
    },
    {
     "data": {
      "application/vnd.jupyter.widget-view+json": {
       "model_id": "09f3760000af4878be94c9d2e7ac0111",
       "version_major": 2,
       "version_minor": 0
      },
      "text/plain": [
       "  0%|          | 0/1000 [00:00<?, ?it/s]"
      ]
     },
     "metadata": {},
     "output_type": "display_data"
    },
    {
     "data": {
      "application/vnd.jupyter.widget-view+json": {
       "model_id": "7a10a624521441e1bf1885156dfafdb0",
       "version_major": 2,
       "version_minor": 0
      },
      "text/plain": [
       "  0%|          | 0/1000 [00:00<?, ?it/s]"
      ]
     },
     "metadata": {},
     "output_type": "display_data"
    },
    {
     "data": {
      "application/vnd.jupyter.widget-view+json": {
       "model_id": "4b7c630c955749d691fc6f328a831ddd",
       "version_major": 2,
       "version_minor": 0
      },
      "text/plain": [
       "  0%|          | 0/1000 [00:00<?, ?it/s]"
      ]
     },
     "metadata": {},
     "output_type": "display_data"
    },
    {
     "data": {
      "application/vnd.jupyter.widget-view+json": {
       "model_id": "b5cddde8c3fe404f9abb8e69919f81ca",
       "version_major": 2,
       "version_minor": 0
      },
      "text/plain": [
       "  0%|          | 0/1000 [00:00<?, ?it/s]"
      ]
     },
     "metadata": {},
     "output_type": "display_data"
    },
    {
     "data": {
      "application/vnd.jupyter.widget-view+json": {
       "model_id": "8d8593ffce7e416ea30f355be6f42e69",
       "version_major": 2,
       "version_minor": 0
      },
      "text/plain": [
       "  0%|          | 0/1000 [00:00<?, ?it/s]"
      ]
     },
     "metadata": {},
     "output_type": "display_data"
    },
    {
     "data": {
      "application/vnd.jupyter.widget-view+json": {
       "model_id": "7bcff68426314827b5534837f5c3ccd2",
       "version_major": 2,
       "version_minor": 0
      },
      "text/plain": [
       "  0%|          | 0/1000 [00:00<?, ?it/s]"
      ]
     },
     "metadata": {},
     "output_type": "display_data"
    },
    {
     "data": {
      "application/vnd.jupyter.widget-view+json": {
       "model_id": "889d04c324a74fbebac5564667c311e3",
       "version_major": 2,
       "version_minor": 0
      },
      "text/plain": [
       "  0%|          | 0/1000 [00:00<?, ?it/s]"
      ]
     },
     "metadata": {},
     "output_type": "display_data"
    },
    {
     "data": {
      "application/vnd.jupyter.widget-view+json": {
       "model_id": "0ab96a47fa6548329ae9541e9b344b73",
       "version_major": 2,
       "version_minor": 0
      },
      "text/plain": [
       "  0%|          | 0/1000 [00:00<?, ?it/s]"
      ]
     },
     "metadata": {},
     "output_type": "display_data"
    },
    {
     "data": {
      "application/vnd.jupyter.widget-view+json": {
       "model_id": "18b4ef67f7624ab49ba87a7cfe8caa1b",
       "version_major": 2,
       "version_minor": 0
      },
      "text/plain": [
       "  0%|          | 0/1000 [00:00<?, ?it/s]"
      ]
     },
     "metadata": {},
     "output_type": "display_data"
    },
    {
     "data": {
      "application/vnd.jupyter.widget-view+json": {
       "model_id": "c111d5ea2af8463a94fc3d45ef936fe6",
       "version_major": 2,
       "version_minor": 0
      },
      "text/plain": [
       "  0%|          | 0/1000 [00:00<?, ?it/s]"
      ]
     },
     "metadata": {},
     "output_type": "display_data"
    },
    {
     "data": {
      "application/vnd.jupyter.widget-view+json": {
       "model_id": "112fb88e98524076bf9581f0ae76f2cf",
       "version_major": 2,
       "version_minor": 0
      },
      "text/plain": [
       "  0%|          | 0/1000 [00:00<?, ?it/s]"
      ]
     },
     "metadata": {},
     "output_type": "display_data"
    },
    {
     "data": {
      "application/vnd.jupyter.widget-view+json": {
       "model_id": "ffab300c4f584aed8ddcc0bb84ff795c",
       "version_major": 2,
       "version_minor": 0
      },
      "text/plain": [
       "  0%|          | 0/1000 [00:00<?, ?it/s]"
      ]
     },
     "metadata": {},
     "output_type": "display_data"
    },
    {
     "data": {
      "application/vnd.jupyter.widget-view+json": {
       "model_id": "546a2e1e6b904246885fb8923f13c9fe",
       "version_major": 2,
       "version_minor": 0
      },
      "text/plain": [
       "  0%|          | 0/1000 [00:00<?, ?it/s]"
      ]
     },
     "metadata": {},
     "output_type": "display_data"
    },
    {
     "data": {
      "application/vnd.jupyter.widget-view+json": {
       "model_id": "9c53c585c78c4ed3b31a6cc61ea93162",
       "version_major": 2,
       "version_minor": 0
      },
      "text/plain": [
       "  0%|          | 0/1000 [00:00<?, ?it/s]"
      ]
     },
     "metadata": {},
     "output_type": "display_data"
    },
    {
     "data": {
      "application/vnd.jupyter.widget-view+json": {
       "model_id": "c75739c185d64b47b1f67352a77339da",
       "version_major": 2,
       "version_minor": 0
      },
      "text/plain": [
       "  0%|          | 0/1000 [00:00<?, ?it/s]"
      ]
     },
     "metadata": {},
     "output_type": "display_data"
    },
    {
     "data": {
      "application/vnd.jupyter.widget-view+json": {
       "model_id": "31fe75cb8e6c447695858f9b995cc880",
       "version_major": 2,
       "version_minor": 0
      },
      "text/plain": [
       "  0%|          | 0/1000 [00:00<?, ?it/s]"
      ]
     },
     "metadata": {},
     "output_type": "display_data"
    },
    {
     "data": {
      "application/vnd.jupyter.widget-view+json": {
       "model_id": "32feb2a51ee3404dac5cf6c059123827",
       "version_major": 2,
       "version_minor": 0
      },
      "text/plain": [
       "  0%|          | 0/1000 [00:00<?, ?it/s]"
      ]
     },
     "metadata": {},
     "output_type": "display_data"
    },
    {
     "data": {
      "application/vnd.jupyter.widget-view+json": {
       "model_id": "5fcf5f9715f440698e396fffc8306550",
       "version_major": 2,
       "version_minor": 0
      },
      "text/plain": [
       "  0%|          | 0/1000 [00:00<?, ?it/s]"
      ]
     },
     "metadata": {},
     "output_type": "display_data"
    },
    {
     "data": {
      "application/vnd.jupyter.widget-view+json": {
       "model_id": "b16c2882562242b299fb4430d2022339",
       "version_major": 2,
       "version_minor": 0
      },
      "text/plain": [
       "  0%|          | 0/1000 [00:00<?, ?it/s]"
      ]
     },
     "metadata": {},
     "output_type": "display_data"
    },
    {
     "data": {
      "application/vnd.jupyter.widget-view+json": {
       "model_id": "1ff0db2e42724104b32bf7bf40bcee16",
       "version_major": 2,
       "version_minor": 0
      },
      "text/plain": [
       "  0%|          | 0/1000 [00:00<?, ?it/s]"
      ]
     },
     "metadata": {},
     "output_type": "display_data"
    },
    {
     "data": {
      "application/vnd.jupyter.widget-view+json": {
       "model_id": "dd7e750ac7ca4e8b9776e28657b2c0b9",
       "version_major": 2,
       "version_minor": 0
      },
      "text/plain": [
       "  0%|          | 0/1000 [00:00<?, ?it/s]"
      ]
     },
     "metadata": {},
     "output_type": "display_data"
    },
    {
     "data": {
      "application/vnd.jupyter.widget-view+json": {
       "model_id": "4404a0fb26794556baacec2688859121",
       "version_major": 2,
       "version_minor": 0
      },
      "text/plain": [
       "  0%|          | 0/1000 [00:00<?, ?it/s]"
      ]
     },
     "metadata": {},
     "output_type": "display_data"
    },
    {
     "data": {
      "application/vnd.jupyter.widget-view+json": {
       "model_id": "26b92458c1e74fe881f79e8aebadb720",
       "version_major": 2,
       "version_minor": 0
      },
      "text/plain": [
       "  0%|          | 0/1000 [00:00<?, ?it/s]"
      ]
     },
     "metadata": {},
     "output_type": "display_data"
    },
    {
     "data": {
      "application/vnd.jupyter.widget-view+json": {
       "model_id": "7a353dafaf814b17966f398f930a712b",
       "version_major": 2,
       "version_minor": 0
      },
      "text/plain": [
       "  0%|          | 0/1000 [00:00<?, ?it/s]"
      ]
     },
     "metadata": {},
     "output_type": "display_data"
    }
   ],
   "source": [
    "from tqdm import tqdm\n",
    "\n",
    "lime_local_pred = []\n",
    "lime_local_exp = []\n",
    "lime_score = []\n",
    "explainer = lime_image.LimeImageExplainer(kernel_width=100)\n",
    "for im in sample_imgs:\n",
    "    exp = explainer.explain_instance(image=np.array(im), classifier_fn=batch_predict)\n",
    "    lime_local_pred.append(exp.local_pred)\n",
    "    lime_local_exp.append(exp.local_exp)\n",
    "    lime_score.append(exp.score)\n"
   ]
  },
  {
   "cell_type": "code",
   "execution_count": 211,
   "metadata": {},
   "outputs": [],
   "source": [
    "lime_local_pred = np.stack(lime_local_pred)"
   ]
  },
  {
   "cell_type": "code",
   "execution_count": 212,
   "metadata": {},
   "outputs": [],
   "source": [
    "top_lime_preds = []\n",
    "for mas in lime_local_pred:\n",
    "    top_lime_preds.append(mas[0])"
   ]
  },
  {
   "cell_type": "code",
   "execution_count": 213,
   "metadata": {},
   "outputs": [
    {
     "data": {
      "text/plain": [
       "[0.9979287389889926,\n",
       " 0.9981777206897132,\n",
       " 0.6142967144474363,\n",
       " 0.43074950833261105,\n",
       " 0.7597713497263268,\n",
       " 0.9739067652451198,\n",
       " 0.999134971258077,\n",
       " 0.47424251824925345,\n",
       " 0.9980111506713392,\n",
       " 0.9979523024297978,\n",
       " 0.9633865285020314,\n",
       " 0.9980524633079737,\n",
       " 0.9980782301920728,\n",
       " 0.9988366298942408,\n",
       " 0.9991884740566968,\n",
       " 0.9979818274460985,\n",
       " 0.9980756080318283,\n",
       " 0.9488227695913962,\n",
       " 0.6417148467769204,\n",
       " 0.9639745326472213,\n",
       " 0.9965058757099623,\n",
       " 0.9979755661189977,\n",
       " 0.8810610963984499,\n",
       " 0.9984606413996219,\n",
       " 0.652713588091714,\n",
       " 0.6000375292887631,\n",
       " 0.9588588637077782,\n",
       " 0.6650529663309886,\n",
       " 0.540528202373449,\n",
       " 0.884144272075214,\n",
       " 0.9980069402821834,\n",
       " 0.9701436438595918,\n",
       " 0.5624587646508493,\n",
       " 0.9821798284675045,\n",
       " 0.8748434805669677,\n",
       " 1.0000000635409074,\n",
       " 0.9980497351468856,\n",
       " 0.8232325151211991,\n",
       " 0.9993716566669827,\n",
       " 0.9464399904260693,\n",
       " 0.9431753887026719,\n",
       " 0.9890204297749853,\n",
       " 0.9980219092259404,\n",
       " 0.9979302064548139,\n",
       " 0.9980605458164055,\n",
       " 0.7215911366752311,\n",
       " 0.9970486906785336,\n",
       " 0.9980039079339905,\n",
       " 0.9976783367584764,\n",
       " 0.9966059047019149,\n",
       " 1.0487337839639599,\n",
       " 0.9424318784860493,\n",
       " 0.9973371622923423,\n",
       " 0.8768951278240487,\n",
       " 0.6208729986220763,\n",
       " 0.9374728663836338,\n",
       " 0.8903147320072247,\n",
       " 0.9954078211563097,\n",
       " 0.9978943906947899,\n",
       " 0.9862759344440063,\n",
       " 0.9981265613895869,\n",
       " 0.713902287068533,\n",
       " 0.9981759748886312,\n",
       " 0.9976281219491192,\n",
       " 0.9769507784577138,\n",
       " 0.9049275844636052,\n",
       " 0.9868928810862171,\n",
       " 0.9485172848001375,\n",
       " 0.9596770346028998,\n",
       " 1.0000002963130514,\n",
       " 0.5710094517517874,\n",
       " 0.9995759539931423,\n",
       " 0.5272073481541446,\n",
       " 0.9979599459881465,\n",
       " 0.9951956646166972,\n",
       " 0.8149326436608743,\n",
       " 0.4146530751292421,\n",
       " 0.6252365657116463,\n",
       " 1.0003159421537615,\n",
       " 0.9979813515742593,\n",
       " 1.005506986372442,\n",
       " 1.0675515988695752,\n",
       " 0.9979946837098301,\n",
       " 0.9956323400002067,\n",
       " 0.9979975066514184,\n",
       " 0.9970739095573753,\n",
       " 1.0000021679439008,\n",
       " 1.0050636848850294,\n",
       " 0.9980530581903623,\n",
       " 0.5754021025792415,\n",
       " 0.9968909817624478,\n",
       " 0.823921250369887,\n",
       " 0.6621632437685527,\n",
       " 0.9644895458622469,\n",
       " 0.9980400682948201,\n",
       " 0.9870252362089698,\n",
       " 0.8531948131667682,\n",
       " 1.0000209033507967,\n",
       " 0.9980869295416064,\n",
       " 0.9985412348216786,\n",
       " 0.9985294298749054,\n",
       " 0.5288826873382032,\n",
       " 1.012199175219142,\n",
       " 0.9805087436517723,\n",
       " 0.6404203113746088,\n",
       " 0.9984808433582966,\n",
       " 0.9944026687501589,\n",
       " 0.7736388980784066,\n",
       " 0.9554924859230539,\n",
       " 0.9980554365284173,\n",
       " 0.998539251934473,\n",
       " 0.9979923919770015,\n",
       " 0.9696784571959729,\n",
       " 0.40204500226161405,\n",
       " 0.9922703114731709,\n",
       " 1.0009795402995667,\n",
       " 0.9980273503421797,\n",
       " 0.934955717869622,\n",
       " 0.6204434129857483,\n",
       " 0.9982833506663342,\n",
       " 0.9981621234530241,\n",
       " 0.9980704543961065,\n",
       " 0.9978646829350086,\n",
       " 0.9978828513795941,\n",
       " 0.9962910923190013,\n",
       " 0.4537697789710997,\n",
       " 0.9761093937562091,\n",
       " 0.4909290859045029,\n",
       " 0.8496297076840537,\n",
       " 1.011756840182851,\n",
       " 0.9985622738926259,\n",
       " 1.0001376661046206,\n",
       " 0.999713921066409,\n",
       " 0.9973707271832262,\n",
       " 0.7986395032601151,\n",
       " 0.9616431516949668,\n",
       " 0.9980504441494897,\n",
       " 1.000006988511476,\n",
       " 0.9991875687017566,\n",
       " 0.8178878872609678,\n",
       " 0.6718090360110022,\n",
       " 0.9849721685469139,\n",
       " 0.9860974093772965,\n",
       " 0.9980408284548998,\n",
       " 0.9985244082260939,\n",
       " 1.0323169240851517,\n",
       " 1.0109071404450445,\n",
       " 0.39174291284725915,\n",
       " 0.9969912883643675,\n",
       " 0.991436552614805,\n",
       " 0.9979931771436432,\n",
       " 0.9981249761719707,\n",
       " 0.9901494724404527,\n",
       " 0.9955039885859117,\n",
       " 0.9980289257801513,\n",
       " 0.9981433221714568,\n",
       " 0.9985685040508954,\n",
       " 0.45923446489182773,\n",
       " 0.8751522982505396,\n",
       " 0.8372206483278507,\n",
       " 0.9404777857196864,\n",
       " 0.998530262657463,\n",
       " 1.0001089076808545,\n",
       " 0.9999464667401265,\n",
       " 0.7645393739902655,\n",
       " 0.31182539286442285,\n",
       " 0.9948221064519163,\n",
       " 0.9979979825310413,\n",
       " 0.5005882936211214,\n",
       " 0.44867283938665165,\n",
       " 1.0096198662859406,\n",
       " 0.9855710789794376,\n",
       " 0.9980432892000255,\n",
       " 0.9981265613895867,\n",
       " 0.9980368866159446,\n",
       " 0.7556333453853719,\n",
       " 0.9974426750811256,\n",
       " 0.9980547190520621,\n",
       " 0.9985501129484142,\n",
       " 0.7935633511775132,\n",
       " 0.9500837663394572,\n",
       " 0.482883287850674,\n",
       " 0.5330490343010701,\n",
       " 0.9900621052115796,\n",
       " 0.4933855938367442,\n",
       " 0.9226474297803854,\n",
       " 0.9577981273034732,\n",
       " 0.9938370476262284,\n",
       " 0.6421203334908892,\n",
       " 0.9978154424196409,\n",
       " 0.998012833005405,\n",
       " 0.9508178302910617,\n",
       " 0.9980628555380894,\n",
       " 0.9986145320434967,\n",
       " 0.6272566851590675,\n",
       " 1.015126872626393,\n",
       " 0.9948854103642746,\n",
       " 0.9450883764452691,\n",
       " 0.9951888107259483,\n",
       " 0.5417728598180916,\n",
       " 0.9818220748636112,\n",
       " 0.9936981616841857,\n",
       " 0.8323836448981067,\n",
       " 0.7159708688929147,\n",
       " 0.8577015674697412,\n",
       " 0.9618302089120269,\n",
       " 0.5632723531737484,\n",
       " 0.9598903272663946,\n",
       " 0.9979642169489306,\n",
       " 1.0006619253168583,\n",
       " 0.9979901155680715,\n",
       " 0.8398043454012571,\n",
       " 0.9985396631934805,\n",
       " 0.9981929997847929,\n",
       " 0.9864010469125377,\n",
       " 0.5688289566513745,\n",
       " 0.9985721449551564,\n",
       " 0.9981155051453063,\n",
       " 0.998022483220749,\n",
       " 0.9747307624946027,\n",
       " 0.998542185047641,\n",
       " 0.9952883555351355,\n",
       " 0.9681502459951998,\n",
       " 0.9094232799763695,\n",
       " 0.9711416626592361,\n",
       " 0.9882987728544372,\n",
       " 0.34040005623619307,\n",
       " 0.985115862924884,\n",
       " 0.7864682669792761,\n",
       " 1.0004711347111337,\n",
       " 0.9981480611018643,\n",
       " 0.570926451969358,\n",
       " 0.9010226781196968,\n",
       " 0.9984780172700077,\n",
       " 0.844288275419093,\n",
       " 0.39078423177371946,\n",
       " 0.9978644375977547,\n",
       " 0.9981280649161977,\n",
       " 0.3838581931200666,\n",
       " 0.9476451279193638,\n",
       " 0.994771485358991,\n",
       " 0.9770285059311277,\n",
       " 0.77501926406189,\n",
       " 0.6234928986389312,\n",
       " 0.9926624555935136,\n",
       " 0.8283960707400617,\n",
       " 0.9980820359523618,\n",
       " 1.0827446485755075,\n",
       " 0.9966784171161958,\n",
       " 0.7054154336706078,\n",
       " 0.9674170102571145,\n",
       " 0.33344662813624065,\n",
       " 0.7477963242380482,\n",
       " 0.3903191624833944,\n",
       " 0.9985274009609656,\n",
       " 0.9857033338864678,\n",
       " 0.4754426246220075,\n",
       " 1.0068515407551084,\n",
       " 0.9979935999853904,\n",
       " 0.9098793611116586,\n",
       " 0.6149047207794968,\n",
       " 0.6430285595158327,\n",
       " 0.9569209046779172,\n",
       " 0.8799753557135531,\n",
       " 0.8655014513046067,\n",
       " 0.9985182672855488,\n",
       " 0.6951913532242022,\n",
       " 0.9981480611018642,\n",
       " 0.9981262985044519,\n",
       " 0.33574090366701914,\n",
       " 1.0001227578777059,\n",
       " 0.997893662705985,\n",
       " 0.9974377954870226,\n",
       " 0.6815069041466812,\n",
       " 0.99796092091719,\n",
       " 0.9980199307145512,\n",
       " 0.988510971554714,\n",
       " 0.4659075691132096,\n",
       " 0.9999999995475806,\n",
       " 0.9980226485465746,\n",
       " 0.39088843303110743,\n",
       " 0.7268486379929416,\n",
       " 0.9969685860601347,\n",
       " 1.0023141150795087,\n",
       " 0.9979611104015833,\n",
       " 1.0056688114858603,\n",
       " 1.0016449728993355,\n",
       " 0.7370402269040839,\n",
       " 0.9426524660979716,\n",
       " 0.8821326302749624,\n",
       " 0.7819145033850194,\n",
       " 0.9498577206883771,\n",
       " 0.6573157201114657,\n",
       " 0.9935501973923464,\n",
       " 0.6325810088358483,\n",
       " 0.9981050901383629,\n",
       " 0.9482244917426439,\n",
       " 0.6794866699078421,\n",
       " 0.9880491815766368,\n",
       " 0.9980878909493419,\n",
       " 0.9980550759646634,\n",
       " 0.7440448867626651,\n",
       " 0.6665344978452294,\n",
       " 0.9980705733688731,\n",
       " 0.9576290212010727,\n",
       " 1.000251306574491,\n",
       " 0.6932284797927413,\n",
       " 1.002632326744359,\n",
       " 1.0000000282625328,\n",
       " 0.8562960231761056,\n",
       " 0.9920425211266308,\n",
       " 0.7743137190374356,\n",
       " 0.8148765163966376,\n",
       " 0.9836624476524457,\n",
       " 0.4827582033047196,\n",
       " 0.9977997158313112,\n",
       " 0.5560173842144283,\n",
       " 0.9978908648301286,\n",
       " 0.4897843542351304,\n",
       " 1.0003904426343022,\n",
       " 0.9980393285903948,\n",
       " 0.9696716695793373,\n",
       " 0.998530839360164,\n",
       " 0.9879345753039437,\n",
       " 0.9521611593150445,\n",
       " 0.9175055948542478,\n",
       " 0.997804448876444,\n",
       " 0.8502531831617841,\n",
       " 0.9459417192586892,\n",
       " 0.9980572715934346,\n",
       " 0.9998723596161635,\n",
       " 0.998202628463897,\n",
       " 0.9976122431622736,\n",
       " 0.9857891229009346,\n",
       " 0.9939869475358845,\n",
       " 0.9979183783567387,\n",
       " 0.99815216807327,\n",
       " 0.9978846780136554,\n",
       " 0.9938539878624887,\n",
       " 0.7241734058987981,\n",
       " 0.9980652525980259,\n",
       " 0.907016961431934,\n",
       " 0.9985677075239733,\n",
       " 0.9981191649981778,\n",
       " 0.7798590597080968,\n",
       " 0.7531144717566262,\n",
       " 0.6080316691294211,\n",
       " 0.46409006233543204,\n",
       " 0.8180677451669145,\n",
       " 0.9980374250874061,\n",
       " 0.5432335582220469,\n",
       " 0.9677015498399291,\n",
       " 1.0017076548419928,\n",
       " 0.6449664782226048,\n",
       " 0.9880684908786895,\n",
       " 0.8949477663987921,\n",
       " 1.1350644245068637,\n",
       " 0.9998957775082993,\n",
       " 0.9893253215154207,\n",
       " 0.9981337808596371,\n",
       " 0.9337592737377968,\n",
       " 0.6372441855125756,\n",
       " 0.9790257805292981,\n",
       " 1.0311505952559943,\n",
       " 0.997559494367958,\n",
       " 0.9731374484839003,\n",
       " 0.997721787598115,\n",
       " 0.5681472598419731,\n",
       " 0.9226921162992809,\n",
       " 1.0039485566507236,\n",
       " 0.9990658387855772,\n",
       " 0.9979694673949274,\n",
       " 0.2719041304615756,\n",
       " 0.9977903629900686,\n",
       " 0.952020047163701,\n",
       " 0.9978767759622289,\n",
       " 0.9977306272432065,\n",
       " 0.7633067306819524,\n",
       " 0.9865948461868503,\n",
       " 1.000004065459875,\n",
       " 0.5901389644310744,\n",
       " 0.7232691042878447,\n",
       " 1.0001006332778835,\n",
       " 0.9468630579848787,\n",
       " 0.9981008417944504,\n",
       " 0.9999999085506072,\n",
       " 0.998081322107329,\n",
       " 0.8991485953923732,\n",
       " 0.6791111969691028,\n",
       " 0.9978129226721433,\n",
       " 0.9980089475329907,\n",
       " 0.9999980537177242,\n",
       " 0.9130988080402631,\n",
       " 0.9981045589819963,\n",
       " 0.9985024010814278,\n",
       " 0.9979908120619084,\n",
       " 0.9960294737682194,\n",
       " 0.784206700079725,\n",
       " 0.4756360494572659,\n",
       " 0.9373676232626827,\n",
       " 0.9270845782487338,\n",
       " 0.9979982310511192,\n",
       " 0.7705545568592975,\n",
       " 0.9977839167948348,\n",
       " 0.6517380438460454,\n",
       " 0.5085267810382975,\n",
       " 0.9981300601322519,\n",
       " 0.9570528124263677,\n",
       " 0.9982310466161368,\n",
       " 0.997534396109615,\n",
       " 0.7933459885058143,\n",
       " 0.9985143413753749,\n",
       " 0.8678251890742523,\n",
       " 0.9876083369628604,\n",
       " 1.0000000577294932,\n",
       " 0.8858523068906957,\n",
       " 0.736119207560939,\n",
       " 0.9976698585708101,\n",
       " 0.9991096086126855,\n",
       " 1.0000006295118908,\n",
       " 0.9968028160577473,\n",
       " 0.9985254983136572,\n",
       " 0.6658175883502766,\n",
       " 1.0019567327902865,\n",
       " 0.9979481186122456,\n",
       " 0.9981215022049588,\n",
       " 0.7772968899686985,\n",
       " 1.0076468399587983,\n",
       " 0.5129068504270979,\n",
       " 0.9825157447660701,\n",
       " 0.9982026410194823,\n",
       " 0.9979940575489141,\n",
       " 1.0004399024964248,\n",
       " 0.4780720868858075,\n",
       " 0.997981190455036,\n",
       " 0.9980667221250966,\n",
       " 0.6303337303136131,\n",
       " 1.0015826174280331,\n",
       " 0.9849265361567844,\n",
       " 0.971260229525905,\n",
       " 0.837941189370435,\n",
       " 0.9937150581541683,\n",
       " 0.9201477889517854,\n",
       " 0.997783210633479,\n",
       " 0.9253592155597841,\n",
       " 0.9479238108146077,\n",
       " 0.9984947884578319,\n",
       " 0.6401557349151941,\n",
       " 0.9974738451148326,\n",
       " 0.9711370792481233,\n",
       " 0.9979544580876496,\n",
       " 0.9978963358718713,\n",
       " 1.0010329352727498,\n",
       " 1.0099776210048035,\n",
       " 0.9985031148682917,\n",
       " 1.0277421925392272,\n",
       " 1.0,\n",
       " 0.9235161615619546,\n",
       " 0.9985331123566843,\n",
       " 0.9980111506713383,\n",
       " 0.9915149616940565,\n",
       " 0.9985121961426584,\n",
       " 0.6862331449091577,\n",
       " 0.9048972268007456,\n",
       " 0.9179208592544641,\n",
       " 0.987388326283531,\n",
       " 0.9979821659666825,\n",
       " 0.9979260056648447,\n",
       " 0.8944868346285024,\n",
       " 0.9980971100618572,\n",
       " 0.5332089812069428,\n",
       " 1.003423587580237,\n",
       " 0.8790257880538944,\n",
       " 0.875236037679437,\n",
       " 0.9978796527619249,\n",
       " 0.998137372994392,\n",
       " 0.998544987479876,\n",
       " 0.9979887028783847,\n",
       " 0.9873161238993646,\n",
       " 0.9979313446922398,\n",
       " 0.7445915235223444,\n",
       " 0.841783518888758,\n",
       " 1.088544082955193,\n",
       " 0.9485097355251436,\n",
       " 0.7035051953303669,\n",
       " 0.7298325674454691,\n",
       " 0.8687463319981139,\n",
       " 0.9979019657563715,\n",
       " 0.9977929312804906,\n",
       " 0.9966787839914215,\n",
       " 0.9166774179580912,\n",
       " 0.4961072459419662,\n",
       " 0.9980530581903619,\n",
       " 0.9958176597112356,\n",
       " 0.9980712983552795,\n",
       " 0.6561036652188532,\n",
       " 0.9797032280970104,\n",
       " 0.9979777176628278,\n",
       " 0.999902382207591,\n",
       " 0.817882035786051,\n",
       " 0.6164909180701421,\n",
       " 0.8097463578259927,\n",
       " 0.9196328463564488,\n",
       " 0.991455562697458,\n",
       " 0.9964939206819978,\n",
       " 0.8128812520359223,\n",
       " 0.8259481512657522,\n",
       " 0.9875578155716337,\n",
       " 0.6711669676666511,\n",
       " 0.9958737234594393,\n",
       " 0.9972529326575785,\n",
       " 0.9871484326012494,\n",
       " 0.9979370950451338,\n",
       " 0.9980061408734138,\n",
       " 0.9999504898286719,\n",
       " 0.9320385737767205,\n",
       " 0.9829701099032291,\n",
       " 0.9931107766275431,\n",
       " 1.0000181549326188,\n",
       " 0.9879687420652725,\n",
       " 1.0395670986315313,\n",
       " 0.9980393285903948,\n",
       " 0.9958181496644597,\n",
       " 0.9096061377358688,\n",
       " 0.9979215864224178,\n",
       " 1.0061826734028716,\n",
       " 0.8340316486536926,\n",
       " 0.2789558165779261,\n",
       " 0.9985680644492724,\n",
       " 0.9978593004121186,\n",
       " 0.5720683856051992,\n",
       " 0.9945298532313632,\n",
       " 0.9980559170884152,\n",
       " 0.9900623931697339,\n",
       " 0.9978870894561724,\n",
       " 0.7802554606329348,\n",
       " 0.5486987955822424,\n",
       " 0.9979973704277344,\n",
       " 0.9980353519760552,\n",
       " 0.9980070432333757,\n",
       " 0.9232290911195851,\n",
       " 0.9618564510922227,\n",
       " 0.9924888919241536,\n",
       " 0.8678798702692747,\n",
       " 0.3391078964345788,\n",
       " 0.7843699640434068,\n",
       " 0.5041231987739316,\n",
       " 1.0049419323525803,\n",
       " 0.9910214471285617,\n",
       " 0.7552940635275143,\n",
       " 0.5516274904958725,\n",
       " 0.9798025324125275,\n",
       " 0.9980511627915352,\n",
       " 0.9985564384199288,\n",
       " 0.464477870250568,\n",
       " 0.7270264414809531,\n",
       " 0.984209408360116,\n",
       " 0.8979684036047206,\n",
       " 1.000121141728704,\n",
       " 0.9986198021936591,\n",
       " 0.6157727304375419,\n",
       " 0.9975047890975031,\n",
       " 0.9980021292432342,\n",
       " 0.9978721577409654,\n",
       " 0.9858275697753147,\n",
       " 0.7932613026901256,\n",
       " 0.9759728287381071,\n",
       " 0.7900891704348232,\n",
       " 0.9868706442438274,\n",
       " 1.0082422638501771,\n",
       " 0.9979777176628282,\n",
       " 0.8521683452016526,\n",
       " 0.9979502972287111,\n",
       " 0.9978646829350086,\n",
       " 0.5835203624765257,\n",
       " 0.5432510576108431,\n",
       " 0.9980820359523618,\n",
       " 0.9981780965029019,\n",
       " 0.9735872528802446,\n",
       " 0.9140906117237861,\n",
       " 0.5652032536743641,\n",
       " 0.9970682751978007,\n",
       " 0.9476500750135537,\n",
       " 1.002508351284784,\n",
       " 0.8587600175669128,\n",
       " 0.843117729786445,\n",
       " 0.4982303559542877,\n",
       " 0.9984798538600903,\n",
       " 1.0000048950002156,\n",
       " 0.9980453919422168,\n",
       " 0.6826395131010441,\n",
       " 0.8996222939955508,\n",
       " 0.984392957794832,\n",
       " 0.9981265613895869,\n",
       " 0.9979425604666227,\n",
       " 0.7994840655850277,\n",
       " 0.7434620307956555,\n",
       " 0.9972719938488388,\n",
       " 0.9188376662438519,\n",
       " 1.0000555489218437,\n",
       " 0.9981023513018209,\n",
       " 0.991141796146523,\n",
       " 0.9976861498235723,\n",
       " 0.8533525930398613,\n",
       " 0.9979726985260617,\n",
       " 0.9980353519760552,\n",
       " 0.9979183783567387,\n",
       " 0.8995617185214135,\n",
       " 0.9978734701106182,\n",
       " 0.35707443617793155,\n",
       " 0.9985623928667983,\n",
       " 0.9985595402647669,\n",
       " 0.6090306211868058,\n",
       " 0.9985566763664029,\n",
       " 0.995732717640015,\n",
       " 0.8646547707073445,\n",
       " 0.8444463395374278,\n",
       " 0.997824792129303,\n",
       " 1.0000157435854837,\n",
       " 1.000224263720612,\n",
       " 0.9959923244775855,\n",
       " 0.9984492390402093,\n",
       " 0.809147532769802,\n",
       " 0.5152584123161259,\n",
       " 0.9980337791855268,\n",
       " 0.8990120190738871,\n",
       " 1.0219806379815426,\n",
       " 0.9980510261156706,\n",
       " 0.9926336111064075,\n",
       " 0.9977077453254225,\n",
       " 0.9985509457577828,\n",
       " 1.0164815941465632,\n",
       " 1.0823698801437744,\n",
       " 0.998618283069068,\n",
       " 0.7913644123229195,\n",
       " 0.9865415079616997,\n",
       " 0.9998626880919906,\n",
       " 0.45615285471758127,\n",
       " 0.9656810020791613,\n",
       " 0.9008995345415127,\n",
       " 0.9247132684557335,\n",
       " 0.994438490752555,\n",
       " 0.9930513792277283,\n",
       " 1.0,\n",
       " 0.9927118286413242,\n",
       " 0.7536432267922647,\n",
       " 0.9981713130105685,\n",
       " 0.9984791963260997,\n",
       " 0.9731756420948805,\n",
       " 0.47249706103943667,\n",
       " 0.9980180800560481,\n",
       " 0.998037665341891,\n",
       " 0.9979207093832096,\n",
       " 0.9980490240940268,\n",
       " 0.9985680644492724,\n",
       " 0.9654806897978389,\n",
       " 0.9069076011119226,\n",
       " 1.2089054132188586,\n",
       " 0.6099174392723561,\n",
       " 0.9980831336472601,\n",
       " 0.9984716112701806,\n",
       " 0.9986111680269785,\n",
       " 0.535792890393495,\n",
       " 1.000000059804548,\n",
       " 0.44855659257742353,\n",
       " 0.9975415320833606,\n",
       " 0.9973632203845754,\n",
       " 0.9830973366301943,\n",
       " 0.9995639653037713,\n",
       " 0.997973591169647,\n",
       " 0.9975006846913543,\n",
       " 0.9985566763664031,\n",
       " 0.6283893208374931,\n",
       " 0.8101585346706281,\n",
       " 1.1820463993346935,\n",
       " 0.9985302626574628,\n",
       " 1.0023996778463222,\n",
       " 0.5196326497296297,\n",
       " 0.9466551880622885,\n",
       " 0.9963959347875772,\n",
       " 0.9981002757323738,\n",
       " 0.9885158612291409,\n",
       " 0.9979905244257881,\n",
       " 0.9981119500623036,\n",
       " 0.4857908607347663,\n",
       " 1.002764196111982,\n",
       " 0.9406375575462618,\n",
       " 0.8380273107888379,\n",
       " 0.30018689173215346,\n",
       " 0.6246302294455015,\n",
       " 1.0000545928837405,\n",
       " 0.9978760041150965,\n",
       " 0.9979694478640675,\n",
       " 0.9978599644506159,\n",
       " 0.9794922629652486,\n",
       " 0.9985708835621107,\n",
       " 0.7282985110583056,\n",
       " 0.9539841634926773,\n",
       " 0.5204835768598634,\n",
       " 0.9778854840265683,\n",
       " 0.4796973775268515,\n",
       " 0.7591997080441364,\n",
       " 0.9980337074419752,\n",
       " 0.9981591444507129,\n",
       " 0.9906227988352954,\n",
       " 0.9976936676375174,\n",
       " 0.9980899248192168,\n",
       " 0.8767996036897655,\n",
       " 0.9985708835621105,\n",
       " 0.9544226276528258,\n",
       " 0.9981119500623037,\n",
       " 1.0041232929706863,\n",
       " 0.8158850926785406,\n",
       " 0.9977290371473138,\n",
       " 0.9426515989595466,\n",
       " 0.9960099952519965,\n",
       " 0.994825353906788,\n",
       " 0.9561159581079722,\n",
       " 1.0011388824109408,\n",
       " 0.9336975298564687,\n",
       " 0.9167600890236173,\n",
       " 0.94352479235248,\n",
       " 0.9979981015009469,\n",
       " 1.0000000575751908,\n",
       " 0.9985057183276824,\n",
       " 0.9979457251023347,\n",
       " 0.9794616549940731,\n",
       " 0.9979677570841279,\n",
       " 0.999780537922315,\n",
       " 0.9970278372693221,\n",
       " 0.9994654242328385,\n",
       " 0.9430951682648476,\n",
       " 0.9576905950746628,\n",
       " 0.47078808245177883,\n",
       " 0.9980196687671123,\n",
       " 0.9985755866856323,\n",
       " 0.9985538011041903,\n",
       " 0.7512200013705257,\n",
       " 0.9970032300941991,\n",
       " 1.0028818199169536,\n",
       " 0.9001024095421537,\n",
       " 0.9768890848208612,\n",
       " 0.6704935829903929,\n",
       " 0.8130931963146774,\n",
       " 0.9980460420029621,\n",
       " 0.8695423997411942,\n",
       " 0.9979758141833338,\n",
       " 0.9985258543711251,\n",
       " 0.6599602130272185,\n",
       " 0.3915767716274946,\n",
       " 0.998493681573589,\n",
       " 1.00687343037724,\n",
       " 0.9612787871824002,\n",
       " 0.9977720927115333,\n",
       " 0.9999046253580385,\n",
       " 0.6767286737138329,\n",
       " 0.44603925804297695,\n",
       " 0.9797995654779147,\n",
       " 0.9983784811343792,\n",
       " 1.0000000267629143,\n",
       " 0.9974954770684012,\n",
       " 1.0029396096493497,\n",
       " 0.6075003426112123,\n",
       " 0.9852932151509037,\n",
       " 0.9980845775100273,\n",
       " 0.9980059029316795,\n",
       " 0.7866091909644171,\n",
       " 0.6110935383114875,\n",
       " 0.9985333502955283,\n",
       " 0.9984743115727062,\n",
       " 0.9979374617008299,\n",
       " 0.9980048043373394,\n",
       " 0.9997616794094277,\n",
       " 0.6841545257032275,\n",
       " 0.9979694673949274,\n",
       " 0.9981082617097503,\n",
       " 0.9851895706187478,\n",
       " 0.9980933636982898,\n",
       " 0.9114427042653335,\n",
       " 0.6414752661066813,\n",
       " 0.9890731456090363,\n",
       " 0.5696698501311472,\n",
       " 0.9999991702233112,\n",
       " 1.0004632339061392,\n",
       " 0.6697671096964867,\n",
       " 0.9873454972474458,\n",
       " 0.6457812389891254,\n",
       " 0.7155116279348359,\n",
       " 0.6279270869950151,\n",
       " 0.9977963591779504,\n",
       " 0.8553976728963446,\n",
       " 0.9521562647470623,\n",
       " 0.9979536681704635,\n",
       " 0.9865188106236119,\n",
       " 0.9985928067605508,\n",
       " 0.9979227317183951,\n",
       " 1.0085693288390216,\n",
       " 0.6023768076646537,\n",
       " 1.0029758532324125,\n",
       " 1.0123111555726638,\n",
       " 0.9980167713608044,\n",
       " 0.9508098787563926,\n",
       " 0.7765027865194558,\n",
       " 0.9980858267311677,\n",
       " 0.9784959929583205,\n",
       " 0.9981237283503113,\n",
       " 0.9979109459829985,\n",
       " 0.8026956683873236,\n",
       " 0.7314964436035876,\n",
       " 0.3870349277974728,\n",
       " 0.6954023623644424,\n",
       " 0.9984741342574072,\n",
       " 0.997312908938258,\n",
       " 0.991292505307163,\n",
       " 0.9980785857013699,\n",
       " 0.9944104693395452,\n",
       " 0.9980686793558294,\n",
       " 1.0000974914599143,\n",
       " 0.9986011797557387,\n",
       " 0.9582972962358212,\n",
       " 0.6552914388754432,\n",
       " 0.9975299737045372,\n",
       " 0.9980672606226919,\n",
       " 0.9981952254572157,\n",
       " 0.9972468038510731,\n",
       " 0.8720622055522186,\n",
       " 1.0000051747323562,\n",
       " 1.0349879178759631,\n",
       " 0.9985899551326471,\n",
       " 0.991627304617097,\n",
       " 0.9185925198405721,\n",
       " 1.0011434975263196,\n",
       " 0.9854606512167153,\n",
       " 0.7319138044231179,\n",
       " 0.8011339775779849,\n",
       " 0.930669450358617,\n",
       " 0.9979380342179242,\n",
       " 0.4325173825671396,\n",
       " 0.7543158129412806,\n",
       " 0.998164390891779,\n",
       " 0.7181288862621489,\n",
       " 0.9291332336459938,\n",
       " 0.9155417619634326,\n",
       " 0.9980152253908985,\n",
       " 0.9980220281987086,\n",
       " 0.9980335674493155,\n",
       " 0.8257221897994392,\n",
       " 0.9238657631546792,\n",
       " 0.9980689919726334,\n",
       " 0.6085698259496228,\n",
       " 0.5629540719561312,\n",
       " 0.5413960815921078,\n",
       " 0.9993834835352499,\n",
       " 0.9985734536913766,\n",
       " 0.9849527443774077,\n",
       " 0.5090615674810273,\n",
       " 1.000505655319152,\n",
       " 0.9980029510150897,\n",
       " 0.9722032797090912,\n",
       " 1.0,\n",
       " 0.8934010336463178,\n",
       " 0.7319770502320654,\n",
       " 0.997985920621113,\n",
       " 0.9402821985306049,\n",
       " 0.9954435948247079,\n",
       " 0.9981230475372703,\n",
       " 0.9980220281987074,\n",
       " 0.9980298776707385,\n",
       " 0.9749285126506513,\n",
       " 0.9975248044944158,\n",
       " 0.9979268943744992,\n",
       " 0.9086737970512074,\n",
       " 0.9980756080317092,\n",
       " 0.9979611104015835,\n",
       " 0.9979924599918899,\n",
       " 0.46858845377787095,\n",
       " 1.0011738569219462,\n",
       " 0.9981629064913502,\n",
       " 0.4720410673985332,\n",
       " 0.9985595402647669,\n",
       " 0.9943913501607231,\n",
       " 0.5109528998423275,\n",
       " 0.7101772970490452,\n",
       " 0.9915043612553708,\n",
       " 0.9980173662222789,\n",
       " 0.998024965723514,\n",
       " 0.9979611104015833,\n",
       " 0.9985762508051431,\n",
       " 0.9973161161463462,\n",
       " 0.744768141560133,\n",
       " 0.9979686132690091,\n",
       " 0.9158146156994271,\n",
       " 0.9047976874522274,\n",
       " 0.9978470461951059,\n",
       " 1.0884112815462468,\n",
       " 0.46530793763669576,\n",
       " 0.998041536230727,\n",
       " 0.6212825783562428,\n",
       " 0.5056067991966554,\n",
       " 0.9980111506713392,\n",
       " 0.9976237437068969,\n",
       " 0.9985677075239734,\n",
       " 0.9980295875933949,\n",
       " 0.8593793670588279,\n",
       " 0.8747765427218014,\n",
       " 0.9582869620388081,\n",
       " 0.5245284914834916,\n",
       " 0.9980785924860129,\n",
       " 0.9769444536430278,\n",
       " 0.9864996420823162,\n",
       " 0.9600319407571141,\n",
       " 0.997966423860982,\n",
       " 0.4757382091515175,\n",
       " 0.9975686650268576,\n",
       " 0.9979779427644122,\n",
       " 0.724819203739686,\n",
       " 0.9979821540611541,\n",
       " 0.9995747633214543,\n",
       " 1.000467127258848,\n",
       " 0.9980744093609353,\n",
       " 1.0010552335462295,\n",
       " 0.8688015716052064,\n",
       " 0.9980261000804209,\n",
       " 0.6849465524013187,\n",
       " 0.9980172472499844,\n",
       " 0.5507773023599396,\n",
       " 0.9967463063746326,\n",
       " 0.9981060011703424,\n",
       " 0.9977865416263362,\n",
       " 0.9922314758159662,\n",
       " 0.9984929677958654,\n",
       " 0.40837005752601563,\n",
       " 0.9980719643857476,\n",
       " 0.4963760477689354,\n",
       " 0.8348807635664874,\n",
       " 0.9980233251251213,\n",
       " 0.9979238390216574,\n",
       " 0.980615312511231,\n",
       " 0.3404034043626004,\n",
       " 0.6118344775320408,\n",
       " 0.8765609460201269,\n",
       " 0.9979675238539243,\n",
       " 0.8688671955507925,\n",
       " 0.9979639640953188,\n",
       " 0.990914248483489,\n",
       " 0.7956006136139838,\n",
       " 0.9980021292432342,\n",
       " 0.9979737139124507,\n",
       " 0.9854212283841102,\n",
       " 0.5643018540196739,\n",
       " 0.5125423761140494,\n",
       " 0.9580626726984547,\n",
       " 0.9979863479121043,\n",
       " 0.9931686929303619,\n",
       " 0.9980447545573902,\n",
       " 0.5822852108376598,\n",
       " 0.9980029510150896,\n",
       " 0.9977818379719301,\n",
       " 0.9985697231310299,\n",
       " 1.0104172128553963,\n",
       " 0.9486151599892132,\n",
       " 0.9870943813931936,\n",
       " 0.9963564347930578,\n",
       " 0.9972566450883846,\n",
       " 0.9980045915943877,\n",
       " 0.9980686471439865,\n",
       " 0.9894684101429319,\n",
       " 0.9889111194397499,\n",
       " 0.9985652342394813,\n",
       " 1.0001771725356758,\n",
       " 0.37618312858563124,\n",
       " 0.9980220281987076,\n",
       " 0.3240996732447889,\n",
       " 0.9923648482539613,\n",
       " 0.9923616096880006,\n",
       " 0.9893007514599145,\n",
       " 0.9791789269843094,\n",
       " 0.8777263454336705,\n",
       " 0.9979759021630104,\n",
       " 0.8414015122825899,\n",
       " 0.9999911008036667,\n",
       " 0.5494457706964502,\n",
       " 0.43539976409153824,\n",
       " 0.9972528184046887,\n",
       " 0.9985164827809244,\n",
       " 0.9777937816734197,\n",
       " 0.903920269897609,\n",
       " 0.3621771233197083,\n",
       " 0.8437957596887513,\n",
       " 0.836412503480904,\n",
       " 0.9980530581903623,\n",
       " 0.99830249378776,\n",
       " 0.9980817980040175,\n",
       " 0.8391815160504739,\n",
       " 0.9980278445955866,\n",
       " 0.972973262186006,\n",
       " 0.9975610920168544,\n",
       " 0.7949230706337957,\n",
       " 0.9982012705742509,\n",
       " 0.9984001379762506]"
      ]
     },
     "execution_count": 213,
     "metadata": {},
     "output_type": "execute_result"
    }
   ],
   "source": [
    "top_lime_preds"
   ]
  },
  {
   "cell_type": "code",
   "execution_count": 214,
   "metadata": {},
   "outputs": [],
   "source": [
    "top_true_preds = []\n",
    "for mas in true_preds:\n",
    "    top_true_preds.append(mas.max())"
   ]
  },
  {
   "cell_type": "code",
   "execution_count": 215,
   "metadata": {},
   "outputs": [],
   "source": [
    "top_new_preds = []\n",
    "for mas in new_preds:\n",
    "    top_new_preds.append(mas.max())"
   ]
  },
  {
   "cell_type": "code",
   "execution_count": 216,
   "metadata": {},
   "outputs": [
    {
     "data": {
      "text/plain": [
       "[0.99981576,\n",
       " 0.99998546,\n",
       " 0.579453,\n",
       " 0.4313987,\n",
       " 0.75862056,\n",
       " 0.9754587,\n",
       " 0.99939334,\n",
       " 0.47502753,\n",
       " 1.0,\n",
       " 1.0,\n",
       " 0.9649142,\n",
       " 0.9999994,\n",
       " 1.0,\n",
       " 0.99999964,\n",
       " 0.9999982,\n",
       " 1.0,\n",
       " 1.0,\n",
       " 0.95011014,\n",
       " 0.6433914,\n",
       " 0.96587425,\n",
       " 0.99848515,\n",
       " 0.99999976,\n",
       " 0.88565254,\n",
       " 0.99994314,\n",
       " 0.65271735,\n",
       " 0.59944856,\n",
       " 0.96059334,\n",
       " 0.66400933,\n",
       " 0.5497656,\n",
       " 0.8863058,\n",
       " 0.9999999,\n",
       " 0.99884367,\n",
       " 0.5574408,\n",
       " 0.98185045,\n",
       " 0.8848456,\n",
       " 1.0,\n",
       " 0.99999857,\n",
       " 0.824423,\n",
       " 1.0,\n",
       " 0.94777364,\n",
       " 0.9448529,\n",
       " 0.9908375,\n",
       " 0.9999999,\n",
       " 0.99999547,\n",
       " 0.9999999,\n",
       " 0.7224664,\n",
       " 0.99915314,\n",
       " 0.9999734,\n",
       " 0.9993217,\n",
       " 0.99853253,\n",
       " 0.9999945,\n",
       " 0.94422275,\n",
       " 0.99999964,\n",
       " 0.8782475,\n",
       " 0.6216229,\n",
       " 0.93808734,\n",
       " 0.8752379,\n",
       " 0.998946,\n",
       " 0.9997962,\n",
       " 0.99835974,\n",
       " 1.0,\n",
       " 0.7115239,\n",
       " 1.0,\n",
       " 0.9995832,\n",
       " 0.9784762,\n",
       " 0.9055049,\n",
       " 0.9887651,\n",
       " 0.95021236,\n",
       " 0.96003115,\n",
       " 1.0,\n",
       " 0.57358074,\n",
       " 1.0,\n",
       " 0.50465673,\n",
       " 0.99982303,\n",
       " 1.0,\n",
       " 0.81611925,\n",
       " 0.41527212,\n",
       " 0.6258412,\n",
       " 1.0,\n",
       " 0.9999995,\n",
       " 1.0,\n",
       " 0.9898726,\n",
       " 1.0,\n",
       " 0.99928564,\n",
       " 0.9999994,\n",
       " 0.99898905,\n",
       " 1.0,\n",
       " 0.9999933,\n",
       " 1.0,\n",
       " 0.571722,\n",
       " 0.998847,\n",
       " 0.97921216,\n",
       " 0.6649672,\n",
       " 0.9669817,\n",
       " 0.99996245,\n",
       " 0.988383,\n",
       " 0.8523695,\n",
       " 1.0,\n",
       " 1.0,\n",
       " 0.99999285,\n",
       " 0.99999917,\n",
       " 0.50933784,\n",
       " 1.0,\n",
       " 1.0,\n",
       " 0.650916,\n",
       " 0.99999964,\n",
       " 1.0,\n",
       " 0.7743607,\n",
       " 0.95236135,\n",
       " 0.99953413,\n",
       " 1.0,\n",
       " 0.99999833,\n",
       " 0.9706425,\n",
       " 0.4181906,\n",
       " 0.99455243,\n",
       " 1.0,\n",
       " 1.0,\n",
       " 0.9367254,\n",
       " 0.62161857,\n",
       " 0.9999933,\n",
       " 1.0,\n",
       " 0.9999999,\n",
       " 1.0,\n",
       " 0.9994948,\n",
       " 0.9978027,\n",
       " 0.45964602,\n",
       " 0.9852313,\n",
       " 0.57540435,\n",
       " 0.85223603,\n",
       " 1.0,\n",
       " 0.9999999,\n",
       " 0.9999999,\n",
       " 0.9996412,\n",
       " 0.9993538,\n",
       " 0.79922897,\n",
       " 0.96419626,\n",
       " 0.99999356,\n",
       " 1.0,\n",
       " 0.9999976,\n",
       " 0.8169794,\n",
       " 0.6735148,\n",
       " 0.98723894,\n",
       " 0.9876825,\n",
       " 1.0,\n",
       " 1.0,\n",
       " 0.9672871,\n",
       " 1.0,\n",
       " 0.39309067,\n",
       " 0.9982174,\n",
       " 0.99321836,\n",
       " 0.999979,\n",
       " 0.9999918,\n",
       " 0.9868057,\n",
       " 0.99756515,\n",
       " 0.99983907,\n",
       " 0.9999988,\n",
       " 0.9999975,\n",
       " 0.4603079,\n",
       " 0.78404385,\n",
       " 0.83838147,\n",
       " 0.9434327,\n",
       " 0.9999999,\n",
       " 0.99998343,\n",
       " 1.0,\n",
       " 0.7879801,\n",
       " 0.3119369,\n",
       " 0.996819,\n",
       " 0.9999999,\n",
       " 0.501429,\n",
       " 0.4452275,\n",
       " 1.0,\n",
       " 0.9869061,\n",
       " 1.0,\n",
       " 1.0,\n",
       " 1.0,\n",
       " 0.7615735,\n",
       " 0.9991812,\n",
       " 0.99999964,\n",
       " 0.9999963,\n",
       " 0.7983841,\n",
       " 0.9513901,\n",
       " 0.47863194,\n",
       " 0.5368254,\n",
       " 0.99147826,\n",
       " 0.48602283,\n",
       " 0.92510796,\n",
       " 0.95912415,\n",
       " 0.9940474,\n",
       " 0.6377748,\n",
       " 0.99999964,\n",
       " 0.9999063,\n",
       " 0.95606685,\n",
       " 1.0,\n",
       " 1.0,\n",
       " 0.62095386,\n",
       " 1.0,\n",
       " 1.0,\n",
       " 0.94677615,\n",
       " 0.99711394,\n",
       " 0.5417783,\n",
       " 1.0,\n",
       " 0.9999993,\n",
       " 0.83298475,\n",
       " 0.7175433,\n",
       " 0.8600171,\n",
       " 0.9613343,\n",
       " 0.56300694,\n",
       " 0.9614045,\n",
       " 0.9999989,\n",
       " 1.0,\n",
       " 0.9999846,\n",
       " 0.84079784,\n",
       " 0.99998295,\n",
       " 1.0,\n",
       " 1.0,\n",
       " 0.5530221,\n",
       " 0.99999845,\n",
       " 0.9999999,\n",
       " 0.9996948,\n",
       " 0.97647744,\n",
       " 1.0,\n",
       " 0.9971987,\n",
       " 0.96984047,\n",
       " 0.9502771,\n",
       " 0.9708483,\n",
       " 0.98998296,\n",
       " 0.34067243,\n",
       " 0.98707426,\n",
       " 0.7864933,\n",
       " 0.9999999,\n",
       " 1.0,\n",
       " 0.5700233,\n",
       " 0.9028368,\n",
       " 1.0,\n",
       " 0.8460174,\n",
       " 0.396952,\n",
       " 0.99937505,\n",
       " 0.9999168,\n",
       " 0.38568622,\n",
       " 0.9506786,\n",
       " 0.9964618,\n",
       " 0.9783946,\n",
       " 0.778627,\n",
       " 0.6215944,\n",
       " 1.0,\n",
       " 0.83417505,\n",
       " 1.0,\n",
       " 0.99812347,\n",
       " 0.9986552,\n",
       " 0.6916293,\n",
       " 0.99598795,\n",
       " 0.33542565,\n",
       " 0.7352011,\n",
       " 0.39069104,\n",
       " 1.0,\n",
       " 0.98754776,\n",
       " 0.4830612,\n",
       " 0.99998224,\n",
       " 0.9999702,\n",
       " 0.937433,\n",
       " 0.6157521,\n",
       " 0.65342176,\n",
       " 0.958576,\n",
       " 0.8860502,\n",
       " 0.86705023,\n",
       " 0.9999999,\n",
       " 0.68251115,\n",
       " 1.0,\n",
       " 0.9999653,\n",
       " 0.33590704,\n",
       " 0.99999726,\n",
       " 0.9995473,\n",
       " 0.9992822,\n",
       " 0.6827675,\n",
       " 1.0,\n",
       " 0.99999905,\n",
       " 0.9901035,\n",
       " 0.49526972,\n",
       " 1.0,\n",
       " 0.999998,\n",
       " 0.4243516,\n",
       " 0.7281352,\n",
       " 0.99915195,\n",
       " 1.0,\n",
       " 1.0,\n",
       " 1.0,\n",
       " 0.9999993,\n",
       " 0.7388237,\n",
       " 0.9425975,\n",
       " 0.8848956,\n",
       " 0.7832193,\n",
       " 0.9516964,\n",
       " 0.65675867,\n",
       " 0.995349,\n",
       " 0.5877605,\n",
       " 1.0,\n",
       " 0.9494645,\n",
       " 0.68039685,\n",
       " 1.0,\n",
       " 0.9999974,\n",
       " 0.9999999,\n",
       " 0.7430142,\n",
       " 0.66731447,\n",
       " 1.0,\n",
       " 0.95983833,\n",
       " 1.0,\n",
       " 0.6934421,\n",
       " 1.0,\n",
       " 1.0,\n",
       " 0.8571131,\n",
       " 0.99349535,\n",
       " 0.7755709,\n",
       " 0.82155323,\n",
       " 0.9999927,\n",
       " 0.48536095,\n",
       " 0.9995425,\n",
       " 0.56192917,\n",
       " 0.99991643,\n",
       " 0.49427843,\n",
       " 0.99999785,\n",
       " 1.0,\n",
       " 0.97095686,\n",
       " 0.9999777,\n",
       " 0.9896367,\n",
       " 0.9516312,\n",
       " 0.918818,\n",
       " 0.9997397,\n",
       " 0.8499963,\n",
       " 0.94740415,\n",
       " 0.9999255,\n",
       " 1.0,\n",
       " 0.99999976,\n",
       " 0.99960166,\n",
       " 0.98716545,\n",
       " 0.99606365,\n",
       " 1.0,\n",
       " 1.0,\n",
       " 0.9999881,\n",
       " 0.9956897,\n",
       " 0.72560483,\n",
       " 0.9999943,\n",
       " 0.9019181,\n",
       " 0.99999964,\n",
       " 0.9999999,\n",
       " 0.7589458,\n",
       " 0.8633115,\n",
       " 0.6078643,\n",
       " 0.46494427,\n",
       " 0.81670076,\n",
       " 0.9999981,\n",
       " 0.5474358,\n",
       " 0.9999498,\n",
       " 1.0,\n",
       " 0.6449252,\n",
       " 0.9898561,\n",
       " 0.89654124,\n",
       " 0.9997036,\n",
       " 0.9991924,\n",
       " 0.9913099,\n",
       " 0.9999994,\n",
       " 0.9999819,\n",
       " 0.63832664,\n",
       " 0.9808249,\n",
       " 0.99999917,\n",
       " 0.99985206,\n",
       " 1.0,\n",
       " 0.9999994,\n",
       " 0.57094014,\n",
       " 0.9255917,\n",
       " 0.9998087,\n",
       " 0.98923445,\n",
       " 1.0,\n",
       " 0.27125272,\n",
       " 0.9999727,\n",
       " 0.95322144,\n",
       " 0.99976903,\n",
       " 0.9997713,\n",
       " 0.7612155,\n",
       " 0.9883321,\n",
       " 1.0,\n",
       " 0.6067847,\n",
       " 0.72787154,\n",
       " 0.9999994,\n",
       " 0.94841003,\n",
       " 1.0,\n",
       " 1.0,\n",
       " 0.9999993,\n",
       " 0.89427185,\n",
       " 0.67256886,\n",
       " 0.99981827,\n",
       " 0.9999821,\n",
       " 1.0,\n",
       " 0.91364133,\n",
       " 1.0,\n",
       " 0.9999993,\n",
       " 0.99999726,\n",
       " 0.99786913,\n",
       " 0.7855644,\n",
       " 0.47492775,\n",
       " 0.93704575,\n",
       " 0.92957526,\n",
       " 0.9999993,\n",
       " 0.7776395,\n",
       " 0.9999517,\n",
       " 0.6525596,\n",
       " 0.50872546,\n",
       " 0.9999999,\n",
       " 0.99990547,\n",
       " 0.99967384,\n",
       " 0.9991555,\n",
       " 0.79438895,\n",
       " 0.9999963,\n",
       " 0.87063,\n",
       " 0.98995847,\n",
       " 1.0,\n",
       " 0.88684344,\n",
       " 0.7458074,\n",
       " 0.9999603,\n",
       " 1.0,\n",
       " 1.0,\n",
       " 0.9980046,\n",
       " 0.9999919,\n",
       " 0.66521907,\n",
       " 0.9999864,\n",
       " 0.99999964,\n",
       " 0.99999964,\n",
       " 0.7778036,\n",
       " 1.0,\n",
       " 0.49756184,\n",
       " 0.9846609,\n",
       " 0.9996449,\n",
       " 1.0,\n",
       " 1.0,\n",
       " 0.4848088,\n",
       " 0.9999788,\n",
       " 0.9999999,\n",
       " 0.7091958,\n",
       " 0.9999747,\n",
       " 0.9874877,\n",
       " 0.9995022,\n",
       " 0.8383155,\n",
       " 0.9956994,\n",
       " 0.92172337,\n",
       " 1.0,\n",
       " 0.9206229,\n",
       " 0.9477817,\n",
       " 0.9999962,\n",
       " 0.62433755,\n",
       " 0.99931765,\n",
       " 0.9728022,\n",
       " 0.99995446,\n",
       " 1.0,\n",
       " 1.0,\n",
       " 0.99834657,\n",
       " 1.0,\n",
       " 0.9984769,\n",
       " 1.0,\n",
       " 0.92512244,\n",
       " 0.99999976,\n",
       " 1.0,\n",
       " 0.9999988,\n",
       " 0.9999999,\n",
       " 0.6858036,\n",
       " 0.911945,\n",
       " 0.9158116,\n",
       " 0.9892253,\n",
       " 0.99995935,\n",
       " 1.0,\n",
       " 0.8974247,\n",
       " 1.0,\n",
       " 0.5343464,\n",
       " 0.9999938,\n",
       " 0.881042,\n",
       " 0.875511,\n",
       " 0.9998258,\n",
       " 1.0,\n",
       " 0.9999999,\n",
       " 0.99999094,\n",
       " 0.9974757,\n",
       " 0.99998295,\n",
       " 0.7428995,\n",
       " 0.8440641,\n",
       " 0.99983454,\n",
       " 0.9522075,\n",
       " 0.70264757,\n",
       " 0.73081326,\n",
       " 0.8704074,\n",
       " 0.9994307,\n",
       " 0.9995747,\n",
       " 0.9985089,\n",
       " 0.9180707,\n",
       " 0.52350223,\n",
       " 1.0,\n",
       " 0.9975326,\n",
       " 0.9995222,\n",
       " 0.6554145,\n",
       " 0.9993199,\n",
       " 1.0,\n",
       " 1.0,\n",
       " 0.8192875,\n",
       " 0.63470423,\n",
       " 0.8075051,\n",
       " 0.9208711,\n",
       " 0.9998939,\n",
       " 0.9984555,\n",
       " 0.80830735,\n",
       " 0.8215199,\n",
       " 0.9892742,\n",
       " 0.67252845,\n",
       " 0.9977652,\n",
       " 0.9993642,\n",
       " 1.0,\n",
       " 0.999987,\n",
       " 1.0,\n",
       " 1.0,\n",
       " 0.99999607,\n",
       " 0.9845515,\n",
       " 1.0,\n",
       " 0.99999726,\n",
       " 0.9902062,\n",
       " 1.0,\n",
       " 1.0,\n",
       " 0.99745756,\n",
       " 0.91120046,\n",
       " 0.9997261,\n",
       " 1.0,\n",
       " 0.83706355,\n",
       " 0.30941984,\n",
       " 1.0,\n",
       " 0.9999815,\n",
       " 0.57295907,\n",
       " 0.99642146,\n",
       " 0.99999905,\n",
       " 0.99199015,\n",
       " 0.9999964,\n",
       " 0.77643526,\n",
       " 0.55074394,\n",
       " 0.99999523,\n",
       " 1.0,\n",
       " 0.9999968,\n",
       " 1.0,\n",
       " 0.9629717,\n",
       " 1.0,\n",
       " 0.8682946,\n",
       " 0.34151077,\n",
       " 0.7900666,\n",
       " 0.5064803,\n",
       " 0.99785596,\n",
       " 0.99266064,\n",
       " 0.75550175,\n",
       " 0.5252343,\n",
       " 0.98192143,\n",
       " 1.0,\n",
       " 0.9999999,\n",
       " 0.4667354,\n",
       " 0.72827315,\n",
       " 1.0,\n",
       " 0.8995784,\n",
       " 0.9999995,\n",
       " 1.0,\n",
       " 0.61707324,\n",
       " 0.9994425,\n",
       " 1.0,\n",
       " 0.99999845,\n",
       " 0.9875173,\n",
       " 0.7934403,\n",
       " 0.97721636,\n",
       " 0.799252,\n",
       " 0.99712026,\n",
       " 0.99999475,\n",
       " 1.0,\n",
       " 0.851492,\n",
       " 1.0,\n",
       " 1.0,\n",
       " 0.5805129,\n",
       " 0.5302129,\n",
       " 1.0,\n",
       " 0.9999987,\n",
       " 0.9753093,\n",
       " 0.9205502,\n",
       " 0.56579137,\n",
       " 0.9998399,\n",
       " 0.951143,\n",
       " 1.0,\n",
       " 0.8627652,\n",
       " 0.84447426,\n",
       " 0.49196076,\n",
       " 0.9998431,\n",
       " 1.0,\n",
       " 1.0,\n",
       " 0.6912153,\n",
       " 0.9052012,\n",
       " 0.98606443,\n",
       " 1.0,\n",
       " 0.9999174,\n",
       " 0.800407,\n",
       " 0.74170226,\n",
       " 0.9999224,\n",
       " 0.9204375,\n",
       " 1.0,\n",
       " 0.9999175,\n",
       " 0.9928381,\n",
       " 0.99913126,\n",
       " 0.8546663,\n",
       " 0.99994993,\n",
       " 1.0,\n",
       " 1.0,\n",
       " 0.8994742,\n",
       " 0.9999865,\n",
       " 0.3531563,\n",
       " 1.0,\n",
       " 1.0,\n",
       " 0.6114053,\n",
       " 1.0,\n",
       " 0.9976865,\n",
       " 0.86621743,\n",
       " 0.845741,\n",
       " 0.9993057,\n",
       " 0.99999976,\n",
       " 1.0,\n",
       " 0.9917429,\n",
       " 0.99999046,\n",
       " 0.81113976,\n",
       " 0.5158903,\n",
       " 1.0,\n",
       " 0.9005654,\n",
       " 0.99608314,\n",
       " 0.99997413,\n",
       " 0.9941403,\n",
       " 0.99962044,\n",
       " 0.999997,\n",
       " 0.9996766,\n",
       " 0.9999994,\n",
       " 0.99997675,\n",
       " 0.79262435,\n",
       " 0.9879546,\n",
       " 0.9999902,\n",
       " 0.45500648,\n",
       " 0.9670178,\n",
       " 0.9032595,\n",
       " 0.92620325,\n",
       " 0.9966564,\n",
       " 0.9999052,\n",
       " 1.0,\n",
       " 1.0,\n",
       " 0.75485075,\n",
       " 0.9999999,\n",
       " 0.9999273,\n",
       " 0.9755578,\n",
       " 0.47680253,\n",
       " 1.0,\n",
       " 1.0,\n",
       " 0.9999981,\n",
       " 0.99944323,\n",
       " 1.0,\n",
       " 0.97199124,\n",
       " 0.89984083,\n",
       " 1.0,\n",
       " 0.61099786,\n",
       " 1.0,\n",
       " 1.0,\n",
       " 0.9999993,\n",
       " 0.5366315,\n",
       " 1.0,\n",
       " 0.44930962,\n",
       " 0.99923754,\n",
       " 0.9998907,\n",
       " 0.9903375,\n",
       " 0.9996315,\n",
       " 1.0,\n",
       " 0.99949205,\n",
       " 1.0,\n",
       " 0.62993723,\n",
       " 0.812344,\n",
       " 0.99935216,\n",
       " 0.9999999,\n",
       " 1.0,\n",
       " 0.5214147,\n",
       " 0.9482965,\n",
       " 0.99842405,\n",
       " 0.9999989,\n",
       " 0.9908983,\n",
       " 1.0,\n",
       " 1.0,\n",
       " 0.48643863,\n",
       " 0.9999987,\n",
       " 0.94262296,\n",
       " 0.839936,\n",
       " 0.30073258,\n",
       " 0.6267997,\n",
       " 0.9999924,\n",
       " 1.0,\n",
       " 1.0,\n",
       " 0.9999999,\n",
       " 0.987281,\n",
       " 1.0,\n",
       " 0.7469497,\n",
       " 0.94501746,\n",
       " 0.4299247,\n",
       " 0.9836579,\n",
       " 0.48100075,\n",
       " 0.7584259,\n",
       " 0.9999726,\n",
       " 1.0,\n",
       " 1.0,\n",
       " 0.99967015,\n",
       " 0.99998546,\n",
       " 0.87840587,\n",
       " 1.0,\n",
       " 0.9993617,\n",
       " 1.0,\n",
       " 0.99998844,\n",
       " 0.8176086,\n",
       " 0.9997545,\n",
       " 0.93552786,\n",
       " 0.9978265,\n",
       " 0.99660313,\n",
       " 0.9576955,\n",
       " 1.0,\n",
       " 0.937549,\n",
       " 0.9184684,\n",
       " 0.9999341,\n",
       " 1.0,\n",
       " 1.0,\n",
       " 0.9999995,\n",
       " 0.99994683,\n",
       " 0.98134506,\n",
       " 0.9999546,\n",
       " 0.99999595,\n",
       " 0.9999931,\n",
       " 1.0,\n",
       " 0.9448876,\n",
       " 0.958738,\n",
       " 0.47131222,\n",
       " 0.9999558,\n",
       " 0.99999607,\n",
       " 1.0,\n",
       " 0.75161713,\n",
       " 0.9988325,\n",
       " 0.9987343,\n",
       " 0.8874382,\n",
       " 0.9788057,\n",
       " 0.6707666,\n",
       " 0.81471527,\n",
       " 0.9999887,\n",
       " 0.87113994,\n",
       " 0.9999981,\n",
       " 0.99999845,\n",
       " 0.6619726,\n",
       " 0.38257733,\n",
       " 0.9999999,\n",
       " 0.9999585,\n",
       " 0.9632581,\n",
       " 1.0,\n",
       " 1.0,\n",
       " 0.67227757,\n",
       " 0.44665572,\n",
       " 0.9589928,\n",
       " 0.9998273,\n",
       " 1.0,\n",
       " 0.99980634,\n",
       " 1.0,\n",
       " 0.6089562,\n",
       " 0.98697853,\n",
       " 0.99991894,\n",
       " 0.99999976,\n",
       " 0.7860961,\n",
       " 0.611876,\n",
       " 1.0,\n",
       " 0.9999684,\n",
       " 0.9999914,\n",
       " 0.9997634,\n",
       " 1.0,\n",
       " 0.6892791,\n",
       " 1.0,\n",
       " 1.0,\n",
       " 0.98632693,\n",
       " 1.0,\n",
       " 0.915874,\n",
       " 0.64175767,\n",
       " 0.9908049,\n",
       " 0.5606638,\n",
       " 1.0,\n",
       " 1.0,\n",
       " 0.6271515,\n",
       " 0.9893785,\n",
       " 0.6469077,\n",
       " 0.70501405,\n",
       " 0.6136943,\n",
       " 0.99962974,\n",
       " 0.8570715,\n",
       " 0.95382774,\n",
       " 0.99999833,\n",
       " 0.98705125,\n",
       " 0.99999976,\n",
       " 1.0,\n",
       " 1.0,\n",
       " 0.60344255,\n",
       " 0.9999987,\n",
       " 1.0,\n",
       " 0.99999857,\n",
       " 0.98535615,\n",
       " 0.7749842,\n",
       " 1.0,\n",
       " 0.98075885,\n",
       " 1.0,\n",
       " 1.0,\n",
       " 0.801934,\n",
       " 0.7286739,\n",
       " 0.3891253,\n",
       " 0.7018644,\n",
       " 0.9999813,\n",
       " 0.9992366,\n",
       " 0.9933385,\n",
       " 0.99999654,\n",
       " 0.99616134,\n",
       " 0.9998498,\n",
       " 1.0,\n",
       " 1.0,\n",
       " 0.9598919,\n",
       " 0.6208009,\n",
       " 0.9995078,\n",
       " 0.99999905,\n",
       " 0.99995613,\n",
       " 0.999243,\n",
       " 0.8753729,\n",
       " 1.0,\n",
       " 0.99875796,\n",
       " 0.99999964,\n",
       " 0.99349207,\n",
       " 0.92101264,\n",
       " 1.0,\n",
       " 0.98856294,\n",
       " 0.73108715,\n",
       " 0.7665032,\n",
       " 0.9320027,\n",
       " 0.99997914,\n",
       " 0.4355084,\n",
       " 0.7395869,\n",
       " 0.9998561,\n",
       " 0.72337365,\n",
       " 0.9998223,\n",
       " 0.9084322,\n",
       " 1.0,\n",
       " 1.0,\n",
       " 0.99999845,\n",
       " 0.82923454,\n",
       " 0.9263045,\n",
       " 0.99999535,\n",
       " 0.5693379,\n",
       " 0.4915654,\n",
       " 0.54241323,\n",
       " 1.0,\n",
       " 0.99999976,\n",
       " 0.9991462,\n",
       " 0.5161925,\n",
       " 0.99999905,\n",
       " 1.0,\n",
       " 0.97383684,\n",
       " 1.0,\n",
       " 0.891317,\n",
       " 0.7338112,\n",
       " 1.0,\n",
       " 0.9419379,\n",
       " 1.0,\n",
       " 0.9999958,\n",
       " 1.0,\n",
       " 1.0,\n",
       " 0.9981509,\n",
       " 0.99957854,\n",
       " 0.99999845,\n",
       " 0.9106077,\n",
       " 1.0,\n",
       " 1.0,\n",
       " 1.0,\n",
       " 0.47425628,\n",
       " 0.99859244,\n",
       " 0.9999782,\n",
       " 0.47185156,\n",
       " 1.0,\n",
       " 0.99613875,\n",
       " 0.51262945,\n",
       " 0.70797515,\n",
       " 0.99301964,\n",
       " 0.9999994,\n",
       " 1.0,\n",
       " 1.0,\n",
       " 0.99999976,\n",
       " 0.99926883,\n",
       " 0.7479709,\n",
       " 0.99996686,\n",
       " 0.9172664,\n",
       " 0.9078327,\n",
       " 0.9997384,\n",
       " 0.9986418,\n",
       " 0.45327103,\n",
       " 1.0,\n",
       " 0.6220847,\n",
       " 0.5097623,\n",
       " 1.0,\n",
       " 0.9992505,\n",
       " 0.9999995,\n",
       " 0.999966,\n",
       " 0.86089236,\n",
       " 0.8762961,\n",
       " 0.9599573,\n",
       " 0.5253315,\n",
       " 0.99950874,\n",
       " 0.97866017,\n",
       " 1.0,\n",
       " 0.9616831,\n",
       " 0.9998894,\n",
       " 0.47627738,\n",
       " 0.9996247,\n",
       " 1.0,\n",
       " 0.7216044,\n",
       " 1.0,\n",
       " 1.0,\n",
       " 1.0,\n",
       " 1.0,\n",
       " 0.9997329,\n",
       " 0.99747914,\n",
       " 0.999997,\n",
       " 0.69150555,\n",
       " 0.99999917,\n",
       " 0.55141,\n",
       " 0.9987663,\n",
       " 0.99997985,\n",
       " 0.99999595,\n",
       " 0.98880494,\n",
       " 0.99999917,\n",
       " 0.4135781,\n",
       " 1.0,\n",
       " 0.5054425,\n",
       " 0.8358779,\n",
       " 1.0,\n",
       " 0.99984515,\n",
       " 0.9666027,\n",
       " 0.34067243,\n",
       " 0.60730654,\n",
       " 0.87817013,\n",
       " 0.9999939,\n",
       " 0.87055075,\n",
       " 0.9999466,\n",
       " 0.99279296,\n",
       " 0.7984387,\n",
       " 1.0,\n",
       " 1.0,\n",
       " 0.9873384,\n",
       " 0.5650509,\n",
       " 0.50504214,\n",
       " 0.96001375,\n",
       " 1.0,\n",
       " 0.99528944,\n",
       " 1.0,\n",
       " 0.5828794,\n",
       " 1.0,\n",
       " 0.99999726,\n",
       " 0.9999658,\n",
       " 1.0,\n",
       " 0.9512892,\n",
       " 0.99261284,\n",
       " 0.99829954,\n",
       " 0.9993179,\n",
       " 0.9999796,\n",
       " 0.9998267,\n",
       " 0.9908949,\n",
       " 0.9906911,\n",
       " 1.0,\n",
       " 0.9996511,\n",
       " 0.3806159,\n",
       " 1.0,\n",
       " 0.32491124,\n",
       " 0.99396354,\n",
       " 0.999992,\n",
       " 0.9897333,\n",
       " 0.98101586,\n",
       " 0.87932485,\n",
       " 0.99999464,\n",
       " 0.84402937,\n",
       " 0.99999356,\n",
       " 0.550392,\n",
       " 0.43618706,\n",
       " 0.9999949,\n",
       " 0.9999981,\n",
       " 0.9794694,\n",
       " 0.89011115,\n",
       " 0.3620091,\n",
       " 0.8435774,\n",
       " 0.835314,\n",
       " 0.9999999,\n",
       " 0.9997378,\n",
       " 0.99999964,\n",
       " 0.84051037,\n",
       " 0.9999758,\n",
       " 0.97415656,\n",
       " 0.99950266,\n",
       " 0.817745,\n",
       " 1.0,\n",
       " 0.9999677]"
      ]
     },
     "execution_count": 216,
     "metadata": {},
     "output_type": "execute_result"
    }
   ],
   "source": [
    "top_new_preds"
   ]
  },
  {
   "cell_type": "code",
   "execution_count": 217,
   "metadata": {},
   "outputs": [
    {
     "data": {
      "text/plain": [
       "[0.9998197,\n",
       " 0.9999857,\n",
       " 0.6153178,\n",
       " 0.4313987,\n",
       " 0.7611526,\n",
       " 0.9754587,\n",
       " 0.9993623,\n",
       " 0.47502753,\n",
       " 1.0,\n",
       " 1.0,\n",
       " 0.9650635,\n",
       " 0.9999994,\n",
       " 1.0,\n",
       " 0.99999964,\n",
       " 0.9999982,\n",
       " 1.0,\n",
       " 1.0,\n",
       " 0.9504943,\n",
       " 0.6424526,\n",
       " 0.9656913,\n",
       " 0.99846447,\n",
       " 0.99999976,\n",
       " 0.88269275,\n",
       " 0.9999361,\n",
       " 0.6535638,\n",
       " 0.6010827,\n",
       " 0.96058077,\n",
       " 0.6660075,\n",
       " 0.5411889,\n",
       " 0.88579583,\n",
       " 0.9999999,\n",
       " 0.9988379,\n",
       " 0.5634622,\n",
       " 0.98361546,\n",
       " 0.87630296,\n",
       " 1.0,\n",
       " 0.99999857,\n",
       " 0.824423,\n",
       " 1.0,\n",
       " 0.94777364,\n",
       " 0.94453424,\n",
       " 0.99090624,\n",
       " 0.9999999,\n",
       " 0.99999535,\n",
       " 0.9999999,\n",
       " 0.7226708,\n",
       " 0.999121,\n",
       " 0.99997354,\n",
       " 0.9994356,\n",
       " 0.9984993,\n",
       " 0.999995,\n",
       " 0.94422275,\n",
       " 0.99999964,\n",
       " 0.8782475,\n",
       " 0.62191176,\n",
       " 0.93916553,\n",
       " 0.89158714,\n",
       " 0.9989759,\n",
       " 0.99979776,\n",
       " 0.9983359,\n",
       " 1.0,\n",
       " 0.7148453,\n",
       " 1.0,\n",
       " 0.9995603,\n",
       " 0.9786442,\n",
       " 0.9063114,\n",
       " 0.9887651,\n",
       " 0.95021164,\n",
       " 0.96139216,\n",
       " 1.0,\n",
       " 0.5721134,\n",
       " 1.0,\n",
       " 0.52803254,\n",
       " 0.9998375,\n",
       " 1.0,\n",
       " 0.81635296,\n",
       " 0.41499525,\n",
       " 0.6262551,\n",
       " 1.0,\n",
       " 0.9999995,\n",
       " 1.0,\n",
       " 0.98986477,\n",
       " 1.0,\n",
       " 0.99928504,\n",
       " 0.9999994,\n",
       " 0.9989973,\n",
       " 1.0,\n",
       " 0.9999931,\n",
       " 1.0,\n",
       " 0.57656175,\n",
       " 0.9988205,\n",
       " 0.97924864,\n",
       " 0.66297203,\n",
       " 0.9664047,\n",
       " 0.9999627,\n",
       " 0.9884647,\n",
       " 0.85476923,\n",
       " 1.0,\n",
       " 1.0,\n",
       " 0.9999932,\n",
       " 0.99999905,\n",
       " 0.508777,\n",
       " 1.0,\n",
       " 1.0,\n",
       " 0.6411939,\n",
       " 0.99999964,\n",
       " 1.0,\n",
       " 0.77523905,\n",
       " 0.955711,\n",
       " 0.9995301,\n",
       " 1.0,\n",
       " 0.99999833,\n",
       " 0.97117525,\n",
       " 0.40281904,\n",
       " 0.9942444,\n",
       " 1.0,\n",
       " 1.0,\n",
       " 0.9366191,\n",
       " 0.62115586,\n",
       " 0.99999285,\n",
       " 1.0,\n",
       " 0.9999999,\n",
       " 1.0,\n",
       " 0.99945146,\n",
       " 0.99786913,\n",
       " 0.4600846,\n",
       " 0.9856308,\n",
       " 0.572761,\n",
       " 0.8511937,\n",
       " 1.0,\n",
       " 0.9999999,\n",
       " 0.9999999,\n",
       " 0.9996586,\n",
       " 0.9993542,\n",
       " 0.8000556,\n",
       " 0.9631397,\n",
       " 0.99999356,\n",
       " 1.0,\n",
       " 0.9999976,\n",
       " 0.8193001,\n",
       " 0.67264867,\n",
       " 0.9869399,\n",
       " 0.98812556,\n",
       " 1.0,\n",
       " 1.0,\n",
       " 0.9682321,\n",
       " 1.0,\n",
       " 0.39206094,\n",
       " 0.99842864,\n",
       " 0.993168,\n",
       " 0.999979,\n",
       " 0.99999046,\n",
       " 0.99161994,\n",
       " 0.9975223,\n",
       " 0.99984026,\n",
       " 0.9999988,\n",
       " 0.9999976,\n",
       " 0.45964321,\n",
       " 0.76901776,\n",
       " 0.83850056,\n",
       " 0.9421939,\n",
       " 0.9999999,\n",
       " 0.9999907,\n",
       " 1.0,\n",
       " 0.76591617,\n",
       " 0.31194776,\n",
       " 0.996819,\n",
       " 0.9999999,\n",
       " 0.501429,\n",
       " 0.4490653,\n",
       " 1.0,\n",
       " 0.9872745,\n",
       " 1.0,\n",
       " 1.0,\n",
       " 1.0,\n",
       " 0.7570249,\n",
       " 0.99927133,\n",
       " 0.99999964,\n",
       " 0.9999963,\n",
       " 0.79500383,\n",
       " 0.951816,\n",
       " 0.4836792,\n",
       " 0.53390384,\n",
       " 0.9915455,\n",
       " 0.49384108,\n",
       " 0.92438215,\n",
       " 0.9595641,\n",
       " 0.9956772,\n",
       " 0.6432281,\n",
       " 0.99999964,\n",
       " 0.99990153,\n",
       " 0.95251,\n",
       " 1.0,\n",
       " 1.0,\n",
       " 0.62812126,\n",
       " 1.0,\n",
       " 1.0,\n",
       " 0.94650126,\n",
       " 0.99716115,\n",
       " 0.542345,\n",
       " 1.0,\n",
       " 0.9999994,\n",
       " 0.833867,\n",
       " 0.71689343,\n",
       " 0.8592978,\n",
       " 0.96355295,\n",
       " 0.5642445,\n",
       " 0.96166426,\n",
       " 0.9999989,\n",
       " 1.0,\n",
       " 0.999985,\n",
       " 0.8415225,\n",
       " 0.99998295,\n",
       " 1.0,\n",
       " 1.0,\n",
       " 0.56980664,\n",
       " 0.99999845,\n",
       " 0.9999999,\n",
       " 0.9996948,\n",
       " 0.97647744,\n",
       " 1.0,\n",
       " 0.99728584,\n",
       " 0.9698042,\n",
       " 0.9510582,\n",
       " 0.9730675,\n",
       " 0.99006546,\n",
       " 0.34067243,\n",
       " 0.98707426,\n",
       " 0.7876143,\n",
       " 0.9999999,\n",
       " 1.0,\n",
       " 0.57164055,\n",
       " 0.90265495,\n",
       " 1.0,\n",
       " 0.8455101,\n",
       " 0.39105523,\n",
       " 0.9993569,\n",
       " 0.9999143,\n",
       " 0.38410822,\n",
       " 0.9492913,\n",
       " 0.99669963,\n",
       " 0.978872,\n",
       " 0.7764023,\n",
       " 0.6245534,\n",
       " 1.0,\n",
       " 0.82977337,\n",
       " 1.0,\n",
       " 0.99822384,\n",
       " 0.99865746,\n",
       " 0.7068268,\n",
       " 0.99601233,\n",
       " 0.33360374,\n",
       " 0.7490646,\n",
       " 0.39069104,\n",
       " 1.0,\n",
       " 0.9874942,\n",
       " 0.47588784,\n",
       " 0.99997807,\n",
       " 0.9999676,\n",
       " 0.937433,\n",
       " 0.61571676,\n",
       " 0.6441979,\n",
       " 0.95849943,\n",
       " 0.8815342,\n",
       " 0.86705023,\n",
       " 0.9999999,\n",
       " 0.6961963,\n",
       " 1.0,\n",
       " 0.99996483,\n",
       " 0.33590704,\n",
       " 0.9999974,\n",
       " 0.99954814,\n",
       " 0.99928916,\n",
       " 0.68273973,\n",
       " 1.0,\n",
       " 0.9999989,\n",
       " 0.9900247,\n",
       " 0.46662852,\n",
       " 1.0,\n",
       " 0.99999833,\n",
       " 0.39115387,\n",
       " 0.7278805,\n",
       " 0.9989405,\n",
       " 1.0,\n",
       " 1.0,\n",
       " 1.0,\n",
       " 0.9999993,\n",
       " 0.7383878,\n",
       " 0.9445066,\n",
       " 0.88331896,\n",
       " 0.78323936,\n",
       " 0.95130485,\n",
       " 0.6584333,\n",
       " 0.9950589,\n",
       " 0.6041565,\n",
       " 1.0,\n",
       " 0.9500501,\n",
       " 0.68039685,\n",
       " 1.0,\n",
       " 0.9999974,\n",
       " 1.0,\n",
       " 0.7450413,\n",
       " 0.6676729,\n",
       " 1.0,\n",
       " 0.95933473,\n",
       " 1.0,\n",
       " 0.6940869,\n",
       " 1.0,\n",
       " 1.0,\n",
       " 0.85748386,\n",
       " 0.9934702,\n",
       " 0.77574426,\n",
       " 0.8163756,\n",
       " 0.9999924,\n",
       " 0.48324043,\n",
       " 0.9995449,\n",
       " 0.5569265,\n",
       " 0.99990475,\n",
       " 0.49024978,\n",
       " 0.9999981,\n",
       " 1.0,\n",
       " 0.9714584,\n",
       " 0.999977,\n",
       " 0.98993266,\n",
       " 0.95381594,\n",
       " 0.9191283,\n",
       " 0.99973816,\n",
       " 0.8414107,\n",
       " 0.94740415,\n",
       " 0.9999254,\n",
       " 1.0,\n",
       " 0.99999976,\n",
       " 0.9996055,\n",
       " 0.9872071,\n",
       " 0.9959015,\n",
       " 1.0,\n",
       " 1.0,\n",
       " 0.9999883,\n",
       " 0.9956424,\n",
       " 0.72543424,\n",
       " 0.9999943,\n",
       " 0.90238494,\n",
       " 0.99999964,\n",
       " 0.9999999,\n",
       " 0.78094596,\n",
       " 0.8458702,\n",
       " 0.6090693,\n",
       " 0.46494427,\n",
       " 0.81925744,\n",
       " 0.9999981,\n",
       " 0.5441521,\n",
       " 0.99994946,\n",
       " 1.0,\n",
       " 0.6460795,\n",
       " 0.9898561,\n",
       " 0.8967804,\n",
       " 0.99970204,\n",
       " 0.99916446,\n",
       " 0.9907532,\n",
       " 0.9999993,\n",
       " 0.9999809,\n",
       " 0.6380007,\n",
       " 0.9808249,\n",
       " 0.99999917,\n",
       " 0.999853,\n",
       " 1.0,\n",
       " 0.9999994,\n",
       " 0.5690569,\n",
       " 0.9240908,\n",
       " 0.9998153,\n",
       " 0.9891717,\n",
       " 1.0,\n",
       " 0.27235046,\n",
       " 0.9999732,\n",
       " 0.95386237,\n",
       " 0.9997615,\n",
       " 0.99976486,\n",
       " 0.7645828,\n",
       " 0.98846495,\n",
       " 1.0,\n",
       " 0.591136,\n",
       " 0.72461617,\n",
       " 0.9999994,\n",
       " 0.94853735,\n",
       " 1.0,\n",
       " 1.0,\n",
       " 0.9999993,\n",
       " 0.9007357,\n",
       " 0.6803117,\n",
       " 0.9997652,\n",
       " 0.99998295,\n",
       " 1.0,\n",
       " 0.91474223,\n",
       " 1.0,\n",
       " 0.9999993,\n",
       " 0.99999726,\n",
       " 0.9978853,\n",
       " 0.7855644,\n",
       " 0.476151,\n",
       " 0.939076,\n",
       " 0.92852104,\n",
       " 0.9999994,\n",
       " 0.7715838,\n",
       " 0.99995124,\n",
       " 0.65260637,\n",
       " 0.5091358,\n",
       " 0.9999999,\n",
       " 0.99990547,\n",
       " 0.9996737,\n",
       " 0.9990771,\n",
       " 0.7947334,\n",
       " 0.99999595,\n",
       " 0.8694199,\n",
       " 0.989447,\n",
       " 1.0,\n",
       " 0.8874537,\n",
       " 0.7374621,\n",
       " 0.9999596,\n",
       " 1.0,\n",
       " 1.0,\n",
       " 0.9981875,\n",
       " 0.99999213,\n",
       " 0.6667579,\n",
       " 0.99998844,\n",
       " 0.99999964,\n",
       " 0.99999964,\n",
       " 0.7786625,\n",
       " 1.0,\n",
       " 0.5134826,\n",
       " 0.98428506,\n",
       " 0.99965394,\n",
       " 1.0,\n",
       " 1.0,\n",
       " 0.47891423,\n",
       " 0.999979,\n",
       " 1.0,\n",
       " 0.7079833,\n",
       " 0.9999764,\n",
       " 0.9868146,\n",
       " 0.9995022,\n",
       " 0.8392121,\n",
       " 0.9955819,\n",
       " 0.92172337,\n",
       " 1.0,\n",
       " 0.92702067,\n",
       " 0.9496481,\n",
       " 0.99999475,\n",
       " 0.62358755,\n",
       " 0.99931765,\n",
       " 0.9727025,\n",
       " 0.999985,\n",
       " 1.0,\n",
       " 1.0,\n",
       " 0.99835545,\n",
       " 1.0,\n",
       " 0.99848783,\n",
       " 1.0,\n",
       " 0.92512244,\n",
       " 0.99999976,\n",
       " 1.0,\n",
       " 0.9999994,\n",
       " 0.9999999,\n",
       " 0.6875075,\n",
       " 0.9065307,\n",
       " 0.9195103,\n",
       " 0.9893106,\n",
       " 0.9999628,\n",
       " 1.0,\n",
       " 0.8961093,\n",
       " 1.0,\n",
       " 0.5340571,\n",
       " 0.9999938,\n",
       " 0.88068855,\n",
       " 0.8767948,\n",
       " 0.99982244,\n",
       " 1.0,\n",
       " 0.9999999,\n",
       " 0.9999906,\n",
       " 0.99745995,\n",
       " 0.99998283,\n",
       " 0.7455462,\n",
       " 0.8433347,\n",
       " 0.99979895,\n",
       " 0.94996566,\n",
       " 0.70449245,\n",
       " 0.7308683,\n",
       " 0.8704074,\n",
       " 0.9994324,\n",
       " 0.99958974,\n",
       " 0.99847287,\n",
       " 0.9180707,\n",
       " 0.49702176,\n",
       " 1.0,\n",
       " 0.9975852,\n",
       " 0.99952817,\n",
       " 0.6573071,\n",
       " 0.99932337,\n",
       " 1.0,\n",
       " 1.0,\n",
       " 0.8192875,\n",
       " 0.6175738,\n",
       " 0.81086236,\n",
       " 0.92136854,\n",
       " 0.99989057,\n",
       " 0.99839044,\n",
       " 0.8140845,\n",
       " 0.82746154,\n",
       " 0.98915696,\n",
       " 0.67231643,\n",
       " 0.99776566,\n",
       " 0.9993642,\n",
       " 1.0,\n",
       " 0.9999875,\n",
       " 1.0,\n",
       " 1.0,\n",
       " 0.9999963,\n",
       " 0.9846459,\n",
       " 1.0,\n",
       " 0.9999989,\n",
       " 0.98980427,\n",
       " 1.0,\n",
       " 1.0,\n",
       " 0.9975649,\n",
       " 0.91120046,\n",
       " 0.9997254,\n",
       " 1.0,\n",
       " 0.8354196,\n",
       " 0.30932602,\n",
       " 1.0,\n",
       " 0.999982,\n",
       " 0.5727551,\n",
       " 0.9964399,\n",
       " 0.99999905,\n",
       " 0.99202454,\n",
       " 0.9999963,\n",
       " 0.7816242,\n",
       " 0.54965127,\n",
       " 0.99999523,\n",
       " 1.0,\n",
       " 0.9999969,\n",
       " 1.0,\n",
       " 0.9636537,\n",
       " 1.0,\n",
       " 0.869105,\n",
       " 0.33973184,\n",
       " 0.7857633,\n",
       " 0.50497884,\n",
       " 0.99770856,\n",
       " 0.99305975,\n",
       " 0.7566488,\n",
       " 0.52559906,\n",
       " 0.9813959,\n",
       " 1.0,\n",
       " 0.99999976,\n",
       " 0.46496937,\n",
       " 0.72827315,\n",
       " 1.0,\n",
       " 0.8995784,\n",
       " 0.9999995,\n",
       " 1.0,\n",
       " 0.6164639,\n",
       " 0.9994967,\n",
       " 1.0,\n",
       " 0.99999833,\n",
       " 0.98763627,\n",
       " 0.79464024,\n",
       " 0.9775679,\n",
       " 0.7914745,\n",
       " 0.99712026,\n",
       " 0.99999523,\n",
       " 1.0,\n",
       " 0.85381466,\n",
       " 1.0,\n",
       " 1.0,\n",
       " 0.58429456,\n",
       " 0.5443457,\n",
       " 1.0,\n",
       " 0.9999987,\n",
       " 0.9753093,\n",
       " 0.9154649,\n",
       " 0.56579137,\n",
       " 0.999851,\n",
       " 0.94903374,\n",
       " 1.0,\n",
       " 0.8600495,\n",
       " 0.8442593,\n",
       " 0.49906203,\n",
       " 0.99985194,\n",
       " 1.0,\n",
       " 1.0,\n",
       " 0.6834756,\n",
       " 0.9012962,\n",
       " 0.98604935,\n",
       " 1.0,\n",
       " 0.99991643,\n",
       " 0.80084,\n",
       " 0.7449025,\n",
       " 0.9999211,\n",
       " 0.9204375,\n",
       " 1.0,\n",
       " 0.9999175,\n",
       " 0.9928966,\n",
       " 0.999164,\n",
       " 0.8549307,\n",
       " 0.9999516,\n",
       " 1.0,\n",
       " 1.0,\n",
       " 0.9012798,\n",
       " 0.99998605,\n",
       " 0.3573674,\n",
       " 1.0,\n",
       " 1.0,\n",
       " 0.6098342,\n",
       " 1.0,\n",
       " 0.9976927,\n",
       " 0.86621743,\n",
       " 0.845741,\n",
       " 0.9993187,\n",
       " 0.99999976,\n",
       " 1.0,\n",
       " 0.99205995,\n",
       " 0.9999906,\n",
       " 0.81059605,\n",
       " 0.5158903,\n",
       " 1.0,\n",
       " 0.9005654,\n",
       " 0.99617034,\n",
       " 0.9999763,\n",
       " 0.9941093,\n",
       " 0.9996138,\n",
       " 0.99999714,\n",
       " 0.9996817,\n",
       " 0.9999994,\n",
       " 0.9999752,\n",
       " 0.7927689,\n",
       " 0.98846215,\n",
       " 0.99999034,\n",
       " 0.45656696,\n",
       " 0.96719164,\n",
       " 0.90250206,\n",
       " 0.9263734,\n",
       " 0.9963387,\n",
       " 0.99991024,\n",
       " 1.0,\n",
       " 1.0,\n",
       " 0.7549486,\n",
       " 0.9999999,\n",
       " 0.99993396,\n",
       " 0.97499233,\n",
       " 0.47326928,\n",
       " 1.0,\n",
       " 1.0,\n",
       " 0.999998,\n",
       " 0.9994885,\n",
       " 1.0,\n",
       " 0.97011125,\n",
       " 0.90855163,\n",
       " 1.0,\n",
       " 0.61099786,\n",
       " 1.0,\n",
       " 1.0,\n",
       " 0.9999993,\n",
       " 0.5366315,\n",
       " 1.0,\n",
       " 0.44930962,\n",
       " 0.99925476,\n",
       " 0.9998658,\n",
       " 0.9904108,\n",
       " 0.999634,\n",
       " 1.0,\n",
       " 0.9995061,\n",
       " 1.0,\n",
       " 0.6294872,\n",
       " 0.8115918,\n",
       " 0.9993554,\n",
       " 0.9999999,\n",
       " 1.0,\n",
       " 0.5205074,\n",
       " 0.9482965,\n",
       " 0.99837565,\n",
       " 0.9999988,\n",
       " 0.9898795,\n",
       " 1.0,\n",
       " 1.0,\n",
       " 0.4866333,\n",
       " 0.9999987,\n",
       " 0.942432,\n",
       " 0.8396198,\n",
       " 0.30073258,\n",
       " 0.6258734,\n",
       " 0.9999927,\n",
       " 1.0,\n",
       " 1.0,\n",
       " 0.9999999,\n",
       " 0.98137796,\n",
       " 1.0,\n",
       " 0.7295477,\n",
       " 0.94318765,\n",
       " 0.5213163,\n",
       " 0.9840285,\n",
       " 0.48015657,\n",
       " 0.76060474,\n",
       " 0.9999708,\n",
       " 1.0,\n",
       " 1.0,\n",
       " 0.9996697,\n",
       " 0.99998534,\n",
       " 0.8784462,\n",
       " 1.0,\n",
       " 0.9993617,\n",
       " 1.0,\n",
       " 0.9999943,\n",
       " 0.81734395,\n",
       " 0.99975187,\n",
       " 0.93900955,\n",
       " 0.9978661,\n",
       " 0.9965668,\n",
       " 0.9580385,\n",
       " 1.0,\n",
       " 0.9356407,\n",
       " 0.9184684,\n",
       " 0.9999442,\n",
       " 1.0,\n",
       " 1.0,\n",
       " 0.9999995,\n",
       " 0.9999521,\n",
       " 0.98132175,\n",
       " 0.9999546,\n",
       " 0.9999962,\n",
       " 0.9999932,\n",
       " 1.0,\n",
       " 0.9448396,\n",
       " 0.9593663,\n",
       " 0.47158045,\n",
       " 0.9999567,\n",
       " 0.9999963,\n",
       " 1.0,\n",
       " 0.7522352,\n",
       " 0.9988673,\n",
       " 0.99856347,\n",
       " 0.8874692,\n",
       " 0.9787324,\n",
       " 0.6714358,\n",
       " 0.81460106,\n",
       " 0.99998915,\n",
       " 0.87113994,\n",
       " 0.9999981,\n",
       " 0.99999845,\n",
       " 0.66104597,\n",
       " 0.3918526,\n",
       " 0.9999999,\n",
       " 0.99995756,\n",
       " 0.9629351,\n",
       " 1.0,\n",
       " 1.0,\n",
       " 0.6776442,\n",
       " 0.44686335,\n",
       " 0.9564125,\n",
       " 0.99983597,\n",
       " 1.0,\n",
       " 0.99975604,\n",
       " 1.0,\n",
       " 0.60821253,\n",
       " 0.9871852,\n",
       " 0.9999188,\n",
       " 0.99999976,\n",
       " 0.78793263,\n",
       " 0.611876,\n",
       " 1.0,\n",
       " 0.99996805,\n",
       " 0.9999914,\n",
       " 0.9997662,\n",
       " 1.0,\n",
       " 0.6850002,\n",
       " 1.0,\n",
       " 1.0,\n",
       " 0.9866087,\n",
       " 1.0,\n",
       " 0.9130925,\n",
       " 0.6425352,\n",
       " 0.9908664,\n",
       " 0.57031655,\n",
       " 1.0,\n",
       " 1.0,\n",
       " 0.67101157,\n",
       " 0.9892687,\n",
       " 0.6469331,\n",
       " 0.71696955,\n",
       " 0.6286469,\n",
       " 0.9996408,\n",
       " 0.85657215,\n",
       " 0.95382774,\n",
       " 0.99999833,\n",
       " 0.9880648,\n",
       " 0.99999976,\n",
       " 1.0,\n",
       " 1.0,\n",
       " 0.6034178,\n",
       " 0.99999857,\n",
       " 1.0,\n",
       " 0.9999987,\n",
       " 0.9863616,\n",
       " 0.7779683,\n",
       " 1.0,\n",
       " 0.98040193,\n",
       " 1.0,\n",
       " 1.0,\n",
       " 0.8042769,\n",
       " 0.7328986,\n",
       " 0.38761812,\n",
       " 0.69666916,\n",
       " 0.99998343,\n",
       " 0.9991912,\n",
       " 0.9931926,\n",
       " 0.99999654,\n",
       " 0.99616134,\n",
       " 0.9998512,\n",
       " 1.0,\n",
       " 1.0,\n",
       " 0.96024793,\n",
       " 0.65637654,\n",
       " 0.9994962,\n",
       " 0.99999905,\n",
       " 0.99995697,\n",
       " 0.99924755,\n",
       " 0.87358564,\n",
       " 1.0,\n",
       " 0.998782,\n",
       " 0.99999964,\n",
       " 0.99344784,\n",
       " 0.9202813,\n",
       " 1.0,\n",
       " 0.9874069,\n",
       " 0.73318475,\n",
       " 0.7701164,\n",
       " 0.93233556,\n",
       " 0.9999788,\n",
       " 0.43286353,\n",
       " 0.7553393,\n",
       " 0.9998561,\n",
       " 0.71917695,\n",
       " 0.99982446,\n",
       " 0.9171931,\n",
       " 1.0,\n",
       " 1.0,\n",
       " 0.9999982,\n",
       " 0.8269129,\n",
       " 0.92517656,\n",
       " 0.9999943,\n",
       " 0.60957557,\n",
       " 0.56400174,\n",
       " 0.54231834,\n",
       " 1.0,\n",
       " 0.99999976,\n",
       " 0.99913305,\n",
       " 0.50959545,\n",
       " 0.99999905,\n",
       " 1.0,\n",
       " 0.97384924,\n",
       " 1.0,\n",
       " 0.8947538,\n",
       " 0.73290557,\n",
       " 1.0,\n",
       " 0.94197935,\n",
       " 1.0,\n",
       " 0.9999957,\n",
       " 1.0,\n",
       " 1.0,\n",
       " 0.9983134,\n",
       " 0.9995628,\n",
       " 0.99999845,\n",
       " 0.9104191,\n",
       " 1.0,\n",
       " 1.0,\n",
       " 1.0,\n",
       " 0.4694554,\n",
       " 0.998602,\n",
       " 0.9999782,\n",
       " 0.47247598,\n",
       " 1.0,\n",
       " 0.99613875,\n",
       " 0.51146394,\n",
       " 0.71109015,\n",
       " 0.9930419,\n",
       " 0.9999993,\n",
       " 1.0,\n",
       " 1.0,\n",
       " 0.99999976,\n",
       " 0.9992373,\n",
       " 0.7460986,\n",
       " 0.99996746,\n",
       " 0.9172664,\n",
       " 0.9062966,\n",
       " 0.9997384,\n",
       " 0.99863714,\n",
       " 0.46607023,\n",
       " 1.0,\n",
       " 0.6224515,\n",
       " 0.50609756,\n",
       " 1.0,\n",
       " 0.999257,\n",
       " 0.99999964,\n",
       " 0.99997056,\n",
       " 0.86065656,\n",
       " 0.87647986,\n",
       " 0.9599573,\n",
       " 0.5253315,\n",
       " 0.9995503,\n",
       " 0.9788932,\n",
       " 1.0,\n",
       " 0.9616831,\n",
       " 0.9998889,\n",
       " 0.47627738,\n",
       " 0.9996247,\n",
       " 1.0,\n",
       " 0.7258368,\n",
       " 1.0,\n",
       " 1.0,\n",
       " 1.0,\n",
       " 1.0,\n",
       " 0.99972695,\n",
       " 0.9977749,\n",
       " 0.99999714,\n",
       " 0.6861069,\n",
       " 0.99999917,\n",
       " 0.55141,\n",
       " 0.99876714,\n",
       " 0.99999404,\n",
       " 0.99999595,\n",
       " 0.9887999,\n",
       " 0.99999917,\n",
       " 0.40897655,\n",
       " 1.0,\n",
       " 0.4969206,\n",
       " 0.83617437,\n",
       " 1.0,\n",
       " 0.99977535,\n",
       " 0.9789473,\n",
       " 0.34067243,\n",
       " 0.6126453,\n",
       " 0.87817013,\n",
       " 0.9999939,\n",
       " 0.8703665,\n",
       " 0.99994457,\n",
       " 0.9927965,\n",
       " 0.7966927,\n",
       " 1.0,\n",
       " 1.0,\n",
       " 0.9873574,\n",
       " 0.5649019,\n",
       " 0.5135232,\n",
       " 0.95995885,\n",
       " 1.0,\n",
       " 0.99509573,\n",
       " 1.0,\n",
       " 0.5829415,\n",
       " 1.0,\n",
       " 0.9999974,\n",
       " 0.9999658,\n",
       " 1.0,\n",
       " 0.94993013,\n",
       " 0.9924516,\n",
       " 0.998343,\n",
       " 0.9993206,\n",
       " 0.9999796,\n",
       " 0.99984765,\n",
       " 0.99124545,\n",
       " 0.99063766,\n",
       " 1.0,\n",
       " 0.9996679,\n",
       " 0.37641802,\n",
       " 1.0,\n",
       " 0.3242475,\n",
       " 0.9939805,\n",
       " 0.99999213,\n",
       " 0.9907223,\n",
       " 0.9809068,\n",
       " 0.87932485,\n",
       " 0.9999951,\n",
       " 0.8428732,\n",
       " 0.9999932,\n",
       " 0.550392,\n",
       " 0.43575147,\n",
       " 0.9999949,\n",
       " 0.9999981,\n",
       " 0.97935677,\n",
       " 0.90574634,\n",
       " 0.36239192,\n",
       " 0.8453208,\n",
       " 0.83769333,\n",
       " 1.0,\n",
       " 0.9997396,\n",
       " 0.99999976,\n",
       " 0.8406722,\n",
       " 0.99997663,\n",
       " 0.9748684,\n",
       " 0.9994943,\n",
       " 0.81782645,\n",
       " 1.0,\n",
       " 0.99996805]"
      ]
     },
     "execution_count": 217,
     "metadata": {},
     "output_type": "execute_result"
    }
   ],
   "source": [
    "top_true_preds"
   ]
  },
  {
   "cell_type": "code",
   "execution_count": 218,
   "metadata": {},
   "outputs": [],
   "source": [
    "true_lime = []\n",
    "for i in range(sample_size):\n",
    "    true_lime.append((top_true_preds[i], top_lime_preds[i]))"
   ]
  },
  {
   "cell_type": "code",
   "execution_count": 219,
   "metadata": {},
   "outputs": [],
   "source": [
    "true_lime.sort(key=lambda x: -x[0])"
   ]
  },
  {
   "cell_type": "code",
   "execution_count": 220,
   "metadata": {},
   "outputs": [
    {
     "data": {
      "text/plain": [
       "[(1.0, 0.9980111506713392),\n",
       " (1.0, 0.9979523024297978),\n",
       " (1.0, 0.9980782301920728),\n",
       " (1.0, 0.9979818274460985),\n",
       " (1.0, 0.9980756080318283),\n",
       " (1.0, 1.0000000635409074),\n",
       " (1.0, 0.9993716566669827),\n",
       " (1.0, 0.9981265613895869),\n",
       " (1.0, 0.9981759748886312),\n",
       " (1.0, 1.0000002963130514),\n",
       " (1.0, 0.9995759539931423),\n",
       " (1.0, 0.9951956646166972),\n",
       " (1.0, 1.0003159421537615),\n",
       " (1.0, 1.005506986372442),\n",
       " (1.0, 0.9979946837098301),\n",
       " (1.0, 1.0000021679439008),\n",
       " (1.0, 0.9980530581903623),\n",
       " (1.0, 1.0000209033507967),\n",
       " (1.0, 0.9980869295416064),\n",
       " (1.0, 1.012199175219142),\n",
       " (1.0, 0.9805087436517723),\n",
       " (1.0, 0.9944026687501589),\n",
       " (1.0, 0.998539251934473),\n",
       " (1.0, 1.0009795402995667),\n",
       " (1.0, 0.9980273503421797),\n",
       " (1.0, 0.9981621234530241),\n",
       " (1.0, 0.9978646829350086),\n",
       " (1.0, 1.011756840182851),\n",
       " (1.0, 1.000006988511476),\n",
       " (1.0, 0.9980408284548998),\n",
       " (1.0, 0.9985244082260939),\n",
       " (1.0, 1.0109071404450445),\n",
       " (1.0, 0.9999464667401265),\n",
       " (1.0, 1.0096198662859406),\n",
       " (1.0, 0.9980432892000255),\n",
       " (1.0, 0.9981265613895867),\n",
       " (1.0, 0.9980368866159446),\n",
       " (1.0, 0.9980628555380894),\n",
       " (1.0, 0.9986145320434967),\n",
       " (1.0, 1.015126872626393),\n",
       " (1.0, 0.9948854103642746),\n",
       " (1.0, 0.9818220748636112),\n",
       " (1.0, 1.0006619253168583),\n",
       " (1.0, 0.9981929997847929),\n",
       " (1.0, 0.9864010469125377),\n",
       " (1.0, 0.998542185047641),\n",
       " (1.0, 0.9981480611018643),\n",
       " (1.0, 0.9984780172700077),\n",
       " (1.0, 0.9926624555935136),\n",
       " (1.0, 0.9980820359523618),\n",
       " (1.0, 0.9985274009609656),\n",
       " (1.0, 0.9981480611018642),\n",
       " (1.0, 0.99796092091719),\n",
       " (1.0, 0.9999999995475806),\n",
       " (1.0, 1.0023141150795087),\n",
       " (1.0, 0.9979611104015833),\n",
       " (1.0, 1.0056688114858603),\n",
       " (1.0, 0.9981050901383629),\n",
       " (1.0, 0.9880491815766368),\n",
       " (1.0, 0.9980550759646634),\n",
       " (1.0, 0.9980705733688731),\n",
       " (1.0, 1.000251306574491),\n",
       " (1.0, 1.002632326744359),\n",
       " (1.0, 1.0000000282625328),\n",
       " (1.0, 0.9980393285903948),\n",
       " (1.0, 0.9998723596161635),\n",
       " (1.0, 0.9979183783567387),\n",
       " (1.0, 0.99815216807327),\n",
       " (1.0, 1.0017076548419928),\n",
       " (1.0, 0.9731374484839003),\n",
       " (1.0, 0.9979694673949274),\n",
       " (1.0, 1.000004065459875),\n",
       " (1.0, 0.9981008417944504),\n",
       " (1.0, 0.9999999085506072),\n",
       " (1.0, 0.9999980537177242),\n",
       " (1.0, 0.9981045589819963),\n",
       " (1.0, 1.0000000577294932),\n",
       " (1.0, 0.9991096086126855),\n",
       " (1.0, 1.0000006295118908),\n",
       " (1.0, 1.0076468399587983),\n",
       " (1.0, 0.9979940575489141),\n",
       " (1.0, 1.0004399024964248),\n",
       " (1.0, 0.9980667221250966),\n",
       " (1.0, 0.997783210633479),\n",
       " (1.0, 0.9978963358718713),\n",
       " (1.0, 1.0010329352727498),\n",
       " (1.0, 0.9985031148682917),\n",
       " (1.0, 1.0),\n",
       " (1.0, 0.9980111506713383),\n",
       " (1.0, 0.9979260056648447),\n",
       " (1.0, 0.9980971100618572),\n",
       " (1.0, 0.998137372994392),\n",
       " (1.0, 0.9980530581903619),\n",
       " (1.0, 0.9979777176628278),\n",
       " (1.0, 0.999902382207591),\n",
       " (1.0, 0.9871484326012494),\n",
       " (1.0, 0.9980061408734138),\n",
       " (1.0, 0.9999504898286719),\n",
       " (1.0, 0.9931107766275431),\n",
       " (1.0, 1.0395670986315313),\n",
       " (1.0, 0.9980393285903948),\n",
       " (1.0, 1.0061826734028716),\n",
       " (1.0, 0.9985680644492724),\n",
       " (1.0, 0.9980353519760552),\n",
       " (1.0, 0.9232290911195851),\n",
       " (1.0, 0.9924888919241536),\n",
       " (1.0, 0.9980511627915352),\n",
       " (1.0, 0.984209408360116),\n",
       " (1.0, 0.9986198021936591),\n",
       " (1.0, 0.9980021292432342),\n",
       " (1.0, 0.9979777176628282),\n",
       " (1.0, 0.9979502972287111),\n",
       " (1.0, 0.9978646829350086),\n",
       " (1.0, 0.9980820359523618),\n",
       " (1.0, 1.002508351284784),\n",
       " (1.0, 1.0000048950002156),\n",
       " (1.0, 0.9980453919422168),\n",
       " (1.0, 0.9981265613895869),\n",
       " (1.0, 1.0000555489218437),\n",
       " (1.0, 0.9980353519760552),\n",
       " (1.0, 0.9979183783567387),\n",
       " (1.0, 0.9985623928667983),\n",
       " (1.0, 0.9985595402647669),\n",
       " (1.0, 0.9985566763664029),\n",
       " (1.0, 1.000224263720612),\n",
       " (1.0, 0.9980337791855268),\n",
       " (1.0, 1.0),\n",
       " (1.0, 0.9927118286413242),\n",
       " (1.0, 0.9980180800560481),\n",
       " (1.0, 0.998037665341891),\n",
       " (1.0, 0.9985680644492724),\n",
       " (1.0, 1.2089054132188586),\n",
       " (1.0, 0.9980831336472601),\n",
       " (1.0, 0.9984716112701806),\n",
       " (1.0, 1.000000059804548),\n",
       " (1.0, 0.997973591169647),\n",
       " (1.0, 0.9985566763664031),\n",
       " (1.0, 1.0023996778463222),\n",
       " (1.0, 0.9979905244257881),\n",
       " (1.0, 0.9981119500623036),\n",
       " (1.0, 0.9978760041150965),\n",
       " (1.0, 0.9979694478640675),\n",
       " (1.0, 0.9985708835621107),\n",
       " (1.0, 0.9981591444507129),\n",
       " (1.0, 0.9906227988352954),\n",
       " (1.0, 0.9985708835621105),\n",
       " (1.0, 0.9981119500623037),\n",
       " (1.0, 1.0011388824109408),\n",
       " (1.0, 0.9979981015009469),\n",
       " (1.0, 1.0000000575751908),\n",
       " (1.0, 0.9994654242328385),\n",
       " (1.0, 0.9985538011041903),\n",
       " (1.0, 0.9977720927115333),\n",
       " (1.0, 0.9999046253580385),\n",
       " (1.0, 1.0000000267629143),\n",
       " (1.0, 1.0029396096493497),\n",
       " (1.0, 0.9985333502955283),\n",
       " (1.0, 0.9997616794094277),\n",
       " (1.0, 0.9979694673949274),\n",
       " (1.0, 0.9981082617097503),\n",
       " (1.0, 0.9980933636982898),\n",
       " (1.0, 0.9999991702233112),\n",
       " (1.0, 1.0004632339061392),\n",
       " (1.0, 0.9979227317183951),\n",
       " (1.0, 1.0085693288390216),\n",
       " (1.0, 1.0123111555726638),\n",
       " (1.0, 0.9980858267311677),\n",
       " (1.0, 0.9981237283503113),\n",
       " (1.0, 0.9979109459829985),\n",
       " (1.0, 1.0000974914599143),\n",
       " (1.0, 0.9986011797557387),\n",
       " (1.0, 1.0000051747323562),\n",
       " (1.0, 1.0011434975263196),\n",
       " (1.0, 0.9980152253908985),\n",
       " (1.0, 0.9980220281987086),\n",
       " (1.0, 0.9993834835352499),\n",
       " (1.0, 0.9980029510150897),\n",
       " (1.0, 1.0),\n",
       " (1.0, 0.997985920621113),\n",
       " (1.0, 0.9954435948247079),\n",
       " (1.0, 0.9980220281987074),\n",
       " (1.0, 0.9980298776707385),\n",
       " (1.0, 0.9980756080317092),\n",
       " (1.0, 0.9979611104015835),\n",
       " (1.0, 0.9979924599918899),\n",
       " (1.0, 0.9985595402647669),\n",
       " (1.0, 0.998024965723514),\n",
       " (1.0, 0.9979611104015833),\n",
       " (1.0, 0.998041536230727),\n",
       " (1.0, 0.9980111506713392),\n",
       " (1.0, 0.9864996420823162),\n",
       " (1.0, 0.9979779427644122),\n",
       " (1.0, 0.9979821540611541),\n",
       " (1.0, 0.9995747633214543),\n",
       " (1.0, 1.000467127258848),\n",
       " (1.0, 0.9980744093609353),\n",
       " (1.0, 0.9980719643857476),\n",
       " (1.0, 0.9980233251251213),\n",
       " (1.0, 0.9980021292432342),\n",
       " (1.0, 0.9979737139124507),\n",
       " (1.0, 0.9979863479121043),\n",
       " (1.0, 0.9980447545573902),\n",
       " (1.0, 0.9980029510150896),\n",
       " (1.0, 1.0104172128553963),\n",
       " (1.0, 0.9985652342394813),\n",
       " (1.0, 0.9980220281987076),\n",
       " (1.0, 0.9980530581903623),\n",
       " (1.0, 0.9982012705742509),\n",
       " (0.9999999, 0.9980069402821834),\n",
       " (0.9999999, 0.9980219092259404),\n",
       " (0.9999999, 0.9980605458164055),\n",
       " (0.9999999, 0.9980704543961065),\n",
       " (0.9999999, 0.9985622738926259),\n",
       " (0.9999999, 1.0001376661046206),\n",
       " (0.9999999, 0.998530262657463),\n",
       " (0.9999999, 0.9979979825310413),\n",
       " (0.9999999, 0.9981155051453063),\n",
       " (0.9999999, 1.0004711347111337),\n",
       " (0.9999999, 0.9985182672855488),\n",
       " (0.9999999, 0.9981191649981778),\n",
       " (0.9999999, 0.9981300601322519),\n",
       " (0.9999999, 0.9985121961426584),\n",
       " (0.9999999, 0.998544987479876),\n",
       " (0.9999999, 0.9981713130105685),\n",
       " (0.9999999, 0.9985302626574628),\n",
       " (0.9999999, 0.9978599644506159),\n",
       " (0.9999999, 0.998493681573589),\n",
       " (0.99999976, 0.9979755661189977),\n",
       " (0.99999976, 0.998202628463897),\n",
       " (0.99999976, 0.9985331123566843),\n",
       " (0.99999976, 0.9985564384199288),\n",
       " (0.99999976, 1.0000157435854837),\n",
       " (0.99999976, 0.9980059029316795),\n",
       " (0.99999976, 0.9985928067605508),\n",
       " (0.99999976, 0.9985734536913766),\n",
       " (0.99999976, 0.9985762508051431),\n",
       " (0.99999976, 0.9980817980040175),\n",
       " (0.99999964, 0.9988366298942408),\n",
       " (0.99999964, 0.9973371622923423),\n",
       " (0.99999964, 0.9984808433582966),\n",
       " (0.99999964, 0.9980547190520621),\n",
       " (0.99999964, 0.9978154424196409),\n",
       " (0.99999964, 0.9985677075239733),\n",
       " (0.99999964, 0.9979481186122456),\n",
       " (0.99999964, 0.9981215022049588),\n",
       " (0.99999964, 0.9985899551326471),\n",
       " (0.99999964, 0.9985677075239734),\n",
       " (0.9999995, 0.9979813515742593),\n",
       " (0.9999995, 1.000121141728704),\n",
       " (0.9999995, 0.9985057183276824),\n",
       " (0.9999994, 0.9980524633079737),\n",
       " (0.9999994, 0.9979975066514184),\n",
       " (0.9999994, 0.9936981616841857),\n",
       " (0.9999994, 0.997721787598115),\n",
       " (0.9999994, 1.0001006332778835),\n",
       " (0.9999994, 0.9979982310511192),\n",
       " (0.9999994, 0.9915149616940565),\n",
       " (0.9999994, 1.0823698801437744),\n",
       " (0.9999993, 1.0016449728993355),\n",
       " (0.9999993, 0.9981337808596371),\n",
       " (0.9999993, 0.998081322107329),\n",
       " (0.9999993, 0.9985024010814278),\n",
       " (0.9999993, 0.9986111680269785),\n",
       " (0.9999993, 0.9980173662222789),\n",
       " (0.99999917, 1.0311505952559943),\n",
       " (0.99999917, 0.9980172472499844),\n",
       " (0.99999917, 0.9984929677958654),\n",
       " (0.99999905, 0.9985294298749054),\n",
       " (0.99999905, 0.9980559170884152),\n",
       " (0.99999905, 0.9980672606226919),\n",
       " (0.99999905, 1.000505655319152),\n",
       " (0.9999989, 0.9979642169489306),\n",
       " (0.9999989, 0.9980199307145512),\n",
       " (0.9999989, 1.0000181549326188),\n",
       " (0.9999988, 0.9981433221714568),\n",
       " (0.9999988, 0.9981002757323738),\n",
       " (0.9999987, 0.9981780965029019),\n",
       " (0.9999987, 1.002764196111982),\n",
       " (0.9999987, 0.9980167713608044),\n",
       " (0.99999857, 0.9980497351468856),\n",
       " (0.99999857, 1.0029758532324125),\n",
       " (0.99999845, 0.9985721449551564),\n",
       " (0.99999845, 0.9985258543711251),\n",
       " (0.99999845, 0.9979268943744992),\n",
       " (0.99999833, 0.9979923919770015),\n",
       " (0.99999833, 0.9980226485465746),\n",
       " (0.99999833, 0.9978721577409654),\n",
       " (0.99999833, 0.9979536681704635),\n",
       " (0.9999982, 0.9991884740566968),\n",
       " (0.9999982, 0.9980335674493155),\n",
       " (0.9999981, 1.0003904426343022),\n",
       " (0.9999981, 0.9980374250874061),\n",
       " (0.9999981, 0.9979758141833338),\n",
       " (0.9999981, 0.9985164827809244),\n",
       " (0.999998, 0.9979207093832096),\n",
       " (0.9999976, 0.9991875687017566),\n",
       " (0.9999976, 0.9985685040508954),\n",
       " (0.9999974, 1.0001227578777059),\n",
       " (0.9999974, 0.9980878909493419),\n",
       " (0.9999974, 0.9977818379719301),\n",
       " (0.99999726, 0.9979908120619084),\n",
       " (0.99999714, 0.9985509457577828),\n",
       " (0.99999714, 0.9980261000804209),\n",
       " (0.9999969, 0.9980070432333757),\n",
       " (0.99999654, 0.9980785857013699),\n",
       " (0.9999963, 0.9985501129484142),\n",
       " (0.9999963, 0.9320385737767205),\n",
       " (0.9999963, 0.9978870894561724),\n",
       " (0.9999963, 0.9985755866856323),\n",
       " (0.9999962, 0.999780537922315),\n",
       " (0.99999595, 0.9985143413753749),\n",
       " (0.99999595, 0.9977865416263362),\n",
       " (0.9999957, 0.9981230475372703),\n",
       " (0.99999535, 0.9979302064548139),\n",
       " (0.99999523, 0.9979973704277344),\n",
       " (0.99999523, 1.0082422638501771),\n",
       " (0.9999951, 0.9979759021630104),\n",
       " (0.999995, 1.0487337839639599),\n",
       " (0.9999949, 0.9972528184046887),\n",
       " (0.99999475, 0.9984947884578319),\n",
       " (0.9999943, 0.9980652525980259),\n",
       " (0.9999943, 1.0041232929706863),\n",
       " (0.9999943, 0.9980689919726334),\n",
       " (0.99999404, 0.9981060011703424),\n",
       " (0.9999939, 0.9979675238539243),\n",
       " (0.9999938, 1.003423587580237),\n",
       " (0.99999356, 0.9980504441494897),\n",
       " (0.9999932, 0.9985412348216786),\n",
       " (0.9999932, 0.9970278372693221),\n",
       " (0.9999932, 0.9999911008036667),\n",
       " (0.9999931, 1.0050636848850294),\n",
       " (0.99999285, 0.9982833506663342),\n",
       " (0.9999927, 1.0000545928837405),\n",
       " (0.9999924, 0.9836624476524457),\n",
       " (0.99999213, 0.9985254983136572),\n",
       " (0.99999213, 0.9923616096880006),\n",
       " (0.9999914, 0.9979374617008299),\n",
       " (0.9999907, 1.0001089076808545),\n",
       " (0.9999906, 0.9979887028783847),\n",
       " (0.9999906, 0.9984492390402093),\n",
       " (0.99999046, 0.9981249761719707),\n",
       " (0.99999034, 0.9998626880919906),\n",
       " (0.99998915, 0.9980460420029621),\n",
       " (0.99998844, 1.0019567327902865),\n",
       " (0.9999883, 0.9978846780136554),\n",
       " (0.9999875, 0.9979370950451338),\n",
       " (0.99998605, 0.9978734701106182),\n",
       " (0.9999857, 0.9981777206897132),\n",
       " (0.99998534, 0.9980899248192168),\n",
       " (0.999985, 0.9979901155680715),\n",
       " (0.999985, 0.9979544580876496),\n",
       " (0.99998343, 0.9984741342574072),\n",
       " (0.99998295, 0.9985396631934805),\n",
       " (0.99998295, 0.9980089475329907),\n",
       " (0.99998283, 0.9979313446922398),\n",
       " (0.999982, 0.9978593004121186),\n",
       " (0.9999809, 0.9337592737377968),\n",
       " (0.9999796, 0.9980045915943877),\n",
       " (0.999979, 0.9979931771436432),\n",
       " (0.999979, 0.997981190455036),\n",
       " (0.9999788, 0.9979380342179242),\n",
       " (0.9999782, 0.9981629064913502),\n",
       " (0.99997807, 1.0068515407551084),\n",
       " (0.999977, 0.998530839360164),\n",
       " (0.99997663, 0.9980278445955866),\n",
       " (0.9999764, 1.0015826174280331),\n",
       " (0.9999763, 0.9980510261156706),\n",
       " (0.9999752, 0.998618283069068),\n",
       " (0.99997354, 0.9980039079339905),\n",
       " (0.9999732, 0.9977903629900686),\n",
       " (0.9999708, 0.9980337074419752),\n",
       " (0.99997056, 0.9980295875933949),\n",
       " (0.99996805, 0.9984743115727062),\n",
       " (0.99996805, 0.9984001379762506),\n",
       " (0.9999676, 0.9979935999853904),\n",
       " (0.99996746, 0.9979686132690091),\n",
       " (0.9999658, 0.9985697231310299),\n",
       " (0.99996483, 0.9981262985044519),\n",
       " (0.9999628, 0.9979821659666825),\n",
       " (0.9999627, 0.9980400682948201),\n",
       " (0.9999596, 0.9976698585708101),\n",
       " (0.99995756, 1.00687343037724),\n",
       " (0.99995697, 0.9981952254572157),\n",
       " (0.9999567, 0.9980196687671123),\n",
       " (0.9999546, 0.9979677570841279),\n",
       " (0.9999521, 0.9979457251023347),\n",
       " (0.9999516, 0.9979726985260617),\n",
       " (0.99995124, 0.9977839167948348),\n",
       " (0.99994946, 0.9677015498399291),\n",
       " (0.99994457, 0.9979639640953188),\n",
       " (0.9999442, 0.94352479235248),\n",
       " (0.9999361, 0.9984606413996219),\n",
       " (0.99993396, 0.9984791963260997),\n",
       " (0.9999254, 0.9980572715934346),\n",
       " (0.9999211, 0.9972719938488388),\n",
       " (0.9999188, 0.9980845775100273),\n",
       " (0.9999175, 0.9981023513018209),\n",
       " (0.99991643, 0.9979425604666227),\n",
       " (0.9999143, 0.9981280649161977),\n",
       " (0.99991024, 0.9930513792277283),\n",
       " (0.99990547, 0.9570528124263677),\n",
       " (0.99990475, 0.9978908648301286),\n",
       " (0.99990153, 0.998012833005405),\n",
       " (0.99989057, 0.991455562697458),\n",
       " (0.9998889, 0.997966423860982),\n",
       " (0.9998658, 0.9973632203845754),\n",
       " (0.9998561, 0.998164390891779),\n",
       " (0.999853, 0.997559494367958),\n",
       " (0.99985194, 0.9984798538600903),\n",
       " (0.9998512, 0.9980686793558294),\n",
       " (0.999851, 0.9970682751978007),\n",
       " (0.99984765, 0.9980686471439865),\n",
       " (0.99984026, 0.9980289257801513),\n",
       " (0.9998375, 0.9979599459881465),\n",
       " (0.99983597, 0.9983784811343792),\n",
       " (0.99982446, 0.9291332336459938),\n",
       " (0.99982244, 0.9978796527619249),\n",
       " (0.9998197, 0.9979287389889926),\n",
       " (0.9998153, 1.0039485566507236),\n",
       " (0.99979895, 1.088544082955193),\n",
       " (0.99979776, 0.9978943906947899),\n",
       " (0.99977535, 0.9979238390216574),\n",
       " (0.9997662, 0.9980048043373394),\n",
       " (0.9997652, 0.9978129226721433),\n",
       " (0.99976486, 0.9977306272432065),\n",
       " (0.9997615, 0.9978767759622289),\n",
       " (0.99975604, 0.9974954770684012),\n",
       " (0.99975187, 0.9977290371473138),\n",
       " (0.9997396, 0.99830249378776),\n",
       " (0.9997384, 0.9978470461951059),\n",
       " (0.99973816, 0.997804448876444),\n",
       " (0.99972695, 1.0010552335462295),\n",
       " (0.9997254, 0.9979215864224178),\n",
       " (0.99970204, 1.1350644245068637),\n",
       " (0.9996948, 0.998022483220749),\n",
       " (0.9996817, 1.0164815941465632),\n",
       " (0.9996737, 0.9982310466161368),\n",
       " (0.9996697, 0.9976936676375174),\n",
       " (0.9996679, 1.0001771725356758),\n",
       " (0.9996586, 0.999713921066409),\n",
       " (0.99965394, 0.9982026410194823),\n",
       " (0.9996408, 0.9977963591779504),\n",
       " (0.999634, 0.9995639653037713),\n",
       " (0.9996247, 0.9975686650268576),\n",
       " (0.9996138, 0.9977077453254225),\n",
       " (0.9996055, 0.9976122431622736),\n",
       " (0.99958974, 0.9977929312804906),\n",
       " (0.9995628, 0.9975248044944158),\n",
       " (0.9995603, 0.9976281219491192),\n",
       " (0.9995503, 0.9980785924860129),\n",
       " (0.99954814, 0.997893662705985),\n",
       " (0.9995449, 0.9977997158313112),\n",
       " (0.9995301, 0.9980554365284173),\n",
       " (0.99952817, 0.9980712983552795),\n",
       " (0.9995061, 0.9975006846913543),\n",
       " (0.9995022, 0.971260229525905),\n",
       " (0.9994967, 0.9975047890975031),\n",
       " (0.9994962, 0.9975299737045372),\n",
       " (0.9994943, 0.9975610920168544),\n",
       " (0.9994885, 0.9980490240940268),\n",
       " (0.99945146, 0.9978828513795941),\n",
       " (0.9994356, 0.9976783367584764),\n",
       " (0.9994324, 0.9979019657563715),\n",
       " (0.9993642, 0.9972529326575785),\n",
       " (0.9993623, 0.999134971258077),\n",
       " (0.9993617, 0.9544226276528258),\n",
       " (0.9993569, 0.9978644375977547),\n",
       " (0.9993554, 1.1820463993346935),\n",
       " (0.9993542, 0.9973707271832262),\n",
       " (0.99932337, 0.9797032280970104),\n",
       " (0.9993206, 0.9972566450883846),\n",
       " (0.9993187, 0.997824792129303),\n",
       " (0.99931765, 0.9974738451148326),\n",
       " (0.99928916, 0.9974377954870226),\n",
       " (0.99928504, 0.9956323400002067),\n",
       " (0.99927133, 0.9974426750811256),\n",
       " (0.999257, 0.9976237437068969),\n",
       " (0.99925476, 0.9975415320833606),\n",
       " (0.99924755, 0.9972468038510731),\n",
       " (0.9992373, 0.9973161161463462),\n",
       " (0.9991912, 0.997312908938258),\n",
       " (0.99916446, 0.9998957775082993),\n",
       " (0.999164, 0.9976861498235723),\n",
       " (0.99913305, 0.9849527443774077),\n",
       " (0.999121, 0.9970486906785336),\n",
       " (0.9990771, 0.997534396109615),\n",
       " (0.9989973, 0.9970739095573753),\n",
       " (0.9989759, 0.9954078211563097),\n",
       " (0.9989405, 0.9969685860601347),\n",
       " (0.9988673, 0.9970032300941991),\n",
       " (0.9988379, 0.9701436438595918),\n",
       " (0.9988205, 0.9968909817624478),\n",
       " (0.998782, 1.0349879178759631),\n",
       " (0.99876714, 0.9967463063746326),\n",
       " (0.99865746, 0.9966784171161958),\n",
       " (0.99863714, 1.0884112815462468),\n",
       " (0.998602, 1.0011738569219462),\n",
       " (0.99856347, 1.0028818199169536),\n",
       " (0.9984993, 0.9966059047019149),\n",
       " (0.99848783, 1.0277421925392272),\n",
       " (0.99847287, 0.9966787839914215),\n",
       " (0.99846447, 0.9965058757099623),\n",
       " (0.99842864, 0.9969912883643675),\n",
       " (0.99839044, 0.9964939206819978),\n",
       " (0.99837565, 0.9963959347875772),\n",
       " (0.99835545, 1.0099776210048035),\n",
       " (0.998343, 0.9963564347930578),\n",
       " (0.9983359, 0.9862759344440063),\n",
       " (0.9983134, 0.9749285126506513),\n",
       " (0.99822384, 1.0827446485755075),\n",
       " (0.9981875, 0.9968028160577473),\n",
       " (0.9978853, 0.9960294737682194),\n",
       " (0.99786913, 0.9962910923190013),\n",
       " (0.9978661, 0.9960099952519965),\n",
       " (0.9977749, 0.8688015716052064),\n",
       " (0.99776566, 0.9958737234594393),\n",
       " (0.99770856, 1.0049419323525803),\n",
       " (0.9976927, 0.995732717640015),\n",
       " (0.9975852, 0.9958176597112356),\n",
       " (0.9975649, 0.9958181496644597),\n",
       " (0.9975223, 0.9955039885859117),\n",
       " (0.99745995, 0.9873161238993646),\n",
       " (0.99728584, 0.9952883555351355),\n",
       " (0.99716115, 0.9951888107259483),\n",
       " (0.99712026, 0.9868706442438274),\n",
       " (0.996819, 0.9948221064519163),\n",
       " (0.99669963, 0.994771485358991),\n",
       " (0.9965668, 0.994825353906788),\n",
       " (0.9964399, 0.9945298532313632),\n",
       " (0.9963387, 0.994438490752555),\n",
       " (0.99617034, 1.0219806379815426),\n",
       " (0.99616134, 0.9944104693395452),\n",
       " (0.99613875, 0.9943913501607231),\n",
       " (0.99601233, 0.9674170102571145),\n",
       " (0.9959015, 0.9939869475358845),\n",
       " (0.9956772, 0.9938370476262284),\n",
       " (0.9956424, 0.9938539878624887),\n",
       " (0.9955819, 0.9937150581541683),\n",
       " (0.99509573, 0.9931686929303619),\n",
       " (0.9950589, 0.9935501973923464),\n",
       " (0.9942444, 0.9922703114731709),\n",
       " (0.9941093, 0.9926336111064075),\n",
       " (0.9939805, 0.9923648482539613),\n",
       " (0.9934702, 0.9920425211266308),\n",
       " (0.99344784, 0.991627304617097),\n",
       " (0.9931926, 0.991292505307163),\n",
       " (0.993168, 0.991436552614805),\n",
       " (0.99305975, 0.9910214471285617),\n",
       " (0.9930419, 0.9915043612553708),\n",
       " (0.9928966, 0.991141796146523),\n",
       " (0.9927965, 0.990914248483489),\n",
       " (0.9924516, 0.9870943813931936),\n",
       " (0.99205995, 0.9959923244775855),\n",
       " (0.99202454, 0.9900623931697339),\n",
       " (0.99161994, 0.9901494724404527),\n",
       " (0.9915455, 0.9900621052115796),\n",
       " (0.99124545, 0.9894684101429319),\n",
       " (0.99090624, 0.9890204297749853),\n",
       " (0.9908664, 0.9890731456090363),\n",
       " (0.9907532, 0.9893253215154207),\n",
       " (0.9907223, 0.9893007514599145),\n",
       " (0.99063766, 0.9889111194397499),\n",
       " (0.9904108, 0.9830973366301943),\n",
       " (0.99006546, 0.9882987728544372),\n",
       " (0.9900247, 0.988510971554714),\n",
       " (0.98993266, 0.9879345753039437),\n",
       " (0.9898795, 0.9885158612291409),\n",
       " (0.98986477, 1.0675515988695752),\n",
       " (0.9898561, 0.9880684908786895),\n",
       " (0.98980427, 0.9879687420652725),\n",
       " (0.989447, 0.9876083369628604),\n",
       " (0.9893106, 0.987388326283531),\n",
       " (0.9892687, 0.9873454972474458),\n",
       " (0.9891717, 0.9990658387855772),\n",
       " (0.98915696, 0.9875578155716337),\n",
       " (0.9887999, 0.9922314758159662),\n",
       " (0.9887651, 0.9868928810862171),\n",
       " (0.98846495, 0.9865948461868503),\n",
       " (0.9884647, 0.9870252362089698),\n",
       " (0.98846215, 0.9865415079616997),\n",
       " (0.98812556, 0.9860974093772965),\n",
       " (0.9880648, 0.9865188106236119),\n",
       " (0.98763627, 0.9858275697753147),\n",
       " (0.9874942, 0.9857033338864678),\n",
       " (0.9874069, 0.9854606512167153),\n",
       " (0.9873574, 0.9854212283841102),\n",
       " (0.9872745, 0.9855710789794376),\n",
       " (0.9872071, 0.9857891229009346),\n",
       " (0.9871852, 0.9852932151509037),\n",
       " (0.98707426, 0.985115862924884),\n",
       " (0.9869399, 0.9849721685469139),\n",
       " (0.9868146, 0.9849265361567844),\n",
       " (0.9866087, 0.9851895706187478),\n",
       " (0.9863616, 0.9508098787563926),\n",
       " (0.98604935, 0.984392957794832),\n",
       " (0.9856308, 0.9761093937562091),\n",
       " (0.9846459, 0.9829701099032291),\n",
       " (0.98428506, 0.9825157447660701),\n",
       " (0.9840285, 0.9778854840265683),\n",
       " (0.98361546, 0.9821798284675045),\n",
       " (0.9813959, 0.9798025324125275),\n",
       " (0.98137796, 0.9794922629652486),\n",
       " (0.98132175, 0.9794616549940731),\n",
       " (0.9809068, 0.9791789269843094),\n",
       " (0.9808249, 0.9790257805292981),\n",
       " (0.98040193, 0.9784959929583205),\n",
       " (0.97935677, 0.9777937816734197),\n",
       " (0.97924864, 0.823921250369887),\n",
       " (0.9789473, 0.980615312511231),\n",
       " (0.9788932, 0.9769444536430278),\n",
       " (0.978872, 0.9770285059311277),\n",
       " (0.9787324, 0.9768890848208612),\n",
       " (0.9786442, 0.9769507784577138),\n",
       " (0.9775679, 0.9759728287381071),\n",
       " (0.97647744, 0.9747307624946027),\n",
       " (0.9754587, 0.9739067652451198),\n",
       " (0.9753093, 0.9735872528802446),\n",
       " (0.97499233, 0.9731756420948805),\n",
       " (0.9748684, 0.972973262186006),\n",
       " (0.97384924, 0.9722032797090912),\n",
       " (0.9730675, 0.9711416626592361),\n",
       " (0.9727025, 0.9711370792481233),\n",
       " (0.9714584, 0.9696716695793373),\n",
       " (0.97117525, 0.9696784571959729),\n",
       " (0.97011125, 0.9654806897978389),\n",
       " (0.9698042, 0.9681502459951998),\n",
       " (0.9682321, 1.0323169240851517),\n",
       " (0.96719164, 0.9656810020791613),\n",
       " (0.9664047, 0.9644895458622469),\n",
       " (0.9656913, 0.9639745326472213),\n",
       " (0.9650635, 0.9633865285020314),\n",
       " (0.9636537, 0.9618564510922227),\n",
       " (0.96355295, 0.9618302089120269),\n",
       " (0.9631397, 0.9616431516949668),\n",
       " (0.9629351, 0.9612787871824002),\n",
       " (0.9616831, 0.9600319407571141),\n",
       " (0.96166426, 0.9598903272663946),\n",
       " (0.96139216, 0.9596770346028998),\n",
       " (0.96058077, 0.9588588637077782),\n",
       " (0.96024793, 0.9582972962358212),\n",
       " (0.95995885, 0.9580626726984547),\n",
       " (0.9599573, 0.9582869620388081),\n",
       " (0.9595641, 0.9577981273034732),\n",
       " (0.9593663, 0.9576905950746628),\n",
       " (0.95933473, 0.9576290212010727),\n",
       " (0.95849943, 0.9569209046779172),\n",
       " (0.9580385, 0.9561159581079722),\n",
       " (0.9564125, 0.9797995654779147),\n",
       " (0.955711, 0.9554924859230539),\n",
       " (0.95386237, 0.952020047163701),\n",
       " (0.95382774, 0.9521562647470623),\n",
       " (0.95381594, 0.9521611593150445),\n",
       " (0.95251, 0.9508178302910617),\n",
       " (0.951816, 0.9500837663394572),\n",
       " (0.95130485, 0.9498577206883771),\n",
       " (0.9510582, 0.9094232799763695),\n",
       " (0.9504943, 0.9488227695913962),\n",
       " (0.95021164, 0.9485172848001375),\n",
       " (0.9500501, 0.9482244917426439),\n",
       " (0.94996566, 0.9485097355251436),\n",
       " (0.94993013, 0.9486151599892132),\n",
       " (0.9496481, 0.9479238108146077),\n",
       " (0.9492913, 0.9476451279193638),\n",
       " (0.94903374, 0.9476500750135537),\n",
       " (0.94853735, 0.9468630579848787),\n",
       " (0.9482965, 0.9466551880622885),\n",
       " (0.94777364, 0.9464399904260693),\n",
       " (0.94740415, 0.9459417192586892),\n",
       " (0.94650126, 0.9450883764452691),\n",
       " (0.9448396, 0.9430951682648476),\n",
       " (0.94453424, 0.9431753887026719),\n",
       " (0.9445066, 0.9426524660979716),\n",
       " (0.94422275, 0.9424318784860493),\n",
       " (0.94318765, 0.9539841634926773),\n",
       " (0.942432, 0.9406375575462618),\n",
       " (0.9421939, 0.9404777857196864),\n",
       " (0.94197935, 0.9402821985306049),\n",
       " (0.93916553, 0.9374728663836338),\n",
       " (0.939076, 0.9373676232626827),\n",
       " (0.93900955, 0.9426515989595466),\n",
       " (0.937433, 0.9098793611116586),\n",
       " (0.9366191, 0.934955717869622),\n",
       " (0.9356407, 0.9336975298564687),\n",
       " (0.93233556, 0.930669450358617),\n",
       " (0.92852104, 0.9270845782487338),\n",
       " (0.92702067, 0.9253592155597841),\n",
       " (0.9263734, 0.9247132684557335),\n",
       " (0.92517656, 0.9238657631546792),\n",
       " (0.92512244, 0.9235161615619546),\n",
       " (0.92438215, 0.9226474297803854),\n",
       " (0.9240908, 0.9226921162992809),\n",
       " (0.92172337, 0.9201477889517854),\n",
       " (0.92136854, 0.9196328463564488),\n",
       " (0.9204375, 0.9188376662438519),\n",
       " (0.9202813, 0.9185925198405721),\n",
       " (0.9195103, 0.9179208592544641),\n",
       " (0.9191283, 0.9175055948542478),\n",
       " (0.9184684, 0.9167600890236173),\n",
       " (0.9180707, 0.9166774179580912),\n",
       " (0.9172664, 0.9158146156994271),\n",
       " (0.9171931, 0.9155417619634326),\n",
       " (0.9154649, 0.9140906117237861),\n",
       " (0.91474223, 0.9130988080402631),\n",
       " (0.9130925, 0.9114427042653335),\n",
       " (0.91120046, 0.9096061377358688),\n",
       " (0.9104191, 0.9086737970512074),\n",
       " (0.90855163, 0.9069076011119226),\n",
       " (0.9065307, 0.9048972268007456),\n",
       " (0.9063114, 0.9049275844636052),\n",
       " (0.9062966, 0.9047976874522274),\n",
       " (0.90574634, 0.903920269897609),\n",
       " (0.90265495, 0.9010226781196968),\n",
       " (0.90250206, 0.9008995345415127),\n",
       " (0.90238494, 0.907016961431934),\n",
       " (0.9012962, 0.8996222939955508),\n",
       " (0.9012798, 0.8995617185214135),\n",
       " (0.9007357, 0.8991485953923732),\n",
       " (0.9005654, 0.8990120190738871),\n",
       " (0.8995784, 0.8979684036047206),\n",
       " (0.8967804, 0.8949477663987921),\n",
       " (0.8961093, 0.8944868346285024),\n",
       " (0.8947538, 0.8934010336463178),\n",
       " (0.89158714, 0.8903147320072247),\n",
       " (0.8874692, 0.9001024095421537),\n",
       " (0.8874537, 0.8858523068906957),\n",
       " (0.88579583, 0.884144272075214),\n",
       " (0.88331896, 0.8821326302749624),\n",
       " (0.88269275, 0.8810610963984499),\n",
       " (0.8815342, 0.8799753557135531),\n",
       " (0.88068855, 0.8790257880538944),\n",
       " (0.87932485, 0.8777263454336705),\n",
       " (0.8784462, 0.8767996036897655),\n",
       " (0.8782475, 0.8768951278240487),\n",
       " (0.87817013, 0.8765609460201269),\n",
       " (0.8767948, 0.875236037679437),\n",
       " (0.87647986, 0.8747765427218014),\n",
       " (0.87630296, 0.8748434805669677),\n",
       " (0.87358564, 0.8720622055522186),\n",
       " (0.87113994, 0.8695423997411942),\n",
       " (0.8704074, 0.8687463319981139),\n",
       " (0.8703665, 0.8688671955507925),\n",
       " (0.8694199, 0.8678251890742523),\n",
       " (0.869105, 0.8678798702692747),\n",
       " (0.86705023, 0.8655014513046067),\n",
       " (0.86621743, 0.8646547707073445),\n",
       " (0.86065656, 0.8593793670588279),\n",
       " (0.8600495, 0.8587600175669128),\n",
       " (0.8592978, 0.8577015674697412),\n",
       " (0.85748386, 0.8562960231761056),\n",
       " (0.85657215, 0.8553976728963446),\n",
       " (0.8549307, 0.8533525930398613),\n",
       " (0.85476923, 0.8531948131667682),\n",
       " (0.85381466, 0.8521683452016526),\n",
       " (0.8511937, 0.8496297076840537),\n",
       " (0.8458702, 0.7531144717566262),\n",
       " (0.845741, 0.8444463395374278),\n",
       " (0.8455101, 0.844288275419093),\n",
       " (0.8453208, 0.8437957596887513),\n",
       " (0.8442593, 0.843117729786445),\n",
       " (0.8433347, 0.841783518888758),\n",
       " (0.8428732, 0.8414015122825899),\n",
       " (0.8415225, 0.8398043454012571),\n",
       " (0.8414107, 0.8502531831617841),\n",
       " (0.8406722, 0.8391815160504739),\n",
       " (0.8396198, 0.8380273107888379),\n",
       " (0.8392121, 0.837941189370435),\n",
       " (0.83850056, 0.8372206483278507),\n",
       " (0.83769333, 0.836412503480904),\n",
       " (0.83617437, 0.8348807635664874),\n",
       " (0.8354196, 0.8340316486536926),\n",
       " (0.833867, 0.8323836448981067),\n",
       " (0.82977337, 0.8283960707400617),\n",
       " (0.82746154, 0.8259481512657522),\n",
       " (0.8269129, 0.8257221897994392),\n",
       " (0.824423, 0.8232325151211991),\n",
       " (0.8193001, 0.8178878872609678),\n",
       " (0.8192875, 0.817882035786051),\n",
       " (0.81925744, 0.8180677451669145),\n",
       " (0.81782645, 0.7949230706337957),\n",
       " (0.81734395, 0.8158850926785406),\n",
       " (0.8163756, 0.8148765163966376),\n",
       " (0.81635296, 0.8149326436608743),\n",
       " (0.81460106, 0.8130931963146774),\n",
       " (0.8140845, 0.8128812520359223),\n",
       " (0.8115918, 0.8101585346706281),\n",
       " (0.81086236, 0.8097463578259927),\n",
       " (0.81059605, 0.809147532769802),\n",
       " (0.8042769, 0.8026956683873236),\n",
       " (0.80084, 0.7994840655850277),\n",
       " (0.8000556, 0.7986395032601151),\n",
       " (0.7966927, 0.7956006136139838),\n",
       " (0.79500383, 0.7935633511775132),\n",
       " (0.7947334, 0.7933459885058143),\n",
       " (0.79464024, 0.7932613026901256),\n",
       " (0.7927689, 0.7913644123229195),\n",
       " (0.7914745, 0.7900891704348232),\n",
       " (0.78793263, 0.7866091909644171),\n",
       " (0.7876143, 0.7864682669792761),\n",
       " (0.7857633, 0.7843699640434068),\n",
       " (0.7855644, 0.784206700079725),\n",
       " (0.78323936, 0.7819145033850194),\n",
       " (0.7816242, 0.7802554606329348),\n",
       " (0.78094596, 0.7798590597080968),\n",
       " (0.7786625, 0.7772968899686985),\n",
       " (0.7779683, 0.7765027865194558),\n",
       " (0.7764023, 0.77501926406189),\n",
       " (0.77574426, 0.7743137190374356),\n",
       " (0.77523905, 0.7736388980784066),\n",
       " (0.7715838, 0.7705545568592975),\n",
       " (0.7701164, 0.8011339775779849),\n",
       " (0.76901776, 0.8751522982505396),\n",
       " (0.76591617, 0.7645393739902655),\n",
       " (0.7645828, 0.7633067306819524),\n",
       " (0.7611526, 0.7597713497263268),\n",
       " (0.76060474, 0.7591997080441364),\n",
       " (0.7570249, 0.7556333453853719),\n",
       " (0.7566488, 0.7552940635275143),\n",
       " (0.7553393, 0.7543158129412806),\n",
       " (0.7549486, 0.7536432267922647),\n",
       " (0.7522352, 0.7512200013705257),\n",
       " (0.7490646, 0.7477963242380482),\n",
       " (0.7460986, 0.744768141560133),\n",
       " (0.7455462, 0.7445915235223444),\n",
       " (0.7450413, 0.7440448867626651),\n",
       " (0.7449025, 0.7434620307956555),\n",
       " (0.7383878, 0.7370402269040839),\n",
       " (0.7374621, 0.736119207560939),\n",
       " (0.73318475, 0.7319138044231179),\n",
       " (0.73290557, 0.7319770502320654),\n",
       " (0.7328986, 0.7314964436035876),\n",
       " (0.7308683, 0.7298325674454691),\n",
       " (0.7295477, 0.7282985110583056),\n",
       " (0.72827315, 0.7270264414809531),\n",
       " (0.7278805, 0.7268486379929416),\n",
       " (0.7258368, 0.724819203739686),\n",
       " (0.72543424, 0.7241734058987981),\n",
       " (0.72461617, 0.7232691042878447),\n",
       " (0.7226708, 0.7215911366752311),\n",
       " (0.71917695, 0.7181288862621489),\n",
       " (0.71696955, 0.7155116279348359),\n",
       " (0.71689343, 0.7159708688929147),\n",
       " (0.7148453, 0.713902287068533),\n",
       " (0.71109015, 0.7101772970490452),\n",
       " (0.7079833, 0.6303337303136131),\n",
       " (0.7068268, 0.7054154336706078),\n",
       " (0.70449245, 0.7035051953303669),\n",
       " (0.69666916, 0.6954023623644424),\n",
       " (0.6961963, 0.6951913532242022),\n",
       " (0.6940869, 0.6932284797927413),\n",
       " (0.6875075, 0.6862331449091577),\n",
       " (0.6861069, 0.6849465524013187),\n",
       " (0.6850002, 0.6841545257032275),\n",
       " (0.6834756, 0.6826395131010441),\n",
       " (0.68273973, 0.6815069041466812),\n",
       " (0.68039685, 0.6794866699078421),\n",
       " (0.6803117, 0.6791111969691028),\n",
       " (0.6776442, 0.6767286737138329),\n",
       " (0.67264867, 0.6718090360110022),\n",
       " (0.67231643, 0.6711669676666511),\n",
       " (0.6714358, 0.6704935829903929),\n",
       " (0.67101157, 0.6697671096964867),\n",
       " (0.6676729, 0.6665344978452294),\n",
       " (0.6667579, 0.6658175883502766),\n",
       " (0.6660075, 0.6650529663309886),\n",
       " (0.66297203, 0.6621632437685527),\n",
       " (0.66104597, 0.6599602130272185),\n",
       " (0.6584333, 0.6573157201114657),\n",
       " (0.6573071, 0.6561036652188532),\n",
       " (0.65637654, 0.6552914388754432),\n",
       " (0.6535638, 0.652713588091714),\n",
       " (0.65260637, 0.6517380438460454),\n",
       " (0.6469331, 0.6457812389891254),\n",
       " (0.6460795, 0.6449664782226048),\n",
       " (0.6441979, 0.6430285595158327),\n",
       " (0.6432281, 0.6421203334908892),\n",
       " (0.6425352, 0.6414752661066813),\n",
       " (0.6424526, 0.6417148467769204),\n",
       " (0.6411939, 0.6404203113746088),\n",
       " (0.6380007, 0.6372441855125756),\n",
       " (0.6294872, 0.6283893208374931),\n",
       " (0.6286469, 0.6279270869950151),\n",
       " (0.62812126, 0.6272566851590675),\n",
       " (0.6262551, 0.6252365657116463),\n",
       " (0.6258734, 0.6246302294455015),\n",
       " (0.6245534, 0.6234928986389312),\n",
       " (0.62358755, 0.6401557349151941),\n",
       " (0.6224515, 0.6212825783562428),\n",
       " (0.62191176, 0.6208729986220763),\n",
       " (0.62115586, 0.6204434129857483),\n",
       " (0.6175738, 0.6164909180701421),\n",
       " (0.6164639, 0.6157727304375419),\n",
       " (0.61571676, 0.6149047207794968),\n",
       " (0.6153178, 0.6142967144474363),\n",
       " (0.6126453, 0.6118344775320408),\n",
       " (0.611876, 0.6110935383114875),\n",
       " (0.61099786, 0.6099174392723561),\n",
       " (0.6098342, 0.6090306211868058),\n",
       " (0.60957557, 0.6085698259496228),\n",
       " (0.6090693, 0.6080316691294211),\n",
       " (0.60821253, 0.6075003426112123),\n",
       " (0.6041565, 0.6325810088358483),\n",
       " (0.6034178, 0.6023768076646537),\n",
       " (0.6010827, 0.6000375292887631),\n",
       " (0.591136, 0.5901389644310744),\n",
       " (0.58429456, 0.5835203624765257),\n",
       " (0.5829415, 0.5822852108376598),\n",
       " (0.57656175, 0.5754021025792415),\n",
       " (0.572761, 0.4909290859045029),\n",
       " (0.5727551, 0.5720683856051992),\n",
       " (0.5721134, 0.5710094517517874),\n",
       " (0.57164055, 0.570926451969358),\n",
       " (0.57031655, 0.5696698501311472),\n",
       " (0.56980664, 0.5688289566513745),\n",
       " (0.5690569, 0.5681472598419731),\n",
       " (0.56579137, 0.5652032536743641),\n",
       " (0.5649019, 0.5643018540196739),\n",
       " (0.5642445, 0.5632723531737484),\n",
       " (0.56400174, 0.5629540719561312),\n",
       " (0.5634622, 0.5624587646508493),\n",
       " (0.5569265, 0.5560173842144283),\n",
       " (0.55141, 0.5507773023599396),\n",
       " (0.550392, 0.5494457706964502),\n",
       " (0.54965127, 0.5486987955822424),\n",
       " (0.5443457, 0.5432510576108431),\n",
       " (0.5441521, 0.5432335582220469),\n",
       " (0.542345, 0.5417728598180916),\n",
       " (0.54231834, 0.5413960815921078),\n",
       " (0.5411889, 0.540528202373449),\n",
       " (0.5366315, 0.535792890393495),\n",
       " (0.5340571, 0.5332089812069428),\n",
       " (0.53390384, 0.5330490343010701),\n",
       " (0.52803254, 0.5272073481541446),\n",
       " (0.52559906, 0.5516274904958725),\n",
       " (0.5253315, 0.5245284914834916),\n",
       " (0.5213163, 0.5204835768598634),\n",
       " (0.5205074, 0.5196326497296297),\n",
       " (0.5158903, 0.5152584123161259),\n",
       " (0.5135232, 0.5125423761140494),\n",
       " (0.5134826, 0.5129068504270979),\n",
       " (0.51146394, 0.5109528998423275),\n",
       " (0.50959545, 0.5090615674810273),\n",
       " (0.5091358, 0.5085267810382975),\n",
       " (0.508777, 0.5288826873382032),\n",
       " (0.50609756, 0.5056067991966554),\n",
       " (0.50497884, 0.5041231987739316),\n",
       " (0.501429, 0.5005882936211214),\n",
       " (0.49906203, 0.4982303559542877),\n",
       " (0.49702176, 0.4961072459419662),\n",
       " (0.4969206, 0.4963760477689354),\n",
       " (0.49384108, 0.4933855938367442),\n",
       " (0.49024978, 0.4897843542351304),\n",
       " (0.4866333, 0.4857908607347663),\n",
       " (0.4836792, 0.482883287850674),\n",
       " (0.48324043, 0.4827582033047196),\n",
       " (0.48015657, 0.4796973775268515),\n",
       " (0.47891423, 0.4780720868858075),\n",
       " (0.47627738, 0.4757382091515175),\n",
       " (0.476151, 0.4756360494572659),\n",
       " (0.47588784, 0.4754426246220075),\n",
       " (0.47502753, 0.47424251824925345),\n",
       " (0.47326928, 0.47249706103943667),\n",
       " (0.47247598, 0.4720410673985332),\n",
       " (0.47158045, 0.47078808245177883),\n",
       " (0.4694554, 0.46858845377787095),\n",
       " (0.46662852, 0.4659075691132096),\n",
       " (0.46607023, 0.46530793763669576),\n",
       " (0.46496937, 0.464477870250568),\n",
       " (0.46494427, 0.46409006233543204),\n",
       " (0.4600846, 0.4537697789710997),\n",
       " (0.45964321, 0.45923446489182773),\n",
       " (0.45656696, 0.45615285471758127),\n",
       " (0.44930962, 0.44855659257742353),\n",
       " (0.4490653, 0.44867283938665165),\n",
       " (0.44686335, 0.44603925804297695),\n",
       " (0.43575147, 0.43539976409153824),\n",
       " (0.43286353, 0.4325173825671396),\n",
       " (0.4313987, 0.43074950833261105),\n",
       " (0.41499525, 0.4146530751292421),\n",
       " (0.40897655, 0.40837005752601563),\n",
       " (0.40281904, 0.40204500226161405),\n",
       " (0.39206094, 0.39174291284725915),\n",
       " (0.3918526, 0.3915767716274946),\n",
       " (0.39115387, 0.39088843303110743),\n",
       " (0.39105523, 0.39078423177371946),\n",
       " (0.39069104, 0.3903191624833944),\n",
       " (0.38761812, 0.3870349277974728),\n",
       " (0.38410822, 0.3838581931200666),\n",
       " (0.37641802, 0.37618312858563124),\n",
       " (0.36239192, 0.3621771233197083),\n",
       " (0.3573674, 0.35707443617793155),\n",
       " (0.34067243, 0.34040005623619307),\n",
       " (0.34067243, 0.3404034043626004),\n",
       " (0.33973184, 0.3391078964345788),\n",
       " (0.33590704, 0.33574090366701914),\n",
       " (0.33360374, 0.33344662813624065),\n",
       " (0.3242475, 0.3240996732447889),\n",
       " (0.31194776, 0.31182539286442285),\n",
       " (0.30932602, 0.2789558165779261),\n",
       " (0.30073258, 0.30018689173215346),\n",
       " (0.27235046, 0.2719041304615756)]"
      ]
     },
     "execution_count": 220,
     "metadata": {},
     "output_type": "execute_result"
    }
   ],
   "source": [
    "true_lime"
   ]
  },
  {
   "cell_type": "code",
   "execution_count": 221,
   "metadata": {},
   "outputs": [],
   "source": [
    "true_new = []\n",
    "for i in range(sample_size):\n",
    "    true_new.append((top_true_preds[i], top_new_preds[i]))"
   ]
  },
  {
   "cell_type": "code",
   "execution_count": 222,
   "metadata": {},
   "outputs": [],
   "source": [
    "true_new.sort(key=lambda x: -x[0])"
   ]
  },
  {
   "cell_type": "code",
   "execution_count": 223,
   "metadata": {},
   "outputs": [
    {
     "data": {
      "text/plain": [
       "[(1.0, 1.0),\n",
       " (1.0, 1.0),\n",
       " (1.0, 1.0),\n",
       " (1.0, 1.0),\n",
       " (1.0, 1.0),\n",
       " (1.0, 1.0),\n",
       " (1.0, 1.0),\n",
       " (1.0, 1.0),\n",
       " (1.0, 1.0),\n",
       " (1.0, 1.0),\n",
       " (1.0, 1.0),\n",
       " (1.0, 1.0),\n",
       " (1.0, 1.0),\n",
       " (1.0, 1.0),\n",
       " (1.0, 1.0),\n",
       " (1.0, 1.0),\n",
       " (1.0, 1.0),\n",
       " (1.0, 1.0),\n",
       " (1.0, 1.0),\n",
       " (1.0, 1.0),\n",
       " (1.0, 1.0),\n",
       " (1.0, 1.0),\n",
       " (1.0, 1.0),\n",
       " (1.0, 1.0),\n",
       " (1.0, 1.0),\n",
       " (1.0, 1.0),\n",
       " (1.0, 1.0),\n",
       " (1.0, 1.0),\n",
       " (1.0, 1.0),\n",
       " (1.0, 1.0),\n",
       " (1.0, 1.0),\n",
       " (1.0, 1.0),\n",
       " (1.0, 1.0),\n",
       " (1.0, 1.0),\n",
       " (1.0, 1.0),\n",
       " (1.0, 1.0),\n",
       " (1.0, 1.0),\n",
       " (1.0, 1.0),\n",
       " (1.0, 1.0),\n",
       " (1.0, 1.0),\n",
       " (1.0, 1.0),\n",
       " (1.0, 1.0),\n",
       " (1.0, 1.0),\n",
       " (1.0, 1.0),\n",
       " (1.0, 1.0),\n",
       " (1.0, 1.0),\n",
       " (1.0, 1.0),\n",
       " (1.0, 1.0),\n",
       " (1.0, 1.0),\n",
       " (1.0, 1.0),\n",
       " (1.0, 1.0),\n",
       " (1.0, 1.0),\n",
       " (1.0, 1.0),\n",
       " (1.0, 1.0),\n",
       " (1.0, 1.0),\n",
       " (1.0, 1.0),\n",
       " (1.0, 1.0),\n",
       " (1.0, 1.0),\n",
       " (1.0, 1.0),\n",
       " (1.0, 0.9999999),\n",
       " (1.0, 1.0),\n",
       " (1.0, 1.0),\n",
       " (1.0, 1.0),\n",
       " (1.0, 1.0),\n",
       " (1.0, 1.0),\n",
       " (1.0, 1.0),\n",
       " (1.0, 1.0),\n",
       " (1.0, 1.0),\n",
       " (1.0, 1.0),\n",
       " (1.0, 1.0),\n",
       " (1.0, 1.0),\n",
       " (1.0, 1.0),\n",
       " (1.0, 1.0),\n",
       " (1.0, 1.0),\n",
       " (1.0, 1.0),\n",
       " (1.0, 1.0),\n",
       " (1.0, 1.0),\n",
       " (1.0, 1.0),\n",
       " (1.0, 1.0),\n",
       " (1.0, 1.0),\n",
       " (1.0, 1.0),\n",
       " (1.0, 1.0),\n",
       " (1.0, 0.9999999),\n",
       " (1.0, 1.0),\n",
       " (1.0, 1.0),\n",
       " (1.0, 1.0),\n",
       " (1.0, 1.0),\n",
       " (1.0, 1.0),\n",
       " (1.0, 1.0),\n",
       " (1.0, 1.0),\n",
       " (1.0, 1.0),\n",
       " (1.0, 1.0),\n",
       " (1.0, 1.0),\n",
       " (1.0, 1.0),\n",
       " (1.0, 1.0),\n",
       " (1.0, 1.0),\n",
       " (1.0, 1.0),\n",
       " (1.0, 1.0),\n",
       " (1.0, 1.0),\n",
       " (1.0, 1.0),\n",
       " (1.0, 1.0),\n",
       " (1.0, 1.0),\n",
       " (1.0, 1.0),\n",
       " (1.0, 1.0),\n",
       " (1.0, 1.0),\n",
       " (1.0, 1.0),\n",
       " (1.0, 1.0),\n",
       " (1.0, 1.0),\n",
       " (1.0, 1.0),\n",
       " (1.0, 1.0),\n",
       " (1.0, 1.0),\n",
       " (1.0, 1.0),\n",
       " (1.0, 1.0),\n",
       " (1.0, 1.0),\n",
       " (1.0, 1.0),\n",
       " (1.0, 1.0),\n",
       " (1.0, 1.0),\n",
       " (1.0, 1.0),\n",
       " (1.0, 1.0),\n",
       " (1.0, 1.0),\n",
       " (1.0, 1.0),\n",
       " (1.0, 1.0),\n",
       " (1.0, 1.0),\n",
       " (1.0, 1.0),\n",
       " (1.0, 1.0),\n",
       " (1.0, 1.0),\n",
       " (1.0, 1.0),\n",
       " (1.0, 1.0),\n",
       " (1.0, 1.0),\n",
       " (1.0, 1.0),\n",
       " (1.0, 1.0),\n",
       " (1.0, 1.0),\n",
       " (1.0, 1.0),\n",
       " (1.0, 1.0),\n",
       " (1.0, 1.0),\n",
       " (1.0, 1.0),\n",
       " (1.0, 1.0),\n",
       " (1.0, 1.0),\n",
       " (1.0, 1.0),\n",
       " (1.0, 1.0),\n",
       " (1.0, 1.0),\n",
       " (1.0, 1.0),\n",
       " (1.0, 1.0),\n",
       " (1.0, 1.0),\n",
       " (1.0, 1.0),\n",
       " (1.0, 1.0),\n",
       " (1.0, 1.0),\n",
       " (1.0, 1.0),\n",
       " (1.0, 1.0),\n",
       " (1.0, 1.0),\n",
       " (1.0, 1.0),\n",
       " (1.0, 1.0),\n",
       " (1.0, 1.0),\n",
       " (1.0, 1.0),\n",
       " (1.0, 1.0),\n",
       " (1.0, 1.0),\n",
       " (1.0, 1.0),\n",
       " (1.0, 1.0),\n",
       " (1.0, 1.0),\n",
       " (1.0, 1.0),\n",
       " (1.0, 1.0),\n",
       " (1.0, 1.0),\n",
       " (1.0, 1.0),\n",
       " (1.0, 1.0),\n",
       " (1.0, 1.0),\n",
       " (1.0, 1.0),\n",
       " (1.0, 1.0),\n",
       " (1.0, 1.0),\n",
       " (1.0, 1.0),\n",
       " (1.0, 1.0),\n",
       " (1.0, 1.0),\n",
       " (1.0, 1.0),\n",
       " (1.0, 1.0),\n",
       " (1.0, 1.0),\n",
       " (1.0, 1.0),\n",
       " (1.0, 1.0),\n",
       " (1.0, 1.0),\n",
       " (1.0, 1.0),\n",
       " (1.0, 1.0),\n",
       " (1.0, 1.0),\n",
       " (1.0, 1.0),\n",
       " (1.0, 1.0),\n",
       " (1.0, 1.0),\n",
       " (1.0, 1.0),\n",
       " (1.0, 1.0),\n",
       " (1.0, 1.0),\n",
       " (1.0, 1.0),\n",
       " (1.0, 1.0),\n",
       " (1.0, 1.0),\n",
       " (1.0, 1.0),\n",
       " (1.0, 1.0),\n",
       " (1.0, 1.0),\n",
       " (1.0, 1.0),\n",
       " (1.0, 1.0),\n",
       " (1.0, 1.0),\n",
       " (1.0, 1.0),\n",
       " (1.0, 1.0),\n",
       " (1.0, 1.0),\n",
       " (1.0, 1.0),\n",
       " (1.0, 1.0),\n",
       " (1.0, 1.0),\n",
       " (1.0, 1.0),\n",
       " (1.0, 1.0),\n",
       " (1.0, 1.0),\n",
       " (1.0, 1.0),\n",
       " (1.0, 1.0),\n",
       " (1.0, 0.9999999),\n",
       " (1.0, 1.0),\n",
       " (0.9999999, 0.9999999),\n",
       " (0.9999999, 0.9999999),\n",
       " (0.9999999, 0.9999999),\n",
       " (0.9999999, 0.9999999),\n",
       " (0.9999999, 0.9999999),\n",
       " (0.9999999, 0.9999999),\n",
       " (0.9999999, 0.9999999),\n",
       " (0.9999999, 0.9999999),\n",
       " (0.9999999, 0.9999999),\n",
       " (0.9999999, 0.9999999),\n",
       " (0.9999999, 0.9999999),\n",
       " (0.9999999, 0.9999999),\n",
       " (0.9999999, 0.9999999),\n",
       " (0.9999999, 0.9999999),\n",
       " (0.9999999, 0.9999999),\n",
       " (0.9999999, 0.9999999),\n",
       " (0.9999999, 0.9999999),\n",
       " (0.9999999, 0.9999999),\n",
       " (0.9999999, 0.9999999),\n",
       " (0.99999976, 0.99999976),\n",
       " (0.99999976, 0.99999976),\n",
       " (0.99999976, 0.99999976),\n",
       " (0.99999976, 0.9999999),\n",
       " (0.99999976, 0.99999976),\n",
       " (0.99999976, 0.99999976),\n",
       " (0.99999976, 0.99999976),\n",
       " (0.99999976, 0.99999976),\n",
       " (0.99999976, 0.99999976),\n",
       " (0.99999976, 0.99999964),\n",
       " (0.99999964, 0.99999964),\n",
       " (0.99999964, 0.99999964),\n",
       " (0.99999964, 0.99999964),\n",
       " (0.99999964, 0.99999964),\n",
       " (0.99999964, 0.99999964),\n",
       " (0.99999964, 0.99999964),\n",
       " (0.99999964, 0.99999964),\n",
       " (0.99999964, 0.99999964),\n",
       " (0.99999964, 0.99999964),\n",
       " (0.99999964, 0.9999995),\n",
       " (0.9999995, 0.9999995),\n",
       " (0.9999995, 0.9999995),\n",
       " (0.9999995, 0.9999995),\n",
       " (0.9999994, 0.9999994),\n",
       " (0.9999994, 0.9999994),\n",
       " (0.9999994, 0.9999993),\n",
       " (0.9999994, 0.9999994),\n",
       " (0.9999994, 0.9999994),\n",
       " (0.9999994, 0.9999993),\n",
       " (0.9999994, 0.9999988),\n",
       " (0.9999994, 0.9999994),\n",
       " (0.9999993, 0.9999993),\n",
       " (0.9999993, 0.9999994),\n",
       " (0.9999993, 0.9999993),\n",
       " (0.9999993, 0.9999993),\n",
       " (0.9999993, 0.9999993),\n",
       " (0.9999993, 0.9999994),\n",
       " (0.99999917, 0.99999917),\n",
       " (0.99999917, 0.99999917),\n",
       " (0.99999917, 0.99999917),\n",
       " (0.99999905, 0.99999917),\n",
       " (0.99999905, 0.99999905),\n",
       " (0.99999905, 0.99999905),\n",
       " (0.99999905, 0.99999905),\n",
       " (0.9999989, 0.9999989),\n",
       " (0.9999989, 0.99999905),\n",
       " (0.9999989, 0.99999726),\n",
       " (0.9999988, 0.9999988),\n",
       " (0.9999988, 0.9999989),\n",
       " (0.9999987, 0.9999987),\n",
       " (0.9999987, 0.9999987),\n",
       " (0.9999987, 0.99999857),\n",
       " (0.99999857, 0.99999857),\n",
       " (0.99999857, 0.9999987),\n",
       " (0.99999845, 0.99999845),\n",
       " (0.99999845, 0.99999845),\n",
       " (0.99999845, 0.99999845),\n",
       " (0.99999833, 0.99999833),\n",
       " (0.99999833, 0.999998),\n",
       " (0.99999833, 0.99999845),\n",
       " (0.99999833, 0.99999833),\n",
       " (0.9999982, 0.9999982),\n",
       " (0.9999982, 0.99999845),\n",
       " (0.9999981, 0.99999785),\n",
       " (0.9999981, 0.9999981),\n",
       " (0.9999981, 0.9999981),\n",
       " (0.9999981, 0.9999981),\n",
       " (0.999998, 0.9999981),\n",
       " (0.9999976, 0.9999976),\n",
       " (0.9999976, 0.9999975),\n",
       " (0.9999974, 0.99999726),\n",
       " (0.9999974, 0.9999974),\n",
       " (0.9999974, 0.99999726),\n",
       " (0.99999726, 0.99999726),\n",
       " (0.99999714, 0.999997),\n",
       " (0.99999714, 0.999997),\n",
       " (0.9999969, 0.9999968),\n",
       " (0.99999654, 0.99999654),\n",
       " (0.9999963, 0.9999963),\n",
       " (0.9999963, 0.99999607),\n",
       " (0.9999963, 0.9999964),\n",
       " (0.9999963, 0.99999607),\n",
       " (0.9999962, 0.99999595),\n",
       " (0.99999595, 0.9999963),\n",
       " (0.99999595, 0.99999595),\n",
       " (0.9999957, 0.9999958),\n",
       " (0.99999535, 0.99999547),\n",
       " (0.99999523, 0.99999523),\n",
       " (0.99999523, 0.99999475),\n",
       " (0.9999951, 0.99999464),\n",
       " (0.999995, 0.9999945),\n",
       " (0.9999949, 0.9999949),\n",
       " (0.99999475, 0.9999962),\n",
       " (0.9999943, 0.9999943),\n",
       " (0.9999943, 0.99998844),\n",
       " (0.9999943, 0.99999535),\n",
       " (0.99999404, 0.99997985),\n",
       " (0.9999939, 0.9999939),\n",
       " (0.9999938, 0.9999938),\n",
       " (0.99999356, 0.99999356),\n",
       " (0.9999932, 0.99999285),\n",
       " (0.9999932, 0.9999931),\n",
       " (0.9999932, 0.99999356),\n",
       " (0.9999931, 0.9999933),\n",
       " (0.99999285, 0.9999933),\n",
       " (0.9999927, 0.9999924),\n",
       " (0.9999924, 0.9999927),\n",
       " (0.99999213, 0.9999919),\n",
       " (0.99999213, 0.999992),\n",
       " (0.9999914, 0.9999914),\n",
       " (0.9999907, 0.99998343),\n",
       " (0.9999906, 0.99999094),\n",
       " (0.9999906, 0.99999046),\n",
       " (0.99999046, 0.9999918),\n",
       " (0.99999034, 0.9999902),\n",
       " (0.99998915, 0.9999887),\n",
       " (0.99998844, 0.9999864),\n",
       " (0.9999883, 0.9999881),\n",
       " (0.9999875, 0.999987),\n",
       " (0.99998605, 0.9999865),\n",
       " (0.9999857, 0.99998546),\n",
       " (0.99998534, 0.99998546),\n",
       " (0.999985, 0.9999846),\n",
       " (0.999985, 0.99995446),\n",
       " (0.99998343, 0.9999813),\n",
       " (0.99998295, 0.99998295),\n",
       " (0.99998295, 0.9999821),\n",
       " (0.99998283, 0.99998295),\n",
       " (0.999982, 0.9999815),\n",
       " (0.9999809, 0.9999819),\n",
       " (0.9999796, 0.9999796),\n",
       " (0.999979, 0.999979),\n",
       " (0.999979, 0.9999788),\n",
       " (0.9999788, 0.99997914),\n",
       " (0.9999782, 0.9999782),\n",
       " (0.99997807, 0.99998224),\n",
       " (0.999977, 0.9999777),\n",
       " (0.99997663, 0.9999758),\n",
       " (0.9999764, 0.9999747),\n",
       " (0.9999763, 0.99997413),\n",
       " (0.9999752, 0.99997675),\n",
       " (0.99997354, 0.9999734),\n",
       " (0.9999732, 0.9999727),\n",
       " (0.9999708, 0.9999726),\n",
       " (0.99997056, 0.999966),\n",
       " (0.99996805, 0.9999684),\n",
       " (0.99996805, 0.9999677),\n",
       " (0.9999676, 0.9999702),\n",
       " (0.99996746, 0.99996686),\n",
       " (0.9999658, 0.9999658),\n",
       " (0.99996483, 0.9999653),\n",
       " (0.9999628, 0.99995935),\n",
       " (0.9999627, 0.99996245),\n",
       " (0.9999596, 0.9999603),\n",
       " (0.99995756, 0.9999585),\n",
       " (0.99995697, 0.99995613),\n",
       " (0.9999567, 0.9999558),\n",
       " (0.9999546, 0.9999546),\n",
       " (0.9999521, 0.99994683),\n",
       " (0.9999516, 0.99994993),\n",
       " (0.99995124, 0.9999517),\n",
       " (0.99994946, 0.9999498),\n",
       " (0.99994457, 0.9999466),\n",
       " (0.9999442, 0.9999341),\n",
       " (0.9999361, 0.99994314),\n",
       " (0.99993396, 0.9999273),\n",
       " (0.9999254, 0.9999255),\n",
       " (0.9999211, 0.9999224),\n",
       " (0.9999188, 0.99991894),\n",
       " (0.9999175, 0.9999175),\n",
       " (0.99991643, 0.9999174),\n",
       " (0.9999143, 0.9999168),\n",
       " (0.99991024, 0.9999052),\n",
       " (0.99990547, 0.99990547),\n",
       " (0.99990475, 0.99991643),\n",
       " (0.99990153, 0.9999063),\n",
       " (0.99989057, 0.9998939),\n",
       " (0.9998889, 0.9998894),\n",
       " (0.9998658, 0.9998907),\n",
       " (0.9998561, 0.9998561),\n",
       " (0.999853, 0.99985206),\n",
       " (0.99985194, 0.9998431),\n",
       " (0.9998512, 0.9998498),\n",
       " (0.999851, 0.9998399),\n",
       " (0.99984765, 0.9998267),\n",
       " (0.99984026, 0.99983907),\n",
       " (0.9998375, 0.99982303),\n",
       " (0.99983597, 0.9998273),\n",
       " (0.99982446, 0.9998223),\n",
       " (0.99982244, 0.9998258),\n",
       " (0.9998197, 0.99981576),\n",
       " (0.9998153, 0.9998087),\n",
       " (0.99979895, 0.99983454),\n",
       " (0.99979776, 0.9997962),\n",
       " (0.99977535, 0.99984515),\n",
       " (0.9997662, 0.9997634),\n",
       " (0.9997652, 0.99981827),\n",
       " (0.99976486, 0.9997713),\n",
       " (0.9997615, 0.99976903),\n",
       " (0.99975604, 0.99980634),\n",
       " (0.99975187, 0.9997545),\n",
       " (0.9997396, 0.9997378),\n",
       " (0.9997384, 0.9997384),\n",
       " (0.99973816, 0.9997397),\n",
       " (0.99972695, 0.9997329),\n",
       " (0.9997254, 0.9997261),\n",
       " (0.99970204, 0.9997036),\n",
       " (0.9996948, 0.9996948),\n",
       " (0.9996817, 0.9996766),\n",
       " (0.9996737, 0.99967384),\n",
       " (0.9996697, 0.99967015),\n",
       " (0.9996679, 0.9996511),\n",
       " (0.9996586, 0.9996412),\n",
       " (0.99965394, 0.9996449),\n",
       " (0.9996408, 0.99962974),\n",
       " (0.999634, 0.9996315),\n",
       " (0.9996247, 0.9996247),\n",
       " (0.9996138, 0.99962044),\n",
       " (0.9996055, 0.99960166),\n",
       " (0.99958974, 0.9995747),\n",
       " (0.9995628, 0.99957854),\n",
       " (0.9995603, 0.9995832),\n",
       " (0.9995503, 0.99950874),\n",
       " (0.99954814, 0.9995473),\n",
       " (0.9995449, 0.9995425),\n",
       " (0.9995301, 0.99953413),\n",
       " (0.99952817, 0.9995222),\n",
       " (0.9995061, 0.99949205),\n",
       " (0.9995022, 0.9995022),\n",
       " (0.9994967, 0.9994425),\n",
       " (0.9994962, 0.9995078),\n",
       " (0.9994943, 0.99950266),\n",
       " (0.9994885, 0.99944323),\n",
       " (0.99945146, 0.9994948),\n",
       " (0.9994356, 0.9993217),\n",
       " (0.9994324, 0.9994307),\n",
       " (0.9993642, 0.9993642),\n",
       " (0.9993623, 0.99939334),\n",
       " (0.9993617, 0.9993617),\n",
       " (0.9993569, 0.99937505),\n",
       " (0.9993554, 0.99935216),\n",
       " (0.9993542, 0.9993538),\n",
       " (0.99932337, 0.9993199),\n",
       " (0.9993206, 0.9993179),\n",
       " (0.9993187, 0.9993057),\n",
       " (0.99931765, 0.99931765),\n",
       " (0.99928916, 0.9992822),\n",
       " (0.99928504, 0.99928564),\n",
       " (0.99927133, 0.9991812),\n",
       " (0.999257, 0.9992505),\n",
       " (0.99925476, 0.99923754),\n",
       " (0.99924755, 0.999243),\n",
       " (0.9992373, 0.99926883),\n",
       " (0.9991912, 0.9992366),\n",
       " (0.99916446, 0.9991924),\n",
       " (0.999164, 0.99913126),\n",
       " (0.99913305, 0.9991462),\n",
       " (0.999121, 0.99915314),\n",
       " (0.9990771, 0.9991555),\n",
       " (0.9989973, 0.99898905),\n",
       " (0.9989759, 0.998946),\n",
       " (0.9989405, 0.99915195),\n",
       " (0.9988673, 0.9988325),\n",
       " (0.9988379, 0.99884367),\n",
       " (0.9988205, 0.998847),\n",
       " (0.998782, 0.99875796),\n",
       " (0.99876714, 0.9987663),\n",
       " (0.99865746, 0.9986552),\n",
       " (0.99863714, 0.9986418),\n",
       " (0.998602, 0.99859244),\n",
       " (0.99856347, 0.9987343),\n",
       " (0.9984993, 0.99853253),\n",
       " (0.99848783, 0.9984769),\n",
       " (0.99847287, 0.9985089),\n",
       " (0.99846447, 0.99848515),\n",
       " (0.99842864, 0.9982174),\n",
       " (0.99839044, 0.9984555),\n",
       " (0.99837565, 0.99842405),\n",
       " (0.99835545, 0.99834657),\n",
       " (0.998343, 0.99829954),\n",
       " (0.9983359, 0.99835974),\n",
       " (0.9983134, 0.9981509),\n",
       " (0.99822384, 0.99812347),\n",
       " (0.9981875, 0.9980046),\n",
       " (0.9978853, 0.99786913),\n",
       " (0.99786913, 0.9978027),\n",
       " (0.9978661, 0.9978265),\n",
       " (0.9977749, 0.99747914),\n",
       " (0.99776566, 0.9977652),\n",
       " (0.99770856, 0.99785596),\n",
       " (0.9976927, 0.9976865),\n",
       " (0.9975852, 0.9975326),\n",
       " (0.9975649, 0.99745756),\n",
       " (0.9975223, 0.99756515),\n",
       " (0.99745995, 0.9974757),\n",
       " (0.99728584, 0.9971987),\n",
       " (0.99716115, 0.99711394),\n",
       " (0.99712026, 0.99712026),\n",
       " (0.996819, 0.996819),\n",
       " (0.99669963, 0.9964618),\n",
       " (0.9965668, 0.99660313),\n",
       " (0.9964399, 0.99642146),\n",
       " (0.9963387, 0.9966564),\n",
       " (0.99617034, 0.99608314),\n",
       " (0.99616134, 0.99616134),\n",
       " (0.99613875, 0.99613875),\n",
       " (0.99601233, 0.99598795),\n",
       " (0.9959015, 0.99606365),\n",
       " (0.9956772, 0.9940474),\n",
       " (0.9956424, 0.9956897),\n",
       " (0.9955819, 0.9956994),\n",
       " (0.99509573, 0.99528944),\n",
       " (0.9950589, 0.995349),\n",
       " (0.9942444, 0.99455243),\n",
       " (0.9941093, 0.9941403),\n",
       " (0.9939805, 0.99396354),\n",
       " (0.9934702, 0.99349535),\n",
       " (0.99344784, 0.99349207),\n",
       " (0.9931926, 0.9933385),\n",
       " (0.993168, 0.99321836),\n",
       " (0.99305975, 0.99266064),\n",
       " (0.9930419, 0.99301964),\n",
       " (0.9928966, 0.9928381),\n",
       " (0.9927965, 0.99279296),\n",
       " (0.9924516, 0.99261284),\n",
       " (0.99205995, 0.9917429),\n",
       " (0.99202454, 0.99199015),\n",
       " (0.99161994, 0.9868057),\n",
       " (0.9915455, 0.99147826),\n",
       " (0.99124545, 0.9908949),\n",
       " (0.99090624, 0.9908375),\n",
       " (0.9908664, 0.9908049),\n",
       " (0.9907532, 0.9913099),\n",
       " (0.9907223, 0.9897333),\n",
       " (0.99063766, 0.9906911),\n",
       " (0.9904108, 0.9903375),\n",
       " (0.99006546, 0.98998296),\n",
       " (0.9900247, 0.9901035),\n",
       " (0.98993266, 0.9896367),\n",
       " (0.9898795, 0.9908983),\n",
       " (0.98986477, 0.9898726),\n",
       " (0.9898561, 0.9898561),\n",
       " (0.98980427, 0.9902062),\n",
       " (0.989447, 0.98995847),\n",
       " (0.9893106, 0.9892253),\n",
       " (0.9892687, 0.9893785),\n",
       " (0.9891717, 0.98923445),\n",
       " (0.98915696, 0.9892742),\n",
       " (0.9887999, 0.98880494),\n",
       " (0.9887651, 0.9887651),\n",
       " (0.98846495, 0.9883321),\n",
       " (0.9884647, 0.988383),\n",
       " (0.98846215, 0.9879546),\n",
       " (0.98812556, 0.9876825),\n",
       " (0.9880648, 0.98705125),\n",
       " (0.98763627, 0.9875173),\n",
       " (0.9874942, 0.98754776),\n",
       " (0.9874069, 0.98856294),\n",
       " (0.9873574, 0.9873384),\n",
       " (0.9872745, 0.9869061),\n",
       " (0.9872071, 0.98716545),\n",
       " (0.9871852, 0.98697853),\n",
       " (0.98707426, 0.98707426),\n",
       " (0.9869399, 0.98723894),\n",
       " (0.9868146, 0.9874877),\n",
       " (0.9866087, 0.98632693),\n",
       " (0.9863616, 0.98535615),\n",
       " (0.98604935, 0.98606443),\n",
       " (0.9856308, 0.9852313),\n",
       " (0.9846459, 0.9845515),\n",
       " (0.98428506, 0.9846609),\n",
       " (0.9840285, 0.9836579),\n",
       " (0.98361546, 0.98185045),\n",
       " (0.9813959, 0.98192143),\n",
       " (0.98137796, 0.987281),\n",
       " (0.98132175, 0.98134506),\n",
       " (0.9809068, 0.98101586),\n",
       " (0.9808249, 0.9808249),\n",
       " (0.98040193, 0.98075885),\n",
       " (0.97935677, 0.9794694),\n",
       " (0.97924864, 0.97921216),\n",
       " (0.9789473, 0.9666027),\n",
       " (0.9788932, 0.97866017),\n",
       " (0.978872, 0.9783946),\n",
       " (0.9787324, 0.9788057),\n",
       " (0.9786442, 0.9784762),\n",
       " (0.9775679, 0.97721636),\n",
       " (0.97647744, 0.97647744),\n",
       " (0.9754587, 0.9754587),\n",
       " (0.9753093, 0.9753093),\n",
       " (0.97499233, 0.9755578),\n",
       " (0.9748684, 0.97415656),\n",
       " (0.97384924, 0.97383684),\n",
       " (0.9730675, 0.9708483),\n",
       " (0.9727025, 0.9728022),\n",
       " (0.9714584, 0.97095686),\n",
       " (0.97117525, 0.9706425),\n",
       " (0.97011125, 0.97199124),\n",
       " (0.9698042, 0.96984047),\n",
       " (0.9682321, 0.9672871),\n",
       " (0.96719164, 0.9670178),\n",
       " (0.9664047, 0.9669817),\n",
       " (0.9656913, 0.96587425),\n",
       " (0.9650635, 0.9649142),\n",
       " (0.9636537, 0.9629717),\n",
       " (0.96355295, 0.9613343),\n",
       " (0.9631397, 0.96419626),\n",
       " (0.9629351, 0.9632581),\n",
       " (0.9616831, 0.9616831),\n",
       " (0.96166426, 0.9614045),\n",
       " (0.96139216, 0.96003115),\n",
       " (0.96058077, 0.96059334),\n",
       " (0.96024793, 0.9598919),\n",
       " (0.95995885, 0.96001375),\n",
       " (0.9599573, 0.9599573),\n",
       " (0.9595641, 0.95912415),\n",
       " (0.9593663, 0.958738),\n",
       " (0.95933473, 0.95983833),\n",
       " (0.95849943, 0.958576),\n",
       " (0.9580385, 0.9576955),\n",
       " (0.9564125, 0.9589928),\n",
       " (0.955711, 0.95236135),\n",
       " (0.95386237, 0.95322144),\n",
       " (0.95382774, 0.95382774),\n",
       " (0.95381594, 0.9516312),\n",
       " (0.95251, 0.95606685),\n",
       " (0.951816, 0.9513901),\n",
       " (0.95130485, 0.9516964),\n",
       " (0.9510582, 0.9502771),\n",
       " (0.9504943, 0.95011014),\n",
       " (0.95021164, 0.95021236),\n",
       " (0.9500501, 0.9494645),\n",
       " (0.94996566, 0.9522075),\n",
       " (0.94993013, 0.9512892),\n",
       " (0.9496481, 0.9477817),\n",
       " (0.9492913, 0.9506786),\n",
       " (0.94903374, 0.951143),\n",
       " (0.94853735, 0.94841003),\n",
       " (0.9482965, 0.9482965),\n",
       " (0.94777364, 0.94777364),\n",
       " (0.94740415, 0.94740415),\n",
       " (0.94650126, 0.94677615),\n",
       " (0.9448396, 0.9448876),\n",
       " (0.94453424, 0.9448529),\n",
       " (0.9445066, 0.9425975),\n",
       " (0.94422275, 0.94422275),\n",
       " (0.94318765, 0.94501746),\n",
       " (0.942432, 0.94262296),\n",
       " (0.9421939, 0.9434327),\n",
       " (0.94197935, 0.9419379),\n",
       " (0.93916553, 0.93808734),\n",
       " (0.939076, 0.93704575),\n",
       " (0.93900955, 0.93552786),\n",
       " (0.937433, 0.937433),\n",
       " (0.9366191, 0.9367254),\n",
       " (0.9356407, 0.937549),\n",
       " (0.93233556, 0.9320027),\n",
       " (0.92852104, 0.92957526),\n",
       " (0.92702067, 0.9206229),\n",
       " (0.9263734, 0.92620325),\n",
       " (0.92517656, 0.9263045),\n",
       " (0.92512244, 0.92512244),\n",
       " (0.92438215, 0.92510796),\n",
       " (0.9240908, 0.9255917),\n",
       " (0.92172337, 0.92172337),\n",
       " (0.92136854, 0.9208711),\n",
       " (0.9204375, 0.9204375),\n",
       " (0.9202813, 0.92101264),\n",
       " (0.9195103, 0.9158116),\n",
       " (0.9191283, 0.918818),\n",
       " (0.9184684, 0.9184684),\n",
       " (0.9180707, 0.9180707),\n",
       " (0.9172664, 0.9172664),\n",
       " (0.9171931, 0.9084322),\n",
       " (0.9154649, 0.9205502),\n",
       " (0.91474223, 0.91364133),\n",
       " (0.9130925, 0.915874),\n",
       " (0.91120046, 0.91120046),\n",
       " (0.9104191, 0.9106077),\n",
       " (0.90855163, 0.89984083),\n",
       " (0.9065307, 0.911945),\n",
       " (0.9063114, 0.9055049),\n",
       " (0.9062966, 0.9078327),\n",
       " (0.90574634, 0.89011115),\n",
       " (0.90265495, 0.9028368),\n",
       " (0.90250206, 0.9032595),\n",
       " (0.90238494, 0.9019181),\n",
       " (0.9012962, 0.9052012),\n",
       " (0.9012798, 0.8994742),\n",
       " (0.9007357, 0.89427185),\n",
       " (0.9005654, 0.9005654),\n",
       " (0.8995784, 0.8995784),\n",
       " (0.8967804, 0.89654124),\n",
       " (0.8961093, 0.8974247),\n",
       " (0.8947538, 0.891317),\n",
       " (0.89158714, 0.8752379),\n",
       " (0.8874692, 0.8874382),\n",
       " (0.8874537, 0.88684344),\n",
       " (0.88579583, 0.8863058),\n",
       " (0.88331896, 0.8848956),\n",
       " (0.88269275, 0.88565254),\n",
       " (0.8815342, 0.8860502),\n",
       " (0.88068855, 0.881042),\n",
       " (0.87932485, 0.87932485),\n",
       " (0.8784462, 0.87840587),\n",
       " (0.8782475, 0.8782475),\n",
       " (0.87817013, 0.87817013),\n",
       " (0.8767948, 0.875511),\n",
       " (0.87647986, 0.8762961),\n",
       " (0.87630296, 0.8848456),\n",
       " (0.87358564, 0.8753729),\n",
       " (0.87113994, 0.87113994),\n",
       " (0.8704074, 0.8704074),\n",
       " (0.8703665, 0.87055075),\n",
       " (0.8694199, 0.87063),\n",
       " (0.869105, 0.8682946),\n",
       " (0.86705023, 0.86705023),\n",
       " (0.86621743, 0.86621743),\n",
       " (0.86065656, 0.86089236),\n",
       " (0.8600495, 0.8627652),\n",
       " (0.8592978, 0.8600171),\n",
       " (0.85748386, 0.8571131),\n",
       " (0.85657215, 0.8570715),\n",
       " (0.8549307, 0.8546663),\n",
       " (0.85476923, 0.8523695),\n",
       " (0.85381466, 0.851492),\n",
       " (0.8511937, 0.85223603),\n",
       " (0.8458702, 0.8633115),\n",
       " (0.845741, 0.845741),\n",
       " (0.8455101, 0.8460174),\n",
       " (0.8453208, 0.8435774),\n",
       " (0.8442593, 0.84447426),\n",
       " (0.8433347, 0.8440641),\n",
       " (0.8428732, 0.84402937),\n",
       " (0.8415225, 0.84079784),\n",
       " (0.8414107, 0.8499963),\n",
       " (0.8406722, 0.84051037),\n",
       " (0.8396198, 0.839936),\n",
       " (0.8392121, 0.8383155),\n",
       " (0.83850056, 0.83838147),\n",
       " (0.83769333, 0.835314),\n",
       " (0.83617437, 0.8358779),\n",
       " (0.8354196, 0.83706355),\n",
       " (0.833867, 0.83298475),\n",
       " (0.82977337, 0.83417505),\n",
       " (0.82746154, 0.8215199),\n",
       " (0.8269129, 0.82923454),\n",
       " (0.824423, 0.824423),\n",
       " (0.8193001, 0.8169794),\n",
       " (0.8192875, 0.8192875),\n",
       " (0.81925744, 0.81670076),\n",
       " (0.81782645, 0.817745),\n",
       " (0.81734395, 0.8176086),\n",
       " (0.8163756, 0.82155323),\n",
       " (0.81635296, 0.81611925),\n",
       " (0.81460106, 0.81471527),\n",
       " (0.8140845, 0.80830735),\n",
       " (0.8115918, 0.812344),\n",
       " (0.81086236, 0.8075051),\n",
       " (0.81059605, 0.81113976),\n",
       " (0.8042769, 0.801934),\n",
       " (0.80084, 0.800407),\n",
       " (0.8000556, 0.79922897),\n",
       " (0.7966927, 0.7984387),\n",
       " (0.79500383, 0.7983841),\n",
       " (0.7947334, 0.79438895),\n",
       " (0.79464024, 0.7934403),\n",
       " (0.7927689, 0.79262435),\n",
       " (0.7914745, 0.799252),\n",
       " (0.78793263, 0.7860961),\n",
       " (0.7876143, 0.7864933),\n",
       " (0.7857633, 0.7900666),\n",
       " (0.7855644, 0.7855644),\n",
       " (0.78323936, 0.7832193),\n",
       " (0.7816242, 0.77643526),\n",
       " (0.78094596, 0.7589458),\n",
       " (0.7786625, 0.7778036),\n",
       " (0.7779683, 0.7749842),\n",
       " (0.7764023, 0.778627),\n",
       " (0.77574426, 0.7755709),\n",
       " (0.77523905, 0.7743607),\n",
       " (0.7715838, 0.7776395),\n",
       " (0.7701164, 0.7665032),\n",
       " (0.76901776, 0.78404385),\n",
       " (0.76591617, 0.7879801),\n",
       " (0.7645828, 0.7612155),\n",
       " (0.7611526, 0.75862056),\n",
       " (0.76060474, 0.7584259),\n",
       " (0.7570249, 0.7615735),\n",
       " (0.7566488, 0.75550175),\n",
       " (0.7553393, 0.7395869),\n",
       " (0.7549486, 0.75485075),\n",
       " (0.7522352, 0.75161713),\n",
       " (0.7490646, 0.7352011),\n",
       " (0.7460986, 0.7479709),\n",
       " (0.7455462, 0.7428995),\n",
       " (0.7450413, 0.7430142),\n",
       " (0.7449025, 0.74170226),\n",
       " (0.7383878, 0.7388237),\n",
       " (0.7374621, 0.7458074),\n",
       " (0.73318475, 0.73108715),\n",
       " (0.73290557, 0.7338112),\n",
       " (0.7328986, 0.7286739),\n",
       " (0.7308683, 0.73081326),\n",
       " (0.7295477, 0.7469497),\n",
       " (0.72827315, 0.72827315),\n",
       " (0.7278805, 0.7281352),\n",
       " (0.7258368, 0.7216044),\n",
       " (0.72543424, 0.72560483),\n",
       " (0.72461617, 0.72787154),\n",
       " (0.7226708, 0.7224664),\n",
       " (0.71917695, 0.72337365),\n",
       " (0.71696955, 0.70501405),\n",
       " (0.71689343, 0.7175433),\n",
       " (0.7148453, 0.7115239),\n",
       " (0.71109015, 0.70797515),\n",
       " (0.7079833, 0.7091958),\n",
       " (0.7068268, 0.6916293),\n",
       " (0.70449245, 0.70264757),\n",
       " (0.69666916, 0.7018644),\n",
       " (0.6961963, 0.68251115),\n",
       " (0.6940869, 0.6934421),\n",
       " (0.6875075, 0.6858036),\n",
       " (0.6861069, 0.69150555),\n",
       " (0.6850002, 0.6892791),\n",
       " (0.6834756, 0.6912153),\n",
       " (0.68273973, 0.6827675),\n",
       " (0.68039685, 0.68039685),\n",
       " (0.6803117, 0.67256886),\n",
       " (0.6776442, 0.67227757),\n",
       " (0.67264867, 0.6735148),\n",
       " (0.67231643, 0.67252845),\n",
       " (0.6714358, 0.6707666),\n",
       " (0.67101157, 0.6271515),\n",
       " (0.6676729, 0.66731447),\n",
       " (0.6667579, 0.66521907),\n",
       " (0.6660075, 0.66400933),\n",
       " (0.66297203, 0.6649672),\n",
       " (0.66104597, 0.6619726),\n",
       " (0.6584333, 0.65675867),\n",
       " (0.6573071, 0.6554145),\n",
       " (0.65637654, 0.6208009),\n",
       " (0.6535638, 0.65271735),\n",
       " (0.65260637, 0.6525596),\n",
       " (0.6469331, 0.6469077),\n",
       " (0.6460795, 0.6449252),\n",
       " (0.6441979, 0.65342176),\n",
       " (0.6432281, 0.6377748),\n",
       " (0.6425352, 0.64175767),\n",
       " (0.6424526, 0.6433914),\n",
       " (0.6411939, 0.650916),\n",
       " (0.6380007, 0.63832664),\n",
       " (0.6294872, 0.62993723),\n",
       " (0.6286469, 0.6136943),\n",
       " (0.62812126, 0.62095386),\n",
       " (0.6262551, 0.6258412),\n",
       " (0.6258734, 0.6267997),\n",
       " (0.6245534, 0.6215944),\n",
       " (0.62358755, 0.62433755),\n",
       " (0.6224515, 0.6220847),\n",
       " (0.62191176, 0.6216229),\n",
       " (0.62115586, 0.62161857),\n",
       " (0.6175738, 0.63470423),\n",
       " (0.6164639, 0.61707324),\n",
       " (0.61571676, 0.6157521),\n",
       " (0.6153178, 0.579453),\n",
       " (0.6126453, 0.60730654),\n",
       " (0.611876, 0.611876),\n",
       " (0.61099786, 0.61099786),\n",
       " (0.6098342, 0.6114053),\n",
       " (0.60957557, 0.5693379),\n",
       " (0.6090693, 0.6078643),\n",
       " (0.60821253, 0.6089562),\n",
       " (0.6041565, 0.5877605),\n",
       " (0.6034178, 0.60344255),\n",
       " (0.6010827, 0.59944856),\n",
       " (0.591136, 0.6067847),\n",
       " (0.58429456, 0.5805129),\n",
       " (0.5829415, 0.5828794),\n",
       " (0.57656175, 0.571722),\n",
       " (0.572761, 0.57540435),\n",
       " (0.5727551, 0.57295907),\n",
       " (0.5721134, 0.57358074),\n",
       " (0.57164055, 0.5700233),\n",
       " (0.57031655, 0.5606638),\n",
       " (0.56980664, 0.5530221),\n",
       " (0.5690569, 0.57094014),\n",
       " (0.56579137, 0.56579137),\n",
       " (0.5649019, 0.5650509),\n",
       " (0.5642445, 0.56300694),\n",
       " (0.56400174, 0.4915654),\n",
       " (0.5634622, 0.5574408),\n",
       " (0.5569265, 0.56192917),\n",
       " (0.55141, 0.55141),\n",
       " (0.550392, 0.550392),\n",
       " (0.54965127, 0.55074394),\n",
       " (0.5443457, 0.5302129),\n",
       " (0.5441521, 0.5474358),\n",
       " (0.542345, 0.5417783),\n",
       " (0.54231834, 0.54241323),\n",
       " (0.5411889, 0.5497656),\n",
       " (0.5366315, 0.5366315),\n",
       " (0.5340571, 0.5343464),\n",
       " (0.53390384, 0.5368254),\n",
       " (0.52803254, 0.50465673),\n",
       " (0.52559906, 0.5252343),\n",
       " (0.5253315, 0.5253315),\n",
       " (0.5213163, 0.4299247),\n",
       " (0.5205074, 0.5214147),\n",
       " (0.5158903, 0.5158903),\n",
       " (0.5135232, 0.50504214),\n",
       " (0.5134826, 0.49756184),\n",
       " (0.51146394, 0.51262945),\n",
       " (0.50959545, 0.5161925),\n",
       " (0.5091358, 0.50872546),\n",
       " (0.508777, 0.50933784),\n",
       " (0.50609756, 0.5097623),\n",
       " (0.50497884, 0.5064803),\n",
       " (0.501429, 0.501429),\n",
       " (0.49906203, 0.49196076),\n",
       " (0.49702176, 0.52350223),\n",
       " (0.4969206, 0.5054425),\n",
       " (0.49384108, 0.48602283),\n",
       " (0.49024978, 0.49427843),\n",
       " (0.4866333, 0.48643863),\n",
       " (0.4836792, 0.47863194),\n",
       " (0.48324043, 0.48536095),\n",
       " (0.48015657, 0.48100075),\n",
       " (0.47891423, 0.4848088),\n",
       " (0.47627738, 0.47627738),\n",
       " (0.476151, 0.47492775),\n",
       " (0.47588784, 0.4830612),\n",
       " (0.47502753, 0.47502753),\n",
       " (0.47326928, 0.47680253),\n",
       " (0.47247598, 0.47185156),\n",
       " (0.47158045, 0.47131222),\n",
       " (0.4694554, 0.47425628),\n",
       " (0.46662852, 0.49526972),\n",
       " (0.46607023, 0.45327103),\n",
       " (0.46496937, 0.4667354),\n",
       " (0.46494427, 0.46494427),\n",
       " (0.4600846, 0.45964602),\n",
       " (0.45964321, 0.4603079),\n",
       " (0.45656696, 0.45500648),\n",
       " (0.44930962, 0.44930962),\n",
       " (0.4490653, 0.4452275),\n",
       " (0.44686335, 0.44665572),\n",
       " (0.43575147, 0.43618706),\n",
       " (0.43286353, 0.4355084),\n",
       " (0.4313987, 0.4313987),\n",
       " (0.41499525, 0.41527212),\n",
       " (0.40897655, 0.4135781),\n",
       " (0.40281904, 0.4181906),\n",
       " (0.39206094, 0.39309067),\n",
       " (0.3918526, 0.38257733),\n",
       " (0.39115387, 0.4243516),\n",
       " (0.39105523, 0.396952),\n",
       " (0.39069104, 0.39069104),\n",
       " (0.38761812, 0.3891253),\n",
       " (0.38410822, 0.38568622),\n",
       " (0.37641802, 0.3806159),\n",
       " (0.36239192, 0.3620091),\n",
       " (0.3573674, 0.3531563),\n",
       " (0.34067243, 0.34067243),\n",
       " (0.34067243, 0.34067243),\n",
       " (0.33973184, 0.34151077),\n",
       " (0.33590704, 0.33590704),\n",
       " (0.33360374, 0.33542565),\n",
       " (0.3242475, 0.32491124),\n",
       " (0.31194776, 0.3119369),\n",
       " (0.30932602, 0.30941984),\n",
       " (0.30073258, 0.30073258),\n",
       " (0.27235046, 0.27125272)]"
      ]
     },
     "execution_count": 223,
     "metadata": {},
     "output_type": "execute_result"
    }
   ],
   "source": [
    "true_new"
   ]
  },
  {
   "cell_type": "code",
   "execution_count": 224,
   "metadata": {},
   "outputs": [
    {
     "data": {
      "image/png": "[encoded data removed]",
      "text/plain": [
       "<Figure size 720x576 with 1 Axes>"
      ]
     },
     "metadata": {
      "needs_background": "light"
     },
     "output_type": "display_data"
    }
   ],
   "source": [
    "plt.rcParams['font.size'] = '20'\n",
    "\n",
    "li = [true_new[i][1] for i in range(sample_size)]\n",
    "tr = [true_new[i][0] for i in range(sample_size)]\n",
    "fig = plt.figure(figsize=(10, 8))\n",
    "plt.plot(tr, label='True prediction')\n",
    "plt.plot(li, label='OpenBox')\n",
    "plt.xlabel('Индекс объекта', fontsize=20)\n",
    "plt.ylabel('Предсказание вероятности', fontsize=20)\n",
    "plt.legend(loc=3)\n",
    "fig.axes[0].set_rasterized(True)\n",
    "plt.savefig('fig/True_OpenBox.png')\n",
    "plt.show()"
   ]
  },
  {
   "cell_type": "code",
   "execution_count": 225,
   "metadata": {},
   "outputs": [
    {
     "data": {
      "image/png": "[encoded data removed]",
      "text/plain": [
       "<Figure size 720x576 with 1 Axes>"
      ]
     },
     "metadata": {
      "needs_background": "light"
     },
     "output_type": "display_data"
    }
   ],
   "source": [
    "plt.rcParams['font.size'] = '20'\n",
    "\n",
    "li = [true_lime[i][1] for i in range(sample_size)]\n",
    "tr = [true_lime[i][0] for i in range(sample_size)]\n",
    "fig = plt.figure(figsize=(10, 8))\n",
    "plt.plot(tr, label='True prediction')\n",
    "plt.plot(li, label='LIME')\n",
    "plt.xlabel('Индекс объекта', fontsize=20)\n",
    "plt.ylabel('Предсказание вероятности', fontsize=20)\n",
    "plt.legend(loc=3)\n",
    "fig.axes[0].set_rasterized(True)\n",
    "plt.savefig('fig/True_Lime.png')\n",
    "plt.show()"
   ]
  },
  {
   "cell_type": "code",
   "execution_count": null,
   "metadata": {},
   "outputs": [],
   "source": []
  }
 ],
 "metadata": {
  "kernelspec": {
   "display_name": "Python 3",
   "language": "python",
   "name": "python3"
  },
  "language_info": {
   "codemirror_mode": {
    "name": "ipython",
    "version": 3
   },
   "file_extension": ".py",
   "mimetype": "text/x-python",
   "name": "python",
   "nbconvert_exporter": "python",
   "pygments_lexer": "ipython3",
   "version": "3.7.3"
  }
 },
 "nbformat": 4,
 "nbformat_minor": 2
}
